{
 "cells": [
  {
   "cell_type": "markdown",
   "metadata": {},
   "source": [
    "# Quick start\n",
    "\n",
    "A simple example of simulating a population via the built-in populations provided."
   ]
  },
  {
   "cell_type": "code",
   "execution_count": 1,
   "metadata": {
    "ExecuteTime": {
     "end_time": "2020-04-06T08:08:32.428410Z",
     "start_time": "2020-04-06T08:08:30.913588Z"
    }
   },
   "outputs": [
    {
     "name": "stderr",
     "output_type": "stream",
     "text": [
      "/Users/jburgess/coding/projects/popsynth/popsynth/distribution.py:7: TqdmExperimentalWarning: Using `tqdm.autonotebook.tqdm` in notebook mode. Use `tqdm.tqdm` instead to force console mode (e.g. in jupyter console)\n",
      "  from tqdm.autonotebook import tqdm as progress_bar\n"
     ]
    }
   ],
   "source": [
    "%matplotlib notebook\n",
    "\n",
    "\n",
    "import matplotlib.pyplot as plt\n",
    "from jupyterthemes import jtplot\n",
    "jtplot.style(context='notebook', fscale=1, grid=False)\n",
    "green = \"#1DEBA6\"\n",
    "red = \"#FF0059\"\n",
    "yellow = \"#F6EF5B\"\n",
    "\n",
    "\n",
    "import popsynth\n",
    "import networkx as nx\n",
    "\n",
    "import warnings\n",
    "warnings.simplefilter('ignore')"
   ]
  },
  {
   "cell_type": "markdown",
   "metadata": {},
   "source": [
    "## A spherically homogenous population with a pareto luminosity function\n",
    "\n",
    "**popsynth** comes with several types of populations preloaded. To create a population synthesizer, one simply instantiates the population form the **popsynth.populations** module."
   ]
  },
  {
   "cell_type": "code",
   "execution_count": 2,
   "metadata": {
    "ExecuteTime": {
     "end_time": "2020-04-06T08:08:33.619368Z",
     "start_time": "2020-04-06T08:08:33.599292Z"
    },
    "scrolled": true
   },
   "outputs": [
    {
     "data": {
      "text/markdown": [
       "## Luminosity Function"
      ],
      "text/plain": [
       "<IPython.core.display.Markdown object>"
      ]
     },
     "metadata": {},
     "output_type": "display_data"
    },
    {
     "data": {
      "text/latex": [
       "$\\displaystyle \\frac{\\alpha L_{\\rm min}^{\\alpha}}{L^{\\alpha+1}}$"
      ],
      "text/plain": [
       "<IPython.core.display.Math object>"
      ]
     },
     "metadata": {},
     "output_type": "display_data"
    },
    {
     "data": {
      "text/html": [
       "<div>\n",
       "<style scoped>\n",
       "    .dataframe tbody tr th:only-of-type {\n",
       "        vertical-align: middle;\n",
       "    }\n",
       "\n",
       "    .dataframe tbody tr th {\n",
       "        vertical-align: top;\n",
       "    }\n",
       "\n",
       "    .dataframe thead th {\n",
       "        text-align: right;\n",
       "    }\n",
       "</style>\n",
       "<table border=\"1\" class=\"dataframe\">\n",
       "  <thead>\n",
       "    <tr style=\"text-align: right;\">\n",
       "      <th></th>\n",
       "      <th>parameter</th>\n",
       "      <th>value</th>\n",
       "    </tr>\n",
       "  </thead>\n",
       "  <tbody>\n",
       "    <tr>\n",
       "      <th>0</th>\n",
       "      <td>Lmin</td>\n",
       "      <td>1.0</td>\n",
       "    </tr>\n",
       "    <tr>\n",
       "      <th>1</th>\n",
       "      <td>alpha</td>\n",
       "      <td>2.0</td>\n",
       "    </tr>\n",
       "  </tbody>\n",
       "</table>\n",
       "</div>"
      ],
      "text/plain": [
       "  parameter  value\n",
       "0      Lmin    1.0\n",
       "1     alpha    2.0"
      ]
     },
     "metadata": {},
     "output_type": "display_data"
    },
    {
     "data": {
      "text/markdown": [
       "## Spatial Function"
      ],
      "text/plain": [
       "<IPython.core.display.Markdown object>"
      ]
     },
     "metadata": {},
     "output_type": "display_data"
    },
    {
     "data": {
      "text/latex": [
       "$\\displaystyle \\Lambda$"
      ],
      "text/plain": [
       "<IPython.core.display.Math object>"
      ]
     },
     "metadata": {},
     "output_type": "display_data"
    },
    {
     "data": {
      "text/html": [
       "<div>\n",
       "<style scoped>\n",
       "    .dataframe tbody tr th:only-of-type {\n",
       "        vertical-align: middle;\n",
       "    }\n",
       "\n",
       "    .dataframe tbody tr th {\n",
       "        vertical-align: top;\n",
       "    }\n",
       "\n",
       "    .dataframe thead th {\n",
       "        text-align: right;\n",
       "    }\n",
       "</style>\n",
       "<table border=\"1\" class=\"dataframe\">\n",
       "  <thead>\n",
       "    <tr style=\"text-align: right;\">\n",
       "      <th></th>\n",
       "      <th>parameter</th>\n",
       "      <th>value</th>\n",
       "    </tr>\n",
       "  </thead>\n",
       "  <tbody>\n",
       "    <tr>\n",
       "      <th>0</th>\n",
       "      <td>Lambda</td>\n",
       "      <td>0.25</td>\n",
       "    </tr>\n",
       "    <tr>\n",
       "      <th>1</th>\n",
       "      <td>r_max</td>\n",
       "      <td>5.00</td>\n",
       "    </tr>\n",
       "  </tbody>\n",
       "</table>\n",
       "</div>"
      ],
      "text/plain": [
       "  parameter  value\n",
       "0    Lambda   0.25\n",
       "1     r_max   5.00"
      ]
     },
     "metadata": {},
     "output_type": "display_data"
    }
   ],
   "source": [
    "homo_pareto_synth = popsynth.populations.ParetoHomogeneousSphericalPopulation(Lambda=0.25, # the density normalization\n",
    "                                                                              Lmin=1, # lower bound on the LF\n",
    "                                                                              alpha=2.) # index of the LF\n",
    "homo_pareto_synth.display()\n",
    "\n",
    "\n",
    "# we can also display a graph of the object\n",
    "\n",
    "\n",
    "options = {\n",
    "'node_color':green,\n",
    "'node_size': 2000,\n",
    "'width': .5}\n",
    "\n",
    "#pos = nx.spring_layout(g,k=5, iterations=300)\n"
   ]
  },
  {
   "cell_type": "code",
   "execution_count": 3,
   "metadata": {
    "ExecuteTime": {
     "end_time": "2020-04-06T08:08:34.522927Z",
     "start_time": "2020-04-06T08:08:34.444049Z"
    }
   },
   "outputs": [
    {
     "data": {
      "application/javascript": [
       "/* Put everything inside the global mpl namespace */\n",
       "window.mpl = {};\n",
       "\n",
       "\n",
       "mpl.get_websocket_type = function() {\n",
       "    if (typeof(WebSocket) !== 'undefined') {\n",
       "        return WebSocket;\n",
       "    } else if (typeof(MozWebSocket) !== 'undefined') {\n",
       "        return MozWebSocket;\n",
       "    } else {\n",
       "        alert('Your browser does not have WebSocket support. ' +\n",
       "              'Please try Chrome, Safari or Firefox ≥ 6. ' +\n",
       "              'Firefox 4 and 5 are also supported but you ' +\n",
       "              'have to enable WebSockets in about:config.');\n",
       "    };\n",
       "}\n",
       "\n",
       "mpl.figure = function(figure_id, websocket, ondownload, parent_element) {\n",
       "    this.id = figure_id;\n",
       "\n",
       "    this.ws = websocket;\n",
       "\n",
       "    this.supports_binary = (this.ws.binaryType != undefined);\n",
       "\n",
       "    if (!this.supports_binary) {\n",
       "        var warnings = document.getElementById(\"mpl-warnings\");\n",
       "        if (warnings) {\n",
       "            warnings.style.display = 'block';\n",
       "            warnings.textContent = (\n",
       "                \"This browser does not support binary websocket messages. \" +\n",
       "                    \"Performance may be slow.\");\n",
       "        }\n",
       "    }\n",
       "\n",
       "    this.imageObj = new Image();\n",
       "\n",
       "    this.context = undefined;\n",
       "    this.message = undefined;\n",
       "    this.canvas = undefined;\n",
       "    this.rubberband_canvas = undefined;\n",
       "    this.rubberband_context = undefined;\n",
       "    this.format_dropdown = undefined;\n",
       "\n",
       "    this.image_mode = 'full';\n",
       "\n",
       "    this.root = $('<div/>');\n",
       "    this._root_extra_style(this.root)\n",
       "    this.root.attr('style', 'display: inline-block');\n",
       "\n",
       "    $(parent_element).append(this.root);\n",
       "\n",
       "    this._init_header(this);\n",
       "    this._init_canvas(this);\n",
       "    this._init_toolbar(this);\n",
       "\n",
       "    var fig = this;\n",
       "\n",
       "    this.waiting = false;\n",
       "\n",
       "    this.ws.onopen =  function () {\n",
       "            fig.send_message(\"supports_binary\", {value: fig.supports_binary});\n",
       "            fig.send_message(\"send_image_mode\", {});\n",
       "            if (mpl.ratio != 1) {\n",
       "                fig.send_message(\"set_dpi_ratio\", {'dpi_ratio': mpl.ratio});\n",
       "            }\n",
       "            fig.send_message(\"refresh\", {});\n",
       "        }\n",
       "\n",
       "    this.imageObj.onload = function() {\n",
       "            if (fig.image_mode == 'full') {\n",
       "                // Full images could contain transparency (where diff images\n",
       "                // almost always do), so we need to clear the canvas so that\n",
       "                // there is no ghosting.\n",
       "                fig.context.clearRect(0, 0, fig.canvas.width, fig.canvas.height);\n",
       "            }\n",
       "            fig.context.drawImage(fig.imageObj, 0, 0);\n",
       "        };\n",
       "\n",
       "    this.imageObj.onunload = function() {\n",
       "        fig.ws.close();\n",
       "    }\n",
       "\n",
       "    this.ws.onmessage = this._make_on_message_function(this);\n",
       "\n",
       "    this.ondownload = ondownload;\n",
       "}\n",
       "\n",
       "mpl.figure.prototype._init_header = function() {\n",
       "    var titlebar = $(\n",
       "        '<div class=\"ui-dialog-titlebar ui-widget-header ui-corner-all ' +\n",
       "        'ui-helper-clearfix\"/>');\n",
       "    var titletext = $(\n",
       "        '<div class=\"ui-dialog-title\" style=\"width: 100%; ' +\n",
       "        'text-align: center; padding: 3px;\"/>');\n",
       "    titlebar.append(titletext)\n",
       "    this.root.append(titlebar);\n",
       "    this.header = titletext[0];\n",
       "}\n",
       "\n",
       "\n",
       "\n",
       "mpl.figure.prototype._canvas_extra_style = function(canvas_div) {\n",
       "\n",
       "}\n",
       "\n",
       "\n",
       "mpl.figure.prototype._root_extra_style = function(canvas_div) {\n",
       "\n",
       "}\n",
       "\n",
       "mpl.figure.prototype._init_canvas = function() {\n",
       "    var fig = this;\n",
       "\n",
       "    var canvas_div = $('<div/>');\n",
       "\n",
       "    canvas_div.attr('style', 'position: relative; clear: both; outline: 0');\n",
       "\n",
       "    function canvas_keyboard_event(event) {\n",
       "        return fig.key_event(event, event['data']);\n",
       "    }\n",
       "\n",
       "    canvas_div.keydown('key_press', canvas_keyboard_event);\n",
       "    canvas_div.keyup('key_release', canvas_keyboard_event);\n",
       "    this.canvas_div = canvas_div\n",
       "    this._canvas_extra_style(canvas_div)\n",
       "    this.root.append(canvas_div);\n",
       "\n",
       "    var canvas = $('<canvas/>');\n",
       "    canvas.addClass('mpl-canvas');\n",
       "    canvas.attr('style', \"left: 0; top: 0; z-index: 0; outline: 0\")\n",
       "\n",
       "    this.canvas = canvas[0];\n",
       "    this.context = canvas[0].getContext(\"2d\");\n",
       "\n",
       "    var backingStore = this.context.backingStorePixelRatio ||\n",
       "\tthis.context.webkitBackingStorePixelRatio ||\n",
       "\tthis.context.mozBackingStorePixelRatio ||\n",
       "\tthis.context.msBackingStorePixelRatio ||\n",
       "\tthis.context.oBackingStorePixelRatio ||\n",
       "\tthis.context.backingStorePixelRatio || 1;\n",
       "\n",
       "    mpl.ratio = (window.devicePixelRatio || 1) / backingStore;\n",
       "\n",
       "    var rubberband = $('<canvas/>');\n",
       "    rubberband.attr('style', \"position: absolute; left: 0; top: 0; z-index: 1;\")\n",
       "\n",
       "    var pass_mouse_events = true;\n",
       "\n",
       "    canvas_div.resizable({\n",
       "        start: function(event, ui) {\n",
       "            pass_mouse_events = false;\n",
       "        },\n",
       "        resize: function(event, ui) {\n",
       "            fig.request_resize(ui.size.width, ui.size.height);\n",
       "        },\n",
       "        stop: function(event, ui) {\n",
       "            pass_mouse_events = true;\n",
       "            fig.request_resize(ui.size.width, ui.size.height);\n",
       "        },\n",
       "    });\n",
       "\n",
       "    function mouse_event_fn(event) {\n",
       "        if (pass_mouse_events)\n",
       "            return fig.mouse_event(event, event['data']);\n",
       "    }\n",
       "\n",
       "    rubberband.mousedown('button_press', mouse_event_fn);\n",
       "    rubberband.mouseup('button_release', mouse_event_fn);\n",
       "    // Throttle sequential mouse events to 1 every 20ms.\n",
       "    rubberband.mousemove('motion_notify', mouse_event_fn);\n",
       "\n",
       "    rubberband.mouseenter('figure_enter', mouse_event_fn);\n",
       "    rubberband.mouseleave('figure_leave', mouse_event_fn);\n",
       "\n",
       "    canvas_div.on(\"wheel\", function (event) {\n",
       "        event = event.originalEvent;\n",
       "        event['data'] = 'scroll'\n",
       "        if (event.deltaY < 0) {\n",
       "            event.step = 1;\n",
       "        } else {\n",
       "            event.step = -1;\n",
       "        }\n",
       "        mouse_event_fn(event);\n",
       "    });\n",
       "\n",
       "    canvas_div.append(canvas);\n",
       "    canvas_div.append(rubberband);\n",
       "\n",
       "    this.rubberband = rubberband;\n",
       "    this.rubberband_canvas = rubberband[0];\n",
       "    this.rubberband_context = rubberband[0].getContext(\"2d\");\n",
       "    this.rubberband_context.strokeStyle = \"#000000\";\n",
       "\n",
       "    this._resize_canvas = function(width, height) {\n",
       "        // Keep the size of the canvas, canvas container, and rubber band\n",
       "        // canvas in synch.\n",
       "        canvas_div.css('width', width)\n",
       "        canvas_div.css('height', height)\n",
       "\n",
       "        canvas.attr('width', width * mpl.ratio);\n",
       "        canvas.attr('height', height * mpl.ratio);\n",
       "        canvas.attr('style', 'width: ' + width + 'px; height: ' + height + 'px;');\n",
       "\n",
       "        rubberband.attr('width', width);\n",
       "        rubberband.attr('height', height);\n",
       "    }\n",
       "\n",
       "    // Set the figure to an initial 600x600px, this will subsequently be updated\n",
       "    // upon first draw.\n",
       "    this._resize_canvas(600, 600);\n",
       "\n",
       "    // Disable right mouse context menu.\n",
       "    $(this.rubberband_canvas).bind(\"contextmenu\",function(e){\n",
       "        return false;\n",
       "    });\n",
       "\n",
       "    function set_focus () {\n",
       "        canvas.focus();\n",
       "        canvas_div.focus();\n",
       "    }\n",
       "\n",
       "    window.setTimeout(set_focus, 100);\n",
       "}\n",
       "\n",
       "mpl.figure.prototype._init_toolbar = function() {\n",
       "    var fig = this;\n",
       "\n",
       "    var nav_element = $('<div/>');\n",
       "    nav_element.attr('style', 'width: 100%');\n",
       "    this.root.append(nav_element);\n",
       "\n",
       "    // Define a callback function for later on.\n",
       "    function toolbar_event(event) {\n",
       "        return fig.toolbar_button_onclick(event['data']);\n",
       "    }\n",
       "    function toolbar_mouse_event(event) {\n",
       "        return fig.toolbar_button_onmouseover(event['data']);\n",
       "    }\n",
       "\n",
       "    for(var toolbar_ind in mpl.toolbar_items) {\n",
       "        var name = mpl.toolbar_items[toolbar_ind][0];\n",
       "        var tooltip = mpl.toolbar_items[toolbar_ind][1];\n",
       "        var image = mpl.toolbar_items[toolbar_ind][2];\n",
       "        var method_name = mpl.toolbar_items[toolbar_ind][3];\n",
       "\n",
       "        if (!name) {\n",
       "            // put a spacer in here.\n",
       "            continue;\n",
       "        }\n",
       "        var button = $('<button/>');\n",
       "        button.addClass('ui-button ui-widget ui-state-default ui-corner-all ' +\n",
       "                        'ui-button-icon-only');\n",
       "        button.attr('role', 'button');\n",
       "        button.attr('aria-disabled', 'false');\n",
       "        button.click(method_name, toolbar_event);\n",
       "        button.mouseover(tooltip, toolbar_mouse_event);\n",
       "\n",
       "        var icon_img = $('<span/>');\n",
       "        icon_img.addClass('ui-button-icon-primary ui-icon');\n",
       "        icon_img.addClass(image);\n",
       "        icon_img.addClass('ui-corner-all');\n",
       "\n",
       "        var tooltip_span = $('<span/>');\n",
       "        tooltip_span.addClass('ui-button-text');\n",
       "        tooltip_span.html(tooltip);\n",
       "\n",
       "        button.append(icon_img);\n",
       "        button.append(tooltip_span);\n",
       "\n",
       "        nav_element.append(button);\n",
       "    }\n",
       "\n",
       "    var fmt_picker_span = $('<span/>');\n",
       "\n",
       "    var fmt_picker = $('<select/>');\n",
       "    fmt_picker.addClass('mpl-toolbar-option ui-widget ui-widget-content');\n",
       "    fmt_picker_span.append(fmt_picker);\n",
       "    nav_element.append(fmt_picker_span);\n",
       "    this.format_dropdown = fmt_picker[0];\n",
       "\n",
       "    for (var ind in mpl.extensions) {\n",
       "        var fmt = mpl.extensions[ind];\n",
       "        var option = $(\n",
       "            '<option/>', {selected: fmt === mpl.default_extension}).html(fmt);\n",
       "        fmt_picker.append(option);\n",
       "    }\n",
       "\n",
       "    // Add hover states to the ui-buttons\n",
       "    $( \".ui-button\" ).hover(\n",
       "        function() { $(this).addClass(\"ui-state-hover\");},\n",
       "        function() { $(this).removeClass(\"ui-state-hover\");}\n",
       "    );\n",
       "\n",
       "    var status_bar = $('<span class=\"mpl-message\"/>');\n",
       "    nav_element.append(status_bar);\n",
       "    this.message = status_bar[0];\n",
       "}\n",
       "\n",
       "mpl.figure.prototype.request_resize = function(x_pixels, y_pixels) {\n",
       "    // Request matplotlib to resize the figure. Matplotlib will then trigger a resize in the client,\n",
       "    // which will in turn request a refresh of the image.\n",
       "    this.send_message('resize', {'width': x_pixels, 'height': y_pixels});\n",
       "}\n",
       "\n",
       "mpl.figure.prototype.send_message = function(type, properties) {\n",
       "    properties['type'] = type;\n",
       "    properties['figure_id'] = this.id;\n",
       "    this.ws.send(JSON.stringify(properties));\n",
       "}\n",
       "\n",
       "mpl.figure.prototype.send_draw_message = function() {\n",
       "    if (!this.waiting) {\n",
       "        this.waiting = true;\n",
       "        this.ws.send(JSON.stringify({type: \"draw\", figure_id: this.id}));\n",
       "    }\n",
       "}\n",
       "\n",
       "\n",
       "mpl.figure.prototype.handle_save = function(fig, msg) {\n",
       "    var format_dropdown = fig.format_dropdown;\n",
       "    var format = format_dropdown.options[format_dropdown.selectedIndex].value;\n",
       "    fig.ondownload(fig, format);\n",
       "}\n",
       "\n",
       "\n",
       "mpl.figure.prototype.handle_resize = function(fig, msg) {\n",
       "    var size = msg['size'];\n",
       "    if (size[0] != fig.canvas.width || size[1] != fig.canvas.height) {\n",
       "        fig._resize_canvas(size[0], size[1]);\n",
       "        fig.send_message(\"refresh\", {});\n",
       "    };\n",
       "}\n",
       "\n",
       "mpl.figure.prototype.handle_rubberband = function(fig, msg) {\n",
       "    var x0 = msg['x0'] / mpl.ratio;\n",
       "    var y0 = (fig.canvas.height - msg['y0']) / mpl.ratio;\n",
       "    var x1 = msg['x1'] / mpl.ratio;\n",
       "    var y1 = (fig.canvas.height - msg['y1']) / mpl.ratio;\n",
       "    x0 = Math.floor(x0) + 0.5;\n",
       "    y0 = Math.floor(y0) + 0.5;\n",
       "    x1 = Math.floor(x1) + 0.5;\n",
       "    y1 = Math.floor(y1) + 0.5;\n",
       "    var min_x = Math.min(x0, x1);\n",
       "    var min_y = Math.min(y0, y1);\n",
       "    var width = Math.abs(x1 - x0);\n",
       "    var height = Math.abs(y1 - y0);\n",
       "\n",
       "    fig.rubberband_context.clearRect(\n",
       "        0, 0, fig.canvas.width / mpl.ratio, fig.canvas.height / mpl.ratio);\n",
       "\n",
       "    fig.rubberband_context.strokeRect(min_x, min_y, width, height);\n",
       "}\n",
       "\n",
       "mpl.figure.prototype.handle_figure_label = function(fig, msg) {\n",
       "    // Updates the figure title.\n",
       "    fig.header.textContent = msg['label'];\n",
       "}\n",
       "\n",
       "mpl.figure.prototype.handle_cursor = function(fig, msg) {\n",
       "    var cursor = msg['cursor'];\n",
       "    switch(cursor)\n",
       "    {\n",
       "    case 0:\n",
       "        cursor = 'pointer';\n",
       "        break;\n",
       "    case 1:\n",
       "        cursor = 'default';\n",
       "        break;\n",
       "    case 2:\n",
       "        cursor = 'crosshair';\n",
       "        break;\n",
       "    case 3:\n",
       "        cursor = 'move';\n",
       "        break;\n",
       "    }\n",
       "    fig.rubberband_canvas.style.cursor = cursor;\n",
       "}\n",
       "\n",
       "mpl.figure.prototype.handle_message = function(fig, msg) {\n",
       "    fig.message.textContent = msg['message'];\n",
       "}\n",
       "\n",
       "mpl.figure.prototype.handle_draw = function(fig, msg) {\n",
       "    // Request the server to send over a new figure.\n",
       "    fig.send_draw_message();\n",
       "}\n",
       "\n",
       "mpl.figure.prototype.handle_image_mode = function(fig, msg) {\n",
       "    fig.image_mode = msg['mode'];\n",
       "}\n",
       "\n",
       "mpl.figure.prototype.updated_canvas_event = function() {\n",
       "    // Called whenever the canvas gets updated.\n",
       "    this.send_message(\"ack\", {});\n",
       "}\n",
       "\n",
       "// A function to construct a web socket function for onmessage handling.\n",
       "// Called in the figure constructor.\n",
       "mpl.figure.prototype._make_on_message_function = function(fig) {\n",
       "    return function socket_on_message(evt) {\n",
       "        if (evt.data instanceof Blob) {\n",
       "            /* FIXME: We get \"Resource interpreted as Image but\n",
       "             * transferred with MIME type text/plain:\" errors on\n",
       "             * Chrome.  But how to set the MIME type?  It doesn't seem\n",
       "             * to be part of the websocket stream */\n",
       "            evt.data.type = \"image/png\";\n",
       "\n",
       "            /* Free the memory for the previous frames */\n",
       "            if (fig.imageObj.src) {\n",
       "                (window.URL || window.webkitURL).revokeObjectURL(\n",
       "                    fig.imageObj.src);\n",
       "            }\n",
       "\n",
       "            fig.imageObj.src = (window.URL || window.webkitURL).createObjectURL(\n",
       "                evt.data);\n",
       "            fig.updated_canvas_event();\n",
       "            fig.waiting = false;\n",
       "            return;\n",
       "        }\n",
       "        else if (typeof evt.data === 'string' && evt.data.slice(0, 21) == \"data:image/png;base64\") {\n",
       "            fig.imageObj.src = evt.data;\n",
       "            fig.updated_canvas_event();\n",
       "            fig.waiting = false;\n",
       "            return;\n",
       "        }\n",
       "\n",
       "        var msg = JSON.parse(evt.data);\n",
       "        var msg_type = msg['type'];\n",
       "\n",
       "        // Call the  \"handle_{type}\" callback, which takes\n",
       "        // the figure and JSON message as its only arguments.\n",
       "        try {\n",
       "            var callback = fig[\"handle_\" + msg_type];\n",
       "        } catch (e) {\n",
       "            console.log(\"No handler for the '\" + msg_type + \"' message type: \", msg);\n",
       "            return;\n",
       "        }\n",
       "\n",
       "        if (callback) {\n",
       "            try {\n",
       "                // console.log(\"Handling '\" + msg_type + \"' message: \", msg);\n",
       "                callback(fig, msg);\n",
       "            } catch (e) {\n",
       "                console.log(\"Exception inside the 'handler_\" + msg_type + \"' callback:\", e, e.stack, msg);\n",
       "            }\n",
       "        }\n",
       "    };\n",
       "}\n",
       "\n",
       "// from http://stackoverflow.com/questions/1114465/getting-mouse-location-in-canvas\n",
       "mpl.findpos = function(e) {\n",
       "    //this section is from http://www.quirksmode.org/js/events_properties.html\n",
       "    var targ;\n",
       "    if (!e)\n",
       "        e = window.event;\n",
       "    if (e.target)\n",
       "        targ = e.target;\n",
       "    else if (e.srcElement)\n",
       "        targ = e.srcElement;\n",
       "    if (targ.nodeType == 3) // defeat Safari bug\n",
       "        targ = targ.parentNode;\n",
       "\n",
       "    // jQuery normalizes the pageX and pageY\n",
       "    // pageX,Y are the mouse positions relative to the document\n",
       "    // offset() returns the position of the element relative to the document\n",
       "    var x = e.pageX - $(targ).offset().left;\n",
       "    var y = e.pageY - $(targ).offset().top;\n",
       "\n",
       "    return {\"x\": x, \"y\": y};\n",
       "};\n",
       "\n",
       "/*\n",
       " * return a copy of an object with only non-object keys\n",
       " * we need this to avoid circular references\n",
       " * http://stackoverflow.com/a/24161582/3208463\n",
       " */\n",
       "function simpleKeys (original) {\n",
       "  return Object.keys(original).reduce(function (obj, key) {\n",
       "    if (typeof original[key] !== 'object')\n",
       "        obj[key] = original[key]\n",
       "    return obj;\n",
       "  }, {});\n",
       "}\n",
       "\n",
       "mpl.figure.prototype.mouse_event = function(event, name) {\n",
       "    var canvas_pos = mpl.findpos(event)\n",
       "\n",
       "    if (name === 'button_press')\n",
       "    {\n",
       "        this.canvas.focus();\n",
       "        this.canvas_div.focus();\n",
       "    }\n",
       "\n",
       "    var x = canvas_pos.x * mpl.ratio;\n",
       "    var y = canvas_pos.y * mpl.ratio;\n",
       "\n",
       "    this.send_message(name, {x: x, y: y, button: event.button,\n",
       "                             step: event.step,\n",
       "                             guiEvent: simpleKeys(event)});\n",
       "\n",
       "    /* This prevents the web browser from automatically changing to\n",
       "     * the text insertion cursor when the button is pressed.  We want\n",
       "     * to control all of the cursor setting manually through the\n",
       "     * 'cursor' event from matplotlib */\n",
       "    event.preventDefault();\n",
       "    return false;\n",
       "}\n",
       "\n",
       "mpl.figure.prototype._key_event_extra = function(event, name) {\n",
       "    // Handle any extra behaviour associated with a key event\n",
       "}\n",
       "\n",
       "mpl.figure.prototype.key_event = function(event, name) {\n",
       "\n",
       "    // Prevent repeat events\n",
       "    if (name == 'key_press')\n",
       "    {\n",
       "        if (event.which === this._key)\n",
       "            return;\n",
       "        else\n",
       "            this._key = event.which;\n",
       "    }\n",
       "    if (name == 'key_release')\n",
       "        this._key = null;\n",
       "\n",
       "    var value = '';\n",
       "    if (event.ctrlKey && event.which != 17)\n",
       "        value += \"ctrl+\";\n",
       "    if (event.altKey && event.which != 18)\n",
       "        value += \"alt+\";\n",
       "    if (event.shiftKey && event.which != 16)\n",
       "        value += \"shift+\";\n",
       "\n",
       "    value += 'k';\n",
       "    value += event.which.toString();\n",
       "\n",
       "    this._key_event_extra(event, name);\n",
       "\n",
       "    this.send_message(name, {key: value,\n",
       "                             guiEvent: simpleKeys(event)});\n",
       "    return false;\n",
       "}\n",
       "\n",
       "mpl.figure.prototype.toolbar_button_onclick = function(name) {\n",
       "    if (name == 'download') {\n",
       "        this.handle_save(this, null);\n",
       "    } else {\n",
       "        this.send_message(\"toolbar_button\", {name: name});\n",
       "    }\n",
       "};\n",
       "\n",
       "mpl.figure.prototype.toolbar_button_onmouseover = function(tooltip) {\n",
       "    this.message.textContent = tooltip;\n",
       "};\n",
       "mpl.toolbar_items = [[\"Home\", \"Reset original view\", \"fa fa-home icon-home\", \"home\"], [\"Back\", \"Back to previous view\", \"fa fa-arrow-left icon-arrow-left\", \"back\"], [\"Forward\", \"Forward to next view\", \"fa fa-arrow-right icon-arrow-right\", \"forward\"], [\"\", \"\", \"\", \"\"], [\"Pan\", \"Pan axes with left mouse, zoom with right\", \"fa fa-arrows icon-move\", \"pan\"], [\"Zoom\", \"Zoom to rectangle\", \"fa fa-square-o icon-check-empty\", \"zoom\"], [\"\", \"\", \"\", \"\"], [\"Download\", \"Download plot\", \"fa fa-floppy-o icon-save\", \"download\"]];\n",
       "\n",
       "mpl.extensions = [\"eps\", \"jpeg\", \"pdf\", \"png\", \"ps\", \"raw\", \"svg\", \"tif\"];\n",
       "\n",
       "mpl.default_extension = \"png\";var comm_websocket_adapter = function(comm) {\n",
       "    // Create a \"websocket\"-like object which calls the given IPython comm\n",
       "    // object with the appropriate methods. Currently this is a non binary\n",
       "    // socket, so there is still some room for performance tuning.\n",
       "    var ws = {};\n",
       "\n",
       "    ws.close = function() {\n",
       "        comm.close()\n",
       "    };\n",
       "    ws.send = function(m) {\n",
       "        //console.log('sending', m);\n",
       "        comm.send(m);\n",
       "    };\n",
       "    // Register the callback with on_msg.\n",
       "    comm.on_msg(function(msg) {\n",
       "        //console.log('receiving', msg['content']['data'], msg);\n",
       "        // Pass the mpl event to the overridden (by mpl) onmessage function.\n",
       "        ws.onmessage(msg['content']['data'])\n",
       "    });\n",
       "    return ws;\n",
       "}\n",
       "\n",
       "mpl.mpl_figure_comm = function(comm, msg) {\n",
       "    // This is the function which gets called when the mpl process\n",
       "    // starts-up an IPython Comm through the \"matplotlib\" channel.\n",
       "\n",
       "    var id = msg.content.data.id;\n",
       "    // Get hold of the div created by the display call when the Comm\n",
       "    // socket was opened in Python.\n",
       "    var element = $(\"#\" + id);\n",
       "    var ws_proxy = comm_websocket_adapter(comm)\n",
       "\n",
       "    function ondownload(figure, format) {\n",
       "        window.open(figure.imageObj.src);\n",
       "    }\n",
       "\n",
       "    var fig = new mpl.figure(id, ws_proxy,\n",
       "                           ondownload,\n",
       "                           element.get(0));\n",
       "\n",
       "    // Call onopen now - mpl needs it, as it is assuming we've passed it a real\n",
       "    // web socket which is closed, not our websocket->open comm proxy.\n",
       "    ws_proxy.onopen();\n",
       "\n",
       "    fig.parent_element = element.get(0);\n",
       "    fig.cell_info = mpl.find_output_cell(\"<div id='\" + id + \"'></div>\");\n",
       "    if (!fig.cell_info) {\n",
       "        console.error(\"Failed to find cell for figure\", id, fig);\n",
       "        return;\n",
       "    }\n",
       "\n",
       "    var output_index = fig.cell_info[2]\n",
       "    var cell = fig.cell_info[0];\n",
       "\n",
       "};\n",
       "\n",
       "mpl.figure.prototype.handle_close = function(fig, msg) {\n",
       "    var width = fig.canvas.width/mpl.ratio\n",
       "    fig.root.unbind('remove')\n",
       "\n",
       "    // Update the output cell to use the data from the current canvas.\n",
       "    fig.push_to_output();\n",
       "    var dataURL = fig.canvas.toDataURL();\n",
       "    // Re-enable the keyboard manager in IPython - without this line, in FF,\n",
       "    // the notebook keyboard shortcuts fail.\n",
       "    IPython.keyboard_manager.enable()\n",
       "    $(fig.parent_element).html('<img src=\"' + dataURL + '\" width=\"' + width + '\">');\n",
       "    fig.close_ws(fig, msg);\n",
       "}\n",
       "\n",
       "mpl.figure.prototype.close_ws = function(fig, msg){\n",
       "    fig.send_message('closing', msg);\n",
       "    // fig.ws.close()\n",
       "}\n",
       "\n",
       "mpl.figure.prototype.push_to_output = function(remove_interactive) {\n",
       "    // Turn the data on the canvas into data in the output cell.\n",
       "    var width = this.canvas.width/mpl.ratio\n",
       "    var dataURL = this.canvas.toDataURL();\n",
       "    this.cell_info[1]['text/html'] = '<img src=\"' + dataURL + '\" width=\"' + width + '\">';\n",
       "}\n",
       "\n",
       "mpl.figure.prototype.updated_canvas_event = function() {\n",
       "    // Tell IPython that the notebook contents must change.\n",
       "    IPython.notebook.set_dirty(true);\n",
       "    this.send_message(\"ack\", {});\n",
       "    var fig = this;\n",
       "    // Wait a second, then push the new image to the DOM so\n",
       "    // that it is saved nicely (might be nice to debounce this).\n",
       "    setTimeout(function () { fig.push_to_output() }, 1000);\n",
       "}\n",
       "\n",
       "mpl.figure.prototype._init_toolbar = function() {\n",
       "    var fig = this;\n",
       "\n",
       "    var nav_element = $('<div/>');\n",
       "    nav_element.attr('style', 'width: 100%');\n",
       "    this.root.append(nav_element);\n",
       "\n",
       "    // Define a callback function for later on.\n",
       "    function toolbar_event(event) {\n",
       "        return fig.toolbar_button_onclick(event['data']);\n",
       "    }\n",
       "    function toolbar_mouse_event(event) {\n",
       "        return fig.toolbar_button_onmouseover(event['data']);\n",
       "    }\n",
       "\n",
       "    for(var toolbar_ind in mpl.toolbar_items){\n",
       "        var name = mpl.toolbar_items[toolbar_ind][0];\n",
       "        var tooltip = mpl.toolbar_items[toolbar_ind][1];\n",
       "        var image = mpl.toolbar_items[toolbar_ind][2];\n",
       "        var method_name = mpl.toolbar_items[toolbar_ind][3];\n",
       "\n",
       "        if (!name) { continue; };\n",
       "\n",
       "        var button = $('<button class=\"btn btn-default\" href=\"#\" title=\"' + name + '\"><i class=\"fa ' + image + ' fa-lg\"></i></button>');\n",
       "        button.click(method_name, toolbar_event);\n",
       "        button.mouseover(tooltip, toolbar_mouse_event);\n",
       "        nav_element.append(button);\n",
       "    }\n",
       "\n",
       "    // Add the status bar.\n",
       "    var status_bar = $('<span class=\"mpl-message\" style=\"text-align:right; float: right;\"/>');\n",
       "    nav_element.append(status_bar);\n",
       "    this.message = status_bar[0];\n",
       "\n",
       "    // Add the close button to the window.\n",
       "    var buttongrp = $('<div class=\"btn-group inline pull-right\"></div>');\n",
       "    var button = $('<button class=\"btn btn-mini btn-primary\" href=\"#\" title=\"Stop Interaction\"><i class=\"fa fa-power-off icon-remove icon-large\"></i></button>');\n",
       "    button.click(function (evt) { fig.handle_close(fig, {}); } );\n",
       "    button.mouseover('Stop Interaction', toolbar_mouse_event);\n",
       "    buttongrp.append(button);\n",
       "    var titlebar = this.root.find($('.ui-dialog-titlebar'));\n",
       "    titlebar.prepend(buttongrp);\n",
       "}\n",
       "\n",
       "mpl.figure.prototype._root_extra_style = function(el){\n",
       "    var fig = this\n",
       "    el.on(\"remove\", function(){\n",
       "\tfig.close_ws(fig, {});\n",
       "    });\n",
       "}\n",
       "\n",
       "mpl.figure.prototype._canvas_extra_style = function(el){\n",
       "    // this is important to make the div 'focusable\n",
       "    el.attr('tabindex', 0)\n",
       "    // reach out to IPython and tell the keyboard manager to turn it's self\n",
       "    // off when our div gets focus\n",
       "\n",
       "    // location in version 3\n",
       "    if (IPython.notebook.keyboard_manager) {\n",
       "        IPython.notebook.keyboard_manager.register_events(el);\n",
       "    }\n",
       "    else {\n",
       "        // location in version 2\n",
       "        IPython.keyboard_manager.register_events(el);\n",
       "    }\n",
       "\n",
       "}\n",
       "\n",
       "mpl.figure.prototype._key_event_extra = function(event, name) {\n",
       "    var manager = IPython.notebook.keyboard_manager;\n",
       "    if (!manager)\n",
       "        manager = IPython.keyboard_manager;\n",
       "\n",
       "    // Check for shift+enter\n",
       "    if (event.shiftKey && event.which == 13) {\n",
       "        this.canvas_div.blur();\n",
       "        // select the cell after this one\n",
       "        var index = IPython.notebook.find_cell_index(this.cell_info[0]);\n",
       "        IPython.notebook.select(index + 1);\n",
       "    }\n",
       "}\n",
       "\n",
       "mpl.figure.prototype.handle_save = function(fig, msg) {\n",
       "    fig.ondownload(fig, null);\n",
       "}\n",
       "\n",
       "\n",
       "mpl.find_output_cell = function(html_output) {\n",
       "    // Return the cell and output element which can be found *uniquely* in the notebook.\n",
       "    // Note - this is a bit hacky, but it is done because the \"notebook_saving.Notebook\"\n",
       "    // IPython event is triggered only after the cells have been serialised, which for\n",
       "    // our purposes (turning an active figure into a static one), is too late.\n",
       "    var cells = IPython.notebook.get_cells();\n",
       "    var ncells = cells.length;\n",
       "    for (var i=0; i<ncells; i++) {\n",
       "        var cell = cells[i];\n",
       "        if (cell.cell_type === 'code'){\n",
       "            for (var j=0; j<cell.output_area.outputs.length; j++) {\n",
       "                var data = cell.output_area.outputs[j];\n",
       "                if (data.data) {\n",
       "                    // IPython >= 3 moved mimebundle to data attribute of output\n",
       "                    data = data.data;\n",
       "                }\n",
       "                if (data['text/html'] == html_output) {\n",
       "                    return [cell, data, j];\n",
       "                }\n",
       "            }\n",
       "        }\n",
       "    }\n",
       "}\n",
       "\n",
       "// Register the function which deals with the matplotlib target/channel.\n",
       "// The kernel may be null if the page has been refreshed.\n",
       "if (IPython.notebook.kernel != null) {\n",
       "    IPython.notebook.kernel.comm_manager.register_target('matplotlib', mpl.mpl_figure_comm);\n",
       "}\n"
      ],
      "text/plain": [
       "<IPython.core.display.Javascript object>"
      ]
     },
     "metadata": {},
     "output_type": "display_data"
    },
    {
     "data": {
      "text/html": [
       "<img src=\"data:image/png;base64,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\" width=\"800\">"
      ],
      "text/plain": [
       "<IPython.core.display.HTML object>"
      ]
     },
     "metadata": {},
     "output_type": "display_data"
    }
   ],
   "source": [
    "pos=nx.drawing.nx_agraph.graphviz_layout(\n",
    "        homo_pareto_synth.graph, prog='dot'\n",
    "    )\n",
    "    \n",
    "nx.draw(homo_pareto_synth.graph, with_labels=True,pos=pos, **options)\n",
    "\n"
   ]
  },
  {
   "cell_type": "markdown",
   "metadata": {},
   "source": [
    "## Creating a survey"
   ]
  },
  {
   "cell_type": "markdown",
   "metadata": {},
   "source": [
    "We can now sample from this population with the **draw_survey** function."
   ]
  },
  {
   "cell_type": "code",
   "execution_count": 4,
   "metadata": {
    "ExecuteTime": {
     "end_time": "2020-04-06T08:08:36.546328Z",
     "start_time": "2020-04-06T08:08:36.512020Z"
    }
   },
   "outputs": [
    {
     "name": "stdout",
     "output_type": "stream",
     "text": [
      "The volume integral is 130.899694\n"
     ]
    },
    {
     "data": {
      "application/vnd.jupyter.widget-view+json": {
       "model_id": "3760494d51bf437d9bd54c0bdbcbdd9c",
       "version_major": 2,
       "version_minor": 0
      },
      "text/plain": [
       "HBox(children=(FloatProgress(value=0.0, description='Drawing distances', max=119.0, style=ProgressStyle(descri…"
      ]
     },
     "metadata": {},
     "output_type": "display_data"
    },
    {
     "name": "stdout",
     "output_type": "stream",
     "text": [
      "\n",
      "Expecting 119 total objects\n",
      "Applying hard boundary\n",
      "Deteced 55 objects or to a distance of 5.00\n"
     ]
    }
   ],
   "source": [
    "population = homo_pareto_synth.draw_survey(boundary=1E-2, hard_cut=True, flux_sigma= 0.1,verbose=True)"
   ]
  },
  {
   "cell_type": "markdown",
   "metadata": {},
   "source": [
    "We now have created a population. How did we get here?\n",
    "\n",
    "* Once the spatial and luminosity functions are specified, we can integrate out to a given distance and compute the number of expected objects.\n",
    "\n",
    "* A Poisson draw with this mean is made to determine the number of total objects in the survey.\n",
    "\n",
    "* Next all quantities are sampled (distance, luminosity)\n",
    "\n",
    "* If needed, the luminosity is converted to a flux with a given observational error\n",
    "\n",
    "* The selection function (in this case a hard cutoff) is applied\n",
    "\n",
    "* A population object is created\n",
    "\n",
    "We could have specified a soft cutoff (an inverse logit) with logarithmic with as well:"
   ]
  },
  {
   "cell_type": "code",
   "execution_count": 5,
   "metadata": {
    "ExecuteTime": {
     "end_time": "2020-04-06T08:08:37.668815Z",
     "start_time": "2020-04-06T08:08:37.611666Z"
    }
   },
   "outputs": [
    {
     "name": "stdout",
     "output_type": "stream",
     "text": [
      "The volume integral is 130.899694\n"
     ]
    },
    {
     "data": {
      "application/vnd.jupyter.widget-view+json": {
       "model_id": "0e627ceb43a54a2e9994d21e28e87080",
       "version_major": 2,
       "version_minor": 0
      },
      "text/plain": [
       "HBox(children=(FloatProgress(value=0.0, description='Drawing distances', max=119.0, style=ProgressStyle(descri…"
      ]
     },
     "metadata": {},
     "output_type": "display_data"
    },
    {
     "name": "stdout",
     "output_type": "stream",
     "text": [
      "\n",
      "Expecting 119 total objects\n",
      "Applying soft boundary\n"
     ]
    },
    {
     "data": {
      "application/vnd.jupyter.widget-view+json": {
       "model_id": "092c74f5f9b24271bfd41584d88ea9e6",
       "version_major": 2,
       "version_minor": 0
      },
      "text/plain": [
       "HBox(children=(FloatProgress(value=0.0, description='samping detection probability', max=119.0, style=Progress…"
      ]
     },
     "metadata": {},
     "output_type": "display_data"
    },
    {
     "name": "stdout",
     "output_type": "stream",
     "text": [
      "\n",
      "Deteced 52 objects or to a distance of 4.94\n"
     ]
    }
   ],
   "source": [
    "population = homo_pareto_synth.draw_survey(boundary=1E-2, strength=10, flux_sigma= 0.1,verbose=True)"
   ]
  },
  {
   "cell_type": "markdown",
   "metadata": {},
   "source": [
    "## The Population Object\n",
    "\n",
    "The population object stores all the information about the sampled survey. This includes information on the latent parameters, measured parameters, and distances for both the selected and non-selected objects."
   ]
  },
  {
   "cell_type": "markdown",
   "metadata": {},
   "source": [
    "We can have a look at the flux-distance distribution from the survey. Here, pink dots are the *latent* flux value, i.e., without observational noise, and green dots are the *measured values for the *selected* objects. Arrows point from the latent to measured values. "
   ]
  },
  {
   "cell_type": "code",
   "execution_count": 6,
   "metadata": {
    "ExecuteTime": {
     "end_time": "2020-04-06T08:08:39.087328Z",
     "start_time": "2020-04-06T08:08:39.042995Z"
    }
   },
   "outputs": [
    {
     "data": {
      "application/javascript": [
       "/* Put everything inside the global mpl namespace */\n",
       "window.mpl = {};\n",
       "\n",
       "\n",
       "mpl.get_websocket_type = function() {\n",
       "    if (typeof(WebSocket) !== 'undefined') {\n",
       "        return WebSocket;\n",
       "    } else if (typeof(MozWebSocket) !== 'undefined') {\n",
       "        return MozWebSocket;\n",
       "    } else {\n",
       "        alert('Your browser does not have WebSocket support. ' +\n",
       "              'Please try Chrome, Safari or Firefox ≥ 6. ' +\n",
       "              'Firefox 4 and 5 are also supported but you ' +\n",
       "              'have to enable WebSockets in about:config.');\n",
       "    };\n",
       "}\n",
       "\n",
       "mpl.figure = function(figure_id, websocket, ondownload, parent_element) {\n",
       "    this.id = figure_id;\n",
       "\n",
       "    this.ws = websocket;\n",
       "\n",
       "    this.supports_binary = (this.ws.binaryType != undefined);\n",
       "\n",
       "    if (!this.supports_binary) {\n",
       "        var warnings = document.getElementById(\"mpl-warnings\");\n",
       "        if (warnings) {\n",
       "            warnings.style.display = 'block';\n",
       "            warnings.textContent = (\n",
       "                \"This browser does not support binary websocket messages. \" +\n",
       "                    \"Performance may be slow.\");\n",
       "        }\n",
       "    }\n",
       "\n",
       "    this.imageObj = new Image();\n",
       "\n",
       "    this.context = undefined;\n",
       "    this.message = undefined;\n",
       "    this.canvas = undefined;\n",
       "    this.rubberband_canvas = undefined;\n",
       "    this.rubberband_context = undefined;\n",
       "    this.format_dropdown = undefined;\n",
       "\n",
       "    this.image_mode = 'full';\n",
       "\n",
       "    this.root = $('<div/>');\n",
       "    this._root_extra_style(this.root)\n",
       "    this.root.attr('style', 'display: inline-block');\n",
       "\n",
       "    $(parent_element).append(this.root);\n",
       "\n",
       "    this._init_header(this);\n",
       "    this._init_canvas(this);\n",
       "    this._init_toolbar(this);\n",
       "\n",
       "    var fig = this;\n",
       "\n",
       "    this.waiting = false;\n",
       "\n",
       "    this.ws.onopen =  function () {\n",
       "            fig.send_message(\"supports_binary\", {value: fig.supports_binary});\n",
       "            fig.send_message(\"send_image_mode\", {});\n",
       "            if (mpl.ratio != 1) {\n",
       "                fig.send_message(\"set_dpi_ratio\", {'dpi_ratio': mpl.ratio});\n",
       "            }\n",
       "            fig.send_message(\"refresh\", {});\n",
       "        }\n",
       "\n",
       "    this.imageObj.onload = function() {\n",
       "            if (fig.image_mode == 'full') {\n",
       "                // Full images could contain transparency (where diff images\n",
       "                // almost always do), so we need to clear the canvas so that\n",
       "                // there is no ghosting.\n",
       "                fig.context.clearRect(0, 0, fig.canvas.width, fig.canvas.height);\n",
       "            }\n",
       "            fig.context.drawImage(fig.imageObj, 0, 0);\n",
       "        };\n",
       "\n",
       "    this.imageObj.onunload = function() {\n",
       "        fig.ws.close();\n",
       "    }\n",
       "\n",
       "    this.ws.onmessage = this._make_on_message_function(this);\n",
       "\n",
       "    this.ondownload = ondownload;\n",
       "}\n",
       "\n",
       "mpl.figure.prototype._init_header = function() {\n",
       "    var titlebar = $(\n",
       "        '<div class=\"ui-dialog-titlebar ui-widget-header ui-corner-all ' +\n",
       "        'ui-helper-clearfix\"/>');\n",
       "    var titletext = $(\n",
       "        '<div class=\"ui-dialog-title\" style=\"width: 100%; ' +\n",
       "        'text-align: center; padding: 3px;\"/>');\n",
       "    titlebar.append(titletext)\n",
       "    this.root.append(titlebar);\n",
       "    this.header = titletext[0];\n",
       "}\n",
       "\n",
       "\n",
       "\n",
       "mpl.figure.prototype._canvas_extra_style = function(canvas_div) {\n",
       "\n",
       "}\n",
       "\n",
       "\n",
       "mpl.figure.prototype._root_extra_style = function(canvas_div) {\n",
       "\n",
       "}\n",
       "\n",
       "mpl.figure.prototype._init_canvas = function() {\n",
       "    var fig = this;\n",
       "\n",
       "    var canvas_div = $('<div/>');\n",
       "\n",
       "    canvas_div.attr('style', 'position: relative; clear: both; outline: 0');\n",
       "\n",
       "    function canvas_keyboard_event(event) {\n",
       "        return fig.key_event(event, event['data']);\n",
       "    }\n",
       "\n",
       "    canvas_div.keydown('key_press', canvas_keyboard_event);\n",
       "    canvas_div.keyup('key_release', canvas_keyboard_event);\n",
       "    this.canvas_div = canvas_div\n",
       "    this._canvas_extra_style(canvas_div)\n",
       "    this.root.append(canvas_div);\n",
       "\n",
       "    var canvas = $('<canvas/>');\n",
       "    canvas.addClass('mpl-canvas');\n",
       "    canvas.attr('style', \"left: 0; top: 0; z-index: 0; outline: 0\")\n",
       "\n",
       "    this.canvas = canvas[0];\n",
       "    this.context = canvas[0].getContext(\"2d\");\n",
       "\n",
       "    var backingStore = this.context.backingStorePixelRatio ||\n",
       "\tthis.context.webkitBackingStorePixelRatio ||\n",
       "\tthis.context.mozBackingStorePixelRatio ||\n",
       "\tthis.context.msBackingStorePixelRatio ||\n",
       "\tthis.context.oBackingStorePixelRatio ||\n",
       "\tthis.context.backingStorePixelRatio || 1;\n",
       "\n",
       "    mpl.ratio = (window.devicePixelRatio || 1) / backingStore;\n",
       "\n",
       "    var rubberband = $('<canvas/>');\n",
       "    rubberband.attr('style', \"position: absolute; left: 0; top: 0; z-index: 1;\")\n",
       "\n",
       "    var pass_mouse_events = true;\n",
       "\n",
       "    canvas_div.resizable({\n",
       "        start: function(event, ui) {\n",
       "            pass_mouse_events = false;\n",
       "        },\n",
       "        resize: function(event, ui) {\n",
       "            fig.request_resize(ui.size.width, ui.size.height);\n",
       "        },\n",
       "        stop: function(event, ui) {\n",
       "            pass_mouse_events = true;\n",
       "            fig.request_resize(ui.size.width, ui.size.height);\n",
       "        },\n",
       "    });\n",
       "\n",
       "    function mouse_event_fn(event) {\n",
       "        if (pass_mouse_events)\n",
       "            return fig.mouse_event(event, event['data']);\n",
       "    }\n",
       "\n",
       "    rubberband.mousedown('button_press', mouse_event_fn);\n",
       "    rubberband.mouseup('button_release', mouse_event_fn);\n",
       "    // Throttle sequential mouse events to 1 every 20ms.\n",
       "    rubberband.mousemove('motion_notify', mouse_event_fn);\n",
       "\n",
       "    rubberband.mouseenter('figure_enter', mouse_event_fn);\n",
       "    rubberband.mouseleave('figure_leave', mouse_event_fn);\n",
       "\n",
       "    canvas_div.on(\"wheel\", function (event) {\n",
       "        event = event.originalEvent;\n",
       "        event['data'] = 'scroll'\n",
       "        if (event.deltaY < 0) {\n",
       "            event.step = 1;\n",
       "        } else {\n",
       "            event.step = -1;\n",
       "        }\n",
       "        mouse_event_fn(event);\n",
       "    });\n",
       "\n",
       "    canvas_div.append(canvas);\n",
       "    canvas_div.append(rubberband);\n",
       "\n",
       "    this.rubberband = rubberband;\n",
       "    this.rubberband_canvas = rubberband[0];\n",
       "    this.rubberband_context = rubberband[0].getContext(\"2d\");\n",
       "    this.rubberband_context.strokeStyle = \"#000000\";\n",
       "\n",
       "    this._resize_canvas = function(width, height) {\n",
       "        // Keep the size of the canvas, canvas container, and rubber band\n",
       "        // canvas in synch.\n",
       "        canvas_div.css('width', width)\n",
       "        canvas_div.css('height', height)\n",
       "\n",
       "        canvas.attr('width', width * mpl.ratio);\n",
       "        canvas.attr('height', height * mpl.ratio);\n",
       "        canvas.attr('style', 'width: ' + width + 'px; height: ' + height + 'px;');\n",
       "\n",
       "        rubberband.attr('width', width);\n",
       "        rubberband.attr('height', height);\n",
       "    }\n",
       "\n",
       "    // Set the figure to an initial 600x600px, this will subsequently be updated\n",
       "    // upon first draw.\n",
       "    this._resize_canvas(600, 600);\n",
       "\n",
       "    // Disable right mouse context menu.\n",
       "    $(this.rubberband_canvas).bind(\"contextmenu\",function(e){\n",
       "        return false;\n",
       "    });\n",
       "\n",
       "    function set_focus () {\n",
       "        canvas.focus();\n",
       "        canvas_div.focus();\n",
       "    }\n",
       "\n",
       "    window.setTimeout(set_focus, 100);\n",
       "}\n",
       "\n",
       "mpl.figure.prototype._init_toolbar = function() {\n",
       "    var fig = this;\n",
       "\n",
       "    var nav_element = $('<div/>');\n",
       "    nav_element.attr('style', 'width: 100%');\n",
       "    this.root.append(nav_element);\n",
       "\n",
       "    // Define a callback function for later on.\n",
       "    function toolbar_event(event) {\n",
       "        return fig.toolbar_button_onclick(event['data']);\n",
       "    }\n",
       "    function toolbar_mouse_event(event) {\n",
       "        return fig.toolbar_button_onmouseover(event['data']);\n",
       "    }\n",
       "\n",
       "    for(var toolbar_ind in mpl.toolbar_items) {\n",
       "        var name = mpl.toolbar_items[toolbar_ind][0];\n",
       "        var tooltip = mpl.toolbar_items[toolbar_ind][1];\n",
       "        var image = mpl.toolbar_items[toolbar_ind][2];\n",
       "        var method_name = mpl.toolbar_items[toolbar_ind][3];\n",
       "\n",
       "        if (!name) {\n",
       "            // put a spacer in here.\n",
       "            continue;\n",
       "        }\n",
       "        var button = $('<button/>');\n",
       "        button.addClass('ui-button ui-widget ui-state-default ui-corner-all ' +\n",
       "                        'ui-button-icon-only');\n",
       "        button.attr('role', 'button');\n",
       "        button.attr('aria-disabled', 'false');\n",
       "        button.click(method_name, toolbar_event);\n",
       "        button.mouseover(tooltip, toolbar_mouse_event);\n",
       "\n",
       "        var icon_img = $('<span/>');\n",
       "        icon_img.addClass('ui-button-icon-primary ui-icon');\n",
       "        icon_img.addClass(image);\n",
       "        icon_img.addClass('ui-corner-all');\n",
       "\n",
       "        var tooltip_span = $('<span/>');\n",
       "        tooltip_span.addClass('ui-button-text');\n",
       "        tooltip_span.html(tooltip);\n",
       "\n",
       "        button.append(icon_img);\n",
       "        button.append(tooltip_span);\n",
       "\n",
       "        nav_element.append(button);\n",
       "    }\n",
       "\n",
       "    var fmt_picker_span = $('<span/>');\n",
       "\n",
       "    var fmt_picker = $('<select/>');\n",
       "    fmt_picker.addClass('mpl-toolbar-option ui-widget ui-widget-content');\n",
       "    fmt_picker_span.append(fmt_picker);\n",
       "    nav_element.append(fmt_picker_span);\n",
       "    this.format_dropdown = fmt_picker[0];\n",
       "\n",
       "    for (var ind in mpl.extensions) {\n",
       "        var fmt = mpl.extensions[ind];\n",
       "        var option = $(\n",
       "            '<option/>', {selected: fmt === mpl.default_extension}).html(fmt);\n",
       "        fmt_picker.append(option);\n",
       "    }\n",
       "\n",
       "    // Add hover states to the ui-buttons\n",
       "    $( \".ui-button\" ).hover(\n",
       "        function() { $(this).addClass(\"ui-state-hover\");},\n",
       "        function() { $(this).removeClass(\"ui-state-hover\");}\n",
       "    );\n",
       "\n",
       "    var status_bar = $('<span class=\"mpl-message\"/>');\n",
       "    nav_element.append(status_bar);\n",
       "    this.message = status_bar[0];\n",
       "}\n",
       "\n",
       "mpl.figure.prototype.request_resize = function(x_pixels, y_pixels) {\n",
       "    // Request matplotlib to resize the figure. Matplotlib will then trigger a resize in the client,\n",
       "    // which will in turn request a refresh of the image.\n",
       "    this.send_message('resize', {'width': x_pixels, 'height': y_pixels});\n",
       "}\n",
       "\n",
       "mpl.figure.prototype.send_message = function(type, properties) {\n",
       "    properties['type'] = type;\n",
       "    properties['figure_id'] = this.id;\n",
       "    this.ws.send(JSON.stringify(properties));\n",
       "}\n",
       "\n",
       "mpl.figure.prototype.send_draw_message = function() {\n",
       "    if (!this.waiting) {\n",
       "        this.waiting = true;\n",
       "        this.ws.send(JSON.stringify({type: \"draw\", figure_id: this.id}));\n",
       "    }\n",
       "}\n",
       "\n",
       "\n",
       "mpl.figure.prototype.handle_save = function(fig, msg) {\n",
       "    var format_dropdown = fig.format_dropdown;\n",
       "    var format = format_dropdown.options[format_dropdown.selectedIndex].value;\n",
       "    fig.ondownload(fig, format);\n",
       "}\n",
       "\n",
       "\n",
       "mpl.figure.prototype.handle_resize = function(fig, msg) {\n",
       "    var size = msg['size'];\n",
       "    if (size[0] != fig.canvas.width || size[1] != fig.canvas.height) {\n",
       "        fig._resize_canvas(size[0], size[1]);\n",
       "        fig.send_message(\"refresh\", {});\n",
       "    };\n",
       "}\n",
       "\n",
       "mpl.figure.prototype.handle_rubberband = function(fig, msg) {\n",
       "    var x0 = msg['x0'] / mpl.ratio;\n",
       "    var y0 = (fig.canvas.height - msg['y0']) / mpl.ratio;\n",
       "    var x1 = msg['x1'] / mpl.ratio;\n",
       "    var y1 = (fig.canvas.height - msg['y1']) / mpl.ratio;\n",
       "    x0 = Math.floor(x0) + 0.5;\n",
       "    y0 = Math.floor(y0) + 0.5;\n",
       "    x1 = Math.floor(x1) + 0.5;\n",
       "    y1 = Math.floor(y1) + 0.5;\n",
       "    var min_x = Math.min(x0, x1);\n",
       "    var min_y = Math.min(y0, y1);\n",
       "    var width = Math.abs(x1 - x0);\n",
       "    var height = Math.abs(y1 - y0);\n",
       "\n",
       "    fig.rubberband_context.clearRect(\n",
       "        0, 0, fig.canvas.width / mpl.ratio, fig.canvas.height / mpl.ratio);\n",
       "\n",
       "    fig.rubberband_context.strokeRect(min_x, min_y, width, height);\n",
       "}\n",
       "\n",
       "mpl.figure.prototype.handle_figure_label = function(fig, msg) {\n",
       "    // Updates the figure title.\n",
       "    fig.header.textContent = msg['label'];\n",
       "}\n",
       "\n",
       "mpl.figure.prototype.handle_cursor = function(fig, msg) {\n",
       "    var cursor = msg['cursor'];\n",
       "    switch(cursor)\n",
       "    {\n",
       "    case 0:\n",
       "        cursor = 'pointer';\n",
       "        break;\n",
       "    case 1:\n",
       "        cursor = 'default';\n",
       "        break;\n",
       "    case 2:\n",
       "        cursor = 'crosshair';\n",
       "        break;\n",
       "    case 3:\n",
       "        cursor = 'move';\n",
       "        break;\n",
       "    }\n",
       "    fig.rubberband_canvas.style.cursor = cursor;\n",
       "}\n",
       "\n",
       "mpl.figure.prototype.handle_message = function(fig, msg) {\n",
       "    fig.message.textContent = msg['message'];\n",
       "}\n",
       "\n",
       "mpl.figure.prototype.handle_draw = function(fig, msg) {\n",
       "    // Request the server to send over a new figure.\n",
       "    fig.send_draw_message();\n",
       "}\n",
       "\n",
       "mpl.figure.prototype.handle_image_mode = function(fig, msg) {\n",
       "    fig.image_mode = msg['mode'];\n",
       "}\n",
       "\n",
       "mpl.figure.prototype.updated_canvas_event = function() {\n",
       "    // Called whenever the canvas gets updated.\n",
       "    this.send_message(\"ack\", {});\n",
       "}\n",
       "\n",
       "// A function to construct a web socket function for onmessage handling.\n",
       "// Called in the figure constructor.\n",
       "mpl.figure.prototype._make_on_message_function = function(fig) {\n",
       "    return function socket_on_message(evt) {\n",
       "        if (evt.data instanceof Blob) {\n",
       "            /* FIXME: We get \"Resource interpreted as Image but\n",
       "             * transferred with MIME type text/plain:\" errors on\n",
       "             * Chrome.  But how to set the MIME type?  It doesn't seem\n",
       "             * to be part of the websocket stream */\n",
       "            evt.data.type = \"image/png\";\n",
       "\n",
       "            /* Free the memory for the previous frames */\n",
       "            if (fig.imageObj.src) {\n",
       "                (window.URL || window.webkitURL).revokeObjectURL(\n",
       "                    fig.imageObj.src);\n",
       "            }\n",
       "\n",
       "            fig.imageObj.src = (window.URL || window.webkitURL).createObjectURL(\n",
       "                evt.data);\n",
       "            fig.updated_canvas_event();\n",
       "            fig.waiting = false;\n",
       "            return;\n",
       "        }\n",
       "        else if (typeof evt.data === 'string' && evt.data.slice(0, 21) == \"data:image/png;base64\") {\n",
       "            fig.imageObj.src = evt.data;\n",
       "            fig.updated_canvas_event();\n",
       "            fig.waiting = false;\n",
       "            return;\n",
       "        }\n",
       "\n",
       "        var msg = JSON.parse(evt.data);\n",
       "        var msg_type = msg['type'];\n",
       "\n",
       "        // Call the  \"handle_{type}\" callback, which takes\n",
       "        // the figure and JSON message as its only arguments.\n",
       "        try {\n",
       "            var callback = fig[\"handle_\" + msg_type];\n",
       "        } catch (e) {\n",
       "            console.log(\"No handler for the '\" + msg_type + \"' message type: \", msg);\n",
       "            return;\n",
       "        }\n",
       "\n",
       "        if (callback) {\n",
       "            try {\n",
       "                // console.log(\"Handling '\" + msg_type + \"' message: \", msg);\n",
       "                callback(fig, msg);\n",
       "            } catch (e) {\n",
       "                console.log(\"Exception inside the 'handler_\" + msg_type + \"' callback:\", e, e.stack, msg);\n",
       "            }\n",
       "        }\n",
       "    };\n",
       "}\n",
       "\n",
       "// from http://stackoverflow.com/questions/1114465/getting-mouse-location-in-canvas\n",
       "mpl.findpos = function(e) {\n",
       "    //this section is from http://www.quirksmode.org/js/events_properties.html\n",
       "    var targ;\n",
       "    if (!e)\n",
       "        e = window.event;\n",
       "    if (e.target)\n",
       "        targ = e.target;\n",
       "    else if (e.srcElement)\n",
       "        targ = e.srcElement;\n",
       "    if (targ.nodeType == 3) // defeat Safari bug\n",
       "        targ = targ.parentNode;\n",
       "\n",
       "    // jQuery normalizes the pageX and pageY\n",
       "    // pageX,Y are the mouse positions relative to the document\n",
       "    // offset() returns the position of the element relative to the document\n",
       "    var x = e.pageX - $(targ).offset().left;\n",
       "    var y = e.pageY - $(targ).offset().top;\n",
       "\n",
       "    return {\"x\": x, \"y\": y};\n",
       "};\n",
       "\n",
       "/*\n",
       " * return a copy of an object with only non-object keys\n",
       " * we need this to avoid circular references\n",
       " * http://stackoverflow.com/a/24161582/3208463\n",
       " */\n",
       "function simpleKeys (original) {\n",
       "  return Object.keys(original).reduce(function (obj, key) {\n",
       "    if (typeof original[key] !== 'object')\n",
       "        obj[key] = original[key]\n",
       "    return obj;\n",
       "  }, {});\n",
       "}\n",
       "\n",
       "mpl.figure.prototype.mouse_event = function(event, name) {\n",
       "    var canvas_pos = mpl.findpos(event)\n",
       "\n",
       "    if (name === 'button_press')\n",
       "    {\n",
       "        this.canvas.focus();\n",
       "        this.canvas_div.focus();\n",
       "    }\n",
       "\n",
       "    var x = canvas_pos.x * mpl.ratio;\n",
       "    var y = canvas_pos.y * mpl.ratio;\n",
       "\n",
       "    this.send_message(name, {x: x, y: y, button: event.button,\n",
       "                             step: event.step,\n",
       "                             guiEvent: simpleKeys(event)});\n",
       "\n",
       "    /* This prevents the web browser from automatically changing to\n",
       "     * the text insertion cursor when the button is pressed.  We want\n",
       "     * to control all of the cursor setting manually through the\n",
       "     * 'cursor' event from matplotlib */\n",
       "    event.preventDefault();\n",
       "    return false;\n",
       "}\n",
       "\n",
       "mpl.figure.prototype._key_event_extra = function(event, name) {\n",
       "    // Handle any extra behaviour associated with a key event\n",
       "}\n",
       "\n",
       "mpl.figure.prototype.key_event = function(event, name) {\n",
       "\n",
       "    // Prevent repeat events\n",
       "    if (name == 'key_press')\n",
       "    {\n",
       "        if (event.which === this._key)\n",
       "            return;\n",
       "        else\n",
       "            this._key = event.which;\n",
       "    }\n",
       "    if (name == 'key_release')\n",
       "        this._key = null;\n",
       "\n",
       "    var value = '';\n",
       "    if (event.ctrlKey && event.which != 17)\n",
       "        value += \"ctrl+\";\n",
       "    if (event.altKey && event.which != 18)\n",
       "        value += \"alt+\";\n",
       "    if (event.shiftKey && event.which != 16)\n",
       "        value += \"shift+\";\n",
       "\n",
       "    value += 'k';\n",
       "    value += event.which.toString();\n",
       "\n",
       "    this._key_event_extra(event, name);\n",
       "\n",
       "    this.send_message(name, {key: value,\n",
       "                             guiEvent: simpleKeys(event)});\n",
       "    return false;\n",
       "}\n",
       "\n",
       "mpl.figure.prototype.toolbar_button_onclick = function(name) {\n",
       "    if (name == 'download') {\n",
       "        this.handle_save(this, null);\n",
       "    } else {\n",
       "        this.send_message(\"toolbar_button\", {name: name});\n",
       "    }\n",
       "};\n",
       "\n",
       "mpl.figure.prototype.toolbar_button_onmouseover = function(tooltip) {\n",
       "    this.message.textContent = tooltip;\n",
       "};\n",
       "mpl.toolbar_items = [[\"Home\", \"Reset original view\", \"fa fa-home icon-home\", \"home\"], [\"Back\", \"Back to previous view\", \"fa fa-arrow-left icon-arrow-left\", \"back\"], [\"Forward\", \"Forward to next view\", \"fa fa-arrow-right icon-arrow-right\", \"forward\"], [\"\", \"\", \"\", \"\"], [\"Pan\", \"Pan axes with left mouse, zoom with right\", \"fa fa-arrows icon-move\", \"pan\"], [\"Zoom\", \"Zoom to rectangle\", \"fa fa-square-o icon-check-empty\", \"zoom\"], [\"\", \"\", \"\", \"\"], [\"Download\", \"Download plot\", \"fa fa-floppy-o icon-save\", \"download\"]];\n",
       "\n",
       "mpl.extensions = [\"eps\", \"jpeg\", \"pdf\", \"png\", \"ps\", \"raw\", \"svg\", \"tif\"];\n",
       "\n",
       "mpl.default_extension = \"png\";var comm_websocket_adapter = function(comm) {\n",
       "    // Create a \"websocket\"-like object which calls the given IPython comm\n",
       "    // object with the appropriate methods. Currently this is a non binary\n",
       "    // socket, so there is still some room for performance tuning.\n",
       "    var ws = {};\n",
       "\n",
       "    ws.close = function() {\n",
       "        comm.close()\n",
       "    };\n",
       "    ws.send = function(m) {\n",
       "        //console.log('sending', m);\n",
       "        comm.send(m);\n",
       "    };\n",
       "    // Register the callback with on_msg.\n",
       "    comm.on_msg(function(msg) {\n",
       "        //console.log('receiving', msg['content']['data'], msg);\n",
       "        // Pass the mpl event to the overridden (by mpl) onmessage function.\n",
       "        ws.onmessage(msg['content']['data'])\n",
       "    });\n",
       "    return ws;\n",
       "}\n",
       "\n",
       "mpl.mpl_figure_comm = function(comm, msg) {\n",
       "    // This is the function which gets called when the mpl process\n",
       "    // starts-up an IPython Comm through the \"matplotlib\" channel.\n",
       "\n",
       "    var id = msg.content.data.id;\n",
       "    // Get hold of the div created by the display call when the Comm\n",
       "    // socket was opened in Python.\n",
       "    var element = $(\"#\" + id);\n",
       "    var ws_proxy = comm_websocket_adapter(comm)\n",
       "\n",
       "    function ondownload(figure, format) {\n",
       "        window.open(figure.imageObj.src);\n",
       "    }\n",
       "\n",
       "    var fig = new mpl.figure(id, ws_proxy,\n",
       "                           ondownload,\n",
       "                           element.get(0));\n",
       "\n",
       "    // Call onopen now - mpl needs it, as it is assuming we've passed it a real\n",
       "    // web socket which is closed, not our websocket->open comm proxy.\n",
       "    ws_proxy.onopen();\n",
       "\n",
       "    fig.parent_element = element.get(0);\n",
       "    fig.cell_info = mpl.find_output_cell(\"<div id='\" + id + \"'></div>\");\n",
       "    if (!fig.cell_info) {\n",
       "        console.error(\"Failed to find cell for figure\", id, fig);\n",
       "        return;\n",
       "    }\n",
       "\n",
       "    var output_index = fig.cell_info[2]\n",
       "    var cell = fig.cell_info[0];\n",
       "\n",
       "};\n",
       "\n",
       "mpl.figure.prototype.handle_close = function(fig, msg) {\n",
       "    var width = fig.canvas.width/mpl.ratio\n",
       "    fig.root.unbind('remove')\n",
       "\n",
       "    // Update the output cell to use the data from the current canvas.\n",
       "    fig.push_to_output();\n",
       "    var dataURL = fig.canvas.toDataURL();\n",
       "    // Re-enable the keyboard manager in IPython - without this line, in FF,\n",
       "    // the notebook keyboard shortcuts fail.\n",
       "    IPython.keyboard_manager.enable()\n",
       "    $(fig.parent_element).html('<img src=\"' + dataURL + '\" width=\"' + width + '\">');\n",
       "    fig.close_ws(fig, msg);\n",
       "}\n",
       "\n",
       "mpl.figure.prototype.close_ws = function(fig, msg){\n",
       "    fig.send_message('closing', msg);\n",
       "    // fig.ws.close()\n",
       "}\n",
       "\n",
       "mpl.figure.prototype.push_to_output = function(remove_interactive) {\n",
       "    // Turn the data on the canvas into data in the output cell.\n",
       "    var width = this.canvas.width/mpl.ratio\n",
       "    var dataURL = this.canvas.toDataURL();\n",
       "    this.cell_info[1]['text/html'] = '<img src=\"' + dataURL + '\" width=\"' + width + '\">';\n",
       "}\n",
       "\n",
       "mpl.figure.prototype.updated_canvas_event = function() {\n",
       "    // Tell IPython that the notebook contents must change.\n",
       "    IPython.notebook.set_dirty(true);\n",
       "    this.send_message(\"ack\", {});\n",
       "    var fig = this;\n",
       "    // Wait a second, then push the new image to the DOM so\n",
       "    // that it is saved nicely (might be nice to debounce this).\n",
       "    setTimeout(function () { fig.push_to_output() }, 1000);\n",
       "}\n",
       "\n",
       "mpl.figure.prototype._init_toolbar = function() {\n",
       "    var fig = this;\n",
       "\n",
       "    var nav_element = $('<div/>');\n",
       "    nav_element.attr('style', 'width: 100%');\n",
       "    this.root.append(nav_element);\n",
       "\n",
       "    // Define a callback function for later on.\n",
       "    function toolbar_event(event) {\n",
       "        return fig.toolbar_button_onclick(event['data']);\n",
       "    }\n",
       "    function toolbar_mouse_event(event) {\n",
       "        return fig.toolbar_button_onmouseover(event['data']);\n",
       "    }\n",
       "\n",
       "    for(var toolbar_ind in mpl.toolbar_items){\n",
       "        var name = mpl.toolbar_items[toolbar_ind][0];\n",
       "        var tooltip = mpl.toolbar_items[toolbar_ind][1];\n",
       "        var image = mpl.toolbar_items[toolbar_ind][2];\n",
       "        var method_name = mpl.toolbar_items[toolbar_ind][3];\n",
       "\n",
       "        if (!name) { continue; };\n",
       "\n",
       "        var button = $('<button class=\"btn btn-default\" href=\"#\" title=\"' + name + '\"><i class=\"fa ' + image + ' fa-lg\"></i></button>');\n",
       "        button.click(method_name, toolbar_event);\n",
       "        button.mouseover(tooltip, toolbar_mouse_event);\n",
       "        nav_element.append(button);\n",
       "    }\n",
       "\n",
       "    // Add the status bar.\n",
       "    var status_bar = $('<span class=\"mpl-message\" style=\"text-align:right; float: right;\"/>');\n",
       "    nav_element.append(status_bar);\n",
       "    this.message = status_bar[0];\n",
       "\n",
       "    // Add the close button to the window.\n",
       "    var buttongrp = $('<div class=\"btn-group inline pull-right\"></div>');\n",
       "    var button = $('<button class=\"btn btn-mini btn-primary\" href=\"#\" title=\"Stop Interaction\"><i class=\"fa fa-power-off icon-remove icon-large\"></i></button>');\n",
       "    button.click(function (evt) { fig.handle_close(fig, {}); } );\n",
       "    button.mouseover('Stop Interaction', toolbar_mouse_event);\n",
       "    buttongrp.append(button);\n",
       "    var titlebar = this.root.find($('.ui-dialog-titlebar'));\n",
       "    titlebar.prepend(buttongrp);\n",
       "}\n",
       "\n",
       "mpl.figure.prototype._root_extra_style = function(el){\n",
       "    var fig = this\n",
       "    el.on(\"remove\", function(){\n",
       "\tfig.close_ws(fig, {});\n",
       "    });\n",
       "}\n",
       "\n",
       "mpl.figure.prototype._canvas_extra_style = function(el){\n",
       "    // this is important to make the div 'focusable\n",
       "    el.attr('tabindex', 0)\n",
       "    // reach out to IPython and tell the keyboard manager to turn it's self\n",
       "    // off when our div gets focus\n",
       "\n",
       "    // location in version 3\n",
       "    if (IPython.notebook.keyboard_manager) {\n",
       "        IPython.notebook.keyboard_manager.register_events(el);\n",
       "    }\n",
       "    else {\n",
       "        // location in version 2\n",
       "        IPython.keyboard_manager.register_events(el);\n",
       "    }\n",
       "\n",
       "}\n",
       "\n",
       "mpl.figure.prototype._key_event_extra = function(event, name) {\n",
       "    var manager = IPython.notebook.keyboard_manager;\n",
       "    if (!manager)\n",
       "        manager = IPython.keyboard_manager;\n",
       "\n",
       "    // Check for shift+enter\n",
       "    if (event.shiftKey && event.which == 13) {\n",
       "        this.canvas_div.blur();\n",
       "        // select the cell after this one\n",
       "        var index = IPython.notebook.find_cell_index(this.cell_info[0]);\n",
       "        IPython.notebook.select(index + 1);\n",
       "    }\n",
       "}\n",
       "\n",
       "mpl.figure.prototype.handle_save = function(fig, msg) {\n",
       "    fig.ondownload(fig, null);\n",
       "}\n",
       "\n",
       "\n",
       "mpl.find_output_cell = function(html_output) {\n",
       "    // Return the cell and output element which can be found *uniquely* in the notebook.\n",
       "    // Note - this is a bit hacky, but it is done because the \"notebook_saving.Notebook\"\n",
       "    // IPython event is triggered only after the cells have been serialised, which for\n",
       "    // our purposes (turning an active figure into a static one), is too late.\n",
       "    var cells = IPython.notebook.get_cells();\n",
       "    var ncells = cells.length;\n",
       "    for (var i=0; i<ncells; i++) {\n",
       "        var cell = cells[i];\n",
       "        if (cell.cell_type === 'code'){\n",
       "            for (var j=0; j<cell.output_area.outputs.length; j++) {\n",
       "                var data = cell.output_area.outputs[j];\n",
       "                if (data.data) {\n",
       "                    // IPython >= 3 moved mimebundle to data attribute of output\n",
       "                    data = data.data;\n",
       "                }\n",
       "                if (data['text/html'] == html_output) {\n",
       "                    return [cell, data, j];\n",
       "                }\n",
       "            }\n",
       "        }\n",
       "    }\n",
       "}\n",
       "\n",
       "// Register the function which deals with the matplotlib target/channel.\n",
       "// The kernel may be null if the page has been refreshed.\n",
       "if (IPython.notebook.kernel != null) {\n",
       "    IPython.notebook.kernel.comm_manager.register_target('matplotlib', mpl.mpl_figure_comm);\n",
       "}\n"
      ],
      "text/plain": [
       "<IPython.core.display.Javascript object>"
      ]
     },
     "metadata": {},
     "output_type": "display_data"
    },
    {
     "data": {
      "text/html": [
       "<img src=\"data:image/png;base64,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\" width=\"800\">"
      ],
      "text/plain": [
       "<IPython.core.display.HTML object>"
      ]
     },
     "metadata": {},
     "output_type": "display_data"
    }
   ],
   "source": [
    "population.display_fluxes(obs_color=green, true_color=red);"
   ]
  },
  {
   "cell_type": "markdown",
   "metadata": {},
   "source": [
    "For fun, we can display the fluxes on in a simulated universe in 3D"
   ]
  },
  {
   "cell_type": "code",
   "execution_count": 7,
   "metadata": {
    "ExecuteTime": {
     "end_time": "2020-04-06T08:08:40.806761Z",
     "start_time": "2020-04-06T08:08:40.725974Z"
    }
   },
   "outputs": [
    {
     "data": {
      "application/vnd.jupyter.widget-view+json": {
       "model_id": "7556f124d80f44c08bbc3ed6cf1a6794",
       "version_major": 2,
       "version_minor": 0
      },
      "text/plain": [
       "VBox(children=(Figure(camera=PerspectiveCamera(fov=45.0, position=(0.0, 0.0, 2.0), quaternion=(0.0, 0.0, 0.0, …"
      ]
     },
     "metadata": {},
     "output_type": "display_data"
    }
   ],
   "source": [
    "population.display_obs_fluxes_sphere();"
   ]
  },
  {
   "cell_type": "markdown",
   "metadata": {},
   "source": [
    "The population object stores a lot of information. For example, an array of selection booleans:"
   ]
  },
  {
   "cell_type": "code",
   "execution_count": 8,
   "metadata": {
    "ExecuteTime": {
     "end_time": "2020-03-31T18:05:24.203346Z",
     "start_time": "2020-03-31T18:05:24.199542Z"
    }
   },
   "outputs": [
    {
     "data": {
      "text/plain": [
       "array([ True, False, False,  True,  True,  True, False, False,  True,\n",
       "        True,  True,  True, False, False,  True, False, False,  True,\n",
       "        True, False, False,  True,  True, False, False, False, False,\n",
       "       False,  True, False,  True,  True, False, False, False, False,\n",
       "       False,  True,  True,  True, False, False,  True, False, False,\n",
       "        True,  True, False, False,  True,  True, False, False, False,\n",
       "       False, False,  True,  True, False, False,  True,  True,  True,\n",
       "       False, False, False, False,  True, False,  True,  True, False,\n",
       "        True, False,  True,  True, False, False,  True, False, False,\n",
       "        True, False, False, False, False, False, False, False,  True,\n",
       "       False,  True,  True,  True,  True, False,  True,  True,  True,\n",
       "       False, False, False,  True, False, False, False, False, False,\n",
       "       False,  True,  True, False,  True, False, False,  True,  True,\n",
       "       False,  True])"
      ]
     },
     "execution_count": 8,
     "metadata": {},
     "output_type": "execute_result"
    }
   ],
   "source": [
    "population.selection"
   ]
  },
  {
   "cell_type": "markdown",
   "metadata": {},
   "source": [
    "We can retrieve selected and non-selected distances:"
   ]
  },
  {
   "cell_type": "code",
   "execution_count": 9,
   "metadata": {
    "ExecuteTime": {
     "end_time": "2020-03-31T18:05:24.211852Z",
     "start_time": "2020-03-31T18:05:24.207688Z"
    }
   },
   "outputs": [
    {
     "data": {
      "text/plain": [
       "array([3.92679292, 3.07698089, 1.84412003, 3.94365071, 4.54657979,\n",
       "       3.37440472, 2.8071654 , 3.03596853, 3.12458353, 1.50320853,\n",
       "       2.84204808, 3.34710872, 2.96946746, 2.84145702, 1.66501233,\n",
       "       4.57201557, 3.65360896, 3.68543247, 1.84824937, 2.19740888,\n",
       "       3.15066556, 3.25419535, 2.99118593, 3.1066243 , 2.05038971,\n",
       "       3.49851631, 4.93373608, 2.50495229, 3.86619357, 3.0299417 ,\n",
       "       2.16760879, 2.61151642, 2.2849924 , 1.42906552, 4.65393316,\n",
       "       4.04939169, 3.24778874, 3.80174956, 3.51668539, 3.34505709,\n",
       "       2.95860736, 3.23501805, 2.61551157, 1.21215428, 2.02495009,\n",
       "       1.58793036, 3.13542795, 4.94174881, 3.20841866, 2.93608859,\n",
       "       2.35774473, 1.67625261])"
      ]
     },
     "execution_count": 9,
     "metadata": {},
     "output_type": "execute_result"
    }
   ],
   "source": [
    "population.selected_distances"
   ]
  },
  {
   "cell_type": "code",
   "execution_count": 10,
   "metadata": {
    "ExecuteTime": {
     "end_time": "2020-03-31T18:05:24.218895Z",
     "start_time": "2020-03-31T18:05:24.214388Z"
    }
   },
   "outputs": [
    {
     "data": {
      "text/plain": [
       "array([4.00936089, 4.41320595, 2.84049326, 4.62433814, 4.56061443,\n",
       "       4.96040733, 4.91002371, 4.49982597, 4.75714382, 4.09601034,\n",
       "       4.75404925, 4.60201286, 4.50043918, 3.28775889, 2.95240902,\n",
       "       4.50324311, 3.49148188, 4.86632396, 4.35711628, 3.67472594,\n",
       "       4.00801299, 4.72776618, 4.65243267, 3.80424574, 4.91661787,\n",
       "       4.66050613, 4.13849679, 4.27527343, 3.79391722, 3.98705654,\n",
       "       3.93963894, 4.25125873, 4.91846163, 4.11079894, 2.57993044,\n",
       "       4.99824797, 4.37548903, 4.86894455, 4.4348297 , 3.56818337,\n",
       "       4.51277513, 4.30804808, 4.69227798, 4.1679345 , 4.682785  ,\n",
       "       4.09172488, 4.5790391 , 4.89409103, 3.3351303 , 4.34927856,\n",
       "       4.84312261, 4.87240609, 3.84039434, 4.17160916, 4.63282725,\n",
       "       2.93659112, 4.83671132, 4.14375325, 3.82344908, 4.40524964,\n",
       "       4.85462662, 3.27140943, 3.59860463, 4.2754133 , 3.98522055,\n",
       "       4.9428319 , 4.95477457])"
      ]
     },
     "execution_count": 10,
     "metadata": {},
     "output_type": "execute_result"
    }
   ],
   "source": [
    "population.hidden_distances"
   ]
  },
  {
   "cell_type": "markdown",
   "metadata": {},
   "source": [
    "## Saving the population\n",
    "We can record the results of a population synth to an HDF5 file that maintains all the information from the run. The true values of the population parameters are always stored in the truth dictionary:\n"
   ]
  },
  {
   "cell_type": "code",
   "execution_count": 11,
   "metadata": {
    "ExecuteTime": {
     "end_time": "2020-03-31T18:05:24.224150Z",
     "start_time": "2020-03-31T18:05:24.220914Z"
    }
   },
   "outputs": [
    {
     "data": {
      "text/plain": [
       "{'cons_sphere': {'Lambda': 0.25, 'r_max': 5},\n",
       " 'pareto': {'Lmin': 1, 'alpha': 2.0}}"
      ]
     },
     "execution_count": 11,
     "metadata": {},
     "output_type": "execute_result"
    }
   ],
   "source": [
    "population.truth"
   ]
  },
  {
   "cell_type": "code",
   "execution_count": 12,
   "metadata": {
    "ExecuteTime": {
     "end_time": "2020-03-31T18:05:24.236652Z",
     "start_time": "2020-03-31T18:05:24.225566Z"
    }
   },
   "outputs": [],
   "source": [
    "population.writeto('saved_pop.h5')"
   ]
  },
  {
   "cell_type": "code",
   "execution_count": 13,
   "metadata": {
    "ExecuteTime": {
     "end_time": "2020-03-31T18:05:24.248670Z",
     "start_time": "2020-03-31T18:05:24.238228Z"
    }
   },
   "outputs": [],
   "source": [
    "reloaded_population = popsynth.Population.from_file('saved_pop.h5')"
   ]
  },
  {
   "cell_type": "code",
   "execution_count": 14,
   "metadata": {
    "ExecuteTime": {
     "end_time": "2020-03-31T18:05:24.254699Z",
     "start_time": "2020-03-31T18:05:24.250444Z"
    }
   },
   "outputs": [
    {
     "data": {
      "text/plain": [
       "{'cons_sphere': {'Lambda': 0.25, 'r_max': 5},\n",
       " 'pareto': {'Lmin': 1, 'alpha': 2.0}}"
      ]
     },
     "execution_count": 14,
     "metadata": {},
     "output_type": "execute_result"
    }
   ],
   "source": [
    "reloaded_population.truth"
   ]
  },
  {
   "cell_type": "code",
   "execution_count": null,
   "metadata": {},
   "outputs": [],
   "source": []
  }
 ],
 "metadata": {
  "kernelspec": {
   "display_name": "popsynth",
   "language": "python",
   "name": "popsynth"
  },
  "language_info": {
   "codemirror_mode": {
    "name": "ipython",
    "version": 3
   },
   "file_extension": ".py",
   "mimetype": "text/x-python",
   "name": "python",
   "nbconvert_exporter": "python",
   "pygments_lexer": "ipython3",
   "version": "3.7.7"
  },
  "widgets": {
   "application/vnd.jupyter.widget-state+json": {
    "state": {
     "05027aaa998c4db99a12a9e8fcbfd6ef": {
      "model_module": "@jupyter-widgets/base",
      "model_module_version": "1.2.0",
      "model_name": "LayoutModel",
      "state": {}
     },
     "092c74f5f9b24271bfd41584d88ea9e6": {
      "model_module": "@jupyter-widgets/controls",
      "model_module_version": "1.5.0",
      "model_name": "HBoxModel",
      "state": {
       "children": [
        "IPY_MODEL_cf2cea0974f54eb780d1b15db4178d31",
        "IPY_MODEL_259d89a679ca4ea0b297db3d22085e15"
       ],
       "layout": "IPY_MODEL_84e24b9376b44aff93d57fad554e4a96"
      }
     },
     "0e627ceb43a54a2e9994d21e28e87080": {
      "model_module": "@jupyter-widgets/controls",
      "model_module_version": "1.5.0",
      "model_name": "HBoxModel",
      "state": {
       "children": [
        "IPY_MODEL_f8cd71ced70a43e2ac8409ba56ddce54",
        "IPY_MODEL_f2ba76e7d83b492c8b95f45c5e351c6f"
       ],
       "layout": "IPY_MODEL_4296648c90b049f387c202479585f306"
      }
     },
     "1514c956c7a54e0abda62f107d0c7da6": {
      "model_module": "@jupyter-widgets/base",
      "model_module_version": "1.2.0",
      "model_name": "LayoutModel",
      "state": {}
     },
     "209bab1066944c20ae719dc82d360303": {
      "model_module": "@jupyter-widgets/controls",
      "model_module_version": "1.5.0",
      "model_name": "ToggleButtonModel",
      "state": {
       "description": "Rotate",
       "layout": "IPY_MODEL_accdca9bffda47b8b76155ad8c00ad7b",
       "style": "IPY_MODEL_dd45057520f34add89994d8fe8d23e60",
       "value": true
      }
     },
     "234997c30199443f8b9d5785756bcdfe": {
      "buffers": [
       {
        "data": "7WW7Poz2uD2d9P4+AACAPwxcvj3mXXU9aOd0PgAAgD+9VNQ+piniPYcxAT8AAIA/9kBzP48ZyD5olbk+AACAP5G1Zj4tlXc9Sg3dPgAAgD+95ao9MExmPZkNYj4AAIA/GHgGPww7HD5W1wE/AACAP9I30T5nCt09jQkBPwAAgD/tZbs+jPa4PZ30/j4AAIA/MBB8P3JNBT+P3sA+AACAP1n9sT6Y36k9bf38PgAAgD8EdTI/SYFVPgEw9j4AAIA/mKVtPitOdT2PGeA+AACAP/sigT4lXXM9HxDoPgAAgD9e1nw/CAMLPz86xT4AAIA/FD0QPniajD3YKaY+AACAP6KWjj6l3H09rDnwPgAAgD/sM1c/NbSJPtJt2T4AAIA/BMp6PzBm+z4OTrw+AACAP+tx1z6aQuc9xVUBPwAAgD9hcZg+WmiHPUTc9D4AAIA/FoczPVORCj2QShE+AACAP5zBXz7QgHo9+8zZPgAAgD8onP099tGJPXR9lz4AAIA/qaMjP6d6Qj47Af0+AACAPyic/T320Yk9dH2XPgAAgD+RtWY+LZV3PUoN3T4AAIA/AMpfP4tulT4a+s8+AACAP6mleT3qeTc9KVs0PgAAgD+gb3s+FRtzPWeZ5T4AAIA/q+1qP6jGqz44hMI+AACAP2Tqnj7sv449KGT3PgAAgD+KAl0/7USRPnwm0z4AAIA/f9xKP5Maej5bJOU+AACAP5rMWD5T63095ljWPgAAgD8h5Wc9968sPfd2Kz4AAIA/msxYPlPrfT3mWNY+AACAP5Sgvzp2UfQ5OC5jPAAAgD/UgRw+jpGMPabSrz4AAIA/ga98P+HOfT9/3z8/AACAPzV9Nj7/WIg9bk3CPgAAgD/tZbs+jPa4PZ30/j4AAIA/jSRhP7Kdlz58Zc4+AACAP48Afj+IZhY/bAbQPgAAgD+5/co+Sb7SPTKuAD8AAIA/5EgDPzy8Fz449QE/AACAP1WFfj/rOVk/5Q4bPwAAgD8n+tw9EsKDPRvaiD4AAIA/f01WPTxpIT03pyI+AACAP/nzPT/PZmU+/BzvPgAAgD+hgag+NZebPdOD+j4AAIA/+Gt6P/6b9z6hZ7s+AACAPw==",
        "encoding": "base64",
        "path": [
         "color",
         0,
         "data"
        ]
       },
       {
        "data": "pLQ2QA7oPcCaBKw/kU8vQEUUZ0AxhZa/pSAWv/Jiz7+Z9RTAHBkQP+exFUDB2sU/6/vIP/vp+z90qVC/vYSLPuwfDsBSnbA+etRtP+G4Ij5yHTlAvxiOPznDaL+Z3RdAojSmvw4oOMD9vP0/XG3qP2Vrlr/Eyxm+8nw7PztQkL8MQcQ9WHKwvxJ8gsD2+cK/YysawF+FUcBV5tu+4ADQvxAJwT+Mh7E8ukbpvsT/Ub9Rpq+/c3AYvtVjxb+rYpLAFZvcvOpPBr4Ii7u/jFasvw==",
        "encoding": "base64",
        "path": [
         "x",
         0,
         "data"
        ]
       },
       {
        "data": "IOa5vzEZtD7Oi5k+67ISQDRYCMD+ikdADBPvP4y1IcAvXQTAzYOkv1puwz+OfOO/o2iUv+gmA8BPblw/WZ+QwMa8wj6qg11Av4PMv6lb0z+cEqK+0FYOQK3oij83LDC/yCtAv5rd+D+NV4lAqIIaP91LYUB8bpu/fmkFv640BkCDk5A/WxXAvkDdz77S6RhAlmoLQGM15r9/GV7AKkmPP0qZsD8HlYG+tj0kwNHZE79u+Dg/4qSYv5MeGT/JJUq/3CZLQFo7ir7AKs0/HT5xPw==",
        "encoding": "base64",
        "path": [
         "y",
         0,
         "data"
        ]
       },
       {
        "data": "wWMRwMj+Oz+bBJ2/3P3Vv+Q74b8rHwg/2MIAwBxk6b4F64U+WBEKP6VPBr9sMhhAzzgPwLlDCb2poJU/FqQivyMUOEDy6pu//K4JvA92uD/xrpo/U2oGQHaiKEB1EPE/SPOyP5sV2T4hobQ/ZqbMv6m0ir/ZZjFATnn8P2tcib+G8/2/E7EQvX8xDUCrJDlAS/EHOt45Nb+PSr++xd0swB3mCEDkZk5Ac2JfvnQqLr+KqKa/zNmEv1J5KsAn4di/WbfuvtfsOsC8DGu/Fg6pPg==",
        "encoding": "base64",
        "path": [
         "z",
         0,
         "data"
        ]
       }
      ],
      "model_module": "ipyvolume",
      "model_module_version": "~0.6.0-alpha.2",
      "model_name": "ScatterModel",
      "state": {
       "_model_module_version": "~0.6.0-alpha.2",
       "_view_module_version": "~0.6.0-alpha.2",
       "aux": null,
       "aux_scale": null,
       "color": [
        {
         "dtype": "float32",
         "shape": [
          52,
          4
         ]
        }
       ],
       "geo": "sphere",
       "line_material": "IPY_MODEL_82684f7f23074bcbbcc9ac773239d3b0",
       "material": "IPY_MODEL_a6c9f6b35ce14dd1b19db17ecbadb242",
       "size": 2,
       "size_selected": 2.6,
       "size_x_scale": null,
       "size_y_scale": null,
       "size_z_scale": null,
       "texture": null,
       "vx": null,
       "vy": null,
       "vz": null,
       "x": [
        {
         "dtype": "float32",
         "shape": [
          52
         ]
        }
       ],
       "y": [
        {
         "dtype": "float32",
         "shape": [
          52
         ]
        }
       ],
       "z": [
        {
         "dtype": "float32",
         "shape": [
          52
         ]
        }
       ]
      }
     },
     "259d89a679ca4ea0b297db3d22085e15": {
      "model_module": "@jupyter-widgets/controls",
      "model_module_version": "1.5.0",
      "model_name": "HTMLModel",
      "state": {
       "layout": "IPY_MODEL_5dfb650e62ce4343b1b1035d500a61a9",
       "style": "IPY_MODEL_b395ee5881e746dcb053e4942fd32d91",
       "value": " 119/119 [00:00&lt;00:00, 3201.59it/s]"
      }
     },
     "2a288180213648bba5322e0d2981b19c": {
      "model_module": "@jupyter-widgets/base",
      "model_module_version": "1.2.0",
      "model_name": "LayoutModel",
      "state": {}
     },
     "2d0bd104f7ae47399eabcbf6087f20ba": {
      "model_module": "@jupyter-widgets/base",
      "model_module_version": "1.2.0",
      "model_name": "LayoutModel",
      "state": {}
     },
     "3760494d51bf437d9bd54c0bdbcbdd9c": {
      "model_module": "@jupyter-widgets/controls",
      "model_module_version": "1.5.0",
      "model_name": "HBoxModel",
      "state": {
       "children": [
        "IPY_MODEL_c0037af294fa414c967f7bcc1d088a04",
        "IPY_MODEL_f3146dbdfecb49a0ba7f544da8f3ed7f"
       ],
       "layout": "IPY_MODEL_1514c956c7a54e0abda62f107d0c7da6"
      }
     },
     "3c49dd7bf1a5486da91944865c03a03d": {
      "model_module": "@jupyter-widgets/controls",
      "model_module_version": "1.5.0",
      "model_name": "LinkModel",
      "state": {
       "source": [
        "IPY_MODEL_ec9d02673d8a4ebba07c196e3b338ca7",
        "autoRotate"
       ],
       "target": [
        "IPY_MODEL_209bab1066944c20ae719dc82d360303",
        "value"
       ]
      }
     },
     "3ea1c7f0bedc4a3397fe53f583e5c5c0": {
      "model_module": "@jupyter-widgets/controls",
      "model_module_version": "1.5.0",
      "model_name": "ProgressStyleModel",
      "state": {
       "description_width": "initial"
      }
     },
     "417a1887d214470ea938bb39d708315e": {
      "model_module": "bqplot",
      "model_module_version": "^0.5.6",
      "model_name": "LinearScaleModel",
      "state": {
       "max": 5,
       "min": -5,
       "stabilized": false
      }
     },
     "4296648c90b049f387c202479585f306": {
      "model_module": "@jupyter-widgets/base",
      "model_module_version": "1.2.0",
      "model_name": "LayoutModel",
      "state": {}
     },
     "5dfb650e62ce4343b1b1035d500a61a9": {
      "model_module": "@jupyter-widgets/base",
      "model_module_version": "1.2.0",
      "model_name": "LayoutModel",
      "state": {}
     },
     "5f5fb4f0fde0487bb867808475bebbc3": {
      "model_module": "@jupyter-widgets/controls",
      "model_module_version": "1.5.0",
      "model_name": "DescriptionStyleModel",
      "state": {
       "description_width": ""
      }
     },
     "70b5cebe4889452c96d184920f9e03c0": {
      "model_module": "@jupyter-widgets/controls",
      "model_module_version": "1.5.0",
      "model_name": "ProgressStyleModel",
      "state": {
       "description_width": "initial"
      }
     },
     "724e8a8d7134415ebe87eafdce5da082": {
      "model_module": "ipyvolume",
      "model_module_version": "~0.6.0-alpha.2",
      "model_name": "FigureModel",
      "state": {
       "_model_module_version": "~0.6.0-alpha.2",
       "_view_module_version": "~0.6.0-alpha.2",
       "camera": "IPY_MODEL_7adacbb2255f488f9fdd638ee2518c63",
       "controls": "IPY_MODEL_ec9d02673d8a4ebba07c196e3b338ca7",
       "height": 500,
       "layout": "IPY_MODEL_8f116cffe3194b36993209b5dca476a9",
       "matrix_projection": [
        3.0177669529663684,
        0,
        0,
        0,
        0,
        2.414213562373095,
        0,
        0,
        0,
        0,
        -1.00010000500025,
        -1,
        0,
        0,
        -0.200010000500025,
        0
       ],
       "matrix_world": [
        9.300302698347748e-19,
        0.09999999999999998,
        4.4399181374769954e-17,
        0,
        0.0020942419883355867,
        -2.173457555246759e-17,
        0.09997806834748453,
        0,
        0.09997806834748453,
        2.266460582230236e-17,
        -0.0020942419883355646,
        0,
        -5.551115123125779e-16,
        4.4408920984998624e-16,
        -1.999999999999657,
        1
       ],
       "meshes": [],
       "render_continuous": true,
       "scales": {
        "x": "IPY_MODEL_c2d28df0c9834e2eb465f8e8b269fdcf",
        "y": "IPY_MODEL_f56b6d68f2c14c279a946ae2794cde8d",
        "z": "IPY_MODEL_417a1887d214470ea938bb39d708315e"
       },
       "scatters": [
        "IPY_MODEL_234997c30199443f8b9d5785756bcdfe"
       ],
       "scene": "IPY_MODEL_a81c7aa4feb8461c963531270f4184ab",
       "style": {
        "axes": {
         "color": "white",
         "label": {
          "color": "white"
         },
         "ticklabel": {
          "color": "white"
         },
         "visible": false
        },
        "background-color": "white",
        "box": {
         "visible": false
        }
       },
       "volumes": [],
       "width": 400
      }
     },
     "7556f124d80f44c08bbc3ed6cf1a6794": {
      "model_module": "@jupyter-widgets/controls",
      "model_module_version": "1.5.0",
      "model_name": "VBoxModel",
      "state": {
       "children": [
        "IPY_MODEL_724e8a8d7134415ebe87eafdce5da082"
       ],
       "layout": "IPY_MODEL_c31c4fc3b59d431cacf7b601929d2cfc"
      }
     },
     "7adacbb2255f488f9fdd638ee2518c63": {
      "model_module": "jupyter-threejs",
      "model_module_version": "^2.1.0",
      "model_name": "PerspectiveCameraModel",
      "state": {
       "_view_module": null,
       "_view_module_version": "",
       "aspect": 0.8,
       "focus": 1.9999999999996574,
       "fov": 45,
       "matrix": [
        -2.220446049250313e-16,
        0.020942419883355656,
        0.9997806834748457,
        0,
        1.0000000000000002,
        -4.440892098500626e-16,
        0,
        0,
        2.220446049250313e-16,
        0.9997806834748457,
        -0.02094241988335588,
        0,
        0,
        1.9995613669493486,
        -0.04188483976670402,
        1
       ],
       "matrixWorld": [
        -2.220446049250313e-16,
        0.020942419883355656,
        0.9997806834748457,
        0,
        1.0000000000000002,
        -4.440892098500626e-16,
        0,
        0,
        2.220446049250313e-16,
        0.9997806834748457,
        -0.02094241988335588,
        0,
        0,
        1.9995613669493486,
        -0.04188483976670402,
        1
       ],
       "matrixWorldInverse": [
        9.300302698347746e-18,
        0.9999999999999998,
        4.439918137476995e-16,
        0,
        0.020942419883355868,
        -2.1734575552467587e-16,
        0.9997806834748453,
        0,
        0.9997806834748453,
        2.2664605822302357e-16,
        -0.020942419883355646,
        0,
        -5.551115123125779e-16,
        4.4408920984998624e-16,
        -1.999999999999657,
        1
       ],
       "position": [
        0,
        1.9995613669493486,
        -0.04188483976670402
       ],
       "projectionMatrix": [
        3.0177669529663684,
        0,
        0,
        0,
        0,
        2.414213562373095,
        0,
        0,
        0,
        0,
        -1.00010000500025,
        -1,
        0,
        0,
        -0.200010000500025,
        0
       ],
       "quaternion": [
        0.5052084767408788,
        0.5052084767408787,
        0.4947366926246336,
        -0.4947366926246335
       ],
       "rotation": [
        -1.5917402778188274,
        2.220446049250313e-16,
        -1.5707963267948968,
        "XYZ"
       ],
       "up": [
        1,
        0,
        0
       ]
      }
     },
     "82684f7f23074bcbbcc9ac773239d3b0": {
      "model_module": "jupyter-threejs",
      "model_module_version": "^2.1.0",
      "model_name": "ShaderMaterialModel",
      "state": {
       "_view_module": null,
       "_view_module_version": ""
      }
     },
     "84e24b9376b44aff93d57fad554e4a96": {
      "model_module": "@jupyter-widgets/base",
      "model_module_version": "1.2.0",
      "model_name": "LayoutModel",
      "state": {}
     },
     "8f116cffe3194b36993209b5dca476a9": {
      "model_module": "@jupyter-widgets/base",
      "model_module_version": "1.2.0",
      "model_name": "LayoutModel",
      "state": {}
     },
     "a6c9f6b35ce14dd1b19db17ecbadb242": {
      "model_module": "jupyter-threejs",
      "model_module_version": "^2.1.0",
      "model_name": "ShaderMaterialModel",
      "state": {
       "_view_module": null,
       "_view_module_version": ""
      }
     },
     "a81c7aa4feb8461c963531270f4184ab": {
      "model_module": "jupyter-threejs",
      "model_module_version": "^2.1.0",
      "model_name": "SceneModel",
      "state": {
       "_view_module": null,
       "_view_module_version": "",
       "background": null
      }
     },
     "ac02e9a3fddf4bf9a5e87503f2fb77b7": {
      "model_module": "@jupyter-widgets/base",
      "model_module_version": "1.2.0",
      "model_name": "LayoutModel",
      "state": {}
     },
     "accdca9bffda47b8b76155ad8c00ad7b": {
      "model_module": "@jupyter-widgets/base",
      "model_module_version": "1.2.0",
      "model_name": "LayoutModel",
      "state": {}
     },
     "b395ee5881e746dcb053e4942fd32d91": {
      "model_module": "@jupyter-widgets/controls",
      "model_module_version": "1.5.0",
      "model_name": "DescriptionStyleModel",
      "state": {
       "description_width": ""
      }
     },
     "b53e4be2990e403e98e155e43d8ace51": {
      "model_module": "@jupyter-widgets/controls",
      "model_module_version": "1.5.0",
      "model_name": "ProgressStyleModel",
      "state": {
       "description_width": "initial"
      }
     },
     "c0037af294fa414c967f7bcc1d088a04": {
      "model_module": "@jupyter-widgets/controls",
      "model_module_version": "1.5.0",
      "model_name": "FloatProgressModel",
      "state": {
       "bar_style": "success",
       "description": "Drawing distances: 100%",
       "layout": "IPY_MODEL_2a288180213648bba5322e0d2981b19c",
       "max": 119,
       "style": "IPY_MODEL_3ea1c7f0bedc4a3397fe53f583e5c5c0",
       "value": 119
      }
     },
     "c2d28df0c9834e2eb465f8e8b269fdcf": {
      "model_module": "bqplot",
      "model_module_version": "^0.5.6",
      "model_name": "LinearScaleModel",
      "state": {
       "max": 5,
       "min": -5,
       "stabilized": false
      }
     },
     "c31c4fc3b59d431cacf7b601929d2cfc": {
      "model_module": "@jupyter-widgets/base",
      "model_module_version": "1.2.0",
      "model_name": "LayoutModel",
      "state": {}
     },
     "cf2cea0974f54eb780d1b15db4178d31": {
      "model_module": "@jupyter-widgets/controls",
      "model_module_version": "1.5.0",
      "model_name": "FloatProgressModel",
      "state": {
       "bar_style": "success",
       "description": "samping detection probability: 100%",
       "layout": "IPY_MODEL_ac02e9a3fddf4bf9a5e87503f2fb77b7",
       "max": 119,
       "style": "IPY_MODEL_70b5cebe4889452c96d184920f9e03c0",
       "value": 119
      }
     },
     "dd17d4be6d4c42dba2cd6c5a3e03f2ba": {
      "model_module": "@jupyter-widgets/controls",
      "model_module_version": "1.5.0",
      "model_name": "DescriptionStyleModel",
      "state": {
       "description_width": ""
      }
     },
     "dd45057520f34add89994d8fe8d23e60": {
      "model_module": "@jupyter-widgets/controls",
      "model_module_version": "1.5.0",
      "model_name": "DescriptionStyleModel",
      "state": {
       "description_width": ""
      }
     },
     "ec9d02673d8a4ebba07c196e3b338ca7": {
      "model_module": "jupyter-threejs",
      "model_module_version": "^2.1.0",
      "model_name": "OrbitControlsModel",
      "state": {
       "_view_module": null,
       "_view_module_version": "",
       "autoRotate": true,
       "controlling": "IPY_MODEL_7adacbb2255f488f9fdd638ee2518c63",
       "maxAzimuthAngle": "inf",
       "maxDistance": "inf",
       "maxZoom": "inf",
       "minAzimuthAngle": "-inf"
      }
     },
     "f1d80e773d5e42cc8f6cd87d2b4b7901": {
      "model_module": "@jupyter-widgets/base",
      "model_module_version": "1.2.0",
      "model_name": "LayoutModel",
      "state": {}
     },
     "f2ba76e7d83b492c8b95f45c5e351c6f": {
      "model_module": "@jupyter-widgets/controls",
      "model_module_version": "1.5.0",
      "model_name": "HTMLModel",
      "state": {
       "layout": "IPY_MODEL_05027aaa998c4db99a12a9e8fcbfd6ef",
       "style": "IPY_MODEL_dd17d4be6d4c42dba2cd6c5a3e03f2ba",
       "value": " 119/119 [00:00&lt;00:00, 1746.94it/s]"
      }
     },
     "f3146dbdfecb49a0ba7f544da8f3ed7f": {
      "model_module": "@jupyter-widgets/controls",
      "model_module_version": "1.5.0",
      "model_name": "HTMLModel",
      "state": {
       "layout": "IPY_MODEL_f1d80e773d5e42cc8f6cd87d2b4b7901",
       "style": "IPY_MODEL_5f5fb4f0fde0487bb867808475bebbc3",
       "value": " 119/119 [00:00&lt;00:00, 3221.43it/s]"
      }
     },
     "f56b6d68f2c14c279a946ae2794cde8d": {
      "model_module": "bqplot",
      "model_module_version": "^0.5.6",
      "model_name": "LinearScaleModel",
      "state": {
       "max": 5,
       "min": -5,
       "stabilized": false
      }
     },
     "f8cd71ced70a43e2ac8409ba56ddce54": {
      "model_module": "@jupyter-widgets/controls",
      "model_module_version": "1.5.0",
      "model_name": "FloatProgressModel",
      "state": {
       "bar_style": "success",
       "description": "Drawing distances: 100%",
       "layout": "IPY_MODEL_2d0bd104f7ae47399eabcbf6087f20ba",
       "max": 119,
       "style": "IPY_MODEL_b53e4be2990e403e98e155e43d8ace51",
       "value": 119
      }
     }
    },
    "version_major": 2,
    "version_minor": 0
   }
  }
 },
 "nbformat": 4,
 "nbformat_minor": 2
}
