{
 "cells": [
  {
   "cell_type": "markdown",
   "metadata": {},
   "source": [
    "# Introduction\n",
    "\n",
    "![Logo](https://raw.githubusercontent.com/grburgess/popsynth/master/external/logo.png)\n",
    "\n",
    "This framework provides an abstract way to generate populations from various luminosity functions and redshift distributions. Additionally, auxiliary quantities can be sampled and stored.\n",
    "\n",
    "\n",
    "Populations can be saved and restored via an HDF5 files for later use.\n",
    "\n",
    "Note that this is *not* **Synth Pop**. If you were expecting that... I suggest you check out Depeche Mode. \n"
   ]
  }
 ],
 "metadata": {
  "kernelspec": {
   "display_name": "popsynth",
   "language": "python",
   "name": "popsynth"
  },
  "language_info": {
   "codemirror_mode": {
    "name": "ipython",
    "version": 3
   },
   "file_extension": ".py",
   "mimetype": "text/x-python",
   "name": "python",
   "nbconvert_exporter": "python",
   "pygments_lexer": "ipython3",
   "version": "3.7.7"
  }
 },
 "nbformat": 4,
 "nbformat_minor": 2
}
