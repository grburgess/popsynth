{
 "cells": [
  {
   "cell_type": "markdown",
   "metadata": {},
   "source": [
    "# Custom populations\n",
    "\n",
    "Custom populations can be created either by piecing together existing populations (spatial and luminosity populations) or building them from scratch with distributions.\n",
    "\n",
    "**popsynth** comes loaded with many combinations of typical population distributions. However, we demonstrate here how to create your own."
   ]
  },
  {
   "cell_type": "markdown",
   "metadata": {},
   "source": [
    "## Creating distributions\n",
    "\n",
    "The population samplers rely on distributions. Each population has an internal spatial and luminosity distribution. For example, lets look at a simple spatial distribution:\n"
   ]
  },
  {
   "cell_type": "code",
   "execution_count": 1,
   "metadata": {
    "ExecuteTime": {
     "end_time": "2020-03-31T18:06:01.277753Z",
     "start_time": "2020-03-31T18:05:59.861338Z"
    }
   },
   "outputs": [
    {
     "name": "stderr",
     "output_type": "stream",
     "text": [
      "/Users/jburgess/coding/projects/popsynth/popsynth/distribution.py:7: TqdmExperimentalWarning: Using `tqdm.autonotebook.tqdm` in notebook mode. Use `tqdm.tqdm` instead to force console mode (e.g. in jupyter console)\n",
      "  from tqdm.autonotebook import tqdm as progress_bar\n"
     ]
    }
   ],
   "source": [
    "%matplotlib notebook\n",
    "\n",
    "import numpy as np\n",
    "import matplotlib.pyplot as plt\n",
    "from jupyterthemes import jtplot\n",
    "jtplot.style(context='notebook', fscale=1, grid=False)\n",
    "green = \"#1DEBA6\"\n",
    "red = \"#FF0059\"\n",
    "yellow = \"#F6EF5B\"\n",
    "\n",
    "\n",
    "import popsynth\n",
    "\n",
    "import warnings\n",
    "warnings.simplefilter('ignore')"
   ]
  },
  {
   "cell_type": "code",
   "execution_count": 2,
   "metadata": {
    "ExecuteTime": {
     "end_time": "2020-03-31T18:06:01.286741Z",
     "start_time": "2020-03-31T18:06:01.280147Z"
    }
   },
   "outputs": [],
   "source": [
    "from popsynth.distribution import SpatialDistribution\n",
    "\n",
    "\n",
    "class SphericalDistribution(SpatialDistribution):\n",
    "    def __init__(self, seed=1234, form=None,):\n",
    "\n",
    "        \n",
    "         # the latex formula for the ditribution\n",
    "        form = r\"4 \\pi r2\"\n",
    "        \n",
    "        # we do not need a \"truth\" dict here because\n",
    "        # there are no parameters\n",
    "        \n",
    "        super(SphericalDistribution, self).__init__(\n",
    "         seed=seed, name='sphere', form=form,\n",
    "        )\n",
    "\n",
    "    def differential_volume(self, r):\n",
    "\n",
    "        # the differential volume of a sphere\n",
    "        return 4 * np.pi * r * r\n",
    "\n",
    "    def transform(self, L, r):\n",
    "\n",
    "        # luminosity to flux\n",
    "        return L / (4.0 * np.pi * r * r)\n",
    "    \n",
    "    def dNdV(self, r):\n",
    "        \n",
    "        # define some crazy change in the number/volume for fun\n",
    "        \n",
    "        return 10./(r+1)**2\n"
   ]
  },
  {
   "cell_type": "markdown",
   "metadata": {},
   "source": [
    "We simply define the differential volume and how luminosity is transformed to flux in the metric. Here, we have a simple sphere out to some *r_max*. We can of course subclass this object and add a normalization.\n",
    "\n",
    "\n",
    "Now we define a luminosity distribution."
   ]
  },
  {
   "cell_type": "code",
   "execution_count": 3,
   "metadata": {
    "ExecuteTime": {
     "end_time": "2020-03-31T18:06:01.296187Z",
     "start_time": "2020-03-31T18:06:01.289332Z"
    }
   },
   "outputs": [],
   "source": [
    "from popsynth.distribution import LuminosityDistribution, DistributionParameter\n",
    "\n",
    "\n",
    "class ParetoDistribution(LuminosityDistribution):\n",
    "    \n",
    "    Lmin = DistributionParameter(default=1, vmin=0)\n",
    "    alpha = DistributionParameter(default=2)\n",
    "    \n",
    "    def __init__(self, seed=1234, name=\"pareto\"):\n",
    "\n",
    "\n",
    "        # the latex formula for the ditribution\n",
    "        lf_form = r\"\\frac{\\alpha L_{\\rm min}^{\\alpha}}{L^{\\alpha+1}}\"\n",
    "        \n",
    "        \n",
    "        super(ParetoDistribution, self).__init__(\n",
    "            seed=seed, name='pareto', form=lf_form,\n",
    "        )\n",
    "\n",
    "    def phi(self, L):\n",
    "        \n",
    "        # the actual function, only for plotting \n",
    "\n",
    "        out = np.zeros_like(L)\n",
    "\n",
    "        idx = L >= self.Lmin\n",
    "\n",
    "        out[idx] = self.alpha * self.Lmin ** self.alpha / L[idx] ** (self.alpha + 1)\n",
    "\n",
    "        return out\n",
    "\n",
    "    def draw_luminosity(self, size=1):\n",
    "        # how to sample the latent parameters\n",
    "        return (np.random.pareto(self.alpha, size) + 1) * self.Lmin\n",
    "        "
   ]
  },
  {
   "cell_type": "markdown",
   "metadata": {},
   "source": [
    "## Creating a population synthesizer\n",
    "\n",
    "Now that we have defined our distributions, we can create a population synthesizer that encapsulated them"
   ]
  },
  {
   "cell_type": "code",
   "execution_count": 4,
   "metadata": {
    "ExecuteTime": {
     "end_time": "2020-03-31T18:06:01.302735Z",
     "start_time": "2020-03-31T18:06:01.298313Z"
    }
   },
   "outputs": [],
   "source": [
    "from popsynth.population_synth import PopulationSynth\n",
    "\n",
    "class MyPopulation(PopulationSynth):\n",
    "    def __init__(self, Lmin, alpha, r_max=5, seed=1234):\n",
    "        \n",
    "        # instantiate the distributions\n",
    "        luminosity_distribution = ParetoDistribution(seed=seed)\n",
    "        \n",
    "        luminosity_distribution.alpha = alpha\n",
    "        luminosity_distribution.Lmin = Lmin\n",
    "        \n",
    "        spatial_distribution = SphericalDistribution(seed=seed)\n",
    "        spatial_distribution.r_max = r_max\n",
    "        \n",
    "        # pass to the super class\n",
    "        super(MyPopulation, self).__init__(         \n",
    "            spatial_distribution=spatial_distribution,\n",
    "            luminosity_distribution=luminosity_distribution,\n",
    "            seed=seed\n",
    "        )"
   ]
  },
  {
   "cell_type": "code",
   "execution_count": 5,
   "metadata": {
    "ExecuteTime": {
     "end_time": "2020-03-31T18:06:01.403710Z",
     "start_time": "2020-03-31T18:06:01.304443Z"
    }
   },
   "outputs": [
    {
     "name": "stdout",
     "output_type": "stream",
     "text": [
      "The volume integral is 768.219980\n"
     ]
    },
    {
     "data": {
      "application/vnd.jupyter.widget-view+json": {
       "model_id": "631949cfd8fe4bfb9b39df14dc12e45a",
       "version_major": 2,
       "version_minor": 0
      },
      "text/plain": [
       "HBox(children=(FloatProgress(value=0.0, description='Drawing distances', max=741.0, style=ProgressStyle(descri…"
      ]
     },
     "metadata": {},
     "output_type": "display_data"
    },
    {
     "name": "stdout",
     "output_type": "stream",
     "text": [
      "\n",
      "Expecting 741 total objects\n",
      "Applying soft boundary\n"
     ]
    },
    {
     "data": {
      "application/vnd.jupyter.widget-view+json": {
       "model_id": "294b2435708f4d9b9a0036e82b8565fd",
       "version_major": 2,
       "version_minor": 0
      },
      "text/plain": [
       "HBox(children=(FloatProgress(value=0.0, description='samping detection probability', max=741.0, style=Progress…"
      ]
     },
     "metadata": {},
     "output_type": "display_data"
    },
    {
     "name": "stdout",
     "output_type": "stream",
     "text": [
      "\n",
      "Deteced 338 objects or to a distance of 9.96\n"
     ]
    }
   ],
   "source": [
    "my_pop_gen = MyPopulation(Lmin=1,alpha=1,r_max=10)\n",
    "\n",
    "population = my_pop_gen.draw_survey(boundary=1.E-2)"
   ]
  },
  {
   "cell_type": "code",
   "execution_count": 6,
   "metadata": {
    "ExecuteTime": {
     "end_time": "2020-03-31T18:06:01.553688Z",
     "start_time": "2020-03-31T18:06:01.405797Z"
    }
   },
   "outputs": [
    {
     "data": {
      "application/vnd.jupyter.widget-view+json": {
       "model_id": "5bae7bc9dfe44a30b780b516dc274de7",
       "version_major": 2,
       "version_minor": 0
      },
      "text/plain": [
       "VBox(children=(Figure(camera=PerspectiveCamera(fov=45.0, position=(0.0, 0.0, 2.0), quaternion=(0.0, 0.0, 0.0, …"
      ]
     },
     "metadata": {},
     "output_type": "display_data"
    }
   ],
   "source": [
    "population.display_obs_fluxes_sphere(cmap='viridis',s=50);"
   ]
  },
  {
   "cell_type": "code",
   "execution_count": null,
   "metadata": {},
   "outputs": [],
   "source": []
  }
 ],
 "metadata": {
  "kernelspec": {
   "display_name": "popsynth",
   "language": "python",
   "name": "popsynth"
  },
  "language_info": {
   "codemirror_mode": {
    "name": "ipython",
    "version": 3
   },
   "file_extension": ".py",
   "mimetype": "text/x-python",
   "name": "python",
   "nbconvert_exporter": "python",
   "pygments_lexer": "ipython3",
   "version": "3.7.7"
  },
  "widgets": {
   "application/vnd.jupyter.widget-state+json": {
    "state": {
     "0061901197694e21a489f735b12995ec": {
      "model_module": "@jupyter-widgets/controls",
      "model_module_version": "1.5.0",
      "model_name": "FloatProgressModel",
      "state": {
       "bar_style": "success",
       "description": "samping detection probability: 100%",
       "layout": "IPY_MODEL_7dcf3f02d0f84ef2add3109651a8d72f",
       "max": 741,
       "style": "IPY_MODEL_b2d6f0d7090d4a00abaf4e3c6e82073c",
       "value": 741
      }
     },
     "093f8181644940dc9f56a2ae43f57508": {
      "model_module": "bqplot",
      "model_module_version": "^0.5.6",
      "model_name": "LinearScaleModel",
      "state": {
       "max": 10,
       "min": -10,
       "stabilized": false
      }
     },
     "0cd267317dcc42ce900c5b298d5bf919": {
      "buffers": [
       {
        "data": "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",
        "encoding": "base64",
        "path": [
         "color",
         0,
         "data"
        ]
       },
       {
        "data": "V4kSwG+Lj78fbHy/SYvGvoSA18CVtMs/NVUQQGg0kcAwZtrAvWrxwDVBnT9zwrk/ulxMP4a2nEAsNq6/ErcSQGF5JsAvSbPAAd+OwIXo8z8KCIhAaGV8wIccvD8S4Zw+15J4wGVOpD8qjsE+U5frP6gCEb7qSbtAUs+Nv76a/UBWHYbA4oI5vxyNkz72iYbAsRurvxA0dj6yNyK/6F08wA8JFsAnizE+4cSFwJK7GECbmZHA4OroP/HSssA4n6g92Xktv96dr7/VPrXABRuawFmAlb0uQpM/6yAvQEC63L/TnZq/kwkpwJWKoj+ZnqQ91LAnvxu8ar8hveK+xIXZv0btGMCYWfFAnkAGvSLYwL83UOm/pyYbQAwztT+ci5HATYinv9vXlr0YxopALEhmv4thqUCO5jK/YyuHvjs3jz+o4IY//K/APoC+CEH3ZHZAPvq8QL+r0cAkVPK+TvfgP9yG6j1eNfhAhjuGwF+Thr9xvDfAoCjvv4HRxD8r3Iu/EfJnPkeZvb02+QM/XeWrQKgOuj+UkiTAqQOdv/1ZfkCf5o9A+22Iv7JUt8CVcyzAADFAwDccST/ArwHAulHmP+1FBEBQQP8/EDoEQTT3vb9oZV3ADPUjQGkKV8CI8l2+13TJP2SpT8AOZQK//ee0PxjVTj+jZ5nAwim2PyWPjUDEPuy+iFceQJHD/r+/UFJAURkxwOdO7MAHc+q+taxbQCU6nD++sURAA5SlP2gcO8B+grNAZ2idQKEuEsAC/bnAOIL3P3JC4j/oA9q/d+aQPnVusT+mSr4/tDFiwKQKh756VWvAu1KZQOQJPz+dSeu/MFI7v1eiJ8BRDGDAqnR3v4YXQECIKKC/4ZN1QO3ocUAIRNa/4GaNQJMdoL/V+qRA13DevTSlhr+Pl8U/gvwKwWmYGECQ/jNAD5DLvmQDCz69ynJAtLLUPmL/iD999y6/XJ4EPpiLE75ENWZAD9twwDg1VEC6DCVAvwqAv35QRb97v+dABnKUP+2sBD40vCG/sWCJv6W5Tz8afoXA4HujvozEPb/eeSTApEg7vmcZsD1sJpbA+OyNv2yck7350oO/RBCWvw04CsEoKoFAugr2vzyiAEBZsVm/tsb8PzlLRcCqo8O/DnyDvyq/N7+95+HA3SOfPzvSDr+mNK/ALsJcwO9E5EDlexy+7AsiQL6f7z8NdDrAEGVnQACTej4puJe/qiDzQOk6M76uo4u+hiQQQQzsMb8gBOtA53mVQGMlMsB70tM+J2zwwJKrCUBuBjrAKQAlv5Qjp76lepTAHeRQwGezfMANNS7AU10cPqXTlkBBtDHAZvrEQJBlOz81tlFAlW7DQKF/lkADgXnAdkPlvudcyMBm95o/gGBdQIYwTsB8yZxAG/Lxv75qOT485KO9ckLrvt2UaUCiv9w9WV57P4uxM8AdX9LAEN04wN9zSz7j/Zg/wdW3wMV8kb9jgMo/LPEjQDReHcCi0ow/TcitwNgmEMDa23i96TdLQFaqBcBsD5XAzNKdwPH80T+TnqnAuKolwEasYj6xpZTAwTQTviYcHT8kYSfAVXmLQDkxaEBXS1m+3f4TQEdPpsBAQAg+jya4P/vtUT8376hAId9sv0+1psBdk46/c6m3vS9U/0CvUai/7Pzav3M3o8AxmrK/rG4BwRlI1kCjCitABb34PVn7hL8Wo+k/uTF4P6u8bsCqsPI/02iMPjSmST8uDbE+4+/nvj+WqL84wZg+i5uSQIvp/z/lfAzBOFLTQKLIsr+MFoFAe+KHvZ7qisAmUgpBXp8NwMhP4T8=",
        "encoding": "base64",
        "path": [
         "x",
         0,
         "data"
        ]
       },
       {
        "data": "KZUWwEqujMAwsbRA6+mLv8WCRb6Gf0BAbaWjwEgUkb9LVoXAf5+uQJoGoD7C3I8/V3bPPoOC7sBG3Yg/m0l+QGmVEkBZZ7XAr8JUQHHQ3rzMzP3AafNkwMxnkb5ZlOS+VhGYvxMcsD5CwEpAbYj/P+4Fhj98zWxAskaCwJy9fcAn+wFBC5NevwtRh8CQ4IfAPXi8QC1jWEBIYRDBFpZ7QP/pT7813A5AEFqIQPS/IsCoKgdBin8qvxky5kBPxdG+5iQ0wGTmr8Dm3G8+KrEhwHxDR8AOxrBAVb4dQJ2pQj5EJ3FA4tzLvyduhsDCNsm/d9eyvpKsCkAW7IC+F92UwLM8Bz80iYvA/nU6vibpJUCnbhnAqqWKv7gBhkBthcK+joGtQBj4IL/99BVAmMiwvrB5lT9VVrpAZPofPyUxlL/ZOrS/VwjfPQRwib+vdbQ/oXYEwLMWa8DP04M+Ylafv8+U/L7yU3zAncnaQKjusMCKZ5NAJbddwEhgPL8WHZA+8yrhv5mybL8qI+++dlYbwDdE0L5gfIFAdRdHwDMl3D64y+LA4RuEP+n/cD+4TVbAQsfbP8LiqD+Z92VAnbwowN8TREBrTWdAq5BBQInbSUA15lNAX4J0v+avnL+V8iY+tuoIP7ZUqD825Kk/fTv2P/ySIsDkJ6TAI1ggwLJ1i8AaZvA/ejIdv/DJb8D3tJvA/CSfwAgkzL+OlPG/4p+mP+6RBsEKTa3APiPKPze3i8BNipxAHlbkP6axMMCphjJAhdybP8aF3j5pXf+/B9KEPw9vHkANi+4/7BUGQMI5pT+Dfzi+wAuCQD1DdD90h4tAKkehwMqy179yoas/xfnJQGlo70BlveM/9TELwUgBjMAB6SBA6Y8MQFJCMEDUDKnAB3xIv9EUbD8g8lFAYktQQIf55kCsYtm/1y2Rv85/D8FzZC9AqTPHvzuz3b5MUKY/+W+jvrb3Jj/lfnBAALElPYtGBL8Uvr7A6SZfPn8rmD5ZRXJALmPtvuMDd8DqFQdA7Ot2QJe+CT8Ul5BAgaZTwMhT3T+9M6/Ajb8Bv6/3mUCcyz6/kkD0v22ddj9yLnm9/UQDwMzdDMBBhBtAr4dfv1uqX0AFmFXAX4KNwD0SbMBKtu7Ae8gFPsHRkMARsMPAMxvAvuVG0j+FfXC/cBXJQI6wXECAOKNAdYW0P2PB4cCshhXAbir9QIUZy8AxfKO/kFbJwDg6NsDyTty+KrRyv3VLhr/p8YzAG+RZv1GEHsAHXpw/hUxZP+wF/r9eB4rARudpvwReg793Akg/WnRsQL8WaEACwkY/qXRWv5hFbz4cHDPAdyFYv9QpSD8Nwz9A9R+uQCpaTcD7sNI/C4evPlWJrj+jDDdA813nv0TpI797b1vAnLrsviusXb+xv3lAmqetvw0IN0CnpZlAl+sCwKtIeMD95QdAAHJRQKb0dD+JTaZAH2qVv7rA5782Va6/INeTv6cc08B8/JK+KLhrQPE4e78mZjW/44GDwOtIPcATiMlAFbGpP1bnFz3TOps/l0hDQNiS7b8RXMfA+2+jP4aCOL5ZNjLAI5YaQHriV8AZlJ6/ZLiovxjNHcBIjifAUIVLv6E/dcC6HILA/fxtPkxtL8APcrS/A6O5P5bGjL+OC5xAHgAxPoB5RUAnupW/DUuawDq2EsDsVVhAp/wKP5wn+kCL4E3AiFi0wA+M6L/Y9KzA96CcvqNoMr4k5Nk/Nw+5PybPxz9XCYDAtgg9PzEKtUDcWq8/XUISQONunkBf2nnAZmyIP5kA8cAFSZfAtpknwKNQgz8=",
        "encoding": "base64",
        "path": [
         "y",
         0,
         "data"
        ]
       },
       {
        "data": "eE3kwJb8B8DYXq1A4k+3v32Xyr6dZ4PAaAgIPyjO7L9raozAqCxbwMrQw0Aniy2/7y1Kv2h9mr95Ux1AL7aBQOAqkEDWSvK/wZ60PtQlrz5Db00+N9YvwCKkaD5PSca9ZSeJQMq2Mb5BNnS/HcuSvgz1cz53PmlA4w2yQDybUj9q1FXAe2DoQM4BIsDV4ndAD6GDQPZXHD+pLDBAMgmnQKMpaMAOex/AJMg1wOi/ob+ZmglAcEphvwzu/L8Q8Ry9xmgrvxWFocB26lZAE/WRv/dJY8Ca5WDAwkRpwO6bH77YqbjADUCWPwACbcCUP6q9NTMvQPSHmsA/VJi+VEe5v2suC0DDRVM/mOWvP4m+wEDIsnnAA2eCPqFIw8DBwGw+gMCTwDOcgr+jtLzAgGnswBW6icBoszLA4F4DwNL0Ub8xNDnAPrQCQCsmmz+jYBw+xWfSvwpkaMDC2qg++XWOv1yUgMDj10vAngGUvyfb1j8NWVlAsMvRQDqnxz7b1BS9ujpEP+8Chz/M9xw/rQa8wPdnEMD7V4FA9/KKv3bfu0Be6NA/IdKnQIQEAMFVENVAyAFkv0KF1j0S1ANAsq3OwN+Y47876BFAqokyQHLSwz+4W+zA1FPWPz+rzsDtaBS/y8+jPq5Uyz9JBi9A1DOGwPivVL8RSBy/qlBUwO9n28DsSdzAvnIlP4EijsAVd1Y/7nYRwHAaukBtyNg+Mc4HQQTdacB6kRNAvU8LwMXWMsCkMG1A5tnEvwqPcj/PFiQ/PDkDP4+yvb/yqr2/IySvPo2V8L8+nXnATIGkQLQ/DkAW89S/zOCKQIKlgcCM2wtBlnquvz+Q+j+UqLy/rF2+QLRMkj9qIV7AykRHP2KYxr+Eh19AbOFJQF1kkkAxihdAnIr5PLggMsDrJNy9xaeIvyext7/mJVi//79mQLFtikBQswBBkPqYP2KirL/4f4G/MfIxvsq/9r15i7vAatihQGbQFEAwY9vAuacVP+WVlsD0zJfAUzWcvi3dS0ChCbk+de78P5HZAUCrcbDAymkrwGtK00AZDzzATpo0viv3ID++j9A/VVb3vzEBb8D3GJW+AS+dPih8cr8LD1HAmjn3P83aFUCWuwq/rGBjP+Dl2b+xwzBAQm0DQJE7VcDZ7TLAabqvQDeDnj9LYzRAocyYP7N45r/rCL1AK4MVvdiaub+JKcK/UthEQCVyuD8P/oO/NXiXv0LP3T1ZeSfASzg7PwvwmL/yf0fA58x8QAgtrMDb8/C/e5duwFyhzL8VjG9AFMTMv2Iisb4qe4LA23xiv38nar9Gkw1Ar/cAwPh9YT8g/VLAmmzZQCgcaD/HSqtAgQ+jwEIxqEDFkPjAxYf4P7bmi8DOiARBJQOGv0KIh8A2kU2/FNimPnbBncAQtUzAfTE2P44oY8DGwatAalraQJCItUBxjN1AiL5mQE1lTL5Qer2+eSVAv31Rsb8lXuu/PsIhQMINIr9c766/7WNEwJrsPr+3M3S/nMlMQCju08CKx0k/MTmfv6Wms8Dj8Bs/c+tHwNG2o8BMiai/SEnEvtlxnsBeZUnALOwjQDLl0T8hEik/FAAYQDJ+db9rVdE7G7jLP7CnWT/mgxQ/zyivvtqZtMC1Tq4/JP7oP/J6dMD2RqnADNoEwG7C9EBf2JG+a49DwGEq670dgpK/01wHv8w/McBBk4pAgrp4v/Hp77/83xE/shnQPbplMT92+yTAoa6tPnWrpb/bV8+/b/upQF8CnsAc2y9APtOswM8CnUB8pLE/iHcyP2JqLMALuVy/Z+KBv814HT8=",
        "encoding": "base64",
        "path": [
         "z",
         0,
         "data"
        ]
       }
      ],
      "model_module": "ipyvolume",
      "model_module_version": "~0.6.0-alpha.2",
      "model_name": "ScatterModel",
      "state": {
       "_model_module_version": "~0.6.0-alpha.2",
       "_view_module_version": "~0.6.0-alpha.2",
       "aux": null,
       "aux_scale": null,
       "color": [
        {
         "dtype": "float32",
         "shape": [
          338,
          4
         ]
        }
       ],
       "geo": "sphere",
       "line_material": "IPY_MODEL_235066ed593d490db7cb00b15e2467f9",
       "material": "IPY_MODEL_71d9bd2330d2405c9deca686510f8601",
       "size": 2,
       "size_selected": 2.6,
       "size_x_scale": null,
       "size_y_scale": null,
       "size_z_scale": null,
       "texture": null,
       "vx": null,
       "vy": null,
       "vz": null,
       "x": [
        {
         "dtype": "float32",
         "shape": [
          338
         ]
        }
       ],
       "y": [
        {
         "dtype": "float32",
         "shape": [
          338
         ]
        }
       ],
       "z": [
        {
         "dtype": "float32",
         "shape": [
          338
         ]
        }
       ]
      }
     },
     "1018dc908c244c1689d741e0bfb219d5": {
      "model_module": "@jupyter-widgets/base",
      "model_module_version": "1.2.0",
      "model_name": "LayoutModel",
      "state": {}
     },
     "11feb00682394ee588e39f3a0efee7db": {
      "model_module": "@jupyter-widgets/controls",
      "model_module_version": "1.5.0",
      "model_name": "HTMLModel",
      "state": {
       "layout": "IPY_MODEL_1018dc908c244c1689d741e0bfb219d5",
       "style": "IPY_MODEL_caf7f77c26bb4089a23704a4650f4ec6",
       "value": " 741/741 [00:00&lt;00:00, 8126.52it/s]"
      }
     },
     "2292eda655a9426b92cf7063626d6368": {
      "model_module": "@jupyter-widgets/controls",
      "model_module_version": "1.5.0",
      "model_name": "LinkModel",
      "state": {
       "source": [
        "IPY_MODEL_98d96479f66a47bfa581dbbe9b6725af",
        "autoRotate"
       ],
       "target": [
        "IPY_MODEL_e985eae49c8c4eec8f05c53199b19dc8",
        "value"
       ]
      }
     },
     "235066ed593d490db7cb00b15e2467f9": {
      "model_module": "jupyter-threejs",
      "model_module_version": "^2.1.0",
      "model_name": "ShaderMaterialModel",
      "state": {
       "_view_module": null,
       "_view_module_version": ""
      }
     },
     "28da2e1619a44ee7a16c619031129821": {
      "model_module": "@jupyter-widgets/base",
      "model_module_version": "1.2.0",
      "model_name": "LayoutModel",
      "state": {}
     },
     "294b2435708f4d9b9a0036e82b8565fd": {
      "model_module": "@jupyter-widgets/controls",
      "model_module_version": "1.5.0",
      "model_name": "HBoxModel",
      "state": {
       "children": [
        "IPY_MODEL_0061901197694e21a489f735b12995ec",
        "IPY_MODEL_11feb00682394ee588e39f3a0efee7db"
       ],
       "layout": "IPY_MODEL_3f154999379e4b3fbbbf63cf11a77c89"
      }
     },
     "36b915c88663401c86aa3d7f7c512fc8": {
      "model_module": "@jupyter-widgets/base",
      "model_module_version": "1.2.0",
      "model_name": "LayoutModel",
      "state": {}
     },
     "37d957d95f324a339664a42f22032c53": {
      "model_module": "@jupyter-widgets/base",
      "model_module_version": "1.2.0",
      "model_name": "LayoutModel",
      "state": {}
     },
     "3f154999379e4b3fbbbf63cf11a77c89": {
      "model_module": "@jupyter-widgets/base",
      "model_module_version": "1.2.0",
      "model_name": "LayoutModel",
      "state": {}
     },
     "486b0dc8954f490ca863fa68d2ec0b81": {
      "model_module": "@jupyter-widgets/controls",
      "model_module_version": "1.5.0",
      "model_name": "FloatProgressModel",
      "state": {
       "bar_style": "success",
       "description": "Drawing distances: 100%",
       "layout": "IPY_MODEL_37d957d95f324a339664a42f22032c53",
       "max": 741,
       "style": "IPY_MODEL_4ca20cc640ff48c9b6e7321bb1fb23e1",
       "value": 741
      }
     },
     "48a367f5aa9740028e9bd8a81f626fbc": {
      "model_module": "jupyter-threejs",
      "model_module_version": "^2.1.0",
      "model_name": "SceneModel",
      "state": {
       "_view_module": null,
       "_view_module_version": "",
       "background": null
      }
     },
     "4a3429bcc1df47f19b0b76145ee4ce30": {
      "model_module": "@jupyter-widgets/controls",
      "model_module_version": "1.5.0",
      "model_name": "DescriptionStyleModel",
      "state": {
       "description_width": ""
      }
     },
     "4ca20cc640ff48c9b6e7321bb1fb23e1": {
      "model_module": "@jupyter-widgets/controls",
      "model_module_version": "1.5.0",
      "model_name": "ProgressStyleModel",
      "state": {
       "description_width": "initial"
      }
     },
     "5bae7bc9dfe44a30b780b516dc274de7": {
      "model_module": "@jupyter-widgets/controls",
      "model_module_version": "1.5.0",
      "model_name": "VBoxModel",
      "state": {
       "children": [
        "IPY_MODEL_5c8da07e4ebc4352acc78b788bc63b5a"
       ],
       "layout": "IPY_MODEL_df9f41dbfa7d4424821c5d5167d3df10"
      }
     },
     "5c8da07e4ebc4352acc78b788bc63b5a": {
      "model_module": "ipyvolume",
      "model_module_version": "~0.6.0-alpha.2",
      "model_name": "FigureModel",
      "state": {
       "_model_module_version": "~0.6.0-alpha.2",
       "_view_module_version": "~0.6.0-alpha.2",
       "camera": "IPY_MODEL_9afebd87b244454b88cf76163745834a",
       "controls": "IPY_MODEL_98d96479f66a47bfa581dbbe9b6725af",
       "height": 500,
       "layout": "IPY_MODEL_28da2e1619a44ee7a16c619031129821",
       "matrix_projection": [
        3.0177669529663684,
        0,
        0,
        0,
        0,
        2.414213562373095,
        0,
        0,
        0,
        0,
        -1.00010000500025,
        -1,
        0,
        0,
        -0.200010000500025,
        0
       ],
       "matrix_world": [
        -7.63603544495768e-18,
        0.05,
        -9.785977633038453e-18,
        0,
        0.009882867018956257,
        5.4415981422069175e-18,
        0.049013558731086114,
        0,
        0.049013558731086114,
        -1.0972186513753823e-18,
        -0.00988286701895626,
        0,
        -1.6653345369377353e-16,
        -2.220446049249893e-16,
        -1.9999999999996216,
        1
       ],
       "meshes": [],
       "render_continuous": true,
       "scales": {
        "x": "IPY_MODEL_8f54b09159414b0e9fb77825a005312a",
        "y": "IPY_MODEL_093f8181644940dc9f56a2ae43f57508",
        "z": "IPY_MODEL_9d94125a5345460f8bad0906192f6b1d"
       },
       "scatters": [
        "IPY_MODEL_0cd267317dcc42ce900c5b298d5bf919"
       ],
       "scene": "IPY_MODEL_48a367f5aa9740028e9bd8a81f626fbc",
       "style": {
        "axes": {
         "color": "white",
         "label": {
          "color": "white"
         },
         "ticklabel": {
          "color": "white"
         },
         "visible": false
        },
        "background-color": "white",
        "box": {
         "visible": false
        }
       },
       "volumes": [],
       "width": 400
      }
     },
     "631949cfd8fe4bfb9b39df14dc12e45a": {
      "model_module": "@jupyter-widgets/controls",
      "model_module_version": "1.5.0",
      "model_name": "HBoxModel",
      "state": {
       "children": [
        "IPY_MODEL_486b0dc8954f490ca863fa68d2ec0b81",
        "IPY_MODEL_93c45934327843c8abf443a9e44f17e6"
       ],
       "layout": "IPY_MODEL_e8fc105c09f54c3fb00df525ddbade8a"
      }
     },
     "71d9bd2330d2405c9deca686510f8601": {
      "model_module": "jupyter-threejs",
      "model_module_version": "^2.1.0",
      "model_name": "ShaderMaterialModel",
      "state": {
       "_view_module": null,
       "_view_module_version": ""
      }
     },
     "7dcf3f02d0f84ef2add3109651a8d72f": {
      "model_module": "@jupyter-widgets/base",
      "model_module_version": "1.2.0",
      "model_name": "LayoutModel",
      "state": {}
     },
     "8f54b09159414b0e9fb77825a005312a": {
      "model_module": "bqplot",
      "model_module_version": "^0.5.6",
      "model_name": "LinearScaleModel",
      "state": {
       "max": 10,
       "min": -10,
       "stabilized": false
      }
     },
     "93c45934327843c8abf443a9e44f17e6": {
      "model_module": "@jupyter-widgets/controls",
      "model_module_version": "1.5.0",
      "model_name": "HTMLModel",
      "state": {
       "layout": "IPY_MODEL_c4bd391ef954454bb30645d63a4f48a1",
       "style": "IPY_MODEL_f0689a1b27e74ea1850896dbbac4ebd5",
       "value": " 741/741 [00:01&lt;00:00, 372.62it/s]"
      }
     },
     "98d96479f66a47bfa581dbbe9b6725af": {
      "model_module": "jupyter-threejs",
      "model_module_version": "^2.1.0",
      "model_name": "OrbitControlsModel",
      "state": {
       "_view_module": null,
       "_view_module_version": "",
       "autoRotate": true,
       "controlling": "IPY_MODEL_9afebd87b244454b88cf76163745834a",
       "maxAzimuthAngle": "inf",
       "maxDistance": "inf",
       "maxZoom": "inf",
       "minAzimuthAngle": "-inf"
      }
     },
     "9afebd87b244454b88cf76163745834a": {
      "model_module": "jupyter-threejs",
      "model_module_version": "^2.1.0",
      "model_name": "PerspectiveCameraModel",
      "state": {
       "_view_module": null,
       "_view_module_version": "",
       "aspect": 0.8,
       "focus": 1.9999999999996212,
       "fov": 45,
       "matrix": [
        0,
        0.19765734037912513,
        0.980271174621722,
        0,
        1,
        2.220446049250313e-16,
        1.1102230246251565e-16,
        0,
        -1.1102230246251565e-16,
        0.980271174621722,
        -0.19765734037912508,
        0,
        0,
        1.960542349243073,
        -0.3953146807581752,
        1
       ],
       "matrixWorld": [
        0,
        0.19765734037912513,
        0.980271174621722,
        0,
        1,
        2.220446049250313e-16,
        1.1102230246251565e-16,
        0,
        -1.1102230246251565e-16,
        0.980271174621722,
        -0.19765734037912508,
        0,
        0,
        1.960542349243073,
        -0.3953146807581752,
        1
       ],
       "matrixWorldInverse": [
        -1.5272070889915362e-16,
        1,
        -1.9571955266076905e-16,
        0,
        0.19765734037912513,
        1.0883196284413834e-16,
        0.9802711746217222,
        0,
        0.9802711746217222,
        -2.1944373027507645e-17,
        -0.1976573403791252,
        0,
        -1.6653345369377353e-16,
        -2.220446049249893e-16,
        -1.9999999999996216,
        1
       ],
       "position": [
        0,
        1.960542349243073,
        -0.3953146807581752
       ],
       "projectionMatrix": [
        3.0177669529663684,
        0,
        0,
        0,
        0,
        2.414213562373095,
        0,
        0,
        0,
        0,
        -1.00010000500025,
        -1,
        0,
        0,
        -0.200010000500025,
        0
       ],
       "quaternion": [
        0.5471876598524323,
        0.5471876598524325,
        0.4478679101087939,
        -0.4478679101087939
       ],
       "rotation": [
        -1.769763861522249,
        -1.1102230246251565e-16,
        -1.5707963267948966,
        "XYZ"
       ],
       "up": [
        1,
        0,
        0
       ]
      }
     },
     "9d94125a5345460f8bad0906192f6b1d": {
      "model_module": "bqplot",
      "model_module_version": "^0.5.6",
      "model_name": "LinearScaleModel",
      "state": {
       "max": 10,
       "min": -10,
       "stabilized": false
      }
     },
     "b2d6f0d7090d4a00abaf4e3c6e82073c": {
      "model_module": "@jupyter-widgets/controls",
      "model_module_version": "1.5.0",
      "model_name": "ProgressStyleModel",
      "state": {
       "description_width": "initial"
      }
     },
     "c4bd391ef954454bb30645d63a4f48a1": {
      "model_module": "@jupyter-widgets/base",
      "model_module_version": "1.2.0",
      "model_name": "LayoutModel",
      "state": {}
     },
     "caf7f77c26bb4089a23704a4650f4ec6": {
      "model_module": "@jupyter-widgets/controls",
      "model_module_version": "1.5.0",
      "model_name": "DescriptionStyleModel",
      "state": {
       "description_width": ""
      }
     },
     "df9f41dbfa7d4424821c5d5167d3df10": {
      "model_module": "@jupyter-widgets/base",
      "model_module_version": "1.2.0",
      "model_name": "LayoutModel",
      "state": {}
     },
     "e8fc105c09f54c3fb00df525ddbade8a": {
      "model_module": "@jupyter-widgets/base",
      "model_module_version": "1.2.0",
      "model_name": "LayoutModel",
      "state": {}
     },
     "e985eae49c8c4eec8f05c53199b19dc8": {
      "model_module": "@jupyter-widgets/controls",
      "model_module_version": "1.5.0",
      "model_name": "ToggleButtonModel",
      "state": {
       "description": "Rotate",
       "layout": "IPY_MODEL_36b915c88663401c86aa3d7f7c512fc8",
       "style": "IPY_MODEL_4a3429bcc1df47f19b0b76145ee4ce30",
       "value": true
      }
     },
     "f0689a1b27e74ea1850896dbbac4ebd5": {
      "model_module": "@jupyter-widgets/controls",
      "model_module_version": "1.5.0",
      "model_name": "DescriptionStyleModel",
      "state": {
       "description_width": ""
      }
     }
    },
    "version_major": 2,
    "version_minor": 0
   }
  }
 },
 "nbformat": 4,
 "nbformat_minor": 2
}
