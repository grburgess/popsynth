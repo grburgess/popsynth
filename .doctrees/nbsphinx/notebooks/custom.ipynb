{
 "cells": [
  {
   "cell_type": "markdown",
   "id": "440c5278",
   "metadata": {},
   "source": [
    "# Custom distributions and populations\n",
    "\n",
    "Custom populations can be created either by piecing together existing populations (spatial and luminosity populations) or building them from scratch with distributions.\n",
    "\n",
    "**popsynth** comes loaded with many combinations of typical population distributions. However, we demonstrate here how to create your own."
   ]
  },
  {
   "cell_type": "markdown",
   "id": "762cd490",
   "metadata": {},
   "source": [
    "## Creating distributions\n",
    "\n",
    "The population samplers rely on distributions. Each population has an internal spatial and luminosity distribution. For example, lets look at a simple spatial distribution:\n"
   ]
  },
  {
   "cell_type": "code",
   "execution_count": 1,
   "id": "833a235d",
   "metadata": {
    "execution": {
     "iopub.execute_input": "2022-06-13T07:54:07.619122Z",
     "iopub.status.busy": "2022-06-13T07:54:07.618776Z",
     "iopub.status.idle": "2022-06-13T07:54:11.055786Z",
     "shell.execute_reply": "2022-06-13T07:54:11.055001Z"
    }
   },
   "outputs": [],
   "source": [
    "%matplotlib inline\n",
    "\n",
    "import numpy as np\n",
    "import matplotlib.pyplot as plt\n",
    "from jupyterthemes import jtplot\n",
    "\n",
    "jtplot.style(context=\"notebook\", fscale=1, grid=False)\n",
    "purple = \"#B833FF\"\n",
    "yellow = \"#F6EF5B\"\n",
    "\n",
    "\n",
    "import popsynth\n",
    "\n",
    "popsynth.update_logging_level(\"INFO\")\n",
    "import warnings\n",
    "\n",
    "warnings.simplefilter(\"ignore\")"
   ]
  },
  {
   "cell_type": "code",
   "execution_count": 2,
   "id": "9c54df7b",
   "metadata": {
    "execution": {
     "iopub.execute_input": "2022-06-13T07:54:11.060009Z",
     "iopub.status.busy": "2022-06-13T07:54:11.059542Z",
     "iopub.status.idle": "2022-06-13T07:54:11.067149Z",
     "shell.execute_reply": "2022-06-13T07:54:11.066486Z"
    }
   },
   "outputs": [],
   "source": [
    "from popsynth.distribution import SpatialDistribution\n",
    "\n",
    "\n",
    "class MySphericalDistribution(SpatialDistribution):\n",
    "\n",
    "    # we need this property to register the class\n",
    "\n",
    "    _distribution_name = \"MySphericalDistribution\"\n",
    "\n",
    "    def __init__(\n",
    "        self,\n",
    "        seed=1234,\n",
    "        form=None,\n",
    "    ):\n",
    "\n",
    "        # the latex formula for the ditribution\n",
    "        form = r\"4 \\pi r2\"\n",
    "\n",
    "        # we do not need a \"truth\" dict here because\n",
    "        # there are no parameters\n",
    "\n",
    "        super(MySphericalDistribution, self).__init__(\n",
    "            seed=seed,\n",
    "            name=\"sphere\",\n",
    "            form=form,\n",
    "        )\n",
    "\n",
    "    def differential_volume(self, r):\n",
    "\n",
    "        # the differential volume of a sphere\n",
    "        return 4 * np.pi * r * r\n",
    "\n",
    "    def transform(self, L, r):\n",
    "\n",
    "        # luminosity to flux\n",
    "        return L / (4.0 * np.pi * r * r)\n",
    "\n",
    "    def dNdV(self, r):\n",
    "\n",
    "        # define some crazy change in the number/volume for fun\n",
    "\n",
    "        return 10.0 / (r + 1) ** 2"
   ]
  },
  {
   "cell_type": "markdown",
   "id": "ec46d01a",
   "metadata": {},
   "source": [
    "We simply define the differential volume and how luminosity is transformed to flux in the metric. Here, we have a simple sphere out to some *r_max*. We can of course subclass this object and add a normalization.\n",
    "\n",
    "\n",
    "Now we define a luminosity distribution."
   ]
  },
  {
   "cell_type": "code",
   "execution_count": 3,
   "id": "b1282b80",
   "metadata": {
    "execution": {
     "iopub.execute_input": "2022-06-13T07:54:11.070520Z",
     "iopub.status.busy": "2022-06-13T07:54:11.070028Z",
     "iopub.status.idle": "2022-06-13T07:54:11.076637Z",
     "shell.execute_reply": "2022-06-13T07:54:11.075923Z"
    },
    "lines_to_next_cell": 2
   },
   "outputs": [],
   "source": [
    "from popsynth.distribution import LuminosityDistribution, DistributionParameter\n",
    "\n",
    "\n",
    "class MyParetoDistribution(LuminosityDistribution):\n",
    "    _distribution_name = \"MyParetoDistribution\"\n",
    "\n",
    "    Lmin = DistributionParameter(default=1, vmin=0)\n",
    "    alpha = DistributionParameter(default=2)\n",
    "\n",
    "    def __init__(self, seed=1234, name=\"pareto\"):\n",
    "\n",
    "        # the latex formula for the ditribution\n",
    "        lf_form = r\"\\frac{\\alpha L_{\\rm min}^{\\alpha}}{L^{\\alpha+1}}\"\n",
    "\n",
    "        super(MyParetoDistribution, self).__init__(\n",
    "            seed=seed,\n",
    "            name=\"pareto\",\n",
    "            form=lf_form,\n",
    "        )\n",
    "\n",
    "    def phi(self, L):\n",
    "\n",
    "        # the actual function, only for plotting\n",
    "\n",
    "        out = np.zeros_like(L)\n",
    "\n",
    "        idx = L >= self.Lmin\n",
    "\n",
    "        out[idx] = self.alpha * self.Lmin ** self.alpha / L[idx] ** (self.alpha + 1)\n",
    "\n",
    "        return out\n",
    "\n",
    "    def draw_luminosity(self, size=1):\n",
    "        # how to sample the latent parameters\n",
    "        return (np.random.pareto(self.alpha, size) + 1) * self.Lmin"
   ]
  },
  {
   "cell_type": "markdown",
   "id": "cb829c44",
   "metadata": {},
   "source": [
    "<div class=\"alert alert-info\">\n",
    "\n",
    "**Note:** If you want to create a cosmological distribution, inherit from from ComologicalDistribution class!\n",
    "\n",
    "</div>\n",
    "\n",
    "## Creating a population synthesizer\n",
    "\n",
    "Now that we have defined our distributions, we can create a population synthesizer that encapsulated them"
   ]
  },
  {
   "cell_type": "code",
   "execution_count": 4,
   "id": "567bd370",
   "metadata": {
    "execution": {
     "iopub.execute_input": "2022-06-13T07:54:11.080114Z",
     "iopub.status.busy": "2022-06-13T07:54:11.079712Z",
     "iopub.status.idle": "2022-06-13T07:54:11.084892Z",
     "shell.execute_reply": "2022-06-13T07:54:11.084189Z"
    }
   },
   "outputs": [],
   "source": [
    "from popsynth.population_synth import PopulationSynth\n",
    "\n",
    "\n",
    "class MyPopulation(PopulationSynth):\n",
    "    def __init__(self, Lmin, alpha, r_max=5, seed=1234):\n",
    "\n",
    "        # instantiate the distributions\n",
    "        luminosity_distribution = MyParetoDistribution(seed=seed)\n",
    "\n",
    "        luminosity_distribution.alpha = alpha\n",
    "        luminosity_distribution.Lmin = Lmin\n",
    "\n",
    "        spatial_distribution = MySphericalDistribution(seed=seed)\n",
    "        spatial_distribution.r_max = r_max\n",
    "\n",
    "        # pass to the super class\n",
    "        super(MyPopulation, self).__init__(\n",
    "            spatial_distribution=spatial_distribution,\n",
    "            luminosity_distribution=luminosity_distribution,\n",
    "            seed=seed,\n",
    "        )"
   ]
  },
  {
   "cell_type": "code",
   "execution_count": 5,
   "id": "a1746d8a",
   "metadata": {
    "execution": {
     "iopub.execute_input": "2022-06-13T07:54:11.088211Z",
     "iopub.status.busy": "2022-06-13T07:54:11.087833Z",
     "iopub.status.idle": "2022-06-13T07:54:11.148669Z",
     "shell.execute_reply": "2022-06-13T07:54:11.147979Z"
    }
   },
   "outputs": [
    {
     "name": "stdout",
     "output_type": "stream",
     "text": [
      "\u001b[32m\u001b[1m INFO     \u001b[0m| \u001b[32m\u001b[1m The volume integral is 768.2199804456435 \u001b[0m\n"
     ]
    },
    {
     "data": {
      "application/vnd.jupyter.widget-view+json": {
       "model_id": "ad793b6f44c947f890709d226a1a7375",
       "version_major": 2,
       "version_minor": 0
      },
      "text/plain": [
       "Drawing distances:   0%|          | 0/741 [00:00<?, ?it/s]"
      ]
     },
     "metadata": {},
     "output_type": "display_data"
    },
    {
     "name": "stdout",
     "output_type": "stream",
     "text": [
      "\u001b[32m\u001b[1m INFO     \u001b[0m| \u001b[32m\u001b[1m Expecting 741 total objects \u001b[0m\n"
     ]
    },
    {
     "name": "stdout",
     "output_type": "stream",
     "text": [
      "\u001b[32m\u001b[1m INFO     \u001b[0m| \u001b[32m\u001b[1m applying selection to fluxes \u001b[0m\n"
     ]
    },
    {
     "name": "stdout",
     "output_type": "stream",
     "text": [
      "\u001b[32m\u001b[1m INFO     \u001b[0m| \u001b[32m\u001b[1m Detected 258 distances \u001b[0m\n"
     ]
    },
    {
     "name": "stdout",
     "output_type": "stream",
     "text": [
      "\u001b[32m\u001b[1m INFO     \u001b[0m| \u001b[32m\u001b[1m Detected 258 objects out to a distance of 9.92 \u001b[0m\n"
     ]
    }
   ],
   "source": [
    "my_pop_gen = MyPopulation(Lmin=1, alpha=1, r_max=10)\n",
    "\n",
    "flux_selector = popsynth.HardFluxSelection()\n",
    "flux_selector.boundary = 1e-2\n",
    "\n",
    "my_pop_gen.set_flux_selection(flux_selector)\n",
    "\n",
    "population = my_pop_gen.draw_survey()"
   ]
  },
  {
   "cell_type": "code",
   "execution_count": 6,
   "id": "77957c25",
   "metadata": {
    "execution": {
     "iopub.execute_input": "2022-06-13T07:54:11.152355Z",
     "iopub.status.busy": "2022-06-13T07:54:11.151672Z",
     "iopub.status.idle": "2022-06-13T07:54:11.309775Z",
     "shell.execute_reply": "2022-06-13T07:54:11.309100Z"
    }
   },
   "outputs": [
    {
     "data": {
      "application/vnd.jupyter.widget-view+json": {
       "model_id": "c6f25d4868c84cceb67304f3a05699ba",
       "version_major": 2,
       "version_minor": 0
      },
      "text/plain": [
       "VBox(children=(Figure(camera=PerspectiveCamera(fov=46.0, position=(0.0, 0.0, 2.0), projectionMatrix=(1.0, 0.0,…"
      ]
     },
     "metadata": {},
     "output_type": "display_data"
    }
   ],
   "source": [
    "fig = population.display_obs_fluxes_sphere(cmap=\"magma\", background_color=\"black\" ,s=50)"
   ]
  }
 ],
 "metadata": {
  "jupytext": {
   "formats": "ipynb,md"
  },
  "kernelspec": {
   "display_name": "Python 3",
   "language": "python",
   "name": "python3"
  },
  "language_info": {
   "codemirror_mode": {
    "name": "ipython",
    "version": 3
   },
   "file_extension": ".py",
   "mimetype": "text/x-python",
   "name": "python",
   "nbconvert_exporter": "python",
   "pygments_lexer": "ipython3",
   "version": "3.9.13"
  },
  "widgets": {
   "application/vnd.jupyter.widget-state+json": {
    "state": {
     "066c60145c0643239013cc1643ff918c": {
      "model_module": "jupyter-threejs",
      "model_module_version": "^2.1.0",
      "model_name": "PerspectiveCameraModel",
      "state": {
       "_model_module": "jupyter-threejs",
       "_model_module_version": "^2.1.0",
       "_model_name": "PerspectiveCameraModel",
       "_view_count": null,
       "_view_module": null,
       "_view_module_version": "",
       "_view_name": null,
       "aspect": 1.0,
       "castShadow": false,
       "children": [],
       "far": 2000.0,
       "focus": 10.0,
       "fov": 46.0,
       "frustumCulled": true,
       "matrix": [
        1.0,
        0.0,
        0.0,
        0.0,
        0.0,
        1.0,
        0.0,
        0.0,
        0.0,
        0.0,
        1.0,
        0.0,
        0.0,
        0.0,
        0.0,
        1.0
       ],
       "matrixAutoUpdate": true,
       "matrixWorld": [
        1.0,
        0.0,
        0.0,
        0.0,
        0.0,
        1.0,
        0.0,
        0.0,
        0.0,
        0.0,
        1.0,
        0.0,
        0.0,
        0.0,
        0.0,
        1.0
       ],
       "matrixWorldInverse": [
        1.0,
        0.0,
        0.0,
        0.0,
        0.0,
        1.0,
        0.0,
        0.0,
        0.0,
        0.0,
        1.0,
        0.0,
        0.0,
        0.0,
        0.0,
        1.0
       ],
       "matrixWorldNeedsUpdate": false,
       "modelViewMatrix": [
        1.0,
        0.0,
        0.0,
        0.0,
        0.0,
        1.0,
        0.0,
        0.0,
        0.0,
        0.0,
        1.0,
        0.0,
        0.0,
        0.0,
        0.0,
        1.0
       ],
       "name": "",
       "near": 0.1,
       "normalMatrix": [
        1.0,
        0.0,
        0.0,
        0.0,
        1.0,
        0.0,
        0.0,
        0.0,
        1.0
       ],
       "position": [
        0.0,
        0.0,
        2.0
       ],
       "projectionMatrix": [
        1.0,
        0.0,
        0.0,
        0.0,
        0.0,
        1.0,
        0.0,
        0.0,
        0.0,
        0.0,
        1.0,
        0.0,
        0.0,
        0.0,
        0.0,
        1.0
       ],
       "quaternion": [
        0.0,
        0.0,
        0.0,
        1.0
       ],
       "receiveShadow": false,
       "renderOrder": 0,
       "rotation": [
        0.0,
        0.0,
        0.0,
        "XYZ"
       ],
       "scale": [
        1.0,
        1.0,
        1.0
       ],
       "type": "PerspectiveCamera",
       "up": [
        1.0,
        0.0,
        0.0
       ],
       "visible": true,
       "zoom": 1.0
      }
     },
     "1bf8f6113c7d477385cb1be6841ac7dd": {
      "model_module": "jupyter-threejs",
      "model_module_version": "^2.1.0",
      "model_name": "SceneModel",
      "state": {
       "_model_module": "jupyter-threejs",
       "_model_module_version": "^2.1.0",
       "_model_name": "SceneModel",
       "_view_count": null,
       "_view_module": null,
       "_view_module_version": "",
       "_view_name": null,
       "autoUpdate": true,
       "background": null,
       "castShadow": false,
       "children": [],
       "fog": null,
       "frustumCulled": true,
       "matrix": [
        1.0,
        0.0,
        0.0,
        0.0,
        0.0,
        1.0,
        0.0,
        0.0,
        0.0,
        0.0,
        1.0,
        0.0,
        0.0,
        0.0,
        0.0,
        1.0
       ],
       "matrixAutoUpdate": true,
       "matrixWorld": [
        1.0,
        0.0,
        0.0,
        0.0,
        0.0,
        1.0,
        0.0,
        0.0,
        0.0,
        0.0,
        1.0,
        0.0,
        0.0,
        0.0,
        0.0,
        1.0
       ],
       "matrixWorldNeedsUpdate": false,
       "modelViewMatrix": [
        1.0,
        0.0,
        0.0,
        0.0,
        0.0,
        1.0,
        0.0,
        0.0,
        0.0,
        0.0,
        1.0,
        0.0,
        0.0,
        0.0,
        0.0,
        1.0
       ],
       "name": "",
       "normalMatrix": [
        1.0,
        0.0,
        0.0,
        0.0,
        1.0,
        0.0,
        0.0,
        0.0,
        1.0
       ],
       "overrideMaterial": null,
       "position": [
        0.0,
        0.0,
        0.0
       ],
       "quaternion": [
        0.0,
        0.0,
        0.0,
        1.0
       ],
       "receiveShadow": false,
       "renderOrder": 0,
       "rotation": [
        0.0,
        0.0,
        0.0,
        "XYZ"
       ],
       "scale": [
        1.0,
        1.0,
        1.0
       ],
       "type": "Scene",
       "up": [
        0.0,
        1.0,
        0.0
       ],
       "visible": true
      }
     },
     "4f67c72deb78441b9d448d87b45ac2f3": {
      "model_module": "@jupyter-widgets/controls",
      "model_module_version": "1.5.0",
      "model_name": "FloatProgressModel",
      "state": {
       "_dom_classes": [],
       "_model_module": "@jupyter-widgets/controls",
       "_model_module_version": "1.5.0",
       "_model_name": "FloatProgressModel",
       "_view_count": null,
       "_view_module": "@jupyter-widgets/controls",
       "_view_module_version": "1.5.0",
       "_view_name": "ProgressView",
       "bar_style": "success",
       "description": "",
       "description_tooltip": null,
       "layout": "IPY_MODEL_d0ddc8a257614693baaf80e8ce5bb635",
       "max": 741.0,
       "min": 0.0,
       "orientation": "horizontal",
       "style": "IPY_MODEL_be2f891bfdd2493c8553501c1e67a5be",
       "value": 741.0
      }
     },
     "52066e4db148405f9925baa39cdddd26": {
      "model_module": "jupyter-threejs",
      "model_module_version": "^2.1.0",
      "model_name": "ShaderMaterialModel",
      "state": {
       "_model_module": "jupyter-threejs",
       "_model_module_version": "^2.1.0",
       "_model_name": "ShaderMaterialModel",
       "_view_count": null,
       "_view_module": null,
       "_view_module_version": "",
       "_view_name": null,
       "alphaTest": 0.0,
       "blendDst": "OneMinusSrcAlphaFactor",
       "blendDstAlpha": 0.0,
       "blendEquation": "AddEquation",
       "blendEquationAlpha": 0.0,
       "blendSrc": "SrcAlphaFactor",
       "blendSrcAlpha": 0.0,
       "blending": "NormalBlending",
       "clipIntersection": false,
       "clipShadows": false,
       "clipping": false,
       "clippingPlanes": [],
       "colorWrite": true,
       "defines": null,
       "depthFunc": "LessEqualDepth",
       "depthTest": true,
       "depthWrite": true,
       "dithering": false,
       "extensions": {},
       "flatShading": false,
       "fog": false,
       "fragmentShader": "",
       "lights": false,
       "linewidth": 1.0,
       "morphNormals": false,
       "morphTargets": false,
       "name": "",
       "opacity": 1.0,
       "overdraw": 0.0,
       "polygonOffset": false,
       "polygonOffsetFactor": 0.0,
       "polygonOffsetUnits": 0.0,
       "precision": null,
       "premultipliedAlpha": false,
       "shadowSide": null,
       "side": "FrontSide",
       "skinning": false,
       "transparent": false,
       "type": "ShaderMaterial",
       "uniforms": {},
       "uniformsNeedUpdate": false,
       "vertexColors": "NoColors",
       "vertexShader": "",
       "visible": true,
       "wireframe": false,
       "wireframeLinewidth": 1.0
      }
     },
     "53badf7bc17c421eb531cc6642031682": {
      "buffers": [
       {
        "data": "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",
        "encoding": "base64",
        "path": [
         "color",
         0,
         "data"
        ]
       },
       {
        "data": "SYvGvmg0kcC9avHAc8K5P7pcTD+Iqdo/LDauvxK3EkBheSbAhejzP8yNi8CiRE++hxy8PxLhnD7XknjAZU6kP1jii0AqjsE+U5frP6gCEb4WEt1AELLBP+KCOb+xG6u/EDR2PuhdPMAPCRbAYPVPQJK7GEDg6ug/GohDQOjO7b84n6g92Xktv4cVckAuQpM/QLrcv9Odmr+TCSnACFBEP0ZYaL+ZnqQ91LAnvyG94r7Ehdm/Ru0YwJ5ABr3ucRzAUV+Mv6cmG0BNiKe/abF+P9vXlr0YxopAjuYyv2Mrh747N48/wLCJQPyvwD4pj3M/KVapPz76vEAkVPK+TvfgP9yG6j1fk4a/tAo1wC94PkCB0cQ/RIJAPyvci78R8mc+R5m9vTb5Az85ifi/Jp0NQKgOuj+UkiTAVxGCv7JUt8DAK8S/ADFAwDccST/IkRLAwK8BwCXrnL80972/DPUjQGkKV8CI8l2+13TJP2SpT8AOZQK//ee0PxjVTj8lj41AiFceQFEZMcBq07O/B3PqvgOUpT8C/bnAOIL3P3JC4j+0bKa+mUOeP2WMUrzoA9q/d+aQPgjw1r51brE/pkq+P7QxYsCkCoe+elVrwFEMYMCIKKC/CETWv5MdoL8Ywhk+13DevdsSMj80pYa/j5fFP5eOJ8APkMu+tLLUPmL/iD999y6/XJ4EPpiLE76/CoC/flBFv4eArkA4p5K+w4iIvwZylD9iDSjANLwhv7Fgib+luU8/4Hujvt55JMCkSDu+plbJv2wmlsDWpU4/BcpYQCyFCMD47I2/bJyTvfnSg79EEJa/ugr2v6cmykA8ogBAWuiOQFmxWb+W7tI/DnyDvyq/N7/dI58/e2dvQDvSDr/Wg4G/FnI8P+wLIkAAk3o+KbiXv+k6M76uo4u+DOwxv2MlMsB70tM+lIYkwJKrCUApACW/lCOnvh3kUMBns3zADTUuwFNdHD5m+sRAkGU7P6OMG0Chf5ZAdkPlvqW+yj/nXMjAgGBdQIYwTsA57Jo+G/Lxvx2sbD9yQuu+QsdXwMtkBb/dlGlALHGHP6K/3D1ZXns/A/CsPdPoQT8Q3TjA33NLPsV8kb9jgMo/D7juvyzxI0A0Xh3AotKMP03IrcCBDvlA2CYQwNrbeL2PF56/6TdLQMzSncBMAXbAuKolwPtDk7/BNBO+BxD8viYcHT/QEYvAV0tZvt3+E0BAQAg+jya4P1E4uL/+L+Q/Id9sv12Tjr9zqbe9wPeDP+z82r+CJ4+/MZqyv6MKK0AFvfg9WfuEv6u8bsCG5j3A7jKTv90CwD9pIPU/02iMPjSmST8uDbE+4+/nvj+WqL84wZg+ald6P6LIsr+tCpa/e+KHvchP4T+W5VJA",
        "encoding": "base64",
        "path": [
         "x",
         0,
         "data"
        ]
       },
       {
        "data": "6+mLv0gUkb9/n65AwtyPP1d2zz56I1LARt2IP5tJfkBplRJAcdDevDucsMBm9KW/zGeRvlmU5L5WEZi/ExywPqzvMUBCwEpAbYj/P+4Fhj8+BhRA2dZTQAuTXr89eLxALWNYQBaWe0D/6U+/ZW2rQPS/IsCKfyq/pCwXwIdqM79PxdG+5iQ0wNTS4sAOxrBAnalCPkQncUDi3Mu/TpHHv3sufcDCNsm/d9eyvhbsgL4X3ZTAszwHP/51Or5Gcg4/I1Wavaqlir+Oga1AtjDtvxj4IL/99BVAVVa6QGT6Hz8lMZS/kRr2P1cI3z2vnVe/n+bxP6F2BMDP04M+Ylafv8+U/L6o7rDAjaMVP0WInb9IYDy/UTtLwBYdkD7zKuG/mbJsvyoj774rrLE9NaJNPzdE0L5gfIFA7kjUP+n/cD8eCbXAQsfbP8LiqD+dOFG/mfdlQL2kxL6J20lAX4J0v+avnL+V8iY+tuoIP7ZUqD825Kk/fTv2P/ySIsCydYvAejIdv/wkn8CpFN2/jpTxvz4jyj+phjJAhdybP8aF3j7tWP4/MeGHv/8XiT9pXf+/B9KEP2I9ecAPbx5ADYvuP+wVBkDCOaU/g384vnKhqz9lveM/AekgQFJCMED9RjBAB3xIv6Jcmj7RFGw/IPJRQHTloL3XLZG/qTPHvzuz3b5MUKY/+W+jvrb3Jj/pJl8+fyuYPrBUg8CGVYm/4p68vy5j7b7d8yjA6hUHQOzrdkCXvgk/gaZTwL0zr8CNvwG/GGYGwJzLPr+KS5PAuo54PvzB97+SQPS/bZ12P3Iueb39RAPAr4dfv9ZVKj5bql9ASZ0OvwWYVcAPShe+e8gFPsHRkMAzG8C+XRMYQOVG0j8i6og8CMdnQHWFtD+FGcvAMXyjvzg6NsDyTty+dUuGv1GEHsAHXpw/zS67v+wF/r9G52m/BF6Dv1p0bEC/FmhAAsJGP6l0Vr93IVi/1ClIP8ppCL4qWk3AC4evPjb97T5Via4/813nv0TpI79SmXU9nLrsvm9Txz+ap62/RUPaP7Co4cANCDdABemWQKelmUCX6wLAw98AQNeltT8AclFApvR0P7rA5782Va6/2FwBQSDXk7+nHNPAfPySvii4a0CJXak/8Th7vyZmNb/q5eS/44GDwBWxqT9o7R+/l0hDQHAfc8D7b6M/IVPzP4aCOL6ufOU/GZSev2S4qL9IjifAUIVLv80xeb+WAcK+/fxtPg9ytL8Do7k/dD/QPx4AMT5/F7q/J7qVv+xVWECn/Ao/nCf6QA+M6L/YXAZB6GKYwAEsxb4gQdi+96CcvqNoMr4k5Nk/Nw+5PybPxz9XCYDAk+B5wONunkAbQ2NAZmyIP6NQgz/yvLTA",
        "encoding": "base64",
        "path": [
         "y",
         0,
         "data"
        ]
       },
       {
        "data": "4k+3vyjO7L+oLFvAJ4stv+8tSr/V/XfAeVMdQC+2gUDgKpBA1CWvPgfzvUDSgqI/IqRoPk9Jxr1lJ4lAyrYxvnqAFUBBNnS/HcuSvgz1cz5O1bDAk6bJvntg6EAPoYNA9lccPzIJp0CjKWjA4iCKwOi/ob9wSmG/xuzRPwpKDcAQ8Ry9xmgrvy1CO0Ca5WDA7psfvtipuMANQJY/pDRxP0b3O0CUP6q9NTMvQD9UmL5UR7m/ay4LQJjlrz+bBVJABLEHQANngj6AwJPAPbf3vzOcgr+jtLzAaLMywOBeA8DS9FG/5Cg/wD60AkCRNrm7WoOtv8Vn0r/C2qg++XWOv1yUgMAn29Y/K/aov82McD86p8c+tsh5P9vUFL26OkQ/7wKHP8z3HD/4+iBAM6nuvvdnEMD7V4FA3hfYv4QEAMGHGbe+yAFkv0KF1j2i2XQ/EtQDQJQuRkBy0sM/1FPWPz+rzsDtaBS/y8+jPq5Uyz9JBi9A1DOGwPivVL/vZ9vAvnIlP+52EcDyBO6/bcjYPr1PC8DPFiQ/PDkDP4+yvb9Agr7AyQ0MQDb5ur/yqr2/IySvPn/Qqr+NlfC/Pp15wEyBpEC0Pw5AFvPUv5SovL9qIV7AhIdfQF1kkkDUMCk/nIr5PK57NcC4IDLA6yTcvblUk8D/v2ZAkPqYP2KirL/4f4G/MfIxvsq/9r25pxU/5ZWWwFqyvcAVB6m+KW6Sv1M1nL5c8Jk/oQm5PnXu/D+R2QFAymkrwBkPPMBOmjS+cdnvP76P0D+b33u9tsfHP8JDgUBVVve/MQFvwPcYlb4BL50+mjn3P0UjZr/N2hVAwzlaQJa7Cr9erOa/Qm0DQJE7VcBpuq9Aii+GPzeDnj+D7AXA7KOqviuDFb0lcrg/D/6Dv0LP3T1ZeSfAC/CYvwgtrMDb8/C/e4qUwFyhzL8UxMy/YiKxvtt8Yr9/J2q/RpMNQK/3AMCabNlAKBxoPw+CJb9CMahAxYf4P4AGCj+25ovAJQOGv0KIh8DjA5c+FNimPufJTMB9MTY/ieMXQA681L+OKGPArKJPwMbBq0BqWtpADztTwBqHjbyIvmZATWVMvn1Rsb8lXuu/OdaZPz7CIUDCDSK/XO+uv+1jRMDcUGW/muw+v7czdL9CpeE/nMlMQDE5n79nxZm/c+tHwMqanb9IScS+2mndv9lxnsDT0c+/IRIpPxQAGEBrVdE7G7jLP+j3VcCbEvu/zyivvrVOrj8k/ug/tO7dPgzaBMA89i6/X9iRvh2Ckr/TXAe/zD8xwPHp77+Mtg5ARSaAwCKY5L73ElbAshnQPbplMT92+yTAoa6tPnWrpb/bV8+/UTumP88CnUAOMfc/iHcyP814HT9N6sw/",
        "encoding": "base64",
        "path": [
         "z",
         0,
         "data"
        ]
       }
      ],
      "model_module": "ipyvolume",
      "model_module_version": "~0.5.2",
      "model_name": "ScatterModel",
      "state": {
       "_model_module": "ipyvolume",
       "_model_module_version": "~0.5.2",
       "_model_name": "ScatterModel",
       "_view_count": null,
       "_view_module": "ipyvolume",
       "_view_module_version": "~0.5.2",
       "_view_name": "ScatterView",
       "color": [
        {
         "dtype": "float32",
         "shape": [
          258,
          4
         ]
        }
       ],
       "color_selected": "white",
       "connected": false,
       "geo": "sphere",
       "line_material": "IPY_MODEL_52066e4db148405f9925baa39cdddd26",
       "material": "IPY_MODEL_620fbe28aa07446a8f33e3ebae94f56a",
       "selected": null,
       "sequence_index": 0,
       "size": 2,
       "size_selected": 2.6,
       "texture": null,
       "visible": true,
       "vx": null,
       "vy": null,
       "vz": null,
       "x": [
        {
         "dtype": "float32",
         "shape": [
          258
         ]
        }
       ],
       "y": [
        {
         "dtype": "float32",
         "shape": [
          258
         ]
        }
       ],
       "z": [
        {
         "dtype": "float32",
         "shape": [
          258
         ]
        }
       ]
      }
     },
     "60c9d783cc514265ad2966ed7b20a0cb": {
      "model_module": "@jupyter-widgets/base",
      "model_module_version": "1.2.0",
      "model_name": "LayoutModel",
      "state": {
       "_model_module": "@jupyter-widgets/base",
       "_model_module_version": "1.2.0",
       "_model_name": "LayoutModel",
       "_view_count": null,
       "_view_module": "@jupyter-widgets/base",
       "_view_module_version": "1.2.0",
       "_view_name": "LayoutView",
       "align_content": null,
       "align_items": null,
       "align_self": null,
       "border": null,
       "bottom": null,
       "display": null,
       "flex": null,
       "flex_flow": null,
       "grid_area": null,
       "grid_auto_columns": null,
       "grid_auto_flow": null,
       "grid_auto_rows": null,
       "grid_column": null,
       "grid_gap": null,
       "grid_row": null,
       "grid_template_areas": null,
       "grid_template_columns": null,
       "grid_template_rows": null,
       "height": null,
       "justify_content": null,
       "justify_items": null,
       "left": null,
       "margin": null,
       "max_height": null,
       "max_width": null,
       "min_height": null,
       "min_width": null,
       "object_fit": null,
       "object_position": null,
       "order": null,
       "overflow": null,
       "overflow_x": null,
       "overflow_y": null,
       "padding": null,
       "right": null,
       "top": null,
       "visibility": null,
       "width": null
      }
     },
     "61f72527297f489ab5b690181ea78127": {
      "model_module": "@jupyter-widgets/base",
      "model_module_version": "1.2.0",
      "model_name": "LayoutModel",
      "state": {
       "_model_module": "@jupyter-widgets/base",
       "_model_module_version": "1.2.0",
       "_model_name": "LayoutModel",
       "_view_count": null,
       "_view_module": "@jupyter-widgets/base",
       "_view_module_version": "1.2.0",
       "_view_name": "LayoutView",
       "align_content": null,
       "align_items": null,
       "align_self": null,
       "border": null,
       "bottom": null,
       "display": null,
       "flex": null,
       "flex_flow": null,
       "grid_area": null,
       "grid_auto_columns": null,
       "grid_auto_flow": null,
       "grid_auto_rows": null,
       "grid_column": null,
       "grid_gap": null,
       "grid_row": null,
       "grid_template_areas": null,
       "grid_template_columns": null,
       "grid_template_rows": null,
       "height": null,
       "justify_content": null,
       "justify_items": null,
       "left": null,
       "margin": null,
       "max_height": null,
       "max_width": null,
       "min_height": null,
       "min_width": null,
       "object_fit": null,
       "object_position": null,
       "order": null,
       "overflow": null,
       "overflow_x": null,
       "overflow_y": null,
       "padding": null,
       "right": null,
       "top": null,
       "visibility": null,
       "width": null
      }
     },
     "620fbe28aa07446a8f33e3ebae94f56a": {
      "model_module": "jupyter-threejs",
      "model_module_version": "^2.1.0",
      "model_name": "ShaderMaterialModel",
      "state": {
       "_model_module": "jupyter-threejs",
       "_model_module_version": "^2.1.0",
       "_model_name": "ShaderMaterialModel",
       "_view_count": null,
       "_view_module": null,
       "_view_module_version": "",
       "_view_name": null,
       "alphaTest": 0.0,
       "blendDst": "OneMinusSrcAlphaFactor",
       "blendDstAlpha": 0.0,
       "blendEquation": "AddEquation",
       "blendEquationAlpha": 0.0,
       "blendSrc": "SrcAlphaFactor",
       "blendSrcAlpha": 0.0,
       "blending": "NormalBlending",
       "clipIntersection": false,
       "clipShadows": false,
       "clipping": false,
       "clippingPlanes": [],
       "colorWrite": true,
       "defines": null,
       "depthFunc": "LessEqualDepth",
       "depthTest": true,
       "depthWrite": true,
       "dithering": false,
       "extensions": {},
       "flatShading": false,
       "fog": false,
       "fragmentShader": "",
       "lights": false,
       "linewidth": 1.0,
       "morphNormals": false,
       "morphTargets": false,
       "name": "",
       "opacity": 1.0,
       "overdraw": 0.0,
       "polygonOffset": false,
       "polygonOffsetFactor": 0.0,
       "polygonOffsetUnits": 0.0,
       "precision": null,
       "premultipliedAlpha": false,
       "shadowSide": null,
       "side": "FrontSide",
       "skinning": false,
       "transparent": false,
       "type": "ShaderMaterial",
       "uniforms": {},
       "uniformsNeedUpdate": false,
       "vertexColors": "NoColors",
       "vertexShader": "",
       "visible": true,
       "wireframe": false,
       "wireframeLinewidth": 1.0
      }
     },
     "65053886e4d14f95a2f00c160a58bc27": {
      "model_module": "@jupyter-widgets/controls",
      "model_module_version": "1.5.0",
      "model_name": "HTMLModel",
      "state": {
       "_dom_classes": [],
       "_model_module": "@jupyter-widgets/controls",
       "_model_module_version": "1.5.0",
       "_model_name": "HTMLModel",
       "_view_count": null,
       "_view_module": "@jupyter-widgets/controls",
       "_view_module_version": "1.5.0",
       "_view_name": "HTMLView",
       "description": "",
       "description_tooltip": null,
       "layout": "IPY_MODEL_ffc7f23d942f41c1aed9d8b7b2778c16",
       "placeholder": "​",
       "style": "IPY_MODEL_d2c2ae3c9525405ba807f5bd111eaaad",
       "value": "Drawing distances: 100%"
      }
     },
     "ad785e9b6a2541728d4cd63766994e59": {
      "model_module": "ipyvolume",
      "model_module_version": "~0.5.2",
      "model_name": "FigureModel",
      "state": {
       "_dom_classes": [],
       "_model_module": "ipyvolume",
       "_model_module_version": "~0.5.2",
       "_model_name": "FigureModel",
       "_view_count": null,
       "_view_module": "ipyvolume",
       "_view_module_version": "~0.5.2",
       "_view_name": "FigureView",
       "ambient_coefficient": 0.5,
       "animation": 1000.0,
       "animation_exponent": 1.0,
       "camera": "IPY_MODEL_066c60145c0643239013cc1643ff918c",
       "camera_center": [
        0.0,
        0.0,
        0.0
       ],
       "camera_control": "trackball",
       "camera_fov": 45.0,
       "capture_fps": null,
       "cube_resolution": 512,
       "diffuse_coefficient": 0.8,
       "displayscale": 1.0,
       "downscale": 1,
       "eye_separation": 6.4,
       "height": 500,
       "layout": "IPY_MODEL_60c9d783cc514265ad2966ed7b20a0cb",
       "matrix_projection": [
        0.0,
        0.0,
        0.0,
        0.0,
        0.0,
        0.0,
        0.0,
        0.0,
        0.0,
        0.0,
        0.0,
        0.0,
        0.0,
        0.0,
        0.0,
        0.0
       ],
       "matrix_world": [
        0.0,
        0.0,
        0.0,
        0.0,
        0.0,
        0.0,
        0.0,
        0.0,
        0.0,
        0.0,
        0.0,
        0.0,
        0.0,
        0.0,
        0.0,
        0.0
       ],
       "meshes": [],
       "mouse_mode": "normal",
       "panorama_mode": "no",
       "render_continuous": true,
       "scatters": [
        "IPY_MODEL_53badf7bc17c421eb531cc6642031682"
       ],
       "scene": "IPY_MODEL_1bf8f6113c7d477385cb1be6841ac7dd",
       "selection_mode": "replace",
       "selector": "lasso",
       "show": "Volume",
       "specular_coefficient": 0.5,
       "specular_exponent": 5.0,
       "stereo": false,
       "style": {
        "axes": {
         "color": "white",
         "label": {
          "color": "white"
         },
         "ticklabel": {
          "color": "white"
         },
         "visible": false
        },
        "background-color": "black",
        "box": {
         "visible": false
        }
       },
       "volumes": [],
       "width": 400,
       "xlabel": "x",
       "xlim": [
        -10.0,
        10.0
       ],
       "ylabel": "y",
       "ylim": [
        -10.0,
        10.0
       ],
       "zlabel": "z",
       "zlim": [
        -10.0,
        10.0
       ]
      }
     },
     "ad793b6f44c947f890709d226a1a7375": {
      "model_module": "@jupyter-widgets/controls",
      "model_module_version": "1.5.0",
      "model_name": "HBoxModel",
      "state": {
       "_dom_classes": [],
       "_model_module": "@jupyter-widgets/controls",
       "_model_module_version": "1.5.0",
       "_model_name": "HBoxModel",
       "_view_count": null,
       "_view_module": "@jupyter-widgets/controls",
       "_view_module_version": "1.5.0",
       "_view_name": "HBoxView",
       "box_style": "",
       "children": [
        "IPY_MODEL_65053886e4d14f95a2f00c160a58bc27",
        "IPY_MODEL_4f67c72deb78441b9d448d87b45ac2f3",
        "IPY_MODEL_e03fc36417544eab93618958192f545f"
       ],
       "layout": "IPY_MODEL_de479beb34e5476ebf5d0e1b6e23a5a2"
      }
     },
     "b1427518360c4e089073d95a7ed88b58": {
      "model_module": "@jupyter-widgets/base",
      "model_module_version": "1.2.0",
      "model_name": "LayoutModel",
      "state": {
       "_model_module": "@jupyter-widgets/base",
       "_model_module_version": "1.2.0",
       "_model_name": "LayoutModel",
       "_view_count": null,
       "_view_module": "@jupyter-widgets/base",
       "_view_module_version": "1.2.0",
       "_view_name": "LayoutView",
       "align_content": null,
       "align_items": null,
       "align_self": null,
       "border": null,
       "bottom": null,
       "display": null,
       "flex": null,
       "flex_flow": null,
       "grid_area": null,
       "grid_auto_columns": null,
       "grid_auto_flow": null,
       "grid_auto_rows": null,
       "grid_column": null,
       "grid_gap": null,
       "grid_row": null,
       "grid_template_areas": null,
       "grid_template_columns": null,
       "grid_template_rows": null,
       "height": null,
       "justify_content": null,
       "justify_items": null,
       "left": null,
       "margin": null,
       "max_height": null,
       "max_width": null,
       "min_height": null,
       "min_width": null,
       "object_fit": null,
       "object_position": null,
       "order": null,
       "overflow": null,
       "overflow_x": null,
       "overflow_y": null,
       "padding": null,
       "right": null,
       "top": null,
       "visibility": null,
       "width": null
      }
     },
     "be2f891bfdd2493c8553501c1e67a5be": {
      "model_module": "@jupyter-widgets/controls",
      "model_module_version": "1.5.0",
      "model_name": "ProgressStyleModel",
      "state": {
       "_model_module": "@jupyter-widgets/controls",
       "_model_module_version": "1.5.0",
       "_model_name": "ProgressStyleModel",
       "_view_count": null,
       "_view_module": "@jupyter-widgets/base",
       "_view_module_version": "1.2.0",
       "_view_name": "StyleView",
       "bar_color": "#B833FF",
       "description_width": ""
      }
     },
     "c6f25d4868c84cceb67304f3a05699ba": {
      "model_module": "@jupyter-widgets/controls",
      "model_module_version": "1.5.0",
      "model_name": "VBoxModel",
      "state": {
       "_dom_classes": [],
       "_model_module": "@jupyter-widgets/controls",
       "_model_module_version": "1.5.0",
       "_model_name": "VBoxModel",
       "_view_count": null,
       "_view_module": "@jupyter-widgets/controls",
       "_view_module_version": "1.5.0",
       "_view_name": "VBoxView",
       "box_style": "",
       "children": [
        "IPY_MODEL_ad785e9b6a2541728d4cd63766994e59"
       ],
       "layout": "IPY_MODEL_b1427518360c4e089073d95a7ed88b58"
      }
     },
     "c93b18a3b7fb46328c5b514318d7fdfb": {
      "model_module": "@jupyter-widgets/controls",
      "model_module_version": "1.5.0",
      "model_name": "DescriptionStyleModel",
      "state": {
       "_model_module": "@jupyter-widgets/controls",
       "_model_module_version": "1.5.0",
       "_model_name": "DescriptionStyleModel",
       "_view_count": null,
       "_view_module": "@jupyter-widgets/base",
       "_view_module_version": "1.2.0",
       "_view_name": "StyleView",
       "description_width": ""
      }
     },
     "d0ddc8a257614693baaf80e8ce5bb635": {
      "model_module": "@jupyter-widgets/base",
      "model_module_version": "1.2.0",
      "model_name": "LayoutModel",
      "state": {
       "_model_module": "@jupyter-widgets/base",
       "_model_module_version": "1.2.0",
       "_model_name": "LayoutModel",
       "_view_count": null,
       "_view_module": "@jupyter-widgets/base",
       "_view_module_version": "1.2.0",
       "_view_name": "LayoutView",
       "align_content": null,
       "align_items": null,
       "align_self": null,
       "border": null,
       "bottom": null,
       "display": null,
       "flex": null,
       "flex_flow": null,
       "grid_area": null,
       "grid_auto_columns": null,
       "grid_auto_flow": null,
       "grid_auto_rows": null,
       "grid_column": null,
       "grid_gap": null,
       "grid_row": null,
       "grid_template_areas": null,
       "grid_template_columns": null,
       "grid_template_rows": null,
       "height": null,
       "justify_content": null,
       "justify_items": null,
       "left": null,
       "margin": null,
       "max_height": null,
       "max_width": null,
       "min_height": null,
       "min_width": null,
       "object_fit": null,
       "object_position": null,
       "order": null,
       "overflow": null,
       "overflow_x": null,
       "overflow_y": null,
       "padding": null,
       "right": null,
       "top": null,
       "visibility": null,
       "width": null
      }
     },
     "d2c2ae3c9525405ba807f5bd111eaaad": {
      "model_module": "@jupyter-widgets/controls",
      "model_module_version": "1.5.0",
      "model_name": "DescriptionStyleModel",
      "state": {
       "_model_module": "@jupyter-widgets/controls",
       "_model_module_version": "1.5.0",
       "_model_name": "DescriptionStyleModel",
       "_view_count": null,
       "_view_module": "@jupyter-widgets/base",
       "_view_module_version": "1.2.0",
       "_view_name": "StyleView",
       "description_width": ""
      }
     },
     "de479beb34e5476ebf5d0e1b6e23a5a2": {
      "model_module": "@jupyter-widgets/base",
      "model_module_version": "1.2.0",
      "model_name": "LayoutModel",
      "state": {
       "_model_module": "@jupyter-widgets/base",
       "_model_module_version": "1.2.0",
       "_model_name": "LayoutModel",
       "_view_count": null,
       "_view_module": "@jupyter-widgets/base",
       "_view_module_version": "1.2.0",
       "_view_name": "LayoutView",
       "align_content": null,
       "align_items": null,
       "align_self": null,
       "border": null,
       "bottom": null,
       "display": null,
       "flex": null,
       "flex_flow": null,
       "grid_area": null,
       "grid_auto_columns": null,
       "grid_auto_flow": null,
       "grid_auto_rows": null,
       "grid_column": null,
       "grid_gap": null,
       "grid_row": null,
       "grid_template_areas": null,
       "grid_template_columns": null,
       "grid_template_rows": null,
       "height": null,
       "justify_content": null,
       "justify_items": null,
       "left": null,
       "margin": null,
       "max_height": null,
       "max_width": null,
       "min_height": null,
       "min_width": null,
       "object_fit": null,
       "object_position": null,
       "order": null,
       "overflow": null,
       "overflow_x": null,
       "overflow_y": null,
       "padding": null,
       "right": null,
       "top": null,
       "visibility": null,
       "width": null
      }
     },
     "e03fc36417544eab93618958192f545f": {
      "model_module": "@jupyter-widgets/controls",
      "model_module_version": "1.5.0",
      "model_name": "HTMLModel",
      "state": {
       "_dom_classes": [],
       "_model_module": "@jupyter-widgets/controls",
       "_model_module_version": "1.5.0",
       "_model_name": "HTMLModel",
       "_view_count": null,
       "_view_module": "@jupyter-widgets/controls",
       "_view_module_version": "1.5.0",
       "_view_name": "HTMLView",
       "description": "",
       "description_tooltip": null,
       "layout": "IPY_MODEL_61f72527297f489ab5b690181ea78127",
       "placeholder": "​",
       "style": "IPY_MODEL_c93b18a3b7fb46328c5b514318d7fdfb",
       "value": " 741/741 [00:00&lt;00:00, 23025.82it/s]"
      }
     },
     "fbeab6993d3743de8a03dd202497eebd": {
      "model_module": "jupyter-threejs",
      "model_module_version": "^2.1.0",
      "model_name": "OrbitControlsModel",
      "state": {
       "_model_module": "jupyter-threejs",
       "_model_module_version": "^2.1.0",
       "_model_name": "OrbitControlsModel",
       "_view_count": null,
       "_view_module": null,
       "_view_module_version": "",
       "_view_name": null,
       "autoRotate": true,
       "autoRotateSpeed": 2.0,
       "controlling": "IPY_MODEL_066c60145c0643239013cc1643ff918c",
       "dampingFactor": 0.25,
       "enableDamping": false,
       "enableKeys": true,
       "enablePan": true,
       "enableRotate": true,
       "enableZoom": true,
       "enabled": true,
       "keyPanSpeed": 7.0,
       "maxAzimuthAngle": "inf",
       "maxDistance": "inf",
       "maxPolarAngle": 3.141592653589793,
       "maxZoom": "inf",
       "minAzimuthAngle": "-inf",
       "minDistance": 0.0,
       "minPolarAngle": 0.0,
       "minZoom": 0.0,
       "panSpeed": 1.0,
       "rotateSpeed": 1.0,
       "screenSpacePanning": true,
       "target": [
        0.0,
        0.0,
        0.0
       ],
       "zoomSpeed": 1.0
      }
     },
     "ffc7f23d942f41c1aed9d8b7b2778c16": {
      "model_module": "@jupyter-widgets/base",
      "model_module_version": "1.2.0",
      "model_name": "LayoutModel",
      "state": {
       "_model_module": "@jupyter-widgets/base",
       "_model_module_version": "1.2.0",
       "_model_name": "LayoutModel",
       "_view_count": null,
       "_view_module": "@jupyter-widgets/base",
       "_view_module_version": "1.2.0",
       "_view_name": "LayoutView",
       "align_content": null,
       "align_items": null,
       "align_self": null,
       "border": null,
       "bottom": null,
       "display": null,
       "flex": null,
       "flex_flow": null,
       "grid_area": null,
       "grid_auto_columns": null,
       "grid_auto_flow": null,
       "grid_auto_rows": null,
       "grid_column": null,
       "grid_gap": null,
       "grid_row": null,
       "grid_template_areas": null,
       "grid_template_columns": null,
       "grid_template_rows": null,
       "height": null,
       "justify_content": null,
       "justify_items": null,
       "left": null,
       "margin": null,
       "max_height": null,
       "max_width": null,
       "min_height": null,
       "min_width": null,
       "object_fit": null,
       "object_position": null,
       "order": null,
       "overflow": null,
       "overflow_x": null,
       "overflow_y": null,
       "padding": null,
       "right": null,
       "top": null,
       "visibility": null,
       "width": null
      }
     }
    },
    "version_major": 2,
    "version_minor": 0
   }
  }
 },
 "nbformat": 4,
 "nbformat_minor": 5
}
