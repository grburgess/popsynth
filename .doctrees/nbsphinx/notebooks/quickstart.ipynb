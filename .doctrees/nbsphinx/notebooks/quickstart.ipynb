{
 "cells": [
  {
   "cell_type": "markdown",
   "id": "1c8c3a37",
   "metadata": {},
   "source": [
    "# Quick start\n",
    "\n",
    "First, lets just run through some examples to see where we are going\n",
    "by simulating a simple example population which we observe as a\n",
    "survey. Let's say we are in a giant sphere surrounded by fire flies\n",
    "that fill the volume homogeneously. Furthermore, the light they emit\n",
    "follows a Pareto distribution (power law) in luminosity. Of course,\n",
    "this population can be anything; active galactic nuclei (AGN),\n",
    "gamma-ray bursts (GRBs), etc. The framework provided in popsynth is\n",
    "intended to be generic."
   ]
  },
  {
   "cell_type": "code",
   "execution_count": 1,
   "id": "52fec7b8",
   "metadata": {
    "execution": {
     "iopub.execute_input": "2022-06-13T07:54:38.471940Z",
     "iopub.status.busy": "2022-06-13T07:54:38.471628Z",
     "iopub.status.idle": "2022-06-13T07:54:41.804886Z",
     "shell.execute_reply": "2022-06-13T07:54:41.804128Z"
    }
   },
   "outputs": [],
   "source": [
    "%matplotlib inline\n",
    "\n",
    "\n",
    "import matplotlib.pyplot as plt\n",
    "from jupyterthemes import jtplot\n",
    "\n",
    "jtplot.style(context=\"notebook\", fscale=1, grid=False)\n",
    "purple = \"#B833FF\"\n",
    "yellow = \"#F6EF5B\"\n",
    "\n",
    "import popsynth\n",
    "\n",
    "popsynth.update_logging_level(\"INFO\")\n",
    "\n",
    "import networkx as nx\n",
    "import numpy as np\n",
    "import warnings\n",
    "\n",
    "warnings.simplefilter(\"ignore\")"
   ]
  },
  {
   "cell_type": "code",
   "execution_count": 2,
   "id": "376476f3",
   "metadata": {
    "execution": {
     "iopub.execute_input": "2022-06-13T07:54:41.808763Z",
     "iopub.status.busy": "2022-06-13T07:54:41.808517Z",
     "iopub.status.idle": "2022-06-13T07:54:41.817470Z",
     "shell.execute_reply": "2022-06-13T07:54:41.816837Z"
    },
    "lines_to_next_cell": 0,
    "nbsphinx": "hidden"
   },
   "outputs": [],
   "source": [
    "class DemoSampler(popsynth.AuxiliarySampler):\n",
    "    _auxiliary_sampler_name = \"DemoSampler\"\n",
    "    mu = popsynth.auxiliary_sampler.AuxiliaryParameter(default=2)\n",
    "    tau = popsynth.auxiliary_sampler.AuxiliaryParameter(default=1, vmin=0)\n",
    "\n",
    "    def __init__(self):\n",
    "\n",
    "        super(DemoSampler, self).__init__(\"demo\", observed=False)\n",
    "\n",
    "    def true_sampler(self, size):\n",
    "\n",
    "        self._true_values = np.random.normal(self.mu, self.tau, size=size)\n",
    "\n",
    "\n",
    "class DemoSampler2(popsynth.DerivedLumAuxSampler):\n",
    "    _auxiliary_sampler_name = \"DemoSampler2\"\n",
    "    mu = popsynth.auxiliary_sampler.AuxiliaryParameter(default=2)\n",
    "    tau = popsynth.auxiliary_sampler.AuxiliaryParameter(default=1, vmin=0)\n",
    "    sigma = popsynth.auxiliary_sampler.AuxiliaryParameter(default=1, vmin=0)\n",
    "\n",
    "    def __init__(self):\n",
    "\n",
    "        super(DemoSampler2, self).__init__(\"demo2\")\n",
    "\n",
    "    def true_sampler(self, size):\n",
    "\n",
    "        secondary = self._secondary_samplers[\"demo\"]\n",
    "\n",
    "        self._true_values = (\n",
    "            (np.random.normal(self.mu, self.tau, size=size))\n",
    "            + secondary.true_values\n",
    "            - np.log10(1 + self._distance)\n",
    "        )\n",
    "\n",
    "    def observation_sampler(self, size):\n",
    "\n",
    "        self._obs_values = self._true_values + np.random.normal(\n",
    "            0, self.sigma, size=size\n",
    "        )\n",
    "\n",
    "    def compute_luminosity(self):\n",
    "\n",
    "        secondary = self._secondary_samplers[\"demo\"]\n",
    "\n",
    "        return (10 ** (self._true_values + 54)) / secondary.true_values"
   ]
  },
  {
   "cell_type": "markdown",
   "id": "31a6b695",
   "metadata": {},
   "source": []
  },
  {
   "cell_type": "markdown",
   "id": "ced5c0ba",
   "metadata": {},
   "source": [
    "## A spherically homogenous population of fire flies with a pareto luminosity function\n",
    "\n",
    "**popsynth** comes with several types of populations included, though\n",
    "you can easily [construct your\n",
    "own](https://popsynth.readthedocs.io/en/latest/notebooks/custom.html). To\n",
    "access the built in population synthesizers, one simply instantiates\n",
    "the population from the **popsynth.populations** module. Here, we will\n",
    "simulate a survey that has a homogenous spherical spatial distribution\n",
    "and a pareto distributed luminosity."
   ]
  },
  {
   "cell_type": "code",
   "execution_count": 3,
   "id": "2a40a149",
   "metadata": {
    "execution": {
     "iopub.execute_input": "2022-06-13T07:54:41.820439Z",
     "iopub.status.busy": "2022-06-13T07:54:41.820219Z",
     "iopub.status.idle": "2022-06-13T07:54:41.824168Z",
     "shell.execute_reply": "2022-06-13T07:54:41.823476Z"
    }
   },
   "outputs": [
    {
     "name": "stdout",
     "output_type": "stream",
     "text": [
      "Luminosity Function\n",
      "pareto\n",
      "\\frac{\\alpha L_{\\rm min}^{\\alpha}}{L^{\\alpha+1}}\n",
      "Lmin: 1\n",
      "alpha: 2.0\n",
      "Spatial Function\n",
      "cons_sphere\n",
      "\\Lambda\n",
      "Lambda: 5\n",
      "r_max: 5\n",
      "\n"
     ]
    }
   ],
   "source": [
    "homogeneous_pareto_synth = popsynth.populations.ParetoHomogeneousSphericalPopulation(\n",
    "    Lambda=5, Lmin=1, alpha=2.0  # the density normalization  # lower bound on the LF\n",
    ")  # index of the LF\n",
    "\n",
    "print(homogeneous_pareto_synth)"
   ]
  },
  {
   "cell_type": "code",
   "execution_count": 4,
   "id": "5de82927",
   "metadata": {
    "execution": {
     "iopub.execute_input": "2022-06-13T07:54:41.828044Z",
     "iopub.status.busy": "2022-06-13T07:54:41.827825Z",
     "iopub.status.idle": "2022-06-13T07:54:41.845855Z",
     "shell.execute_reply": "2022-06-13T07:54:41.845207Z"
    },
    "lines_to_next_cell": 2
   },
   "outputs": [
    {
     "data": {
      "text/markdown": [
       "## Luminosity Function"
      ],
      "text/plain": [
       "<IPython.core.display.Markdown object>"
      ]
     },
     "metadata": {},
     "output_type": "display_data"
    },
    {
     "data": {
      "text/latex": [
       "$\\displaystyle \\frac{\\alpha L_{\\rm min}^{\\alpha}}{L^{\\alpha+1}}$"
      ],
      "text/plain": [
       "<IPython.core.display.Math object>"
      ]
     },
     "metadata": {},
     "output_type": "display_data"
    },
    {
     "data": {
      "text/html": [
       "<div>\n",
       "<style scoped>\n",
       "    .dataframe tbody tr th:only-of-type {\n",
       "        vertical-align: middle;\n",
       "    }\n",
       "\n",
       "    .dataframe tbody tr th {\n",
       "        vertical-align: top;\n",
       "    }\n",
       "\n",
       "    .dataframe thead th {\n",
       "        text-align: right;\n",
       "    }\n",
       "</style>\n",
       "<table border=\"1\" class=\"dataframe\">\n",
       "  <thead>\n",
       "    <tr style=\"text-align: right;\">\n",
       "      <th></th>\n",
       "      <th>parameter</th>\n",
       "      <th>value</th>\n",
       "    </tr>\n",
       "  </thead>\n",
       "  <tbody>\n",
       "    <tr>\n",
       "      <th>0</th>\n",
       "      <td>Lmin</td>\n",
       "      <td>1.0</td>\n",
       "    </tr>\n",
       "    <tr>\n",
       "      <th>1</th>\n",
       "      <td>alpha</td>\n",
       "      <td>2.0</td>\n",
       "    </tr>\n",
       "  </tbody>\n",
       "</table>\n",
       "</div>"
      ],
      "text/plain": [
       "  parameter  value\n",
       "0      Lmin    1.0\n",
       "1     alpha    2.0"
      ]
     },
     "metadata": {},
     "output_type": "display_data"
    },
    {
     "data": {
      "text/markdown": [
       "## Spatial Function"
      ],
      "text/plain": [
       "<IPython.core.display.Markdown object>"
      ]
     },
     "metadata": {},
     "output_type": "display_data"
    },
    {
     "data": {
      "text/latex": [
       "$\\displaystyle \\Lambda$"
      ],
      "text/plain": [
       "<IPython.core.display.Math object>"
      ]
     },
     "metadata": {},
     "output_type": "display_data"
    },
    {
     "data": {
      "text/html": [
       "<div>\n",
       "<style scoped>\n",
       "    .dataframe tbody tr th:only-of-type {\n",
       "        vertical-align: middle;\n",
       "    }\n",
       "\n",
       "    .dataframe tbody tr th {\n",
       "        vertical-align: top;\n",
       "    }\n",
       "\n",
       "    .dataframe thead th {\n",
       "        text-align: right;\n",
       "    }\n",
       "</style>\n",
       "<table border=\"1\" class=\"dataframe\">\n",
       "  <thead>\n",
       "    <tr style=\"text-align: right;\">\n",
       "      <th></th>\n",
       "      <th>parameter</th>\n",
       "      <th>value</th>\n",
       "    </tr>\n",
       "  </thead>\n",
       "  <tbody>\n",
       "    <tr>\n",
       "      <th>0</th>\n",
       "      <td>Lambda</td>\n",
       "      <td>5</td>\n",
       "    </tr>\n",
       "    <tr>\n",
       "      <th>1</th>\n",
       "      <td>r_max</td>\n",
       "      <td>5</td>\n",
       "    </tr>\n",
       "  </tbody>\n",
       "</table>\n",
       "</div>"
      ],
      "text/plain": [
       "  parameter  value\n",
       "0    Lambda      5\n",
       "1     r_max      5"
      ]
     },
     "metadata": {},
     "output_type": "display_data"
    }
   ],
   "source": [
    "homogeneous_pareto_synth.display()\n"
   ]
  },
  {
   "cell_type": "markdown",
   "id": "c3f8cbdc",
   "metadata": {},
   "source": [
    "If you have [networkx](https://networkx.org) and\n",
    "[graviz](https://graphviz.readthedocs.io/en/stable/), you can plot a\n",
    "graph of the connections."
   ]
  },
  {
   "cell_type": "code",
   "execution_count": 5,
   "id": "054d0604",
   "metadata": {
    "execution": {
     "iopub.execute_input": "2022-06-13T07:54:41.849211Z",
     "iopub.status.busy": "2022-06-13T07:54:41.848990Z",
     "iopub.status.idle": "2022-06-13T07:54:41.964805Z",
     "shell.execute_reply": "2022-06-13T07:54:41.964209Z"
    },
    "lines_to_next_cell": 2
   },
   "outputs": [
    {
     "data": {
      "image/png": "[encoded data removed]",
      "text/plain": [
       "<Figure size 576x504 with 1 Axes>"
      ]
     },
     "metadata": {},
     "output_type": "display_data"
    }
   ],
   "source": [
    "# we can also display a graph of the object\n",
    "\n",
    "\n",
    "options = {\"node_color\": purple, \"node_size\": 3000, \"width\": 0.5}\n",
    "\n",
    "pos = nx.drawing.nx_agraph.graphviz_layout(homogeneous_pareto_synth.graph, prog=\"dot\")\n",
    "\n",
    "nx.draw(homogeneous_pareto_synth.graph, with_labels=True, pos=pos, **options)"
   ]
  },
  {
   "cell_type": "markdown",
   "id": "a99be178",
   "metadata": {},
   "source": [
    "## Creating a survey\n",
    "\n",
    "We can now sample from this population with the **draw_survey**\n",
    "function, but first we need specify how the flux is selected by adding\n",
    "a flux selection function. Here, we will use a hard selection function\n",
    "in this example, but you [can make your\n",
    "own](https://popsynth.readthedocs.io/en/latest/notebooks/selections.html#custom-selections). The\n",
    "selection function will mark objects with **observed** fluxes below\n",
    "the selection boundary as \"hidden\", but we will still have access to\n",
    "them in our population. "
   ]
  },
  {
   "cell_type": "code",
   "execution_count": 6,
   "id": "18749a04",
   "metadata": {
    "execution": {
     "iopub.execute_input": "2022-06-13T07:54:41.968728Z",
     "iopub.status.busy": "2022-06-13T07:54:41.968246Z",
     "iopub.status.idle": "2022-06-13T07:54:41.971710Z",
     "shell.execute_reply": "2022-06-13T07:54:41.971196Z"
    },
    "lines_to_next_cell": 0
   },
   "outputs": [],
   "source": [
    "flux_selector = popsynth.HardFluxSelection()\n",
    "flux_selector.boundary = 1e-2\n",
    "\n",
    "homogeneous_pareto_synth.set_flux_selection(flux_selector)"
   ]
  },
  {
   "cell_type": "markdown",
   "id": "5807c891",
   "metadata": {},
   "source": [
    "And by observed fluxes, we mean those where the latent flux is obscured by observational error, here we sample the observational error from a log normal distribution with $\\sigma=1$. In the future, ```popsynth``` will have more options."
   ]
  },
  {
   "cell_type": "code",
   "execution_count": 7,
   "id": "2c668212",
   "metadata": {
    "execution": {
     "iopub.execute_input": "2022-06-13T07:54:41.974616Z",
     "iopub.status.busy": "2022-06-13T07:54:41.974192Z",
     "iopub.status.idle": "2022-06-13T07:54:42.119623Z",
     "shell.execute_reply": "2022-06-13T07:54:42.118968Z"
    }
   },
   "outputs": [
    {
     "name": "stdout",
     "output_type": "stream",
     "text": [
      "\u001b[32m\u001b[1m INFO     \u001b[0m| \u001b[32m\u001b[1m The volume integral is 2617.9938779914946 \u001b[0m\n"
     ]
    },
    {
     "data": {
      "application/vnd.jupyter.widget-view+json": {
       "model_id": "a86f8d6e026e43e69cf978d0c34e42ef",
       "version_major": 2,
       "version_minor": 0
      },
      "text/plain": [
       "Drawing distances:   0%|          | 0/2567 [00:00<?, ?it/s]"
      ]
     },
     "metadata": {},
     "output_type": "display_data"
    },
    {
     "name": "stdout",
     "output_type": "stream",
     "text": [
      "\u001b[32m\u001b[1m INFO     \u001b[0m| \u001b[32m\u001b[1m Expecting 2567 total objects \u001b[0m\n"
     ]
    },
    {
     "name": "stdout",
     "output_type": "stream",
     "text": [
      "\u001b[32m\u001b[1m INFO     \u001b[0m| \u001b[32m\u001b[1m applying selection to fluxes \u001b[0m\n"
     ]
    },
    {
     "name": "stdout",
     "output_type": "stream",
     "text": [
      "\u001b[32m\u001b[1m INFO     \u001b[0m| \u001b[32m\u001b[1m Detected 573 distances \u001b[0m\n"
     ]
    },
    {
     "name": "stdout",
     "output_type": "stream",
     "text": [
      "\u001b[32m\u001b[1m INFO     \u001b[0m| \u001b[32m\u001b[1m Detected 573 objects out to a distance of 4.99 \u001b[0m\n"
     ]
    }
   ],
   "source": [
    "population = homogeneous_pareto_synth.draw_survey(flux_sigma=0.1)"
   ]
  },
  {
   "cell_type": "markdown",
   "id": "28e8fdf0",
   "metadata": {},
   "source": [
    "We now have created a population survey. How did we get here?\n",
    "\n",
    "* Once the spatial and luminosity functions are specified, we can integrate out to a given distance and compute the number of expected objects.\n",
    "\n",
    "* A Poisson draw with this mean is made to determine the number of total objects in the survey.\n",
    "\n",
    "* Next all quantities are sampled (distance, luminosity)\n",
    "\n",
    "* If needed, the luminosity is converted to a flux with a given observational error\n",
    "\n",
    "* The selection function (in this case a hard cutoff) is applied\n",
    "\n",
    "* A population object is created\n",
    "\n",
    "We could have specified a soft cutoff (an inverse logit) with logarithmic with as well:"
   ]
  },
  {
   "cell_type": "code",
   "execution_count": 8,
   "id": "77f7412a",
   "metadata": {
    "execution": {
     "iopub.execute_input": "2022-06-13T07:54:42.123051Z",
     "iopub.status.busy": "2022-06-13T07:54:42.122582Z",
     "iopub.status.idle": "2022-06-13T07:54:42.263450Z",
     "shell.execute_reply": "2022-06-13T07:54:42.262800Z"
    }
   },
   "outputs": [
    {
     "name": "stdout",
     "output_type": "stream",
     "text": [
      "\u001b[33m\u001b[2m WARNING  \u001b[0m| \u001b[33m\u001b[2m removing all registered Auxiliary Samplers \u001b[0m\n"
     ]
    },
    {
     "name": "stdout",
     "output_type": "stream",
     "text": [
      "\u001b[33m\u001b[2m WARNING  \u001b[0m| \u001b[33m\u001b[2m removing flux selector \u001b[0m\n"
     ]
    },
    {
     "name": "stdout",
     "output_type": "stream",
     "text": [
      "\u001b[33m\u001b[2m WARNING  \u001b[0m| \u001b[33m\u001b[2m removing distance selector \u001b[0m\n"
     ]
    },
    {
     "name": "stdout",
     "output_type": "stream",
     "text": [
      "\u001b[33m\u001b[2m WARNING  \u001b[0m| \u001b[33m\u001b[2m removing spatial selector \u001b[0m\n"
     ]
    },
    {
     "name": "stdout",
     "output_type": "stream",
     "text": [
      "\u001b[32m\u001b[1m INFO     \u001b[0m| \u001b[32m\u001b[1m The volume integral is 2617.9938779914946 \u001b[0m\n"
     ]
    },
    {
     "data": {
      "application/vnd.jupyter.widget-view+json": {
       "model_id": "7eb9a6477f44458a98907056ff707803",
       "version_major": 2,
       "version_minor": 0
      },
      "text/plain": [
       "Drawing distances:   0%|          | 0/2567 [00:00<?, ?it/s]"
      ]
     },
     "metadata": {},
     "output_type": "display_data"
    },
    {
     "name": "stdout",
     "output_type": "stream",
     "text": [
      "\u001b[32m\u001b[1m INFO     \u001b[0m| \u001b[32m\u001b[1m Expecting 2567 total objects \u001b[0m\n"
     ]
    },
    {
     "name": "stdout",
     "output_type": "stream",
     "text": [
      "\u001b[32m\u001b[1m INFO     \u001b[0m| \u001b[32m\u001b[1m applying selection to fluxes \u001b[0m\n"
     ]
    },
    {
     "name": "stdout",
     "output_type": "stream",
     "text": [
      "\u001b[32m\u001b[1m INFO     \u001b[0m| \u001b[32m\u001b[1m Detected 609 distances \u001b[0m\n"
     ]
    },
    {
     "name": "stdout",
     "output_type": "stream",
     "text": [
      "\u001b[32m\u001b[1m INFO     \u001b[0m| \u001b[32m\u001b[1m Detected 609 objects out to a distance of 4.99 \u001b[0m\n"
     ]
    }
   ],
   "source": [
    "homogeneous_pareto_synth.clean()\n",
    "flux_selector = popsynth.SoftFluxSelection()\n",
    "flux_selector.boundary = 1e-2\n",
    "flux_selector.strength = 20\n",
    "\n",
    "\n",
    "homogeneous_pareto_synth.set_flux_selection(flux_selector)\n",
    "\n",
    "population = homogeneous_pareto_synth.draw_survey(flux_sigma=0.1)"
   ]
  },
  {
   "cell_type": "markdown",
   "id": "18aa752c",
   "metadata": {},
   "source": [
    "More detail on the [process behind the\n",
    "simulation](https://popsynth.readthedocs.io/en/latest/notebooks/distributions.html#Core-Concept)\n",
    "can be found deeper in the documentation\n",
    "\n",
    "## The Population Object\n",
    "\n",
    "The population object stores all the information about the sampled\n",
    "survey. This includes information on the latent parameters, measured\n",
    "parameters, and distances for both the selected and non-selected\n",
    "objects."
   ]
  },
  {
   "cell_type": "markdown",
   "id": "f7dd0910",
   "metadata": {},
   "source": [
    "We can have a look at the flux-distance distribution from the\n",
    "survey. Here, yellow dots are the *latent* flux value, i.e., without\n",
    "observational noise, and purple dots are the *measured values for the\n",
    "*selected* objects. Arrows point from the latent to measured values."
   ]
  },
  {
   "cell_type": "code",
   "execution_count": 9,
   "id": "12f3ecd3",
   "metadata": {
    "execution": {
     "iopub.execute_input": "2022-06-13T07:54:42.266839Z",
     "iopub.status.busy": "2022-06-13T07:54:42.266466Z",
     "iopub.status.idle": "2022-06-13T07:54:43.185076Z",
     "shell.execute_reply": "2022-06-13T07:54:43.184297Z"
    }
   },
   "outputs": [
    {
     "data": {
      "image/png": "[encoded data removed]",
      "text/plain": [
       "<Figure size 576x504 with 1 Axes>"
      ]
     },
     "metadata": {},
     "output_type": "display_data"
    }
   ],
   "source": [
    "fig = population.display_fluxes(obs_color=purple, true_color=yellow)"
   ]
  },
  {
   "cell_type": "markdown",
   "id": "bc2fc7ab",
   "metadata": {},
   "source": [
    "For fun, we can display the fluxes on in a simulated universe in 3D"
   ]
  },
  {
   "cell_type": "code",
   "execution_count": 10,
   "id": "dac2e04c",
   "metadata": {
    "execution": {
     "iopub.execute_input": "2022-06-13T07:54:43.188620Z",
     "iopub.status.busy": "2022-06-13T07:54:43.188139Z",
     "iopub.status.idle": "2022-06-13T07:54:43.505383Z",
     "shell.execute_reply": "2022-06-13T07:54:43.504755Z"
    }
   },
   "outputs": [
    {
     "data": {
      "application/vnd.jupyter.widget-view+json": {
       "model_id": "8932dcc116744366beafe2f36f78e00b",
       "version_major": 2,
       "version_minor": 0
      },
      "text/plain": [
       "VBox(children=(Figure(camera=PerspectiveCamera(fov=46.0, position=(0.0, 0.0, 2.0), projectionMatrix=(1.0, 0.0,…"
      ]
     },
     "metadata": {},
     "output_type": "display_data"
    }
   ],
   "source": [
    "fig = population.display_obs_fluxes_sphere(background_color=\"black\")"
   ]
  },
  {
   "cell_type": "markdown",
   "id": "71492951",
   "metadata": {},
   "source": [
    "The population object stores a lot of information. For example, an array of selection booleans:"
   ]
  },
  {
   "cell_type": "code",
   "execution_count": 11,
   "id": "6a141527",
   "metadata": {
    "execution": {
     "iopub.execute_input": "2022-06-13T07:54:43.515180Z",
     "iopub.status.busy": "2022-06-13T07:54:43.514447Z",
     "iopub.status.idle": "2022-06-13T07:54:43.520841Z",
     "shell.execute_reply": "2022-06-13T07:54:43.520246Z"
    }
   },
   "outputs": [
    {
     "data": {
      "text/plain": [
       "array([False, False, False, ..., False, False, False])"
      ]
     },
     "execution_count": 11,
     "metadata": {},
     "output_type": "execute_result"
    }
   ],
   "source": [
    "population.selection"
   ]
  },
  {
   "cell_type": "markdown",
   "id": "e2f4f48f",
   "metadata": {},
   "source": [
    "Every variable that is simulated is stored as a `SimulatedVariable` object. This\n",
    "object acts as a normal numpy array with a few special properties. The main view\n",
    "of the array are the **observed** values. These are values that can be obscured\n",
    "from the **latent** values by measurement error.\n",
    "\n",
    "Let's examine the observed flux."
   ]
  },
  {
   "cell_type": "code",
   "execution_count": 12,
   "id": "0ecbd8b7",
   "metadata": {
    "execution": {
     "iopub.execute_input": "2022-06-13T07:54:43.524119Z",
     "iopub.status.busy": "2022-06-13T07:54:43.523767Z",
     "iopub.status.idle": "2022-06-13T07:54:43.530363Z",
     "shell.execute_reply": "2022-06-13T07:54:43.529767Z"
    }
   },
   "outputs": [
    {
     "data": {
      "text/plain": [
       "array([0.00407874, 0.00411367, 0.00478737, ..., 0.00253392, 0.00445139,\n",
       "       0.00333201])"
      ]
     },
     "execution_count": 12,
     "metadata": {},
     "output_type": "execute_result"
    }
   ],
   "source": [
    "\n",
    "# the observed values\n",
    "\n",
    "population.fluxes\n",
    "\n",
    "# the latent values\n",
    "\n",
    "population.fluxes.latent\n"
   ]
  },
  {
   "cell_type": "markdown",
   "id": "045a0409",
   "metadata": {},
   "source": [
    "Any math operation on the a simulated variable is applied to the latent values\n",
    "as well. Thus, it is easy to manipulate both in one operation. When a variable\n",
    "is not marked as observed, this implies that the **latent** (true) values and\n",
    "the **observed** values will be the same. Thus, the values stored will be the\n",
    "same.\n",
    "\n",
    "To access the selected or non-selected values of a variable:"
   ]
  },
  {
   "cell_type": "code",
   "execution_count": 13,
   "id": "846fd84b",
   "metadata": {
    "execution": {
     "iopub.execute_input": "2022-06-13T07:54:43.533550Z",
     "iopub.status.busy": "2022-06-13T07:54:43.533213Z",
     "iopub.status.idle": "2022-06-13T07:54:43.537630Z",
     "shell.execute_reply": "2022-06-13T07:54:43.537048Z"
    }
   },
   "outputs": [],
   "source": [
    "\n",
    "selected_fluxes = population.fluxes.selected\n",
    "\n",
    "non_selected_fluxes = population.fluxes.non_selected\n",
    "\n"
   ]
  },
  {
   "cell_type": "markdown",
   "id": "ef3f7cbd",
   "metadata": {},
   "source": [
    "This returns another `SimulatedVaraible` object which allows access to the\n",
    "latent and observed values as well.\n"
   ]
  },
  {
   "cell_type": "markdown",
   "id": "12550ddd",
   "metadata": {},
   "source": [
    "We can retrieve selected and non-selected distances:"
   ]
  },
  {
   "cell_type": "code",
   "execution_count": 14,
   "id": "5250a845",
   "metadata": {
    "execution": {
     "iopub.execute_input": "2022-06-13T07:54:43.540622Z",
     "iopub.status.busy": "2022-06-13T07:54:43.540400Z",
     "iopub.status.idle": "2022-06-13T07:54:43.544513Z",
     "shell.execute_reply": "2022-06-13T07:54:43.543928Z"
    }
   },
   "outputs": [],
   "source": [
    "distances = population.distances.selected"
   ]
  },
  {
   "cell_type": "code",
   "execution_count": 15,
   "id": "3bc77806",
   "metadata": {
    "execution": {
     "iopub.execute_input": "2022-06-13T07:54:43.547213Z",
     "iopub.status.busy": "2022-06-13T07:54:43.546989Z",
     "iopub.status.idle": "2022-06-13T07:54:43.550216Z",
     "shell.execute_reply": "2022-06-13T07:54:43.549567Z"
    }
   },
   "outputs": [],
   "source": [
    "hidden_distances = population.distances.non_selected"
   ]
  },
  {
   "cell_type": "code",
   "execution_count": 16,
   "id": "b2a6297f",
   "metadata": {
    "execution": {
     "iopub.execute_input": "2022-06-13T07:54:43.552892Z",
     "iopub.status.busy": "2022-06-13T07:54:43.552666Z",
     "iopub.status.idle": "2022-06-13T07:54:43.704382Z",
     "shell.execute_reply": "2022-06-13T07:54:43.703781Z"
    }
   },
   "outputs": [
    {
     "data": {
      "text/plain": [
       "Text(0.5, 0, 'z')"
      ]
     },
     "execution_count": 16,
     "metadata": {},
     "output_type": "execute_result"
    },
    {
     "data": {
      "image/png": "[encoded data removed]",
      "text/plain": [
       "<Figure size 576x504 with 1 Axes>"
      ]
     },
     "metadata": {},
     "output_type": "display_data"
    }
   ],
   "source": [
    "fig, ax = plt.subplots()\n",
    "\n",
    "bins = np.linspace(0, 6, 20)\n",
    "\n",
    "\n",
    "ax.hist(hidden_distances, bins=bins, fc=yellow, ec=\"k\",lw=1)\n",
    "ax.hist(distances, bins=bins, fc=purple, ec=\"k\",lw=1)\n",
    "ax.set_xlabel(\"z\")\n"
   ]
  },
  {
   "cell_type": "markdown",
   "id": "9b926af3",
   "metadata": {},
   "source": [
    "## Saving the population\n",
    "We can record the results of a population synth to an HDF5 file that\n",
    "maintains all the information from the run. The true values of the\n",
    "population parameters are always stored in the truth dictionary:\n"
   ]
  },
  {
   "cell_type": "code",
   "execution_count": 17,
   "id": "e983bcef",
   "metadata": {
    "execution": {
     "iopub.execute_input": "2022-06-13T07:54:43.707789Z",
     "iopub.status.busy": "2022-06-13T07:54:43.707533Z",
     "iopub.status.idle": "2022-06-13T07:54:43.711961Z",
     "shell.execute_reply": "2022-06-13T07:54:43.711429Z"
    }
   },
   "outputs": [
    {
     "data": {
      "text/plain": [
       "{'cons_sphere': {'Lambda': 5, 'r_max': 5}, 'pareto': {'Lmin': 1, 'alpha': 2.0}}"
      ]
     },
     "execution_count": 17,
     "metadata": {},
     "output_type": "execute_result"
    }
   ],
   "source": [
    "population.truth"
   ]
  },
  {
   "cell_type": "code",
   "execution_count": 18,
   "id": "81dc4385",
   "metadata": {
    "execution": {
     "iopub.execute_input": "2022-06-13T07:54:43.714825Z",
     "iopub.status.busy": "2022-06-13T07:54:43.714599Z",
     "iopub.status.idle": "2022-06-13T07:54:43.732098Z",
     "shell.execute_reply": "2022-06-13T07:54:43.731503Z"
    }
   },
   "outputs": [],
   "source": [
    "population.writeto(\"saved_pop.h5\")"
   ]
  },
  {
   "cell_type": "code",
   "execution_count": 19,
   "id": "04264721",
   "metadata": {
    "execution": {
     "iopub.execute_input": "2022-06-13T07:54:43.734828Z",
     "iopub.status.busy": "2022-06-13T07:54:43.734604Z",
     "iopub.status.idle": "2022-06-13T07:54:43.759187Z",
     "shell.execute_reply": "2022-06-13T07:54:43.758513Z"
    }
   },
   "outputs": [],
   "source": [
    "reloaded_population = popsynth.Population.from_file(\"saved_pop.h5\")"
   ]
  },
  {
   "cell_type": "code",
   "execution_count": 20,
   "id": "93ece1f0",
   "metadata": {
    "execution": {
     "iopub.execute_input": "2022-06-13T07:54:43.762410Z",
     "iopub.status.busy": "2022-06-13T07:54:43.762172Z",
     "iopub.status.idle": "2022-06-13T07:54:43.766578Z",
     "shell.execute_reply": "2022-06-13T07:54:43.765936Z"
    }
   },
   "outputs": [
    {
     "data": {
      "text/plain": [
       "{'cons_sphere': {'Lambda': 5, 'r_max': 5}, 'pareto': {'Lmin': 1, 'alpha': 2.0}}"
      ]
     },
     "execution_count": 20,
     "metadata": {},
     "output_type": "execute_result"
    }
   ],
   "source": [
    "reloaded_population.truth"
   ]
  },
  {
   "cell_type": "markdown",
   "id": "efc5ba94",
   "metadata": {},
   "source": [
    "## Creating populations from YAML files\n",
    "\n",
    "It is sometimes easier to quickly write down population in a YAML file\n",
    "without having to create all the objects in python. Let's a take a\n",
    "look at the format:\n",
    "\n",
    "```yaml\n",
    "\n",
    "# the seed\n",
    "seed: 1234\n",
    "\n",
    "# specifiy the luminosity distribution\n",
    "# and it's parmeters\n",
    "luminosity distribution:\n",
    "    ParetoDistribution:\n",
    "        Lmin: 1e51\n",
    "        alpha: 2\n",
    "\n",
    "# specifiy the flux selection function\n",
    "# and it's parmeters\n",
    "flux selection:\n",
    "    HardFluxSelection:\n",
    "        boundary: 1e-6\n",
    "\n",
    "# specifiy the spatial distribution\n",
    "# and it's parmeters\n",
    "\n",
    "spatial distribution:\n",
    "    ZPowerCosmoDistribution:\n",
    "        Lambda: .5\n",
    "        delta: -2\n",
    "        r_max: 5\n",
    "\n",
    "# specify the distance selection function\n",
    "# and it's parmeters\n",
    "distance selection:\n",
    "    BernoulliSelection:\n",
    "        probability: 0.5\n",
    "\n",
    "# a spatial selection if needed\n",
    "spatial selection:\n",
    "    # None\n",
    "\n",
    "\n",
    "# all the auxiliary functions\n",
    "# these must be known to the\n",
    "# registry at run time if\n",
    "# the are custom!\n",
    "\n",
    "auxiliary samplers:\n",
    "    stellar_mass\n",
    "        type: NormalAuxSampler\n",
    "        observed: False\n",
    "        mu: 0\n",
    "        sigma: 1\n",
    "        selection:\n",
    "        secondary:\n",
    "        init variables:\n",
    "\n",
    "    demo:\n",
    "        type: DemoSampler\n",
    "        observed: False\n",
    "        selection:\n",
    "            UpperBound:\n",
    "                boundary: 20\n",
    "\n",
    "    demo2:\n",
    "        type: DemoSampler2\n",
    "        observed: True\n",
    "        selection:\n",
    "        secondary: [demo, stellar_mass] # other samplers that this sampler depends on\n",
    "\n",
    "\n",
    "```\n",
    "\n",
    "We can load this yaml file into a population synth. We use a saved file to demonstrate:"
   ]
  },
  {
   "cell_type": "code",
   "execution_count": 21,
   "id": "e7a1a458",
   "metadata": {
    "execution": {
     "iopub.execute_input": "2022-06-13T07:54:43.770230Z",
     "iopub.status.busy": "2022-06-13T07:54:43.770008Z",
     "iopub.status.idle": "2022-06-13T07:54:43.781859Z",
     "shell.execute_reply": "2022-06-13T07:54:43.781205Z"
    }
   },
   "outputs": [
    {
     "name": "stdout",
     "output_type": "stream",
     "text": [
      "\u001b[32m\u001b[1m INFO     \u001b[0m| \u001b[32m\u001b[1m registering derived luminosity sampler: demo2 \u001b[0m\n"
     ]
    },
    {
     "name": "stdout",
     "output_type": "stream",
     "text": [
      "Luminosity Function\n",
      "demo2\n",
      "observed: True\n",
      "demo\n",
      "stellar_mass\n",
      "Spatial Function\n",
      "zpow_cosmo\n",
      "\\Lambda (z+1)^{\\delta}\n",
      "Lambda: 0.5\n",
      "delta: -2.0\n",
      "r_max: 5.0\n",
      "demo\n",
      "observed: False\n",
      "parents: ['demo2']\n",
      "stellar_mass\n",
      "observed: False\n",
      "mu: 0.0\n",
      "sigma: 1.0\n",
      "parents: ['demo2']\n",
      "\n"
     ]
    }
   ],
   "source": [
    "my_file = popsynth.utils.package_data.get_path_of_data_file(\"pop.yml\")\n",
    "\n",
    "ps = popsynth.PopulationSynth.from_file(my_file)\n",
    "\n",
    "print(ps)"
   ]
  },
  {
   "cell_type": "code",
   "execution_count": 22,
   "id": "d2de0bfb",
   "metadata": {
    "execution": {
     "iopub.execute_input": "2022-06-13T07:54:43.784994Z",
     "iopub.status.busy": "2022-06-13T07:54:43.784770Z",
     "iopub.status.idle": "2022-06-13T07:54:43.806998Z",
     "shell.execute_reply": "2022-06-13T07:54:43.806330Z"
    }
   },
   "outputs": [
    {
     "data": {
      "text/markdown": [
       "## Luminosity Function"
      ],
      "text/plain": [
       "<IPython.core.display.Markdown object>"
      ]
     },
     "metadata": {},
     "output_type": "display_data"
    },
    {
     "data": {
      "text/html": [
       "<div>\n",
       "<style scoped>\n",
       "    .dataframe tbody tr th:only-of-type {\n",
       "        vertical-align: middle;\n",
       "    }\n",
       "\n",
       "    .dataframe tbody tr th {\n",
       "        vertical-align: top;\n",
       "    }\n",
       "\n",
       "    .dataframe thead th {\n",
       "        text-align: right;\n",
       "    }\n",
       "</style>\n",
       "<table border=\"1\" class=\"dataframe\">\n",
       "  <thead>\n",
       "    <tr style=\"text-align: right;\">\n",
       "      <th></th>\n",
       "      <th>parameter</th>\n",
       "      <th>value</th>\n",
       "    </tr>\n",
       "  </thead>\n",
       "  <tbody>\n",
       "  </tbody>\n",
       "</table>\n",
       "</div>"
      ],
      "text/plain": [
       "Empty DataFrame\n",
       "Columns: [parameter, value]\n",
       "Index: []"
      ]
     },
     "metadata": {},
     "output_type": "display_data"
    },
    {
     "data": {
      "text/markdown": [
       "## Spatial Function"
      ],
      "text/plain": [
       "<IPython.core.display.Markdown object>"
      ]
     },
     "metadata": {},
     "output_type": "display_data"
    },
    {
     "data": {
      "text/latex": [
       "$\\displaystyle \\Lambda (z+1)^{\\delta}$"
      ],
      "text/plain": [
       "<IPython.core.display.Math object>"
      ]
     },
     "metadata": {},
     "output_type": "display_data"
    },
    {
     "data": {
      "text/html": [
       "<div>\n",
       "<style scoped>\n",
       "    .dataframe tbody tr th:only-of-type {\n",
       "        vertical-align: middle;\n",
       "    }\n",
       "\n",
       "    .dataframe tbody tr th {\n",
       "        vertical-align: top;\n",
       "    }\n",
       "\n",
       "    .dataframe thead th {\n",
       "        text-align: right;\n",
       "    }\n",
       "</style>\n",
       "<table border=\"1\" class=\"dataframe\">\n",
       "  <thead>\n",
       "    <tr style=\"text-align: right;\">\n",
       "      <th></th>\n",
       "      <th>parameter</th>\n",
       "      <th>value</th>\n",
       "    </tr>\n",
       "  </thead>\n",
       "  <tbody>\n",
       "    <tr>\n",
       "      <th>0</th>\n",
       "      <td>Lambda</td>\n",
       "      <td>0.5</td>\n",
       "    </tr>\n",
       "    <tr>\n",
       "      <th>1</th>\n",
       "      <td>delta</td>\n",
       "      <td>-2.0</td>\n",
       "    </tr>\n",
       "    <tr>\n",
       "      <th>2</th>\n",
       "      <td>r_max</td>\n",
       "      <td>5.0</td>\n",
       "    </tr>\n",
       "  </tbody>\n",
       "</table>\n",
       "</div>"
      ],
      "text/plain": [
       "  parameter  value\n",
       "0    Lambda    0.5\n",
       "1     delta   -2.0\n",
       "2     r_max    5.0"
      ]
     },
     "metadata": {},
     "output_type": "display_data"
    },
    {
     "data": {
      "text/markdown": [
       "## demo"
      ],
      "text/plain": [
       "<IPython.core.display.Markdown object>"
      ]
     },
     "metadata": {},
     "output_type": "display_data"
    },
    {
     "data": {
      "text/html": [
       "<div>\n",
       "<style scoped>\n",
       "    .dataframe tbody tr th:only-of-type {\n",
       "        vertical-align: middle;\n",
       "    }\n",
       "\n",
       "    .dataframe tbody tr th {\n",
       "        vertical-align: top;\n",
       "    }\n",
       "\n",
       "    .dataframe thead th {\n",
       "        text-align: right;\n",
       "    }\n",
       "</style>\n",
       "<table border=\"1\" class=\"dataframe\">\n",
       "  <thead>\n",
       "    <tr style=\"text-align: right;\">\n",
       "      <th></th>\n",
       "      <th>parameter</th>\n",
       "      <th>value</th>\n",
       "    </tr>\n",
       "  </thead>\n",
       "  <tbody>\n",
       "  </tbody>\n",
       "</table>\n",
       "</div>"
      ],
      "text/plain": [
       "Empty DataFrame\n",
       "Columns: [parameter, value]\n",
       "Index: []"
      ]
     },
     "metadata": {},
     "output_type": "display_data"
    },
    {
     "data": {
      "text/markdown": [
       "## stellar_mass"
      ],
      "text/plain": [
       "<IPython.core.display.Markdown object>"
      ]
     },
     "metadata": {},
     "output_type": "display_data"
    },
    {
     "data": {
      "text/html": [
       "<div>\n",
       "<style scoped>\n",
       "    .dataframe tbody tr th:only-of-type {\n",
       "        vertical-align: middle;\n",
       "    }\n",
       "\n",
       "    .dataframe tbody tr th {\n",
       "        vertical-align: top;\n",
       "    }\n",
       "\n",
       "    .dataframe thead th {\n",
       "        text-align: right;\n",
       "    }\n",
       "</style>\n",
       "<table border=\"1\" class=\"dataframe\">\n",
       "  <thead>\n",
       "    <tr style=\"text-align: right;\">\n",
       "      <th></th>\n",
       "      <th>parameter</th>\n",
       "      <th>value</th>\n",
       "    </tr>\n",
       "  </thead>\n",
       "  <tbody>\n",
       "    <tr>\n",
       "      <th>0</th>\n",
       "      <td>mu</td>\n",
       "      <td>0.0</td>\n",
       "    </tr>\n",
       "    <tr>\n",
       "      <th>1</th>\n",
       "      <td>sigma</td>\n",
       "      <td>1.0</td>\n",
       "    </tr>\n",
       "  </tbody>\n",
       "</table>\n",
       "</div>"
      ],
      "text/plain": [
       "  parameter  value\n",
       "0        mu    0.0\n",
       "1     sigma    1.0"
      ]
     },
     "metadata": {},
     "output_type": "display_data"
    }
   ],
   "source": [
    "ps.display()"
   ]
  },
  {
   "cell_type": "code",
   "execution_count": 23,
   "id": "5f4e1d80",
   "metadata": {
    "execution": {
     "iopub.execute_input": "2022-06-13T07:54:43.810204Z",
     "iopub.status.busy": "2022-06-13T07:54:43.809974Z",
     "iopub.status.idle": "2022-06-13T07:54:43.922401Z",
     "shell.execute_reply": "2022-06-13T07:54:43.921799Z"
    },
    "lines_to_next_cell": 2
   },
   "outputs": [
    {
     "data": {
      "image/png": "[encoded data removed]",
      "text/plain": [
       "<Figure size 576x504 with 1 Axes>"
      ]
     },
     "metadata": {},
     "output_type": "display_data"
    }
   ],
   "source": [
    "options = {\"node_color\": purple, \"node_size\": 3000, \"width\": 0.5}\n",
    "\n",
    "pos = nx.drawing.nx_agraph.graphviz_layout(ps.graph, prog=\"dot\")\n",
    "\n",
    "nx.draw(ps.graph, with_labels=True, pos=pos, **options)"
   ]
  },
  {
   "cell_type": "markdown",
   "id": "5fd83246",
   "metadata": {},
   "source": [
    "We can see that our population was created correctly for us.\n",
    "\n",
    "\n",
    "Now, this means we can easily pass populations around to our collaborators for testing"
   ]
  },
  {
   "cell_type": "code",
   "execution_count": 24,
   "id": "9efb483a",
   "metadata": {
    "execution": {
     "iopub.execute_input": "2022-06-13T07:54:43.926882Z",
     "iopub.status.busy": "2022-06-13T07:54:43.925802Z",
     "iopub.status.idle": "2022-06-13T07:54:48.261283Z",
     "shell.execute_reply": "2022-06-13T07:54:48.260643Z"
    }
   },
   "outputs": [
    {
     "name": "stdout",
     "output_type": "stream",
     "text": [
      "\u001b[32m\u001b[1m INFO     \u001b[0m| \u001b[32m\u001b[1m The volume integral is 3.5702831713758014 \u001b[0m\n"
     ]
    },
    {
     "data": {
      "application/vnd.jupyter.widget-view+json": {
       "model_id": "c93344ba6dd7473c8bb3be15f9c444a2",
       "version_major": 2,
       "version_minor": 0
      },
      "text/plain": [
       "Drawing distances:   0%|          | 0/5 [00:00<?, ?it/s]"
      ]
     },
     "metadata": {},
     "output_type": "display_data"
    },
    {
     "name": "stdout",
     "output_type": "stream",
     "text": [
      "\u001b[32m\u001b[1m INFO     \u001b[0m| \u001b[32m\u001b[1m Expecting 5 total objects \u001b[0m\n"
     ]
    },
    {
     "name": "stdout",
     "output_type": "stream",
     "text": [
      "\u001b[32m\u001b[1m INFO     \u001b[0m| \u001b[32m\u001b[1m Sampling: demo2 \u001b[0m\n"
     ]
    },
    {
     "name": "stdout",
     "output_type": "stream",
     "text": [
      "\u001b[32m\u001b[1m INFO     \u001b[0m| \u001b[32m\u001b[1m demo2 is sampling its secondary quantities \u001b[0m\n"
     ]
    },
    {
     "name": "stdout",
     "output_type": "stream",
     "text": [
      "\u001b[32m\u001b[1m INFO     \u001b[0m| \u001b[32m\u001b[1m Sampling: demo \u001b[0m\n"
     ]
    },
    {
     "name": "stdout",
     "output_type": "stream",
     "text": [
      "\u001b[32m\u001b[1m INFO     \u001b[0m| \u001b[32m\u001b[1m Sampling: stellar_mass \u001b[0m\n"
     ]
    },
    {
     "name": "stdout",
     "output_type": "stream",
     "text": [
      "\u001b[32m\u001b[1m INFO     \u001b[0m| \u001b[32m\u001b[1m Getting luminosity from derived sampler \u001b[0m\n"
     ]
    },
    {
     "name": "stdout",
     "output_type": "stream",
     "text": [
      "\u001b[32m\u001b[1m INFO     \u001b[0m| \u001b[32m\u001b[1m applying selection to fluxes \u001b[0m\n"
     ]
    },
    {
     "name": "stdout",
     "output_type": "stream",
     "text": [
      "\u001b[32m\u001b[1m INFO     \u001b[0m| \u001b[32m\u001b[1m Applying selection from demo which selected 5 of 5 objects \u001b[0m\n"
     ]
    },
    {
     "name": "stdout",
     "output_type": "stream",
     "text": [
      "\u001b[32m\u001b[1m INFO     \u001b[0m| \u001b[32m\u001b[1m Before auxiliary selection there were 5 objects selected \u001b[0m\n"
     ]
    },
    {
     "name": "stdout",
     "output_type": "stream",
     "text": [
      "\u001b[33m\u001b[2m WARNING  \u001b[0m| \u001b[33m\u001b[2m NO HIDDEN OBJECTS \u001b[0m\n"
     ]
    },
    {
     "data": {
      "application/vnd.jupyter.widget-view+json": {
       "model_id": "cefba4059df0443aa0d1c37f3e87a261",
       "version_major": 2,
       "version_minor": 0
      },
      "text/plain": [
       "Selecting Bernoulli:   0%|          | 0/5 [00:00<?, ?it/s]"
      ]
     },
     "metadata": {},
     "output_type": "display_data"
    },
    {
     "name": "stdout",
     "output_type": "stream",
     "text": [
      "\u001b[32m\u001b[1m INFO     \u001b[0m| \u001b[32m\u001b[1m Detected 3 distances \u001b[0m\n"
     ]
    },
    {
     "name": "stdout",
     "output_type": "stream",
     "text": [
      "\u001b[32m\u001b[1m INFO     \u001b[0m| \u001b[32m\u001b[1m Detected 5 objects out to a distance of 3.37 \u001b[0m\n"
     ]
    }
   ],
   "source": [
    "pop = ps.draw_survey(flux_sigma=0.5)"
   ]
  },
  {
   "cell_type": "markdown",
   "id": "5bf08012",
   "metadata": {},
   "source": [
    "Now, since we can read the population synth from a file, we can also write one we have created with classes to a file:"
   ]
  },
  {
   "cell_type": "code",
   "execution_count": 25,
   "id": "0c3368ed",
   "metadata": {
    "execution": {
     "iopub.execute_input": "2022-06-13T07:54:48.264937Z",
     "iopub.status.busy": "2022-06-13T07:54:48.264536Z",
     "iopub.status.idle": "2022-06-13T07:54:48.269695Z",
     "shell.execute_reply": "2022-06-13T07:54:48.269164Z"
    }
   },
   "outputs": [
    {
     "data": {
      "text/plain": [
       "{'seed': 1234,\n",
       " 'spatial distribution': {'ZPowerCosmoDistribution': {'Lambda': 0.5,\n",
       "   'delta': -2.0,\n",
       "   'r_max': 5.0},\n",
       "  'is_rate': True},\n",
       " 'luminosity distribution': {'ParetoDistribution': {'Lmin': 1e+51,\n",
       "   'alpha': 2.0}},\n",
       " 'flux selection': {'HardFluxSelection': {'boundary': 1e-06}},\n",
       " 'distance selection': {'BernoulliSelection': {'probability': 0.5}},\n",
       " 'auxiliary samplers': {}}"
      ]
     },
     "execution_count": 25,
     "metadata": {},
     "output_type": "execute_result"
    }
   ],
   "source": [
    "ps.to_dict()"
   ]
  },
  {
   "cell_type": "code",
   "execution_count": 26,
   "id": "e3aba146",
   "metadata": {
    "execution": {
     "iopub.execute_input": "2022-06-13T07:54:48.273222Z",
     "iopub.status.busy": "2022-06-13T07:54:48.272994Z",
     "iopub.status.idle": "2022-06-13T07:54:48.278333Z",
     "shell.execute_reply": "2022-06-13T07:54:48.277744Z"
    }
   },
   "outputs": [],
   "source": [
    "ps.write_to(\"/tmp/my_pop_synth.yml\")"
   ]
  },
  {
   "cell_type": "markdown",
   "id": "b47f279c",
   "metadata": {},
   "source": [
    "but our population synth is also serialized to our population!"
   ]
  },
  {
   "cell_type": "code",
   "execution_count": 27,
   "id": "9de2d1df",
   "metadata": {
    "execution": {
     "iopub.execute_input": "2022-06-13T07:54:48.282248Z",
     "iopub.status.busy": "2022-06-13T07:54:48.280904Z",
     "iopub.status.idle": "2022-06-13T07:54:48.287951Z",
     "shell.execute_reply": "2022-06-13T07:54:48.287350Z"
    }
   },
   "outputs": [
    {
     "data": {
      "text/plain": [
       "{'seed': 1234,\n",
       " 'spatial distribution': {'ZPowerCosmoDistribution': {'Lambda': 0.5,\n",
       "   'delta': -2.0,\n",
       "   'r_max': 5.0},\n",
       "  'is_rate': True},\n",
       " 'luminosity distribution': {'ParetoDistribution': {'Lmin': 1e+51,\n",
       "   'alpha': 2.0}},\n",
       " 'flux selection': {'HardFluxSelection': {'boundary': 1e-06}},\n",
       " 'distance selection': {'BernoulliSelection': {'probability': 0.5}},\n",
       " 'auxiliary samplers': {}}"
      ]
     },
     "execution_count": 27,
     "metadata": {},
     "output_type": "execute_result"
    }
   ],
   "source": [
    "pop.pop_synth"
   ]
  },
  {
   "cell_type": "markdown",
   "id": "72b6eed9",
   "metadata": {},
   "source": [
    "Therefore we always know exactly how we simulated our data."
   ]
  }
 ],
 "metadata": {
  "jupytext": {
   "formats": "ipynb,md"
  },
  "kernelspec": {
   "display_name": "Python 3",
   "language": "python",
   "name": "python3"
  },
  "language_info": {
   "codemirror_mode": {
    "name": "ipython",
    "version": 3
   },
   "file_extension": ".py",
   "mimetype": "text/x-python",
   "name": "python",
   "nbconvert_exporter": "python",
   "pygments_lexer": "ipython3",
   "version": "3.9.13"
  },
  "widgets": {
   "application/vnd.jupyter.widget-state+json": {
    "state": {
     "05987226e9a142d4a3fe277a66f68e8c": {
      "model_module": "jupyter-threejs",
      "model_module_version": "^2.1.0",
      "model_name": "ShaderMaterialModel",
      "state": {
       "_model_module": "jupyter-threejs",
       "_model_module_version": "^2.1.0",
       "_model_name": "ShaderMaterialModel",
       "_view_count": null,
       "_view_module": null,
       "_view_module_version": "",
       "_view_name": null,
       "alphaTest": 0.0,
       "blendDst": "OneMinusSrcAlphaFactor",
       "blendDstAlpha": 0.0,
       "blendEquation": "AddEquation",
       "blendEquationAlpha": 0.0,
       "blendSrc": "SrcAlphaFactor",
       "blendSrcAlpha": 0.0,
       "blending": "NormalBlending",
       "clipIntersection": false,
       "clipShadows": false,
       "clipping": false,
       "clippingPlanes": [],
       "colorWrite": true,
       "defines": null,
       "depthFunc": "LessEqualDepth",
       "depthTest": true,
       "depthWrite": true,
       "dithering": false,
       "extensions": {},
       "flatShading": false,
       "fog": false,
       "fragmentShader": "",
       "lights": false,
       "linewidth": 1.0,
       "morphNormals": false,
       "morphTargets": false,
       "name": "",
       "opacity": 1.0,
       "overdraw": 0.0,
       "polygonOffset": false,
       "polygonOffsetFactor": 0.0,
       "polygonOffsetUnits": 0.0,
       "precision": null,
       "premultipliedAlpha": false,
       "shadowSide": null,
       "side": "FrontSide",
       "skinning": false,
       "transparent": false,
       "type": "ShaderMaterial",
       "uniforms": {},
       "uniformsNeedUpdate": false,
       "vertexColors": "NoColors",
       "vertexShader": "",
       "visible": true,
       "wireframe": false,
       "wireframeLinewidth": 1.0
      }
     },
     "0aedc435ddb54512b00b0531d504e81b": {
      "model_module": "@jupyter-widgets/base",
      "model_module_version": "1.2.0",
      "model_name": "LayoutModel",
      "state": {
       "_model_module": "@jupyter-widgets/base",
       "_model_module_version": "1.2.0",
       "_model_name": "LayoutModel",
       "_view_count": null,
       "_view_module": "@jupyter-widgets/base",
       "_view_module_version": "1.2.0",
       "_view_name": "LayoutView",
       "align_content": null,
       "align_items": null,
       "align_self": null,
       "border": null,
       "bottom": null,
       "display": null,
       "flex": null,
       "flex_flow": null,
       "grid_area": null,
       "grid_auto_columns": null,
       "grid_auto_flow": null,
       "grid_auto_rows": null,
       "grid_column": null,
       "grid_gap": null,
       "grid_row": null,
       "grid_template_areas": null,
       "grid_template_columns": null,
       "grid_template_rows": null,
       "height": null,
       "justify_content": null,
       "justify_items": null,
       "left": null,
       "margin": null,
       "max_height": null,
       "max_width": null,
       "min_height": null,
       "min_width": null,
       "object_fit": null,
       "object_position": null,
       "order": null,
       "overflow": null,
       "overflow_x": null,
       "overflow_y": null,
       "padding": null,
       "right": null,
       "top": null,
       "visibility": null,
       "width": null
      }
     },
     "1364d9aabbc94514b42fc0ef8547ce64": {
      "model_module": "@jupyter-widgets/base",
      "model_module_version": "1.2.0",
      "model_name": "LayoutModel",
      "state": {
       "_model_module": "@jupyter-widgets/base",
       "_model_module_version": "1.2.0",
       "_model_name": "LayoutModel",
       "_view_count": null,
       "_view_module": "@jupyter-widgets/base",
       "_view_module_version": "1.2.0",
       "_view_name": "LayoutView",
       "align_content": null,
       "align_items": null,
       "align_self": null,
       "border": null,
       "bottom": null,
       "display": null,
       "flex": null,
       "flex_flow": null,
       "grid_area": null,
       "grid_auto_columns": null,
       "grid_auto_flow": null,
       "grid_auto_rows": null,
       "grid_column": null,
       "grid_gap": null,
       "grid_row": null,
       "grid_template_areas": null,
       "grid_template_columns": null,
       "grid_template_rows": null,
       "height": null,
       "justify_content": null,
       "justify_items": null,
       "left": null,
       "margin": null,
       "max_height": null,
       "max_width": null,
       "min_height": null,
       "min_width": null,
       "object_fit": null,
       "object_position": null,
       "order": null,
       "overflow": null,
       "overflow_x": null,
       "overflow_y": null,
       "padding": null,
       "right": null,
       "top": null,
       "visibility": null,
       "width": null
      }
     },
     "17073ef7a48540fc8e70f0e5826ec4d2": {
      "model_module": "@jupyter-widgets/controls",
      "model_module_version": "1.5.0",
      "model_name": "HTMLModel",
      "state": {
       "_dom_classes": [],
       "_model_module": "@jupyter-widgets/controls",
       "_model_module_version": "1.5.0",
       "_model_name": "HTMLModel",
       "_view_count": null,
       "_view_module": "@jupyter-widgets/controls",
       "_view_module_version": "1.5.0",
       "_view_name": "HTMLView",
       "description": "",
       "description_tooltip": null,
       "layout": "IPY_MODEL_b89001fb29b8451db12be24bf5286f99",
       "placeholder": "​",
       "style": "IPY_MODEL_beaf6c722f614692bc536c13c78afd7d",
       "value": " 2567/2567 [00:00&lt;00:00, 34141.01it/s]"
      }
     },
     "19d27305456348a391acb1188eae5f25": {
      "model_module": "@jupyter-widgets/base",
      "model_module_version": "1.2.0",
      "model_name": "LayoutModel",
      "state": {
       "_model_module": "@jupyter-widgets/base",
       "_model_module_version": "1.2.0",
       "_model_name": "LayoutModel",
       "_view_count": null,
       "_view_module": "@jupyter-widgets/base",
       "_view_module_version": "1.2.0",
       "_view_name": "LayoutView",
       "align_content": null,
       "align_items": null,
       "align_self": null,
       "border": null,
       "bottom": null,
       "display": null,
       "flex": null,
       "flex_flow": null,
       "grid_area": null,
       "grid_auto_columns": null,
       "grid_auto_flow": null,
       "grid_auto_rows": null,
       "grid_column": null,
       "grid_gap": null,
       "grid_row": null,
       "grid_template_areas": null,
       "grid_template_columns": null,
       "grid_template_rows": null,
       "height": null,
       "justify_content": null,
       "justify_items": null,
       "left": null,
       "margin": null,
       "max_height": null,
       "max_width": null,
       "min_height": null,
       "min_width": null,
       "object_fit": null,
       "object_position": null,
       "order": null,
       "overflow": null,
       "overflow_x": null,
       "overflow_y": null,
       "padding": null,
       "right": null,
       "top": null,
       "visibility": null,
       "width": null
      }
     },
     "1ce44968b90344b38b7d95da7a7e9e15": {
      "model_module": "@jupyter-widgets/base",
      "model_module_version": "1.2.0",
      "model_name": "LayoutModel",
      "state": {
       "_model_module": "@jupyter-widgets/base",
       "_model_module_version": "1.2.0",
       "_model_name": "LayoutModel",
       "_view_count": null,
       "_view_module": "@jupyter-widgets/base",
       "_view_module_version": "1.2.0",
       "_view_name": "LayoutView",
       "align_content": null,
       "align_items": null,
       "align_self": null,
       "border": null,
       "bottom": null,
       "display": null,
       "flex": null,
       "flex_flow": null,
       "grid_area": null,
       "grid_auto_columns": null,
       "grid_auto_flow": null,
       "grid_auto_rows": null,
       "grid_column": null,
       "grid_gap": null,
       "grid_row": null,
       "grid_template_areas": null,
       "grid_template_columns": null,
       "grid_template_rows": null,
       "height": null,
       "justify_content": null,
       "justify_items": null,
       "left": null,
       "margin": null,
       "max_height": null,
       "max_width": null,
       "min_height": null,
       "min_width": null,
       "object_fit": null,
       "object_position": null,
       "order": null,
       "overflow": null,
       "overflow_x": null,
       "overflow_y": null,
       "padding": null,
       "right": null,
       "top": null,
       "visibility": null,
       "width": null
      }
     },
     "24fa79e69cc9493997cc74ecd7e78c04": {
      "model_module": "@jupyter-widgets/controls",
      "model_module_version": "1.5.0",
      "model_name": "HTMLModel",
      "state": {
       "_dom_classes": [],
       "_model_module": "@jupyter-widgets/controls",
       "_model_module_version": "1.5.0",
       "_model_name": "HTMLModel",
       "_view_count": null,
       "_view_module": "@jupyter-widgets/controls",
       "_view_module_version": "1.5.0",
       "_view_name": "HTMLView",
       "description": "",
       "description_tooltip": null,
       "layout": "IPY_MODEL_96e2b694d4bc40968ca3c38f0bb50a55",
       "placeholder": "​",
       "style": "IPY_MODEL_e2115aafda0b40829f6de4805e751dee",
       "value": "Drawing distances: 100%"
      }
     },
     "2abdbc3678e841ad9401ac9d79e89f60": {
      "model_module": "@jupyter-widgets/controls",
      "model_module_version": "1.5.0",
      "model_name": "HTMLModel",
      "state": {
       "_dom_classes": [],
       "_model_module": "@jupyter-widgets/controls",
       "_model_module_version": "1.5.0",
       "_model_name": "HTMLModel",
       "_view_count": null,
       "_view_module": "@jupyter-widgets/controls",
       "_view_module_version": "1.5.0",
       "_view_name": "HTMLView",
       "description": "",
       "description_tooltip": null,
       "layout": "IPY_MODEL_a9ef721e7ff94effb38cef8156f45d8a",
       "placeholder": "​",
       "style": "IPY_MODEL_d2d0d6e4110d4230920518dbf0c3954a",
       "value": "Drawing distances: 100%"
      }
     },
     "3190d7b491aa4c2eba5692c05dafcb2d": {
      "model_module": "@jupyter-widgets/base",
      "model_module_version": "1.2.0",
      "model_name": "LayoutModel",
      "state": {
       "_model_module": "@jupyter-widgets/base",
       "_model_module_version": "1.2.0",
       "_model_name": "LayoutModel",
       "_view_count": null,
       "_view_module": "@jupyter-widgets/base",
       "_view_module_version": "1.2.0",
       "_view_name": "LayoutView",
       "align_content": null,
       "align_items": null,
       "align_self": null,
       "border": null,
       "bottom": null,
       "display": null,
       "flex": null,
       "flex_flow": null,
       "grid_area": null,
       "grid_auto_columns": null,
       "grid_auto_flow": null,
       "grid_auto_rows": null,
       "grid_column": null,
       "grid_gap": null,
       "grid_row": null,
       "grid_template_areas": null,
       "grid_template_columns": null,
       "grid_template_rows": null,
       "height": null,
       "justify_content": null,
       "justify_items": null,
       "left": null,
       "margin": null,
       "max_height": null,
       "max_width": null,
       "min_height": null,
       "min_width": null,
       "object_fit": null,
       "object_position": null,
       "order": null,
       "overflow": null,
       "overflow_x": null,
       "overflow_y": null,
       "padding": null,
       "right": null,
       "top": null,
       "visibility": null,
       "width": null
      }
     },
     "327adbce69d74b8ea11d3a4419cf2aa1": {
      "model_module": "@jupyter-widgets/controls",
      "model_module_version": "1.5.0",
      "model_name": "ProgressStyleModel",
      "state": {
       "_model_module": "@jupyter-widgets/controls",
       "_model_module_version": "1.5.0",
       "_model_name": "ProgressStyleModel",
       "_view_count": null,
       "_view_module": "@jupyter-widgets/base",
       "_view_module_version": "1.2.0",
       "_view_name": "StyleView",
       "bar_color": "#B833FF",
       "description_width": ""
      }
     },
     "361bf4e4ea694b1e85aa435fc19dde99": {
      "model_module": "jupyter-threejs",
      "model_module_version": "^2.1.0",
      "model_name": "ShaderMaterialModel",
      "state": {
       "_model_module": "jupyter-threejs",
       "_model_module_version": "^2.1.0",
       "_model_name": "ShaderMaterialModel",
       "_view_count": null,
       "_view_module": null,
       "_view_module_version": "",
       "_view_name": null,
       "alphaTest": 0.0,
       "blendDst": "OneMinusSrcAlphaFactor",
       "blendDstAlpha": 0.0,
       "blendEquation": "AddEquation",
       "blendEquationAlpha": 0.0,
       "blendSrc": "SrcAlphaFactor",
       "blendSrcAlpha": 0.0,
       "blending": "NormalBlending",
       "clipIntersection": false,
       "clipShadows": false,
       "clipping": false,
       "clippingPlanes": [],
       "colorWrite": true,
       "defines": null,
       "depthFunc": "LessEqualDepth",
       "depthTest": true,
       "depthWrite": true,
       "dithering": false,
       "extensions": {},
       "flatShading": false,
       "fog": false,
       "fragmentShader": "",
       "lights": false,
       "linewidth": 1.0,
       "morphNormals": false,
       "morphTargets": false,
       "name": "",
       "opacity": 1.0,
       "overdraw": 0.0,
       "polygonOffset": false,
       "polygonOffsetFactor": 0.0,
       "polygonOffsetUnits": 0.0,
       "precision": null,
       "premultipliedAlpha": false,
       "shadowSide": null,
       "side": "FrontSide",
       "skinning": false,
       "transparent": false,
       "type": "ShaderMaterial",
       "uniforms": {},
       "uniformsNeedUpdate": false,
       "vertexColors": "NoColors",
       "vertexShader": "",
       "visible": true,
       "wireframe": false,
       "wireframeLinewidth": 1.0
      }
     },
     "492ca6a84dd1475ab5cf0a6778f321fc": {
      "model_module": "@jupyter-widgets/controls",
      "model_module_version": "1.5.0",
      "model_name": "DescriptionStyleModel",
      "state": {
       "_model_module": "@jupyter-widgets/controls",
       "_model_module_version": "1.5.0",
       "_model_name": "DescriptionStyleModel",
       "_view_count": null,
       "_view_module": "@jupyter-widgets/base",
       "_view_module_version": "1.2.0",
       "_view_name": "StyleView",
       "description_width": ""
      }
     },
     "4f2a4c93d28549abb24e2983aba11fb5": {
      "model_module": "@jupyter-widgets/controls",
      "model_module_version": "1.5.0",
      "model_name": "DescriptionStyleModel",
      "state": {
       "_model_module": "@jupyter-widgets/controls",
       "_model_module_version": "1.5.0",
       "_model_name": "DescriptionStyleModel",
       "_view_count": null,
       "_view_module": "@jupyter-widgets/base",
       "_view_module_version": "1.2.0",
       "_view_name": "StyleView",
       "description_width": ""
      }
     },
     "4f90fca9d4f64738be793313cdfdcb1c": {
      "buffers": [
       {
        "data": "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",
        "encoding": "base64",
        "path": [
         "color",
         0,
         "data"
        ]
       },
       {
        "data": "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",
        "encoding": "base64",
        "path": [
         "x",
         0,
         "data"
        ]
       },
       {
        "data": "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",
        "encoding": "base64",
        "path": [
         "y",
         0,
         "data"
        ]
       },
       {
        "data": "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",
        "encoding": "base64",
        "path": [
         "z",
         0,
         "data"
        ]
       }
      ],
      "model_module": "ipyvolume",
      "model_module_version": "~0.5.2",
      "model_name": "ScatterModel",
      "state": {
       "_model_module": "ipyvolume",
       "_model_module_version": "~0.5.2",
       "_model_name": "ScatterModel",
       "_view_count": null,
       "_view_module": "ipyvolume",
       "_view_module_version": "~0.5.2",
       "_view_name": "ScatterView",
       "color": [
        {
         "dtype": "float32",
         "shape": [
          609,
          4
         ]
        }
       ],
       "color_selected": "white",
       "connected": false,
       "geo": "sphere",
       "line_material": "IPY_MODEL_361bf4e4ea694b1e85aa435fc19dde99",
       "material": "IPY_MODEL_05987226e9a142d4a3fe277a66f68e8c",
       "selected": null,
       "sequence_index": 0,
       "size": 2,
       "size_selected": 2.6,
       "texture": null,
       "visible": true,
       "vx": null,
       "vy": null,
       "vz": null,
       "x": [
        {
         "dtype": "float32",
         "shape": [
          609
         ]
        }
       ],
       "y": [
        {
         "dtype": "float32",
         "shape": [
          609
         ]
        }
       ],
       "z": [
        {
         "dtype": "float32",
         "shape": [
          609
         ]
        }
       ]
      }
     },
     "57ae8da3e7294b2a99e8e7355c5a2bc8": {
      "model_module": "@jupyter-widgets/base",
      "model_module_version": "1.2.0",
      "model_name": "LayoutModel",
      "state": {
       "_model_module": "@jupyter-widgets/base",
       "_model_module_version": "1.2.0",
       "_model_name": "LayoutModel",
       "_view_count": null,
       "_view_module": "@jupyter-widgets/base",
       "_view_module_version": "1.2.0",
       "_view_name": "LayoutView",
       "align_content": null,
       "align_items": null,
       "align_self": null,
       "border": null,
       "bottom": null,
       "display": null,
       "flex": null,
       "flex_flow": null,
       "grid_area": null,
       "grid_auto_columns": null,
       "grid_auto_flow": null,
       "grid_auto_rows": null,
       "grid_column": null,
       "grid_gap": null,
       "grid_row": null,
       "grid_template_areas": null,
       "grid_template_columns": null,
       "grid_template_rows": null,
       "height": null,
       "justify_content": null,
       "justify_items": null,
       "left": null,
       "margin": null,
       "max_height": null,
       "max_width": null,
       "min_height": null,
       "min_width": null,
       "object_fit": null,
       "object_position": null,
       "order": null,
       "overflow": null,
       "overflow_x": null,
       "overflow_y": null,
       "padding": null,
       "right": null,
       "top": null,
       "visibility": null,
       "width": null
      }
     },
     "581196fef1af41d994b2f1c5940cfe0d": {
      "model_module": "ipyvolume",
      "model_module_version": "~0.5.2",
      "model_name": "FigureModel",
      "state": {
       "_dom_classes": [],
       "_model_module": "ipyvolume",
       "_model_module_version": "~0.5.2",
       "_model_name": "FigureModel",
       "_view_count": null,
       "_view_module": "ipyvolume",
       "_view_module_version": "~0.5.2",
       "_view_name": "FigureView",
       "ambient_coefficient": 0.5,
       "animation": 1000.0,
       "animation_exponent": 1.0,
       "camera": "IPY_MODEL_e130e728504f4a57b59a4f688994a865",
       "camera_center": [
        0.0,
        0.0,
        0.0
       ],
       "camera_control": "trackball",
       "camera_fov": 45.0,
       "capture_fps": null,
       "cube_resolution": 512,
       "diffuse_coefficient": 0.8,
       "displayscale": 1.0,
       "downscale": 1,
       "eye_separation": 6.4,
       "height": 500,
       "layout": "IPY_MODEL_84e9886cd32a4bf69df6e3c2092827a2",
       "matrix_projection": [
        0.0,
        0.0,
        0.0,
        0.0,
        0.0,
        0.0,
        0.0,
        0.0,
        0.0,
        0.0,
        0.0,
        0.0,
        0.0,
        0.0,
        0.0,
        0.0
       ],
       "matrix_world": [
        0.0,
        0.0,
        0.0,
        0.0,
        0.0,
        0.0,
        0.0,
        0.0,
        0.0,
        0.0,
        0.0,
        0.0,
        0.0,
        0.0,
        0.0,
        0.0
       ],
       "meshes": [],
       "mouse_mode": "normal",
       "panorama_mode": "no",
       "render_continuous": true,
       "scatters": [
        "IPY_MODEL_4f90fca9d4f64738be793313cdfdcb1c"
       ],
       "scene": "IPY_MODEL_ef0e5b3444434645955f1f3ff6a073fe",
       "selection_mode": "replace",
       "selector": "lasso",
       "show": "Volume",
       "specular_coefficient": 0.5,
       "specular_exponent": 5.0,
       "stereo": false,
       "style": {
        "axes": {
         "color": "white",
         "label": {
          "color": "white"
         },
         "ticklabel": {
          "color": "white"
         },
         "visible": false
        },
        "background-color": "black",
        "box": {
         "visible": false
        }
       },
       "volumes": [],
       "width": 400,
       "xlabel": "x",
       "xlim": [
        -5.0,
        5.0
       ],
       "ylabel": "y",
       "ylim": [
        -5.0,
        5.0
       ],
       "zlabel": "z",
       "zlim": [
        -5.0,
        5.0
       ]
      }
     },
     "58f4373a118f4767b9cf43217cefc42f": {
      "model_module": "@jupyter-widgets/controls",
      "model_module_version": "1.5.0",
      "model_name": "HTMLModel",
      "state": {
       "_dom_classes": [],
       "_model_module": "@jupyter-widgets/controls",
       "_model_module_version": "1.5.0",
       "_model_name": "HTMLModel",
       "_view_count": null,
       "_view_module": "@jupyter-widgets/controls",
       "_view_module_version": "1.5.0",
       "_view_name": "HTMLView",
       "description": "",
       "description_tooltip": null,
       "layout": "IPY_MODEL_a9ad99c27fa742f6bb65a4cb4b37f931",
       "placeholder": "​",
       "style": "IPY_MODEL_4f2a4c93d28549abb24e2983aba11fb5",
       "value": " 2567/2567 [00:00&lt;00:00, 32748.37it/s]"
      }
     },
     "62b9f31d03cc4f72acb020b527b3e4f8": {
      "model_module": "@jupyter-widgets/controls",
      "model_module_version": "1.5.0",
      "model_name": "HTMLModel",
      "state": {
       "_dom_classes": [],
       "_model_module": "@jupyter-widgets/controls",
       "_model_module_version": "1.5.0",
       "_model_name": "HTMLModel",
       "_view_count": null,
       "_view_module": "@jupyter-widgets/controls",
       "_view_module_version": "1.5.0",
       "_view_name": "HTMLView",
       "description": "",
       "description_tooltip": null,
       "layout": "IPY_MODEL_1364d9aabbc94514b42fc0ef8547ce64",
       "placeholder": "​",
       "style": "IPY_MODEL_492ca6a84dd1475ab5cf0a6778f321fc",
       "value": "Selecting Bernoulli: 100%"
      }
     },
     "66b5f9d80b5649bf876eea4345c540ba": {
      "model_module": "@jupyter-widgets/controls",
      "model_module_version": "1.5.0",
      "model_name": "FloatProgressModel",
      "state": {
       "_dom_classes": [],
       "_model_module": "@jupyter-widgets/controls",
       "_model_module_version": "1.5.0",
       "_model_name": "FloatProgressModel",
       "_view_count": null,
       "_view_module": "@jupyter-widgets/controls",
       "_view_module_version": "1.5.0",
       "_view_name": "ProgressView",
       "bar_style": "success",
       "description": "",
       "description_tooltip": null,
       "layout": "IPY_MODEL_1ce44968b90344b38b7d95da7a7e9e15",
       "max": 2567.0,
       "min": 0.0,
       "orientation": "horizontal",
       "style": "IPY_MODEL_e144257bd9ac42b584828ac98328bb35",
       "value": 2567.0
      }
     },
     "750845a75dec46fa94de5fbba4eb84a5": {
      "model_module": "@jupyter-widgets/controls",
      "model_module_version": "1.5.0",
      "model_name": "ProgressStyleModel",
      "state": {
       "_model_module": "@jupyter-widgets/controls",
       "_model_module_version": "1.5.0",
       "_model_name": "ProgressStyleModel",
       "_view_count": null,
       "_view_module": "@jupyter-widgets/base",
       "_view_module_version": "1.2.0",
       "_view_name": "StyleView",
       "bar_color": "#B833FF",
       "description_width": ""
      }
     },
     "75f6aa2559ee491691f46a7b5c5baa3b": {
      "model_module": "jupyter-threejs",
      "model_module_version": "^2.1.0",
      "model_name": "OrbitControlsModel",
      "state": {
       "_model_module": "jupyter-threejs",
       "_model_module_version": "^2.1.0",
       "_model_name": "OrbitControlsModel",
       "_view_count": null,
       "_view_module": null,
       "_view_module_version": "",
       "_view_name": null,
       "autoRotate": true,
       "autoRotateSpeed": 2.0,
       "controlling": "IPY_MODEL_e130e728504f4a57b59a4f688994a865",
       "dampingFactor": 0.25,
       "enableDamping": false,
       "enableKeys": true,
       "enablePan": true,
       "enableRotate": true,
       "enableZoom": true,
       "enabled": true,
       "keyPanSpeed": 7.0,
       "maxAzimuthAngle": "inf",
       "maxDistance": "inf",
       "maxPolarAngle": 3.141592653589793,
       "maxZoom": "inf",
       "minAzimuthAngle": "-inf",
       "minDistance": 0.0,
       "minPolarAngle": 0.0,
       "minZoom": 0.0,
       "panSpeed": 1.0,
       "rotateSpeed": 1.0,
       "screenSpacePanning": true,
       "target": [
        0.0,
        0.0,
        0.0
       ],
       "zoomSpeed": 1.0
      }
     },
     "7b9edf8575da404abe2fa6ad0be6fb18": {
      "model_module": "@jupyter-widgets/base",
      "model_module_version": "1.2.0",
      "model_name": "LayoutModel",
      "state": {
       "_model_module": "@jupyter-widgets/base",
       "_model_module_version": "1.2.0",
       "_model_name": "LayoutModel",
       "_view_count": null,
       "_view_module": "@jupyter-widgets/base",
       "_view_module_version": "1.2.0",
       "_view_name": "LayoutView",
       "align_content": null,
       "align_items": null,
       "align_self": null,
       "border": null,
       "bottom": null,
       "display": null,
       "flex": null,
       "flex_flow": null,
       "grid_area": null,
       "grid_auto_columns": null,
       "grid_auto_flow": null,
       "grid_auto_rows": null,
       "grid_column": null,
       "grid_gap": null,
       "grid_row": null,
       "grid_template_areas": null,
       "grid_template_columns": null,
       "grid_template_rows": null,
       "height": null,
       "justify_content": null,
       "justify_items": null,
       "left": null,
       "margin": null,
       "max_height": null,
       "max_width": null,
       "min_height": null,
       "min_width": null,
       "object_fit": null,
       "object_position": null,
       "order": null,
       "overflow": null,
       "overflow_x": null,
       "overflow_y": null,
       "padding": null,
       "right": null,
       "top": null,
       "visibility": null,
       "width": null
      }
     },
     "7eb9a6477f44458a98907056ff707803": {
      "model_module": "@jupyter-widgets/controls",
      "model_module_version": "1.5.0",
      "model_name": "HBoxModel",
      "state": {
       "_dom_classes": [],
       "_model_module": "@jupyter-widgets/controls",
       "_model_module_version": "1.5.0",
       "_model_name": "HBoxModel",
       "_view_count": null,
       "_view_module": "@jupyter-widgets/controls",
       "_view_module_version": "1.5.0",
       "_view_name": "HBoxView",
       "box_style": "",
       "children": [
        "IPY_MODEL_2abdbc3678e841ad9401ac9d79e89f60",
        "IPY_MODEL_66b5f9d80b5649bf876eea4345c540ba",
        "IPY_MODEL_17073ef7a48540fc8e70f0e5826ec4d2"
       ],
       "layout": "IPY_MODEL_ccadc62b527947b4b43eed1ffa2450ac"
      }
     },
     "84e9886cd32a4bf69df6e3c2092827a2": {
      "model_module": "@jupyter-widgets/base",
      "model_module_version": "1.2.0",
      "model_name": "LayoutModel",
      "state": {
       "_model_module": "@jupyter-widgets/base",
       "_model_module_version": "1.2.0",
       "_model_name": "LayoutModel",
       "_view_count": null,
       "_view_module": "@jupyter-widgets/base",
       "_view_module_version": "1.2.0",
       "_view_name": "LayoutView",
       "align_content": null,
       "align_items": null,
       "align_self": null,
       "border": null,
       "bottom": null,
       "display": null,
       "flex": null,
       "flex_flow": null,
       "grid_area": null,
       "grid_auto_columns": null,
       "grid_auto_flow": null,
       "grid_auto_rows": null,
       "grid_column": null,
       "grid_gap": null,
       "grid_row": null,
       "grid_template_areas": null,
       "grid_template_columns": null,
       "grid_template_rows": null,
       "height": null,
       "justify_content": null,
       "justify_items": null,
       "left": null,
       "margin": null,
       "max_height": null,
       "max_width": null,
       "min_height": null,
       "min_width": null,
       "object_fit": null,
       "object_position": null,
       "order": null,
       "overflow": null,
       "overflow_x": null,
       "overflow_y": null,
       "padding": null,
       "right": null,
       "top": null,
       "visibility": null,
       "width": null
      }
     },
     "878ce30b7b464b82b96c7f3597adf662": {
      "model_module": "@jupyter-widgets/controls",
      "model_module_version": "1.5.0",
      "model_name": "HTMLModel",
      "state": {
       "_dom_classes": [],
       "_model_module": "@jupyter-widgets/controls",
       "_model_module_version": "1.5.0",
       "_model_name": "HTMLModel",
       "_view_count": null,
       "_view_module": "@jupyter-widgets/controls",
       "_view_module_version": "1.5.0",
       "_view_name": "HTMLView",
       "description": "",
       "description_tooltip": null,
       "layout": "IPY_MODEL_57ae8da3e7294b2a99e8e7355c5a2bc8",
       "placeholder": "​",
       "style": "IPY_MODEL_945dd889657e4e5695c87170b10e222b",
       "value": " 5/5 [00:00&lt;00:00, 256.72it/s]"
      }
     },
     "8932dcc116744366beafe2f36f78e00b": {
      "model_module": "@jupyter-widgets/controls",
      "model_module_version": "1.5.0",
      "model_name": "VBoxModel",
      "state": {
       "_dom_classes": [],
       "_model_module": "@jupyter-widgets/controls",
       "_model_module_version": "1.5.0",
       "_model_name": "VBoxModel",
       "_view_count": null,
       "_view_module": "@jupyter-widgets/controls",
       "_view_module_version": "1.5.0",
       "_view_name": "VBoxView",
       "box_style": "",
       "children": [
        "IPY_MODEL_581196fef1af41d994b2f1c5940cfe0d"
       ],
       "layout": "IPY_MODEL_19d27305456348a391acb1188eae5f25"
      }
     },
     "89b79b0e906c4750b2b6e29e7b5591b6": {
      "model_module": "@jupyter-widgets/base",
      "model_module_version": "1.2.0",
      "model_name": "LayoutModel",
      "state": {
       "_model_module": "@jupyter-widgets/base",
       "_model_module_version": "1.2.0",
       "_model_name": "LayoutModel",
       "_view_count": null,
       "_view_module": "@jupyter-widgets/base",
       "_view_module_version": "1.2.0",
       "_view_name": "LayoutView",
       "align_content": null,
       "align_items": null,
       "align_self": null,
       "border": null,
       "bottom": null,
       "display": null,
       "flex": null,
       "flex_flow": null,
       "grid_area": null,
       "grid_auto_columns": null,
       "grid_auto_flow": null,
       "grid_auto_rows": null,
       "grid_column": null,
       "grid_gap": null,
       "grid_row": null,
       "grid_template_areas": null,
       "grid_template_columns": null,
       "grid_template_rows": null,
       "height": null,
       "justify_content": null,
       "justify_items": null,
       "left": null,
       "margin": null,
       "max_height": null,
       "max_width": null,
       "min_height": null,
       "min_width": null,
       "object_fit": null,
       "object_position": null,
       "order": null,
       "overflow": null,
       "overflow_x": null,
       "overflow_y": null,
       "padding": null,
       "right": null,
       "top": null,
       "visibility": null,
       "width": null
      }
     },
     "920d509ff7f64e6da7fe441359acdfb2": {
      "model_module": "@jupyter-widgets/controls",
      "model_module_version": "1.5.0",
      "model_name": "FloatProgressModel",
      "state": {
       "_dom_classes": [],
       "_model_module": "@jupyter-widgets/controls",
       "_model_module_version": "1.5.0",
       "_model_name": "FloatProgressModel",
       "_view_count": null,
       "_view_module": "@jupyter-widgets/controls",
       "_view_module_version": "1.5.0",
       "_view_name": "ProgressView",
       "bar_style": "success",
       "description": "",
       "description_tooltip": null,
       "layout": "IPY_MODEL_d7522d2f019e491ca4d98b8f6c32cf8e",
       "max": 5.0,
       "min": 0.0,
       "orientation": "horizontal",
       "style": "IPY_MODEL_327adbce69d74b8ea11d3a4419cf2aa1",
       "value": 5.0
      }
     },
     "945dd889657e4e5695c87170b10e222b": {
      "model_module": "@jupyter-widgets/controls",
      "model_module_version": "1.5.0",
      "model_name": "DescriptionStyleModel",
      "state": {
       "_model_module": "@jupyter-widgets/controls",
       "_model_module_version": "1.5.0",
       "_model_name": "DescriptionStyleModel",
       "_view_count": null,
       "_view_module": "@jupyter-widgets/base",
       "_view_module_version": "1.2.0",
       "_view_name": "StyleView",
       "description_width": ""
      }
     },
     "96e2b694d4bc40968ca3c38f0bb50a55": {
      "model_module": "@jupyter-widgets/base",
      "model_module_version": "1.2.0",
      "model_name": "LayoutModel",
      "state": {
       "_model_module": "@jupyter-widgets/base",
       "_model_module_version": "1.2.0",
       "_model_name": "LayoutModel",
       "_view_count": null,
       "_view_module": "@jupyter-widgets/base",
       "_view_module_version": "1.2.0",
       "_view_name": "LayoutView",
       "align_content": null,
       "align_items": null,
       "align_self": null,
       "border": null,
       "bottom": null,
       "display": null,
       "flex": null,
       "flex_flow": null,
       "grid_area": null,
       "grid_auto_columns": null,
       "grid_auto_flow": null,
       "grid_auto_rows": null,
       "grid_column": null,
       "grid_gap": null,
       "grid_row": null,
       "grid_template_areas": null,
       "grid_template_columns": null,
       "grid_template_rows": null,
       "height": null,
       "justify_content": null,
       "justify_items": null,
       "left": null,
       "margin": null,
       "max_height": null,
       "max_width": null,
       "min_height": null,
       "min_width": null,
       "object_fit": null,
       "object_position": null,
       "order": null,
       "overflow": null,
       "overflow_x": null,
       "overflow_y": null,
       "padding": null,
       "right": null,
       "top": null,
       "visibility": null,
       "width": null
      }
     },
     "9cdde48cb0b54879be73112da071e7db": {
      "model_module": "@jupyter-widgets/controls",
      "model_module_version": "1.5.0",
      "model_name": "DescriptionStyleModel",
      "state": {
       "_model_module": "@jupyter-widgets/controls",
       "_model_module_version": "1.5.0",
       "_model_name": "DescriptionStyleModel",
       "_view_count": null,
       "_view_module": "@jupyter-widgets/base",
       "_view_module_version": "1.2.0",
       "_view_name": "StyleView",
       "description_width": ""
      }
     },
     "a1f6e6ad04bf4cfb8e3d75370f15ef05": {
      "model_module": "@jupyter-widgets/controls",
      "model_module_version": "1.5.0",
      "model_name": "ProgressStyleModel",
      "state": {
       "_model_module": "@jupyter-widgets/controls",
       "_model_module_version": "1.5.0",
       "_model_name": "ProgressStyleModel",
       "_view_count": null,
       "_view_module": "@jupyter-widgets/base",
       "_view_module_version": "1.2.0",
       "_view_name": "StyleView",
       "bar_color": "#B833FF",
       "description_width": ""
      }
     },
     "a86f8d6e026e43e69cf978d0c34e42ef": {
      "model_module": "@jupyter-widgets/controls",
      "model_module_version": "1.5.0",
      "model_name": "HBoxModel",
      "state": {
       "_dom_classes": [],
       "_model_module": "@jupyter-widgets/controls",
       "_model_module_version": "1.5.0",
       "_model_name": "HBoxModel",
       "_view_count": null,
       "_view_module": "@jupyter-widgets/controls",
       "_view_module_version": "1.5.0",
       "_view_name": "HBoxView",
       "box_style": "",
       "children": [
        "IPY_MODEL_24fa79e69cc9493997cc74ecd7e78c04",
        "IPY_MODEL_cc32604b83564482b21b0883d546f173",
        "IPY_MODEL_58f4373a118f4767b9cf43217cefc42f"
       ],
       "layout": "IPY_MODEL_7b9edf8575da404abe2fa6ad0be6fb18"
      }
     },
     "a9ad99c27fa742f6bb65a4cb4b37f931": {
      "model_module": "@jupyter-widgets/base",
      "model_module_version": "1.2.0",
      "model_name": "LayoutModel",
      "state": {
       "_model_module": "@jupyter-widgets/base",
       "_model_module_version": "1.2.0",
       "_model_name": "LayoutModel",
       "_view_count": null,
       "_view_module": "@jupyter-widgets/base",
       "_view_module_version": "1.2.0",
       "_view_name": "LayoutView",
       "align_content": null,
       "align_items": null,
       "align_self": null,
       "border": null,
       "bottom": null,
       "display": null,
       "flex": null,
       "flex_flow": null,
       "grid_area": null,
       "grid_auto_columns": null,
       "grid_auto_flow": null,
       "grid_auto_rows": null,
       "grid_column": null,
       "grid_gap": null,
       "grid_row": null,
       "grid_template_areas": null,
       "grid_template_columns": null,
       "grid_template_rows": null,
       "height": null,
       "justify_content": null,
       "justify_items": null,
       "left": null,
       "margin": null,
       "max_height": null,
       "max_width": null,
       "min_height": null,
       "min_width": null,
       "object_fit": null,
       "object_position": null,
       "order": null,
       "overflow": null,
       "overflow_x": null,
       "overflow_y": null,
       "padding": null,
       "right": null,
       "top": null,
       "visibility": null,
       "width": null
      }
     },
     "a9ef721e7ff94effb38cef8156f45d8a": {
      "model_module": "@jupyter-widgets/base",
      "model_module_version": "1.2.0",
      "model_name": "LayoutModel",
      "state": {
       "_model_module": "@jupyter-widgets/base",
       "_model_module_version": "1.2.0",
       "_model_name": "LayoutModel",
       "_view_count": null,
       "_view_module": "@jupyter-widgets/base",
       "_view_module_version": "1.2.0",
       "_view_name": "LayoutView",
       "align_content": null,
       "align_items": null,
       "align_self": null,
       "border": null,
       "bottom": null,
       "display": null,
       "flex": null,
       "flex_flow": null,
       "grid_area": null,
       "grid_auto_columns": null,
       "grid_auto_flow": null,
       "grid_auto_rows": null,
       "grid_column": null,
       "grid_gap": null,
       "grid_row": null,
       "grid_template_areas": null,
       "grid_template_columns": null,
       "grid_template_rows": null,
       "height": null,
       "justify_content": null,
       "justify_items": null,
       "left": null,
       "margin": null,
       "max_height": null,
       "max_width": null,
       "min_height": null,
       "min_width": null,
       "object_fit": null,
       "object_position": null,
       "order": null,
       "overflow": null,
       "overflow_x": null,
       "overflow_y": null,
       "padding": null,
       "right": null,
       "top": null,
       "visibility": null,
       "width": null
      }
     },
     "b5936ff52033471186cae7d7ae2a8433": {
      "model_module": "@jupyter-widgets/base",
      "model_module_version": "1.2.0",
      "model_name": "LayoutModel",
      "state": {
       "_model_module": "@jupyter-widgets/base",
       "_model_module_version": "1.2.0",
       "_model_name": "LayoutModel",
       "_view_count": null,
       "_view_module": "@jupyter-widgets/base",
       "_view_module_version": "1.2.0",
       "_view_name": "LayoutView",
       "align_content": null,
       "align_items": null,
       "align_self": null,
       "border": null,
       "bottom": null,
       "display": null,
       "flex": null,
       "flex_flow": null,
       "grid_area": null,
       "grid_auto_columns": null,
       "grid_auto_flow": null,
       "grid_auto_rows": null,
       "grid_column": null,
       "grid_gap": null,
       "grid_row": null,
       "grid_template_areas": null,
       "grid_template_columns": null,
       "grid_template_rows": null,
       "height": null,
       "justify_content": null,
       "justify_items": null,
       "left": null,
       "margin": null,
       "max_height": null,
       "max_width": null,
       "min_height": null,
       "min_width": null,
       "object_fit": null,
       "object_position": null,
       "order": null,
       "overflow": null,
       "overflow_x": null,
       "overflow_y": null,
       "padding": null,
       "right": null,
       "top": null,
       "visibility": null,
       "width": null
      }
     },
     "b89001fb29b8451db12be24bf5286f99": {
      "model_module": "@jupyter-widgets/base",
      "model_module_version": "1.2.0",
      "model_name": "LayoutModel",
      "state": {
       "_model_module": "@jupyter-widgets/base",
       "_model_module_version": "1.2.0",
       "_model_name": "LayoutModel",
       "_view_count": null,
       "_view_module": "@jupyter-widgets/base",
       "_view_module_version": "1.2.0",
       "_view_name": "LayoutView",
       "align_content": null,
       "align_items": null,
       "align_self": null,
       "border": null,
       "bottom": null,
       "display": null,
       "flex": null,
       "flex_flow": null,
       "grid_area": null,
       "grid_auto_columns": null,
       "grid_auto_flow": null,
       "grid_auto_rows": null,
       "grid_column": null,
       "grid_gap": null,
       "grid_row": null,
       "grid_template_areas": null,
       "grid_template_columns": null,
       "grid_template_rows": null,
       "height": null,
       "justify_content": null,
       "justify_items": null,
       "left": null,
       "margin": null,
       "max_height": null,
       "max_width": null,
       "min_height": null,
       "min_width": null,
       "object_fit": null,
       "object_position": null,
       "order": null,
       "overflow": null,
       "overflow_x": null,
       "overflow_y": null,
       "padding": null,
       "right": null,
       "top": null,
       "visibility": null,
       "width": null
      }
     },
     "bb0594dec9824c19bedee98194433b51": {
      "model_module": "@jupyter-widgets/controls",
      "model_module_version": "1.5.0",
      "model_name": "FloatProgressModel",
      "state": {
       "_dom_classes": [],
       "_model_module": "@jupyter-widgets/controls",
       "_model_module_version": "1.5.0",
       "_model_name": "FloatProgressModel",
       "_view_count": null,
       "_view_module": "@jupyter-widgets/controls",
       "_view_module_version": "1.5.0",
       "_view_name": "ProgressView",
       "bar_style": "success",
       "description": "",
       "description_tooltip": null,
       "layout": "IPY_MODEL_3190d7b491aa4c2eba5692c05dafcb2d",
       "max": 5.0,
       "min": 0.0,
       "orientation": "horizontal",
       "style": "IPY_MODEL_a1f6e6ad04bf4cfb8e3d75370f15ef05",
       "value": 5.0
      }
     },
     "beaf6c722f614692bc536c13c78afd7d": {
      "model_module": "@jupyter-widgets/controls",
      "model_module_version": "1.5.0",
      "model_name": "DescriptionStyleModel",
      "state": {
       "_model_module": "@jupyter-widgets/controls",
       "_model_module_version": "1.5.0",
       "_model_name": "DescriptionStyleModel",
       "_view_count": null,
       "_view_module": "@jupyter-widgets/base",
       "_view_module_version": "1.2.0",
       "_view_name": "StyleView",
       "description_width": ""
      }
     },
     "c93344ba6dd7473c8bb3be15f9c444a2": {
      "model_module": "@jupyter-widgets/controls",
      "model_module_version": "1.5.0",
      "model_name": "HBoxModel",
      "state": {
       "_dom_classes": [],
       "_model_module": "@jupyter-widgets/controls",
       "_model_module_version": "1.5.0",
       "_model_name": "HBoxModel",
       "_view_count": null,
       "_view_module": "@jupyter-widgets/controls",
       "_view_module_version": "1.5.0",
       "_view_name": "HBoxView",
       "box_style": "",
       "children": [
        "IPY_MODEL_d3e04edefe1d4efa9b6a488596a43196",
        "IPY_MODEL_bb0594dec9824c19bedee98194433b51",
        "IPY_MODEL_d7c28e6c61d446e48c23b86b00c5528e"
       ],
       "layout": "IPY_MODEL_b5936ff52033471186cae7d7ae2a8433"
      }
     },
     "cc32604b83564482b21b0883d546f173": {
      "model_module": "@jupyter-widgets/controls",
      "model_module_version": "1.5.0",
      "model_name": "FloatProgressModel",
      "state": {
       "_dom_classes": [],
       "_model_module": "@jupyter-widgets/controls",
       "_model_module_version": "1.5.0",
       "_model_name": "FloatProgressModel",
       "_view_count": null,
       "_view_module": "@jupyter-widgets/controls",
       "_view_module_version": "1.5.0",
       "_view_name": "ProgressView",
       "bar_style": "success",
       "description": "",
       "description_tooltip": null,
       "layout": "IPY_MODEL_89b79b0e906c4750b2b6e29e7b5591b6",
       "max": 2567.0,
       "min": 0.0,
       "orientation": "horizontal",
       "style": "IPY_MODEL_750845a75dec46fa94de5fbba4eb84a5",
       "value": 2567.0
      }
     },
     "ccadc62b527947b4b43eed1ffa2450ac": {
      "model_module": "@jupyter-widgets/base",
      "model_module_version": "1.2.0",
      "model_name": "LayoutModel",
      "state": {
       "_model_module": "@jupyter-widgets/base",
       "_model_module_version": "1.2.0",
       "_model_name": "LayoutModel",
       "_view_count": null,
       "_view_module": "@jupyter-widgets/base",
       "_view_module_version": "1.2.0",
       "_view_name": "LayoutView",
       "align_content": null,
       "align_items": null,
       "align_self": null,
       "border": null,
       "bottom": null,
       "display": null,
       "flex": null,
       "flex_flow": null,
       "grid_area": null,
       "grid_auto_columns": null,
       "grid_auto_flow": null,
       "grid_auto_rows": null,
       "grid_column": null,
       "grid_gap": null,
       "grid_row": null,
       "grid_template_areas": null,
       "grid_template_columns": null,
       "grid_template_rows": null,
       "height": null,
       "justify_content": null,
       "justify_items": null,
       "left": null,
       "margin": null,
       "max_height": null,
       "max_width": null,
       "min_height": null,
       "min_width": null,
       "object_fit": null,
       "object_position": null,
       "order": null,
       "overflow": null,
       "overflow_x": null,
       "overflow_y": null,
       "padding": null,
       "right": null,
       "top": null,
       "visibility": null,
       "width": null
      }
     },
     "cefba4059df0443aa0d1c37f3e87a261": {
      "model_module": "@jupyter-widgets/controls",
      "model_module_version": "1.5.0",
      "model_name": "HBoxModel",
      "state": {
       "_dom_classes": [],
       "_model_module": "@jupyter-widgets/controls",
       "_model_module_version": "1.5.0",
       "_model_name": "HBoxModel",
       "_view_count": null,
       "_view_module": "@jupyter-widgets/controls",
       "_view_module_version": "1.5.0",
       "_view_name": "HBoxView",
       "box_style": "",
       "children": [
        "IPY_MODEL_62b9f31d03cc4f72acb020b527b3e4f8",
        "IPY_MODEL_920d509ff7f64e6da7fe441359acdfb2",
        "IPY_MODEL_878ce30b7b464b82b96c7f3597adf662"
       ],
       "layout": "IPY_MODEL_0aedc435ddb54512b00b0531d504e81b"
      }
     },
     "d2d0d6e4110d4230920518dbf0c3954a": {
      "model_module": "@jupyter-widgets/controls",
      "model_module_version": "1.5.0",
      "model_name": "DescriptionStyleModel",
      "state": {
       "_model_module": "@jupyter-widgets/controls",
       "_model_module_version": "1.5.0",
       "_model_name": "DescriptionStyleModel",
       "_view_count": null,
       "_view_module": "@jupyter-widgets/base",
       "_view_module_version": "1.2.0",
       "_view_name": "StyleView",
       "description_width": ""
      }
     },
     "d3e04edefe1d4efa9b6a488596a43196": {
      "model_module": "@jupyter-widgets/controls",
      "model_module_version": "1.5.0",
      "model_name": "HTMLModel",
      "state": {
       "_dom_classes": [],
       "_model_module": "@jupyter-widgets/controls",
       "_model_module_version": "1.5.0",
       "_model_name": "HTMLModel",
       "_view_count": null,
       "_view_module": "@jupyter-widgets/controls",
       "_view_module_version": "1.5.0",
       "_view_name": "HTMLView",
       "description": "",
       "description_tooltip": null,
       "layout": "IPY_MODEL_fba49270955441e5a7b53eb0c74e3f74",
       "placeholder": "​",
       "style": "IPY_MODEL_9cdde48cb0b54879be73112da071e7db",
       "value": "Drawing distances: 100%"
      }
     },
     "d7522d2f019e491ca4d98b8f6c32cf8e": {
      "model_module": "@jupyter-widgets/base",
      "model_module_version": "1.2.0",
      "model_name": "LayoutModel",
      "state": {
       "_model_module": "@jupyter-widgets/base",
       "_model_module_version": "1.2.0",
       "_model_name": "LayoutModel",
       "_view_count": null,
       "_view_module": "@jupyter-widgets/base",
       "_view_module_version": "1.2.0",
       "_view_name": "LayoutView",
       "align_content": null,
       "align_items": null,
       "align_self": null,
       "border": null,
       "bottom": null,
       "display": null,
       "flex": null,
       "flex_flow": null,
       "grid_area": null,
       "grid_auto_columns": null,
       "grid_auto_flow": null,
       "grid_auto_rows": null,
       "grid_column": null,
       "grid_gap": null,
       "grid_row": null,
       "grid_template_areas": null,
       "grid_template_columns": null,
       "grid_template_rows": null,
       "height": null,
       "justify_content": null,
       "justify_items": null,
       "left": null,
       "margin": null,
       "max_height": null,
       "max_width": null,
       "min_height": null,
       "min_width": null,
       "object_fit": null,
       "object_position": null,
       "order": null,
       "overflow": null,
       "overflow_x": null,
       "overflow_y": null,
       "padding": null,
       "right": null,
       "top": null,
       "visibility": null,
       "width": null
      }
     },
     "d7c28e6c61d446e48c23b86b00c5528e": {
      "model_module": "@jupyter-widgets/controls",
      "model_module_version": "1.5.0",
      "model_name": "HTMLModel",
      "state": {
       "_dom_classes": [],
       "_model_module": "@jupyter-widgets/controls",
       "_model_module_version": "1.5.0",
       "_model_name": "HTMLModel",
       "_view_count": null,
       "_view_module": "@jupyter-widgets/controls",
       "_view_module_version": "1.5.0",
       "_view_name": "HTMLView",
       "description": "",
       "description_tooltip": null,
       "layout": "IPY_MODEL_e043fbd69adf47709522b10af52eeebc",
       "placeholder": "​",
       "style": "IPY_MODEL_da8e1f3f58b748218181fb1de5e5be1a",
       "value": " 5/5 [00:00&lt;00:00, 218.90it/s]"
      }
     },
     "da8e1f3f58b748218181fb1de5e5be1a": {
      "model_module": "@jupyter-widgets/controls",
      "model_module_version": "1.5.0",
      "model_name": "DescriptionStyleModel",
      "state": {
       "_model_module": "@jupyter-widgets/controls",
       "_model_module_version": "1.5.0",
       "_model_name": "DescriptionStyleModel",
       "_view_count": null,
       "_view_module": "@jupyter-widgets/base",
       "_view_module_version": "1.2.0",
       "_view_name": "StyleView",
       "description_width": ""
      }
     },
     "e043fbd69adf47709522b10af52eeebc": {
      "model_module": "@jupyter-widgets/base",
      "model_module_version": "1.2.0",
      "model_name": "LayoutModel",
      "state": {
       "_model_module": "@jupyter-widgets/base",
       "_model_module_version": "1.2.0",
       "_model_name": "LayoutModel",
       "_view_count": null,
       "_view_module": "@jupyter-widgets/base",
       "_view_module_version": "1.2.0",
       "_view_name": "LayoutView",
       "align_content": null,
       "align_items": null,
       "align_self": null,
       "border": null,
       "bottom": null,
       "display": null,
       "flex": null,
       "flex_flow": null,
       "grid_area": null,
       "grid_auto_columns": null,
       "grid_auto_flow": null,
       "grid_auto_rows": null,
       "grid_column": null,
       "grid_gap": null,
       "grid_row": null,
       "grid_template_areas": null,
       "grid_template_columns": null,
       "grid_template_rows": null,
       "height": null,
       "justify_content": null,
       "justify_items": null,
       "left": null,
       "margin": null,
       "max_height": null,
       "max_width": null,
       "min_height": null,
       "min_width": null,
       "object_fit": null,
       "object_position": null,
       "order": null,
       "overflow": null,
       "overflow_x": null,
       "overflow_y": null,
       "padding": null,
       "right": null,
       "top": null,
       "visibility": null,
       "width": null
      }
     },
     "e130e728504f4a57b59a4f688994a865": {
      "model_module": "jupyter-threejs",
      "model_module_version": "^2.1.0",
      "model_name": "PerspectiveCameraModel",
      "state": {
       "_model_module": "jupyter-threejs",
       "_model_module_version": "^2.1.0",
       "_model_name": "PerspectiveCameraModel",
       "_view_count": null,
       "_view_module": null,
       "_view_module_version": "",
       "_view_name": null,
       "aspect": 1.0,
       "castShadow": false,
       "children": [],
       "far": 2000.0,
       "focus": 10.0,
       "fov": 46.0,
       "frustumCulled": true,
       "matrix": [
        1.0,
        0.0,
        0.0,
        0.0,
        0.0,
        1.0,
        0.0,
        0.0,
        0.0,
        0.0,
        1.0,
        0.0,
        0.0,
        0.0,
        0.0,
        1.0
       ],
       "matrixAutoUpdate": true,
       "matrixWorld": [
        1.0,
        0.0,
        0.0,
        0.0,
        0.0,
        1.0,
        0.0,
        0.0,
        0.0,
        0.0,
        1.0,
        0.0,
        0.0,
        0.0,
        0.0,
        1.0
       ],
       "matrixWorldInverse": [
        1.0,
        0.0,
        0.0,
        0.0,
        0.0,
        1.0,
        0.0,
        0.0,
        0.0,
        0.0,
        1.0,
        0.0,
        0.0,
        0.0,
        0.0,
        1.0
       ],
       "matrixWorldNeedsUpdate": false,
       "modelViewMatrix": [
        1.0,
        0.0,
        0.0,
        0.0,
        0.0,
        1.0,
        0.0,
        0.0,
        0.0,
        0.0,
        1.0,
        0.0,
        0.0,
        0.0,
        0.0,
        1.0
       ],
       "name": "",
       "near": 0.1,
       "normalMatrix": [
        1.0,
        0.0,
        0.0,
        0.0,
        1.0,
        0.0,
        0.0,
        0.0,
        1.0
       ],
       "position": [
        0.0,
        0.0,
        2.0
       ],
       "projectionMatrix": [
        1.0,
        0.0,
        0.0,
        0.0,
        0.0,
        1.0,
        0.0,
        0.0,
        0.0,
        0.0,
        1.0,
        0.0,
        0.0,
        0.0,
        0.0,
        1.0
       ],
       "quaternion": [
        0.0,
        0.0,
        0.0,
        1.0
       ],
       "receiveShadow": false,
       "renderOrder": 0,
       "rotation": [
        0.0,
        0.0,
        0.0,
        "XYZ"
       ],
       "scale": [
        1.0,
        1.0,
        1.0
       ],
       "type": "PerspectiveCamera",
       "up": [
        1.0,
        0.0,
        0.0
       ],
       "visible": true,
       "zoom": 1.0
      }
     },
     "e144257bd9ac42b584828ac98328bb35": {
      "model_module": "@jupyter-widgets/controls",
      "model_module_version": "1.5.0",
      "model_name": "ProgressStyleModel",
      "state": {
       "_model_module": "@jupyter-widgets/controls",
       "_model_module_version": "1.5.0",
       "_model_name": "ProgressStyleModel",
       "_view_count": null,
       "_view_module": "@jupyter-widgets/base",
       "_view_module_version": "1.2.0",
       "_view_name": "StyleView",
       "bar_color": "#B833FF",
       "description_width": ""
      }
     },
     "e2115aafda0b40829f6de4805e751dee": {
      "model_module": "@jupyter-widgets/controls",
      "model_module_version": "1.5.0",
      "model_name": "DescriptionStyleModel",
      "state": {
       "_model_module": "@jupyter-widgets/controls",
       "_model_module_version": "1.5.0",
       "_model_name": "DescriptionStyleModel",
       "_view_count": null,
       "_view_module": "@jupyter-widgets/base",
       "_view_module_version": "1.2.0",
       "_view_name": "StyleView",
       "description_width": ""
      }
     },
     "ef0e5b3444434645955f1f3ff6a073fe": {
      "model_module": "jupyter-threejs",
      "model_module_version": "^2.1.0",
      "model_name": "SceneModel",
      "state": {
       "_model_module": "jupyter-threejs",
       "_model_module_version": "^2.1.0",
       "_model_name": "SceneModel",
       "_view_count": null,
       "_view_module": null,
       "_view_module_version": "",
       "_view_name": null,
       "autoUpdate": true,
       "background": null,
       "castShadow": false,
       "children": [],
       "fog": null,
       "frustumCulled": true,
       "matrix": [
        1.0,
        0.0,
        0.0,
        0.0,
        0.0,
        1.0,
        0.0,
        0.0,
        0.0,
        0.0,
        1.0,
        0.0,
        0.0,
        0.0,
        0.0,
        1.0
       ],
       "matrixAutoUpdate": true,
       "matrixWorld": [
        1.0,
        0.0,
        0.0,
        0.0,
        0.0,
        1.0,
        0.0,
        0.0,
        0.0,
        0.0,
        1.0,
        0.0,
        0.0,
        0.0,
        0.0,
        1.0
       ],
       "matrixWorldNeedsUpdate": false,
       "modelViewMatrix": [
        1.0,
        0.0,
        0.0,
        0.0,
        0.0,
        1.0,
        0.0,
        0.0,
        0.0,
        0.0,
        1.0,
        0.0,
        0.0,
        0.0,
        0.0,
        1.0
       ],
       "name": "",
       "normalMatrix": [
        1.0,
        0.0,
        0.0,
        0.0,
        1.0,
        0.0,
        0.0,
        0.0,
        1.0
       ],
       "overrideMaterial": null,
       "position": [
        0.0,
        0.0,
        0.0
       ],
       "quaternion": [
        0.0,
        0.0,
        0.0,
        1.0
       ],
       "receiveShadow": false,
       "renderOrder": 0,
       "rotation": [
        0.0,
        0.0,
        0.0,
        "XYZ"
       ],
       "scale": [
        1.0,
        1.0,
        1.0
       ],
       "type": "Scene",
       "up": [
        0.0,
        1.0,
        0.0
       ],
       "visible": true
      }
     },
     "fba49270955441e5a7b53eb0c74e3f74": {
      "model_module": "@jupyter-widgets/base",
      "model_module_version": "1.2.0",
      "model_name": "LayoutModel",
      "state": {
       "_model_module": "@jupyter-widgets/base",
       "_model_module_version": "1.2.0",
       "_model_name": "LayoutModel",
       "_view_count": null,
       "_view_module": "@jupyter-widgets/base",
       "_view_module_version": "1.2.0",
       "_view_name": "LayoutView",
       "align_content": null,
       "align_items": null,
       "align_self": null,
       "border": null,
       "bottom": null,
       "display": null,
       "flex": null,
       "flex_flow": null,
       "grid_area": null,
       "grid_auto_columns": null,
       "grid_auto_flow": null,
       "grid_auto_rows": null,
       "grid_column": null,
       "grid_gap": null,
       "grid_row": null,
       "grid_template_areas": null,
       "grid_template_columns": null,
       "grid_template_rows": null,
       "height": null,
       "justify_content": null,
       "justify_items": null,
       "left": null,
       "margin": null,
       "max_height": null,
       "max_width": null,
       "min_height": null,
       "min_width": null,
       "object_fit": null,
       "object_position": null,
       "order": null,
       "overflow": null,
       "overflow_x": null,
       "overflow_y": null,
       "padding": null,
       "right": null,
       "top": null,
       "visibility": null,
       "width": null
      }
     }
    },
    "version_major": 2,
    "version_minor": 0
   }
  }
 },
 "nbformat": 4,
 "nbformat_minor": 5
}
