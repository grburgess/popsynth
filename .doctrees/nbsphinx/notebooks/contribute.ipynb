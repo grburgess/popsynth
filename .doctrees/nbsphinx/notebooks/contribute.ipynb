{
 "cells": [
  {
   "cell_type": "markdown",
   "id": "831fec60",
   "metadata": {},
   "source": [
    "# Contributing \n",
    "\n",
    "Contributions to ```popsynth``` are always welcome. They can come in the form of:\n",
    "\n",
    "## Bug reports\n",
    "\n",
    "Please use the [Github issue tracking system for any\n",
    "bugs](https://github.com/grburgess/popsynth/issues), for questions,\n",
    "and or feature requests.\n",
    "\n",
    "## Code and more distributions\n",
    "\n",
    "While it is easy to create custom distributions in your local setup,\n",
    "if you would like to add them to popsynth directly, go ahead. Please\n",
    "include tests to ensure that your contributions are compatible with\n",
    "the code and can be maintained in the long term.\n",
    "\n",
    "## Documentation\n",
    "\n",
    "Additions or examples, tutorials, or better explanations are always\n",
    "welcome. To ensure that the documentation builds with the current\n",
    "version of the software, I am using\n",
    "[jupytext](https://jupytext.readthedocs.io/en/latest/) to write the\n",
    "documentation in Markdown. These are automatically converted to and\n",
    "executed as jupyter notebooks when changes are pushed to Github.\n",
    "\n"
   ]
  }
 ],
 "metadata": {
  "jupytext": {
   "formats": "ipynb,md"
  },
  "kernelspec": {
   "display_name": "Python 3",
   "language": "python",
   "name": "python3"
  },
  "language_info": {
   "codemirror_mode": {
    "name": "ipython",
    "version": 3
   },
   "file_extension": ".py",
   "mimetype": "text/x-python",
   "name": "python",
   "nbconvert_exporter": "python",
   "pygments_lexer": "ipython3",
   "version": "3.9.13"
  }
 },
 "nbformat": 4,
 "nbformat_minor": 5
}
