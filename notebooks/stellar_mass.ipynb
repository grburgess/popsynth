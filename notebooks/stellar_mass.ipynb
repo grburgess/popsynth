{
 "cells": [
  {
   "cell_type": "markdown",
   "id": "60f0ca14",
   "metadata": {},
   "source": [
    "# Stellar Mass-Luminosity Bias\n",
    "\n",
    "Suppose that stars have a mass-luminosity relationship such that $L\n",
    "\\propto M^3$. If we have a flux-limited survey, it will bias us\n",
    "towards observing more massive stars which are not representative of\n",
    "the full mass distribution. Let's see how to set this up in `popsynth`. \n",
    "\n",
    "## Setup the problem\n",
    "First, we will assume that we have some initial mass function (IMF)\n",
    "for our stars that describes how there masses are distributed. For\n",
    "simplicity, we will assume that this IMF is just a log-normal distribution:"
   ]
  },
  {
   "cell_type": "code",
   "execution_count": 1,
   "id": "8f8adf11",
   "metadata": {
    "execution": {
     "iopub.execute_input": "2022-04-19T20:49:53.858802Z",
     "iopub.status.busy": "2022-04-19T20:49:53.858462Z",
     "iopub.status.idle": "2022-04-19T20:49:57.053362Z",
     "shell.execute_reply": "2022-04-19T20:49:57.052733Z"
    }
   },
   "outputs": [],
   "source": [
    "\n",
    "%matplotlib inline\n",
    "\n",
    "import matplotlib.pyplot as plt\n",
    "from jupyterthemes import jtplot\n",
    "\n",
    "jtplot.style(context=\"notebook\", fscale=1, grid=False)\n",
    "purple = \"#B833FF\"\n",
    "yellow = \"#F6EF5B\"\n",
    "\n",
    "import networkx as nx\n",
    "import numpy as np\n",
    "import warnings\n",
    "\n",
    "warnings.simplefilter(\"ignore\")\n",
    "\n",
    "import popsynth\n",
    "\n",
    "# create a sampler for mass\n",
    "# we do not directly observe the mass as it is a latent quantity\n",
    "\n",
    "initial_mass_function = popsynth.LogNormalAuxSampler(name=\"mass\", observed = False)\n"
   ]
  },
  {
   "cell_type": "markdown",
   "id": "43e68816",
   "metadata": {},
   "source": [
    "We now assume the dependent variable is the luminosity, so we need a\n",
    "`DerivedLumAuxSampler` that generates luminosities given a mass:"
   ]
  },
  {
   "cell_type": "code",
   "execution_count": 2,
   "id": "fccbabef",
   "metadata": {
    "execution": {
     "iopub.execute_input": "2022-04-19T20:49:57.057445Z",
     "iopub.status.busy": "2022-04-19T20:49:57.056994Z",
     "iopub.status.idle": "2022-04-19T20:49:57.063760Z",
     "shell.execute_reply": "2022-04-19T20:49:57.063215Z"
    }
   },
   "outputs": [],
   "source": [
    "class MassLuminosityRelation(popsynth.DerivedLumAuxSampler):\n",
    "    _auxiliary_sampler_name = \"MassLuminosityRelation\"\n",
    "  \n",
    "    def __init__(self, mu=0.0, tau=1.0, sigma=1):\n",
    "        # this time set observed=True\n",
    "        super(MassLuminosityRelation, self).__init__(\"mass_lum_relation\", uses_distance=False)\n",
    "\n",
    "    def true_sampler(self, size):\n",
    "        \n",
    "\t\t# the secondary quantity is mass \n",
    "\t\t\n",
    "        mass = self._secondary_samplers[\"mass\"].true_values\n",
    "        \n",
    "\t\t# we will store the log of mass cubed\n",
    "        self._true_values = 3 * np.log10(mass)\n",
    "\n",
    "    def compute_luminosity(self):\n",
    "        # compute the luminosity\n",
    "\t\t# from the relation\n",
    "        return np.power(10., self._true_values)\n",
    "\n",
    "\n",
    "luminosity = MassLuminosityRelation()\n",
    "\n"
   ]
  },
  {
   "cell_type": "markdown",
   "id": "deadc7af",
   "metadata": {},
   "source": [
    "Now we can put everything together. First, we need to assign\n",
    "`mass` as a secondary quantity to the luminosity"
   ]
  },
  {
   "cell_type": "code",
   "execution_count": 3,
   "id": "b3235010",
   "metadata": {
    "execution": {
     "iopub.execute_input": "2022-04-19T20:49:57.066698Z",
     "iopub.status.busy": "2022-04-19T20:49:57.066290Z",
     "iopub.status.idle": "2022-04-19T20:49:57.070271Z",
     "shell.execute_reply": "2022-04-19T20:49:57.069799Z"
    }
   },
   "outputs": [],
   "source": [
    "luminosity.set_secondary_sampler(initial_mass_function)"
   ]
  },
  {
   "cell_type": "markdown",
   "id": "d8fe5f40",
   "metadata": {},
   "source": [
    "Finally, we will use a simple spherical geometry to hold our stars. We\n",
    "will also put a hard flux limit on our survey to simulate a\n",
    "flux-limited catalog."
   ]
  },
  {
   "cell_type": "code",
   "execution_count": 4,
   "id": "c3a16e7a",
   "metadata": {
    "execution": {
     "iopub.execute_input": "2022-04-19T20:49:57.073015Z",
     "iopub.status.busy": "2022-04-19T20:49:57.072853Z",
     "iopub.status.idle": "2022-04-19T20:49:57.077370Z",
     "shell.execute_reply": "2022-04-19T20:49:57.076892Z"
    }
   },
   "outputs": [],
   "source": [
    "pop_gen = popsynth.populations.SphericalPopulation(1, r_max=10)\n",
    "\n",
    "# create the flux selection\n",
    "\n",
    "flux_selector = popsynth.HardFluxSelection()\n",
    "flux_selector.boundary = 1e-2\n",
    "pop_gen.set_flux_selection(flux_selector)\n",
    "\n",
    "# now add the luminisity sampler\n",
    "\n",
    "pop_gen.add_observed_quantity(luminosity)\n"
   ]
  },
  {
   "cell_type": "markdown",
   "id": "ae777630",
   "metadata": {},
   "source": [
    "Now let's draw our survey."
   ]
  },
  {
   "cell_type": "code",
   "execution_count": 5,
   "id": "05113c2b",
   "metadata": {
    "execution": {
     "iopub.execute_input": "2022-04-19T20:49:57.080151Z",
     "iopub.status.busy": "2022-04-19T20:49:57.079774Z",
     "iopub.status.idle": "2022-04-19T20:49:57.278542Z",
     "shell.execute_reply": "2022-04-19T20:49:57.277207Z"
    }
   },
   "outputs": [
    {
     "data": {
      "application/vnd.jupyter.widget-view+json": {
       "model_id": "84db3187e2764af1bcd26b4f100ca027",
       "version_major": 2,
       "version_minor": 0
      },
      "text/plain": [
       "Drawing distances:   0%|          | 0/4125 [00:00<?, ?it/s]"
      ]
     },
     "metadata": {},
     "output_type": "display_data"
    }
   ],
   "source": [
    "\n",
    "pop = pop_gen.draw_survey(flux_sigma=0.5)\n"
   ]
  },
  {
   "cell_type": "markdown",
   "id": "f448dbce",
   "metadata": {},
   "source": [
    "We can now look at the distribution of the masses:\n"
   ]
  },
  {
   "cell_type": "code",
   "execution_count": 6,
   "id": "b8c13250",
   "metadata": {
    "execution": {
     "iopub.execute_input": "2022-04-19T20:49:57.281744Z",
     "iopub.status.busy": "2022-04-19T20:49:57.281430Z",
     "iopub.status.idle": "2022-04-19T20:49:57.428960Z",
     "shell.execute_reply": "2022-04-19T20:49:57.428178Z"
    },
    "tags": [
     "nbsphinx-thumbnail"
    ]
   },
   "outputs": [
    {
     "data": {
      "text/plain": [
       "<matplotlib.legend.Legend at 0x7f65a23b43a0>"
      ]
     },
     "execution_count": 6,
     "metadata": {},
     "output_type": "execute_result"
    },
    {
     "data": {
      "image/png": "[encoded data removed]",
      "text/plain": [
       "<Figure size 576x504 with 1 Axes>"
      ]
     },
     "metadata": {},
     "output_type": "display_data"
    }
   ],
   "source": [
    "fig, ax = plt.subplots()\n",
    "\n",
    "bins = np.linspace(0,20,50)\n",
    "\n",
    "ax.hist(pop.mass,\n",
    "        bins=bins,\n",
    "        label='all', \n",
    "        color=purple,\n",
    "        histtype=\"step\",\n",
    "        lw=2\n",
    "       \n",
    "       )\n",
    "\n",
    "ax.hist(pop.mass[pop.selection],\n",
    "        bins=bins,\n",
    "        label='selected',\n",
    "        color=yellow,\n",
    "        histtype=\"step\",\n",
    "        lw=2\n",
    "       )\n",
    "\n",
    "ax.set_xlabel('stellar mass')\n",
    "ax.legend()\n"
   ]
  },
  {
   "cell_type": "markdown",
   "id": "485667f7",
   "metadata": {},
   "source": [
    "We can see that indeed our selected masses are biased towards higher values. \n",
    "\n",
    "Let's look in the mass-luminostiy plane:"
   ]
  },
  {
   "cell_type": "code",
   "execution_count": 7,
   "id": "b6e91410",
   "metadata": {
    "execution": {
     "iopub.execute_input": "2022-04-19T20:49:57.432024Z",
     "iopub.status.busy": "2022-04-19T20:49:57.431738Z",
     "iopub.status.idle": "2022-04-19T20:49:57.829974Z",
     "shell.execute_reply": "2022-04-19T20:49:57.829258Z"
    },
    "lines_to_next_cell": 0
   },
   "outputs": [
    {
     "data": {
      "text/plain": [
       "<matplotlib.legend.Legend at 0x7f65a11e47c0>"
      ]
     },
     "execution_count": 7,
     "metadata": {},
     "output_type": "execute_result"
    },
    {
     "data": {
      "image/png": "[encoded data removed]",
      "text/plain": [
       "<Figure size 576x504 with 1 Axes>"
      ]
     },
     "metadata": {},
     "output_type": "display_data"
    }
   ],
   "source": [
    "fig, ax = plt.subplots()\n",
    "\n",
    "bins = np.linspace(0,20,50)\n",
    "\n",
    "ax.scatter(pop.mass[~pop.selection],\n",
    "           pop.luminosities_latent[~pop.selection],        \n",
    "           label='not selected', \n",
    "           color=purple,\n",
    "           alpha=0.5,\n",
    "           s=10\n",
    "            \n",
    "            \n",
    "       \n",
    "       )\n",
    "\n",
    "ax.scatter(pop.mass[pop.selection],\n",
    "           pop.luminosities_latent[pop.selection],        \n",
    "           label='selected', \n",
    "           color=yellow,\n",
    "           alpha=0.5,\n",
    "           s=5\n",
    "          )\n",
    "\n",
    "\n",
    "\n",
    "ax.set_xlabel('stellar mass')\n",
    "ax.set_ylabel('luminosity')\n",
    "ax.set_yscale('log')\n",
    "\n",
    "\n",
    "ax.legend()\n",
    "\n"
   ]
  },
  {
   "cell_type": "markdown",
   "id": "68f94f59",
   "metadata": {},
   "source": []
  }
 ],
 "metadata": {
  "jupytext": {
   "formats": "ipynb,md"
  },
  "kernelspec": {
   "display_name": "Python 3",
   "language": "python",
   "name": "python3"
  },
  "language_info": {
   "codemirror_mode": {
    "name": "ipython",
    "version": 3
   },
   "file_extension": ".py",
   "mimetype": "text/x-python",
   "name": "python",
   "nbconvert_exporter": "python",
   "pygments_lexer": "ipython3",
   "version": "3.9.12"
  },
  "widgets": {
   "application/vnd.jupyter.widget-state+json": {
    "state": {
     "0f4dd5c0e9844f53818fd55193f19e4c": {
      "model_module": "@jupyter-widgets/controls",
      "model_module_version": "1.5.0",
      "model_name": "DescriptionStyleModel",
      "state": {
       "_model_module": "@jupyter-widgets/controls",
       "_model_module_version": "1.5.0",
       "_model_name": "DescriptionStyleModel",
       "_view_count": null,
       "_view_module": "@jupyter-widgets/base",
       "_view_module_version": "1.2.0",
       "_view_name": "StyleView",
       "description_width": ""
      }
     },
     "12e43159335044a3a6bdedd375b28b0f": {
      "model_module": "@jupyter-widgets/base",
      "model_module_version": "1.2.0",
      "model_name": "LayoutModel",
      "state": {
       "_model_module": "@jupyter-widgets/base",
       "_model_module_version": "1.2.0",
       "_model_name": "LayoutModel",
       "_view_count": null,
       "_view_module": "@jupyter-widgets/base",
       "_view_module_version": "1.2.0",
       "_view_name": "LayoutView",
       "align_content": null,
       "align_items": null,
       "align_self": null,
       "border": null,
       "bottom": null,
       "display": null,
       "flex": null,
       "flex_flow": null,
       "grid_area": null,
       "grid_auto_columns": null,
       "grid_auto_flow": null,
       "grid_auto_rows": null,
       "grid_column": null,
       "grid_gap": null,
       "grid_row": null,
       "grid_template_areas": null,
       "grid_template_columns": null,
       "grid_template_rows": null,
       "height": null,
       "justify_content": null,
       "justify_items": null,
       "left": null,
       "margin": null,
       "max_height": null,
       "max_width": null,
       "min_height": null,
       "min_width": null,
       "object_fit": null,
       "object_position": null,
       "order": null,
       "overflow": null,
       "overflow_x": null,
       "overflow_y": null,
       "padding": null,
       "right": null,
       "top": null,
       "visibility": null,
       "width": null
      }
     },
     "27d163ddd5cf45c9ae4bbd30ea3c5c56": {
      "model_module": "@jupyter-widgets/base",
      "model_module_version": "1.2.0",
      "model_name": "LayoutModel",
      "state": {
       "_model_module": "@jupyter-widgets/base",
       "_model_module_version": "1.2.0",
       "_model_name": "LayoutModel",
       "_view_count": null,
       "_view_module": "@jupyter-widgets/base",
       "_view_module_version": "1.2.0",
       "_view_name": "LayoutView",
       "align_content": null,
       "align_items": null,
       "align_self": null,
       "border": null,
       "bottom": null,
       "display": null,
       "flex": null,
       "flex_flow": null,
       "grid_area": null,
       "grid_auto_columns": null,
       "grid_auto_flow": null,
       "grid_auto_rows": null,
       "grid_column": null,
       "grid_gap": null,
       "grid_row": null,
       "grid_template_areas": null,
       "grid_template_columns": null,
       "grid_template_rows": null,
       "height": null,
       "justify_content": null,
       "justify_items": null,
       "left": null,
       "margin": null,
       "max_height": null,
       "max_width": null,
       "min_height": null,
       "min_width": null,
       "object_fit": null,
       "object_position": null,
       "order": null,
       "overflow": null,
       "overflow_x": null,
       "overflow_y": null,
       "padding": null,
       "right": null,
       "top": null,
       "visibility": null,
       "width": null
      }
     },
     "3b6727bb67964a16b8b64c3c5e3df2aa": {
      "model_module": "@jupyter-widgets/controls",
      "model_module_version": "1.5.0",
      "model_name": "DescriptionStyleModel",
      "state": {
       "_model_module": "@jupyter-widgets/controls",
       "_model_module_version": "1.5.0",
       "_model_name": "DescriptionStyleModel",
       "_view_count": null,
       "_view_module": "@jupyter-widgets/base",
       "_view_module_version": "1.2.0",
       "_view_name": "StyleView",
       "description_width": ""
      }
     },
     "49874e63a9b9425d931c0d053054e764": {
      "model_module": "@jupyter-widgets/base",
      "model_module_version": "1.2.0",
      "model_name": "LayoutModel",
      "state": {
       "_model_module": "@jupyter-widgets/base",
       "_model_module_version": "1.2.0",
       "_model_name": "LayoutModel",
       "_view_count": null,
       "_view_module": "@jupyter-widgets/base",
       "_view_module_version": "1.2.0",
       "_view_name": "LayoutView",
       "align_content": null,
       "align_items": null,
       "align_self": null,
       "border": null,
       "bottom": null,
       "display": null,
       "flex": null,
       "flex_flow": null,
       "grid_area": null,
       "grid_auto_columns": null,
       "grid_auto_flow": null,
       "grid_auto_rows": null,
       "grid_column": null,
       "grid_gap": null,
       "grid_row": null,
       "grid_template_areas": null,
       "grid_template_columns": null,
       "grid_template_rows": null,
       "height": null,
       "justify_content": null,
       "justify_items": null,
       "left": null,
       "margin": null,
       "max_height": null,
       "max_width": null,
       "min_height": null,
       "min_width": null,
       "object_fit": null,
       "object_position": null,
       "order": null,
       "overflow": null,
       "overflow_x": null,
       "overflow_y": null,
       "padding": null,
       "right": null,
       "top": null,
       "visibility": null,
       "width": null
      }
     },
     "8488e220aca64b92ba048baa9670e9e0": {
      "model_module": "@jupyter-widgets/controls",
      "model_module_version": "1.5.0",
      "model_name": "FloatProgressModel",
      "state": {
       "_dom_classes": [],
       "_model_module": "@jupyter-widgets/controls",
       "_model_module_version": "1.5.0",
       "_model_name": "FloatProgressModel",
       "_view_count": null,
       "_view_module": "@jupyter-widgets/controls",
       "_view_module_version": "1.5.0",
       "_view_name": "ProgressView",
       "bar_style": "success",
       "description": "",
       "description_tooltip": null,
       "layout": "IPY_MODEL_27d163ddd5cf45c9ae4bbd30ea3c5c56",
       "max": 4125.0,
       "min": 0.0,
       "orientation": "horizontal",
       "style": "IPY_MODEL_ff66e1a1cd73404fbb819be4aebb6ac6",
       "value": 4125.0
      }
     },
     "84db3187e2764af1bcd26b4f100ca027": {
      "model_module": "@jupyter-widgets/controls",
      "model_module_version": "1.5.0",
      "model_name": "HBoxModel",
      "state": {
       "_dom_classes": [],
       "_model_module": "@jupyter-widgets/controls",
       "_model_module_version": "1.5.0",
       "_model_name": "HBoxModel",
       "_view_count": null,
       "_view_module": "@jupyter-widgets/controls",
       "_view_module_version": "1.5.0",
       "_view_name": "HBoxView",
       "box_style": "",
       "children": [
        "IPY_MODEL_f187836694ed4ccfae79bc19e96f9594",
        "IPY_MODEL_8488e220aca64b92ba048baa9670e9e0",
        "IPY_MODEL_922b43514698465b83b1fec0470b13e8"
       ],
       "layout": "IPY_MODEL_d0de32f47ac44925a7b3fd2ba8ad538f"
      }
     },
     "922b43514698465b83b1fec0470b13e8": {
      "model_module": "@jupyter-widgets/controls",
      "model_module_version": "1.5.0",
      "model_name": "HTMLModel",
      "state": {
       "_dom_classes": [],
       "_model_module": "@jupyter-widgets/controls",
       "_model_module_version": "1.5.0",
       "_model_name": "HTMLModel",
       "_view_count": null,
       "_view_module": "@jupyter-widgets/controls",
       "_view_module_version": "1.5.0",
       "_view_name": "HTMLView",
       "description": "",
       "description_tooltip": null,
       "layout": "IPY_MODEL_49874e63a9b9425d931c0d053054e764",
       "placeholder": "​",
       "style": "IPY_MODEL_3b6727bb67964a16b8b64c3c5e3df2aa",
       "value": " 4125/4125 [00:00&lt;00:00, 35684.50it/s]"
      }
     },
     "d0de32f47ac44925a7b3fd2ba8ad538f": {
      "model_module": "@jupyter-widgets/base",
      "model_module_version": "1.2.0",
      "model_name": "LayoutModel",
      "state": {
       "_model_module": "@jupyter-widgets/base",
       "_model_module_version": "1.2.0",
       "_model_name": "LayoutModel",
       "_view_count": null,
       "_view_module": "@jupyter-widgets/base",
       "_view_module_version": "1.2.0",
       "_view_name": "LayoutView",
       "align_content": null,
       "align_items": null,
       "align_self": null,
       "border": null,
       "bottom": null,
       "display": null,
       "flex": null,
       "flex_flow": null,
       "grid_area": null,
       "grid_auto_columns": null,
       "grid_auto_flow": null,
       "grid_auto_rows": null,
       "grid_column": null,
       "grid_gap": null,
       "grid_row": null,
       "grid_template_areas": null,
       "grid_template_columns": null,
       "grid_template_rows": null,
       "height": null,
       "justify_content": null,
       "justify_items": null,
       "left": null,
       "margin": null,
       "max_height": null,
       "max_width": null,
       "min_height": null,
       "min_width": null,
       "object_fit": null,
       "object_position": null,
       "order": null,
       "overflow": null,
       "overflow_x": null,
       "overflow_y": null,
       "padding": null,
       "right": null,
       "top": null,
       "visibility": null,
       "width": null
      }
     },
     "f187836694ed4ccfae79bc19e96f9594": {
      "model_module": "@jupyter-widgets/controls",
      "model_module_version": "1.5.0",
      "model_name": "HTMLModel",
      "state": {
       "_dom_classes": [],
       "_model_module": "@jupyter-widgets/controls",
       "_model_module_version": "1.5.0",
       "_model_name": "HTMLModel",
       "_view_count": null,
       "_view_module": "@jupyter-widgets/controls",
       "_view_module_version": "1.5.0",
       "_view_name": "HTMLView",
       "description": "",
       "description_tooltip": null,
       "layout": "IPY_MODEL_12e43159335044a3a6bdedd375b28b0f",
       "placeholder": "​",
       "style": "IPY_MODEL_0f4dd5c0e9844f53818fd55193f19e4c",
       "value": "Drawing distances: 100%"
      }
     },
     "ff66e1a1cd73404fbb819be4aebb6ac6": {
      "model_module": "@jupyter-widgets/controls",
      "model_module_version": "1.5.0",
      "model_name": "ProgressStyleModel",
      "state": {
       "_model_module": "@jupyter-widgets/controls",
       "_model_module_version": "1.5.0",
       "_model_name": "ProgressStyleModel",
       "_view_count": null,
       "_view_module": "@jupyter-widgets/base",
       "_view_module_version": "1.2.0",
       "_view_name": "StyleView",
       "bar_color": "#B833FF",
       "description_width": ""
      }
     }
    },
    "version_major": 2,
    "version_minor": 0
   }
  }
 },
 "nbformat": 4,
 "nbformat_minor": 5
}
