{
 "cells": [
  {
   "cell_type": "markdown",
   "id": "44849442",
   "metadata": {},
   "source": [
    "# Short GRBS \n",
    "\n",
    "In [Ghirlanda et al. 2016](https://arxiv.org/abs/1607.07875) a fitting algorithm was used to determine the redshift and luminosity of short GRBS. We can use the parameters to reproduce the population and the observed GBM survey."
   ]
  },
  {
   "cell_type": "code",
   "execution_count": 1,
   "id": "e43016e3",
   "metadata": {
    "execution": {
     "iopub.execute_input": "2022-04-19T20:49:43.072340Z",
     "iopub.status.busy": "2022-04-19T20:49:43.072119Z",
     "iopub.status.idle": "2022-04-19T20:49:46.233105Z",
     "shell.execute_reply": "2022-04-19T20:49:46.232511Z"
    }
   },
   "outputs": [],
   "source": [
    "from popsynth import SFRDistribution, BPLDistribution, PopulationSynth, NormalAuxSampler, AuxiliarySampler, HardFluxSelection\n",
    "from popsynth import update_logging_level\n",
    "update_logging_level(\"INFO\")"
   ]
  },
  {
   "cell_type": "code",
   "execution_count": 2,
   "id": "9f44c692",
   "metadata": {
    "execution": {
     "iopub.execute_input": "2022-04-19T20:49:46.236470Z",
     "iopub.status.busy": "2022-04-19T20:49:46.236152Z",
     "iopub.status.idle": "2022-04-19T20:49:46.245334Z",
     "shell.execute_reply": "2022-04-19T20:49:46.244841Z"
    }
   },
   "outputs": [],
   "source": [
    "%matplotlib inline\n",
    "\n",
    "import matplotlib.pyplot as plt\n",
    "from jupyterthemes import jtplot\n",
    "\n",
    "jtplot.style(context=\"notebook\", fscale=1, grid=False)\n",
    "purple = \"#B833FF\"\n",
    "yellow = \"#F6EF5B\"\n",
    "\n",
    "import networkx as nx\n",
    "import numpy as np\n",
    "import warnings\n",
    "\n",
    "warnings.simplefilter(\"ignore\")"
   ]
  },
  {
   "cell_type": "markdown",
   "id": "323817e6",
   "metadata": {},
   "source": [
    "In the work, the luminosity function of short GRBs is model as a broken power law."
   ]
  },
  {
   "cell_type": "code",
   "execution_count": 3,
   "id": "2807b8a1",
   "metadata": {
    "execution": {
     "iopub.execute_input": "2022-04-19T20:49:46.247891Z",
     "iopub.status.busy": "2022-04-19T20:49:46.247730Z",
     "iopub.status.idle": "2022-04-19T20:49:46.251022Z",
     "shell.execute_reply": "2022-04-19T20:49:46.250502Z"
    }
   },
   "outputs": [],
   "source": [
    "bpl = BPLDistribution()\n",
    "\n",
    "bpl.alpha = -0.53\n",
    "bpl.beta = -3.4\n",
    "bpl.Lmin = 1e47 # erg/s\n",
    "bpl.Lbreak = 2.8e52\n",
    "bpl.Lmax = 1e55\n"
   ]
  },
  {
   "cell_type": "markdown",
   "id": "219a8175",
   "metadata": {},
   "source": [
    "To model the redshift distribution, an empirical form from [Cole et al 2001](https://academic.oup.com/mnras/article/326/1/255/1026734?login=true) is used. In ```popsynth``` we call this the ```SFRDistribution``` (but perhaps a better name is needed)."
   ]
  },
  {
   "cell_type": "code",
   "execution_count": 4,
   "id": "60423e44",
   "metadata": {
    "execution": {
     "iopub.execute_input": "2022-04-19T20:49:46.253561Z",
     "iopub.status.busy": "2022-04-19T20:49:46.253405Z",
     "iopub.status.idle": "2022-04-19T20:49:46.256085Z",
     "shell.execute_reply": "2022-04-19T20:49:46.255554Z"
    }
   },
   "outputs": [],
   "source": [
    "sfr = SFRDistribution()"
   ]
  },
  {
   "cell_type": "code",
   "execution_count": 5,
   "id": "645cd894",
   "metadata": {
    "execution": {
     "iopub.execute_input": "2022-04-19T20:49:46.258384Z",
     "iopub.status.busy": "2022-04-19T20:49:46.258123Z",
     "iopub.status.idle": "2022-04-19T20:49:46.262092Z",
     "shell.execute_reply": "2022-04-19T20:49:46.261622Z"
    }
   },
   "outputs": [],
   "source": [
    "sfr.r0 = 5.\n",
    "sfr.a = 1\n",
    "sfr.rise = 2.8\n",
    "sfr.decay = 3.5\n",
    "sfr.peak = 2.3"
   ]
  },
  {
   "cell_type": "markdown",
   "id": "8c3a2f06",
   "metadata": {},
   "source": [
    "We can checkout how the rate changes with redshift"
   ]
  },
  {
   "cell_type": "code",
   "execution_count": 6,
   "id": "4b0694ad",
   "metadata": {
    "execution": {
     "iopub.execute_input": "2022-04-19T20:49:46.264748Z",
     "iopub.status.busy": "2022-04-19T20:49:46.264367Z",
     "iopub.status.idle": "2022-04-19T20:49:46.846438Z",
     "shell.execute_reply": "2022-04-19T20:49:46.845766Z"
    }
   },
   "outputs": [
    {
     "data": {
      "text/plain": [
       "Text(0, 0.5, '$\\\\frac{\\\\mathrm{d}N}{\\\\mathrm{d}V}$')"
      ]
     },
     "execution_count": 6,
     "metadata": {},
     "output_type": "execute_result"
    },
    {
     "data": {
      "image/png": "[encoded data removed]",
      "text/plain": [
       "<Figure size 576x504 with 1 Axes>"
      ]
     },
     "metadata": {},
     "output_type": "display_data"
    }
   ],
   "source": [
    "fig, ax = plt.subplots()\n",
    "\n",
    "z = np.linspace(0,5,100)\n",
    "\n",
    "ax.plot(z, sfr.dNdV(z), color=purple)\n",
    "ax.set_xlabel(\"z\")\n",
    "ax.set_ylabel(r\"$\\frac{\\mathrm{d}N}{\\mathrm{d}V}$\")"
   ]
  },
  {
   "cell_type": "markdown",
   "id": "ff370a1d",
   "metadata": {},
   "source": [
    "In their model, the authors also have some secondary parameters that are connected to the luminosity. These are the  parameters for the spectrum of the GRB. It is proposed that the spectra peak energy (Ep) is linked to the luminosity by a power law relation:\n",
    "\n",
    "\n",
    "$$ \\log E_{\\mathrm{p}} \\propto a + b \\log L$$\n",
    "\n",
    "We can build an auxiliary sample to simulate this as well. But we will also add a bit of scatter to the intercept of the relation."
   ]
  },
  {
   "cell_type": "code",
   "execution_count": 7,
   "id": "c847802f",
   "metadata": {
    "execution": {
     "iopub.execute_input": "2022-04-19T20:49:46.849817Z",
     "iopub.status.busy": "2022-04-19T20:49:46.849348Z",
     "iopub.status.idle": "2022-04-19T20:49:46.852897Z",
     "shell.execute_reply": "2022-04-19T20:49:46.852347Z"
    }
   },
   "outputs": [],
   "source": [
    "intercept =NormalAuxSampler(name=\"intercept\", observed=False)\n",
    "\n",
    "intercept.mu = 0.034\n",
    "intercept.sigma = .005\n",
    "\n",
    "\n"
   ]
  },
  {
   "cell_type": "code",
   "execution_count": 8,
   "id": "3ed0327a",
   "metadata": {
    "execution": {
     "iopub.execute_input": "2022-04-19T20:49:46.855901Z",
     "iopub.status.busy": "2022-04-19T20:49:46.855475Z",
     "iopub.status.idle": "2022-04-19T20:49:46.860900Z",
     "shell.execute_reply": "2022-04-19T20:49:46.860320Z"
    }
   },
   "outputs": [],
   "source": [
    "class EpSampler(AuxiliarySampler):\n",
    "    \n",
    "    _auxiliary_sampler_name = \"EpSampler\"\n",
    "\n",
    "    def __init__(self):\n",
    "\n",
    "        # pass up to the super class\n",
    "        super(EpSampler, self).__init__(\"Ep\", observed=True, uses_luminosity = True)\n",
    "\n",
    "    def true_sampler(self, size):\n",
    "\n",
    "        # we will get the intercept's latent (true) value\n",
    "        # from its sampler\n",
    "        \n",
    "        intercept = self._secondary_samplers[\"intercept\"].true_values\n",
    "        \n",
    "        slope = 0.84\n",
    "\n",
    "        self._true_values = np.power(10., intercept + slope * np.log10(self._luminosity/1e52) + np.log10(670.))\n",
    "        \n",
    "    def observation_sampler(self, size):\n",
    "        \n",
    "        # we will also add some measurement error to Ep\n",
    "        self._obs_values = self._true_values + np.random.normal(0., 10, size=size)\n",
    "        "
   ]
  },
  {
   "cell_type": "markdown",
   "id": "3729dffe",
   "metadata": {},
   "source": [
    "Now we can put it all together."
   ]
  },
  {
   "cell_type": "code",
   "execution_count": 9,
   "id": "c8346dd0",
   "metadata": {
    "execution": {
     "iopub.execute_input": "2022-04-19T20:49:46.863701Z",
     "iopub.status.busy": "2022-04-19T20:49:46.863335Z",
     "iopub.status.idle": "2022-04-19T20:49:46.866377Z",
     "shell.execute_reply": "2022-04-19T20:49:46.865878Z"
    }
   },
   "outputs": [],
   "source": [
    "pop_synth = PopulationSynth(spatial_distribution=sfr, luminosity_distribution=bpl)"
   ]
  },
  {
   "cell_type": "markdown",
   "id": "348a2aa0",
   "metadata": {},
   "source": [
    "We will have a hard flux selection which is Fermi-GBM's fluz limit of ~ 1e-7 erg/s/cm2"
   ]
  },
  {
   "cell_type": "code",
   "execution_count": 10,
   "id": "b3769a88",
   "metadata": {
    "execution": {
     "iopub.execute_input": "2022-04-19T20:49:46.869298Z",
     "iopub.status.busy": "2022-04-19T20:49:46.868864Z",
     "iopub.status.idle": "2022-04-19T20:49:46.871880Z",
     "shell.execute_reply": "2022-04-19T20:49:46.871351Z"
    }
   },
   "outputs": [],
   "source": [
    "selection = HardFluxSelection()\n",
    "selection.boundary = 1e-7"
   ]
  },
  {
   "cell_type": "code",
   "execution_count": 11,
   "id": "9274f032",
   "metadata": {
    "execution": {
     "iopub.execute_input": "2022-04-19T20:49:46.874428Z",
     "iopub.status.busy": "2022-04-19T20:49:46.874010Z",
     "iopub.status.idle": "2022-04-19T20:49:46.877104Z",
     "shell.execute_reply": "2022-04-19T20:49:46.876558Z"
    }
   },
   "outputs": [],
   "source": [
    "pop_synth.set_flux_selection(selection)"
   ]
  },
  {
   "cell_type": "markdown",
   "id": "c0c4ce92",
   "metadata": {},
   "source": [
    "We need to add the Ep sampler. Once we set the intercept sampler as a secondary it will automatically be added to the population synth."
   ]
  },
  {
   "cell_type": "code",
   "execution_count": 12,
   "id": "eadca03b",
   "metadata": {
    "execution": {
     "iopub.execute_input": "2022-04-19T20:49:46.879831Z",
     "iopub.status.busy": "2022-04-19T20:49:46.879410Z",
     "iopub.status.idle": "2022-04-19T20:49:46.882257Z",
     "shell.execute_reply": "2022-04-19T20:49:46.881737Z"
    }
   },
   "outputs": [],
   "source": [
    "ep = EpSampler()"
   ]
  },
  {
   "cell_type": "code",
   "execution_count": 13,
   "id": "81cce17f",
   "metadata": {
    "execution": {
     "iopub.execute_input": "2022-04-19T20:49:46.884616Z",
     "iopub.status.busy": "2022-04-19T20:49:46.884276Z",
     "iopub.status.idle": "2022-04-19T20:49:46.887097Z",
     "shell.execute_reply": "2022-04-19T20:49:46.886577Z"
    }
   },
   "outputs": [],
   "source": [
    "ep.set_secondary_sampler(intercept)"
   ]
  },
  {
   "cell_type": "code",
   "execution_count": 14,
   "id": "c63f8f77",
   "metadata": {
    "execution": {
     "iopub.execute_input": "2022-04-19T20:49:46.889619Z",
     "iopub.status.busy": "2022-04-19T20:49:46.889350Z",
     "iopub.status.idle": "2022-04-19T20:49:46.892816Z",
     "shell.execute_reply": "2022-04-19T20:49:46.892415Z"
    }
   },
   "outputs": [
    {
     "name": "stdout",
     "output_type": "stream",
     "text": [
      "\u001b[32m\u001b[1m INFO     \u001b[0m| \u001b[32m\u001b[1m registering auxilary sampler: Ep \u001b[0m\n"
     ]
    }
   ],
   "source": [
    "pop_synth.add_auxiliary_sampler(ep)"
   ]
  },
  {
   "cell_type": "markdown",
   "id": "4f89719f",
   "metadata": {},
   "source": [
    "We are ready to sample our population. We will add some measurement uncertainty to the fluxes as well."
   ]
  },
  {
   "cell_type": "code",
   "execution_count": 15,
   "id": "830f1456",
   "metadata": {
    "execution": {
     "iopub.execute_input": "2022-04-19T20:49:46.895561Z",
     "iopub.status.busy": "2022-04-19T20:49:46.895149Z",
     "iopub.status.idle": "2022-04-19T20:49:50.793999Z",
     "shell.execute_reply": "2022-04-19T20:49:50.793407Z"
    }
   },
   "outputs": [
    {
     "name": "stdout",
     "output_type": "stream",
     "text": [
      "\u001b[32m\u001b[1m INFO     \u001b[0m| \u001b[32m\u001b[1m The volume integral is 797.550666 \u001b[0m\n"
     ]
    },
    {
     "data": {
      "application/vnd.jupyter.widget-view+json": {
       "model_id": "cb06db56ac7d4aa49bacb460717a7e1b",
       "version_major": 2,
       "version_minor": 0
      },
      "text/plain": [
       "Drawing distances:   0%|          | 0/770 [00:00<?, ?it/s]"
      ]
     },
     "metadata": {},
     "output_type": "display_data"
    },
    {
     "name": "stdout",
     "output_type": "stream",
     "text": [
      "\u001b[32m\u001b[1m INFO     \u001b[0m| \u001b[32m\u001b[1m Expecting 770 total objects \u001b[0m\n"
     ]
    },
    {
     "name": "stdout",
     "output_type": "stream",
     "text": [
      "\u001b[32m\u001b[1m INFO     \u001b[0m| \u001b[32m\u001b[1m Sampling: Ep \u001b[0m\n"
     ]
    },
    {
     "name": "stdout",
     "output_type": "stream",
     "text": [
      "\u001b[32m\u001b[1m INFO     \u001b[0m| \u001b[32m\u001b[1m Ep is sampling its secondary quantities \u001b[0m\n"
     ]
    },
    {
     "name": "stdout",
     "output_type": "stream",
     "text": [
      "\u001b[32m\u001b[1m INFO     \u001b[0m| \u001b[32m\u001b[1m Sampling: intercept \u001b[0m\n"
     ]
    },
    {
     "name": "stdout",
     "output_type": "stream",
     "text": [
      "\u001b[32m\u001b[1m INFO     \u001b[0m| \u001b[32m\u001b[1m applying selection to fluxes \u001b[0m\n"
     ]
    },
    {
     "name": "stdout",
     "output_type": "stream",
     "text": [
      "\u001b[32m\u001b[1m INFO     \u001b[0m| \u001b[32m\u001b[1m Detected 499 distances \u001b[0m\n"
     ]
    },
    {
     "name": "stdout",
     "output_type": "stream",
     "text": [
      "\u001b[32m\u001b[1m INFO     \u001b[0m| \u001b[32m\u001b[1m Detected 499 objects out to a distance of 5.31 \u001b[0m\n"
     ]
    }
   ],
   "source": [
    "population = pop_synth.draw_survey(flux_sigma=0.2)"
   ]
  },
  {
   "cell_type": "code",
   "execution_count": 16,
   "id": "76e86f4c",
   "metadata": {
    "execution": {
     "iopub.execute_input": "2022-04-19T20:49:50.796792Z",
     "iopub.status.busy": "2022-04-19T20:49:50.796332Z",
     "iopub.status.idle": "2022-04-19T20:49:51.222378Z",
     "shell.execute_reply": "2022-04-19T20:49:51.221918Z"
    },
    "tags": [
     "nbsphinx-thumbnail"
    ]
   },
   "outputs": [
    {
     "data": {
      "image/png": "[encoded data removed]",
      "text/plain": [
       "<Figure size 576x504 with 1 Axes>"
      ]
     },
     "metadata": {},
     "output_type": "display_data"
    }
   ],
   "source": [
    "population.display_fluxes(true_color=purple, obs_color=yellow, with_arrows=False, s= 5);"
   ]
  },
  {
   "cell_type": "markdown",
   "id": "61bfd717",
   "metadata": {},
   "source": [
    "Let's look at our distribution of Ep"
   ]
  },
  {
   "cell_type": "code",
   "execution_count": 17,
   "id": "25816325",
   "metadata": {
    "execution": {
     "iopub.execute_input": "2022-04-19T20:49:51.225334Z",
     "iopub.status.busy": "2022-04-19T20:49:51.224931Z",
     "iopub.status.idle": "2022-04-19T20:49:51.350988Z",
     "shell.execute_reply": "2022-04-19T20:49:51.350531Z"
    }
   },
   "outputs": [
    {
     "data": {
      "text/plain": [
       "<matplotlib.legend.Legend at 0x7f42e6626d90>"
      ]
     },
     "execution_count": 17,
     "metadata": {},
     "output_type": "execute_result"
    },
    {
     "data": {
      "image/png": "[encoded data removed]",
      "text/plain": [
       "<Figure size 576x504 with 1 Axes>"
      ]
     },
     "metadata": {},
     "output_type": "display_data"
    }
   ],
   "source": [
    "fig, ax = plt.subplots()\n",
    "\n",
    "ax.hist(np.log10(population.Ep.selected), histtype=\"step\", color=yellow, lw=3, label=\"Ep observed\")\n",
    "ax.hist(np.log10(population.Ep.non_selected), histtype=\"step\", color=purple, lw=3,  label=\"Ep hidden\")\n",
    "ax.set_xlabel(\"log Ep\")\n",
    "\n",
    "ax.legend()"
   ]
  },
  {
   "cell_type": "code",
   "execution_count": 18,
   "id": "690a126a",
   "metadata": {
    "execution": {
     "iopub.execute_input": "2022-04-19T20:49:51.354257Z",
     "iopub.status.busy": "2022-04-19T20:49:51.353939Z",
     "iopub.status.idle": "2022-04-19T20:49:52.112306Z",
     "shell.execute_reply": "2022-04-19T20:49:52.111351Z"
    }
   },
   "outputs": [
    {
     "data": {
      "text/plain": [
       "Text(0.5, 0, 'log Flux')"
      ]
     },
     "execution_count": 18,
     "metadata": {},
     "output_type": "execute_result"
    },
    {
     "data": {
      "image/png": "[encoded data removed]",
      "text/plain": [
       "<Figure size 576x504 with 1 Axes>"
      ]
     },
     "metadata": {},
     "output_type": "display_data"
    }
   ],
   "source": [
    "fig, ax = plt.subplots()\n",
    "\n",
    "\n",
    "ax.scatter(population.fluxes.non_selected,\n",
    "           population.Ep.non_selected,c=purple, alpha=0.5)\n",
    "ax.scatter(population.fluxes.selected,\n",
    "           population.Ep.selected,c=yellow, alpha=0.5)\n",
    "\n",
    "ax.set_xscale(\"log\")\n",
    "ax.set_yscale(\"log\")\n",
    "\n",
    "ax.set_xlabel(\"log Ep\")\n",
    "ax.set_xlabel(\"log Flux\")"
   ]
  },
  {
   "cell_type": "markdown",
   "id": "240e4354",
   "metadata": {},
   "source": [
    "Does this look like the observed catalogs?"
   ]
  }
 ],
 "metadata": {
  "jupytext": {
   "formats": "ipynb,md"
  },
  "kernelspec": {
   "display_name": "Python 3",
   "language": "python",
   "name": "python3"
  },
  "language_info": {
   "codemirror_mode": {
    "name": "ipython",
    "version": 3
   },
   "file_extension": ".py",
   "mimetype": "text/x-python",
   "name": "python",
   "nbconvert_exporter": "python",
   "pygments_lexer": "ipython3",
   "version": "3.9.12"
  },
  "widgets": {
   "application/vnd.jupyter.widget-state+json": {
    "state": {
     "247dc0279a18416e8b8b987a9f703249": {
      "model_module": "@jupyter-widgets/controls",
      "model_module_version": "1.5.0",
      "model_name": "DescriptionStyleModel",
      "state": {
       "_model_module": "@jupyter-widgets/controls",
       "_model_module_version": "1.5.0",
       "_model_name": "DescriptionStyleModel",
       "_view_count": null,
       "_view_module": "@jupyter-widgets/base",
       "_view_module_version": "1.2.0",
       "_view_name": "StyleView",
       "description_width": ""
      }
     },
     "318fcd5e57314380a4caa18a0f58425f": {
      "model_module": "@jupyter-widgets/controls",
      "model_module_version": "1.5.0",
      "model_name": "HTMLModel",
      "state": {
       "_dom_classes": [],
       "_model_module": "@jupyter-widgets/controls",
       "_model_module_version": "1.5.0",
       "_model_name": "HTMLModel",
       "_view_count": null,
       "_view_module": "@jupyter-widgets/controls",
       "_view_module_version": "1.5.0",
       "_view_name": "HTMLView",
       "description": "",
       "description_tooltip": null,
       "layout": "IPY_MODEL_3880e80a6f224a0b9a6df9d6ff7c652e",
       "placeholder": "​",
       "style": "IPY_MODEL_4eeb9bb6e5b54831870fd9be60780844",
       "value": " 770/770 [00:00&lt;00:00, 13967.59it/s]"
      }
     },
     "34282cc006354baf8365cf7fcfbbc5f1": {
      "model_module": "@jupyter-widgets/base",
      "model_module_version": "1.2.0",
      "model_name": "LayoutModel",
      "state": {
       "_model_module": "@jupyter-widgets/base",
       "_model_module_version": "1.2.0",
       "_model_name": "LayoutModel",
       "_view_count": null,
       "_view_module": "@jupyter-widgets/base",
       "_view_module_version": "1.2.0",
       "_view_name": "LayoutView",
       "align_content": null,
       "align_items": null,
       "align_self": null,
       "border": null,
       "bottom": null,
       "display": null,
       "flex": null,
       "flex_flow": null,
       "grid_area": null,
       "grid_auto_columns": null,
       "grid_auto_flow": null,
       "grid_auto_rows": null,
       "grid_column": null,
       "grid_gap": null,
       "grid_row": null,
       "grid_template_areas": null,
       "grid_template_columns": null,
       "grid_template_rows": null,
       "height": null,
       "justify_content": null,
       "justify_items": null,
       "left": null,
       "margin": null,
       "max_height": null,
       "max_width": null,
       "min_height": null,
       "min_width": null,
       "object_fit": null,
       "object_position": null,
       "order": null,
       "overflow": null,
       "overflow_x": null,
       "overflow_y": null,
       "padding": null,
       "right": null,
       "top": null,
       "visibility": null,
       "width": null
      }
     },
     "35c307474cd3404faf5ed02d6e43db0f": {
      "model_module": "@jupyter-widgets/base",
      "model_module_version": "1.2.0",
      "model_name": "LayoutModel",
      "state": {
       "_model_module": "@jupyter-widgets/base",
       "_model_module_version": "1.2.0",
       "_model_name": "LayoutModel",
       "_view_count": null,
       "_view_module": "@jupyter-widgets/base",
       "_view_module_version": "1.2.0",
       "_view_name": "LayoutView",
       "align_content": null,
       "align_items": null,
       "align_self": null,
       "border": null,
       "bottom": null,
       "display": null,
       "flex": null,
       "flex_flow": null,
       "grid_area": null,
       "grid_auto_columns": null,
       "grid_auto_flow": null,
       "grid_auto_rows": null,
       "grid_column": null,
       "grid_gap": null,
       "grid_row": null,
       "grid_template_areas": null,
       "grid_template_columns": null,
       "grid_template_rows": null,
       "height": null,
       "justify_content": null,
       "justify_items": null,
       "left": null,
       "margin": null,
       "max_height": null,
       "max_width": null,
       "min_height": null,
       "min_width": null,
       "object_fit": null,
       "object_position": null,
       "order": null,
       "overflow": null,
       "overflow_x": null,
       "overflow_y": null,
       "padding": null,
       "right": null,
       "top": null,
       "visibility": null,
       "width": null
      }
     },
     "3880e80a6f224a0b9a6df9d6ff7c652e": {
      "model_module": "@jupyter-widgets/base",
      "model_module_version": "1.2.0",
      "model_name": "LayoutModel",
      "state": {
       "_model_module": "@jupyter-widgets/base",
       "_model_module_version": "1.2.0",
       "_model_name": "LayoutModel",
       "_view_count": null,
       "_view_module": "@jupyter-widgets/base",
       "_view_module_version": "1.2.0",
       "_view_name": "LayoutView",
       "align_content": null,
       "align_items": null,
       "align_self": null,
       "border": null,
       "bottom": null,
       "display": null,
       "flex": null,
       "flex_flow": null,
       "grid_area": null,
       "grid_auto_columns": null,
       "grid_auto_flow": null,
       "grid_auto_rows": null,
       "grid_column": null,
       "grid_gap": null,
       "grid_row": null,
       "grid_template_areas": null,
       "grid_template_columns": null,
       "grid_template_rows": null,
       "height": null,
       "justify_content": null,
       "justify_items": null,
       "left": null,
       "margin": null,
       "max_height": null,
       "max_width": null,
       "min_height": null,
       "min_width": null,
       "object_fit": null,
       "object_position": null,
       "order": null,
       "overflow": null,
       "overflow_x": null,
       "overflow_y": null,
       "padding": null,
       "right": null,
       "top": null,
       "visibility": null,
       "width": null
      }
     },
     "4eeb9bb6e5b54831870fd9be60780844": {
      "model_module": "@jupyter-widgets/controls",
      "model_module_version": "1.5.0",
      "model_name": "DescriptionStyleModel",
      "state": {
       "_model_module": "@jupyter-widgets/controls",
       "_model_module_version": "1.5.0",
       "_model_name": "DescriptionStyleModel",
       "_view_count": null,
       "_view_module": "@jupyter-widgets/base",
       "_view_module_version": "1.2.0",
       "_view_name": "StyleView",
       "description_width": ""
      }
     },
     "5ee63b6060eb4dbd9cd1732b3f4b8297": {
      "model_module": "@jupyter-widgets/controls",
      "model_module_version": "1.5.0",
      "model_name": "FloatProgressModel",
      "state": {
       "_dom_classes": [],
       "_model_module": "@jupyter-widgets/controls",
       "_model_module_version": "1.5.0",
       "_model_name": "FloatProgressModel",
       "_view_count": null,
       "_view_module": "@jupyter-widgets/controls",
       "_view_module_version": "1.5.0",
       "_view_name": "ProgressView",
       "bar_style": "success",
       "description": "",
       "description_tooltip": null,
       "layout": "IPY_MODEL_34282cc006354baf8365cf7fcfbbc5f1",
       "max": 770.0,
       "min": 0.0,
       "orientation": "horizontal",
       "style": "IPY_MODEL_e76c6c3ff5694b82bc59648757dd51a7",
       "value": 770.0
      }
     },
     "9123b029ce184a1882cbc5dcebb7b9d8": {
      "model_module": "@jupyter-widgets/base",
      "model_module_version": "1.2.0",
      "model_name": "LayoutModel",
      "state": {
       "_model_module": "@jupyter-widgets/base",
       "_model_module_version": "1.2.0",
       "_model_name": "LayoutModel",
       "_view_count": null,
       "_view_module": "@jupyter-widgets/base",
       "_view_module_version": "1.2.0",
       "_view_name": "LayoutView",
       "align_content": null,
       "align_items": null,
       "align_self": null,
       "border": null,
       "bottom": null,
       "display": null,
       "flex": null,
       "flex_flow": null,
       "grid_area": null,
       "grid_auto_columns": null,
       "grid_auto_flow": null,
       "grid_auto_rows": null,
       "grid_column": null,
       "grid_gap": null,
       "grid_row": null,
       "grid_template_areas": null,
       "grid_template_columns": null,
       "grid_template_rows": null,
       "height": null,
       "justify_content": null,
       "justify_items": null,
       "left": null,
       "margin": null,
       "max_height": null,
       "max_width": null,
       "min_height": null,
       "min_width": null,
       "object_fit": null,
       "object_position": null,
       "order": null,
       "overflow": null,
       "overflow_x": null,
       "overflow_y": null,
       "padding": null,
       "right": null,
       "top": null,
       "visibility": null,
       "width": null
      }
     },
     "b12bf1d7e9e64900804dcc6aa77e8d58": {
      "model_module": "@jupyter-widgets/controls",
      "model_module_version": "1.5.0",
      "model_name": "HTMLModel",
      "state": {
       "_dom_classes": [],
       "_model_module": "@jupyter-widgets/controls",
       "_model_module_version": "1.5.0",
       "_model_name": "HTMLModel",
       "_view_count": null,
       "_view_module": "@jupyter-widgets/controls",
       "_view_module_version": "1.5.0",
       "_view_name": "HTMLView",
       "description": "",
       "description_tooltip": null,
       "layout": "IPY_MODEL_9123b029ce184a1882cbc5dcebb7b9d8",
       "placeholder": "​",
       "style": "IPY_MODEL_247dc0279a18416e8b8b987a9f703249",
       "value": "Drawing distances: 100%"
      }
     },
     "cb06db56ac7d4aa49bacb460717a7e1b": {
      "model_module": "@jupyter-widgets/controls",
      "model_module_version": "1.5.0",
      "model_name": "HBoxModel",
      "state": {
       "_dom_classes": [],
       "_model_module": "@jupyter-widgets/controls",
       "_model_module_version": "1.5.0",
       "_model_name": "HBoxModel",
       "_view_count": null,
       "_view_module": "@jupyter-widgets/controls",
       "_view_module_version": "1.5.0",
       "_view_name": "HBoxView",
       "box_style": "",
       "children": [
        "IPY_MODEL_b12bf1d7e9e64900804dcc6aa77e8d58",
        "IPY_MODEL_5ee63b6060eb4dbd9cd1732b3f4b8297",
        "IPY_MODEL_318fcd5e57314380a4caa18a0f58425f"
       ],
       "layout": "IPY_MODEL_35c307474cd3404faf5ed02d6e43db0f"
      }
     },
     "e76c6c3ff5694b82bc59648757dd51a7": {
      "model_module": "@jupyter-widgets/controls",
      "model_module_version": "1.5.0",
      "model_name": "ProgressStyleModel",
      "state": {
       "_model_module": "@jupyter-widgets/controls",
       "_model_module_version": "1.5.0",
       "_model_name": "ProgressStyleModel",
       "_view_count": null,
       "_view_module": "@jupyter-widgets/base",
       "_view_module_version": "1.2.0",
       "_view_name": "StyleView",
       "bar_color": "#B833FF",
       "description_width": ""
      }
     }
    },
    "version_major": 2,
    "version_minor": 0
   }
  }
 },
 "nbformat": 4,
 "nbformat_minor": 5
}
