{
 "cells": [
  {
   "cell_type": "markdown",
   "id": "37e5a48d",
   "metadata": {},
   "source": [
    "# Short GRBS \n",
    "\n",
    "In [Ghirlanda et al. 2016](https://arxiv.org/abs/1607.07875) a fitting algorithm was used to determine the redshift and luminosity of short GRBS. We can use the parameters to reproduce the population and the observed GBM survey."
   ]
  },
  {
   "cell_type": "code",
   "execution_count": 1,
   "id": "47fef606",
   "metadata": {
    "execution": {
     "iopub.execute_input": "2022-02-10T12:23:22.010272Z",
     "iopub.status.busy": "2022-02-10T12:23:22.008494Z",
     "iopub.status.idle": "2022-02-10T12:23:26.135195Z",
     "shell.execute_reply": "2022-02-10T12:23:26.134627Z"
    }
   },
   "outputs": [],
   "source": [
    "from popsynth import SFRDistribution, BPLDistribution, PopulationSynth, NormalAuxSampler, AuxiliarySampler, HardFluxSelection\n",
    "from popsynth import update_logging_level\n",
    "update_logging_level(\"INFO\")"
   ]
  },
  {
   "cell_type": "code",
   "execution_count": 2,
   "id": "62ec3472",
   "metadata": {
    "execution": {
     "iopub.execute_input": "2022-02-10T12:23:26.142928Z",
     "iopub.status.busy": "2022-02-10T12:23:26.142242Z",
     "iopub.status.idle": "2022-02-10T12:23:26.148997Z",
     "shell.execute_reply": "2022-02-10T12:23:26.148495Z"
    }
   },
   "outputs": [],
   "source": [
    "%matplotlib inline\n",
    "\n",
    "import matplotlib.pyplot as plt\n",
    "from jupyterthemes import jtplot\n",
    "\n",
    "jtplot.style(context=\"notebook\", fscale=1, grid=False)\n",
    "purple = \"#B833FF\"\n",
    "yellow = \"#F6EF5B\"\n",
    "\n",
    "import networkx as nx\n",
    "import numpy as np\n",
    "import warnings\n",
    "\n",
    "warnings.simplefilter(\"ignore\")"
   ]
  },
  {
   "cell_type": "markdown",
   "id": "c83609c2",
   "metadata": {},
   "source": [
    "In the work, the luminosity function of short GRBs is model as a broken power law."
   ]
  },
  {
   "cell_type": "code",
   "execution_count": 3,
   "id": "7a4f1747",
   "metadata": {
    "execution": {
     "iopub.execute_input": "2022-02-10T12:23:26.153965Z",
     "iopub.status.busy": "2022-02-10T12:23:26.153399Z",
     "iopub.status.idle": "2022-02-10T12:23:26.157553Z",
     "shell.execute_reply": "2022-02-10T12:23:26.157009Z"
    }
   },
   "outputs": [],
   "source": [
    "bpl = BPLDistribution()\n",
    "\n",
    "bpl.alpha = -0.53\n",
    "bpl.beta = -3.4\n",
    "bpl.Lmin = 1e47 # erg/s\n",
    "bpl.Lbreak = 2.8e52\n",
    "bpl.Lmax = 1e55\n"
   ]
  },
  {
   "cell_type": "markdown",
   "id": "e397491e",
   "metadata": {},
   "source": [
    "To model the redshift distribution, an empirical form from [Cole et al 2001](https://academic.oup.com/mnras/article/326/1/255/1026734?login=true) is used. In ```popsynth``` we call this the ```SFRDistribution``` (but perhaps a better name is needed)."
   ]
  },
  {
   "cell_type": "code",
   "execution_count": 4,
   "id": "847b7c62",
   "metadata": {
    "execution": {
     "iopub.execute_input": "2022-02-10T12:23:26.161940Z",
     "iopub.status.busy": "2022-02-10T12:23:26.161396Z",
     "iopub.status.idle": "2022-02-10T12:23:26.163355Z",
     "shell.execute_reply": "2022-02-10T12:23:26.163773Z"
    }
   },
   "outputs": [],
   "source": [
    "sfr = SFRDistribution()"
   ]
  },
  {
   "cell_type": "code",
   "execution_count": 5,
   "id": "5329162a",
   "metadata": {
    "execution": {
     "iopub.execute_input": "2022-02-10T12:23:26.169732Z",
     "iopub.status.busy": "2022-02-10T12:23:26.168337Z",
     "iopub.status.idle": "2022-02-10T12:23:26.170346Z",
     "shell.execute_reply": "2022-02-10T12:23:26.170818Z"
    }
   },
   "outputs": [],
   "source": [
    "sfr.r0 = 5.\n",
    "sfr.a = 1\n",
    "sfr.rise = 2.8\n",
    "sfr.decay = 3.5\n",
    "sfr.peak = 2.3"
   ]
  },
  {
   "cell_type": "markdown",
   "id": "1e975423",
   "metadata": {},
   "source": [
    "We can checkout how the rate changes with redshift"
   ]
  },
  {
   "cell_type": "code",
   "execution_count": 6,
   "id": "d8ea1f88",
   "metadata": {
    "execution": {
     "iopub.execute_input": "2022-02-10T12:23:26.179679Z",
     "iopub.status.busy": "2022-02-10T12:23:26.179148Z",
     "iopub.status.idle": "2022-02-10T12:23:26.980251Z",
     "shell.execute_reply": "2022-02-10T12:23:26.980716Z"
    }
   },
   "outputs": [
    {
     "data": {
      "text/plain": [
       "Text(0, 0.5, '$\\\\frac{\\\\mathrm{d}N}{\\\\mathrm{d}V}$')"
      ]
     },
     "execution_count": 6,
     "metadata": {},
     "output_type": "execute_result"
    },
    {
     "data": {
      "image/png": "[encoded data removed]",
      "text/plain": [
       "<Figure size 576x504 with 1 Axes>"
      ]
     },
     "metadata": {},
     "output_type": "display_data"
    }
   ],
   "source": [
    "fig, ax = plt.subplots()\n",
    "\n",
    "z = np.linspace(0,5,100)\n",
    "\n",
    "ax.plot(z, sfr.dNdV(z), color=purple)\n",
    "ax.set_xlabel(\"z\")\n",
    "ax.set_ylabel(r\"$\\frac{\\mathrm{d}N}{\\mathrm{d}V}$\")"
   ]
  },
  {
   "cell_type": "markdown",
   "id": "d5434376",
   "metadata": {},
   "source": [
    "In their model, the authors also have some secondary parameters that are connected to the luminosity. These are the  parameters for the spectrum of the GRB. It is proposed that the spectra peak energy (Ep) is linked to the luminosity by a power law relation:\n",
    "\n",
    "\n",
    "$$ \\log E_{\\mathrm{p}} \\propto a + b \\log L$$\n",
    "\n",
    "We can build an auxiliary sample to simulate this as well. But we will also add a bit of scatter to the intercept of the relation."
   ]
  },
  {
   "cell_type": "code",
   "execution_count": 7,
   "id": "bfeac69c",
   "metadata": {
    "execution": {
     "iopub.execute_input": "2022-02-10T12:23:26.985891Z",
     "iopub.status.busy": "2022-02-10T12:23:26.985318Z",
     "iopub.status.idle": "2022-02-10T12:23:26.996206Z",
     "shell.execute_reply": "2022-02-10T12:23:26.995630Z"
    }
   },
   "outputs": [],
   "source": [
    "intercept =NormalAuxSampler(name=\"intercept\", observed=False)\n",
    "\n",
    "intercept.mu = 0.034\n",
    "intercept.sigma = .005\n",
    "\n",
    "\n"
   ]
  },
  {
   "cell_type": "code",
   "execution_count": 8,
   "id": "27be597d",
   "metadata": {
    "execution": {
     "iopub.execute_input": "2022-02-10T12:23:27.002866Z",
     "iopub.status.busy": "2022-02-10T12:23:27.002169Z",
     "iopub.status.idle": "2022-02-10T12:23:27.005686Z",
     "shell.execute_reply": "2022-02-10T12:23:27.006140Z"
    }
   },
   "outputs": [],
   "source": [
    "class EpSampler(AuxiliarySampler):\n",
    "    \n",
    "    _auxiliary_sampler_name = \"EpSampler\"\n",
    "\n",
    "    def __init__(self):\n",
    "\n",
    "        # pass up to the super class\n",
    "        super(EpSampler, self).__init__(\"Ep\", observed=True, uses_luminosity = True)\n",
    "\n",
    "    def true_sampler(self, size):\n",
    "\n",
    "        # we will get the intercept's latent (true) value\n",
    "        # from its sampler\n",
    "        \n",
    "        intercept = self._secondary_samplers[\"intercept\"].true_values\n",
    "        \n",
    "        slope = 0.84\n",
    "\n",
    "        self._true_values = np.power(10., intercept + slope * np.log10(self._luminosity/1e52) + np.log10(670.))\n",
    "        \n",
    "    def observation_sampler(self, size):\n",
    "        \n",
    "        # we will also add some measurement error to Ep\n",
    "        self._obs_values = self._true_values + np.random.normal(0., 10, size=size)\n",
    "        "
   ]
  },
  {
   "cell_type": "markdown",
   "id": "20cf26ce",
   "metadata": {},
   "source": [
    "Now we can put it all together."
   ]
  },
  {
   "cell_type": "code",
   "execution_count": 9,
   "id": "dc36e8d7",
   "metadata": {
    "execution": {
     "iopub.execute_input": "2022-02-10T12:23:27.010814Z",
     "iopub.status.busy": "2022-02-10T12:23:27.010196Z",
     "iopub.status.idle": "2022-02-10T12:23:27.012921Z",
     "shell.execute_reply": "2022-02-10T12:23:27.012356Z"
    }
   },
   "outputs": [],
   "source": [
    "pop_synth = PopulationSynth(spatial_distribution=sfr, luminosity_distribution=bpl)"
   ]
  },
  {
   "cell_type": "markdown",
   "id": "1deee6c2",
   "metadata": {},
   "source": [
    "We will have a hard flux selection which is Fermi-GBM's fluz limit of ~ 1e-7 erg/s/cm2"
   ]
  },
  {
   "cell_type": "code",
   "execution_count": 10,
   "id": "7a6cf9d1",
   "metadata": {
    "execution": {
     "iopub.execute_input": "2022-02-10T12:23:27.018956Z",
     "iopub.status.busy": "2022-02-10T12:23:27.017515Z",
     "iopub.status.idle": "2022-02-10T12:23:27.019806Z",
     "shell.execute_reply": "2022-02-10T12:23:27.020367Z"
    }
   },
   "outputs": [],
   "source": [
    "selection = HardFluxSelection()\n",
    "selection.boundary = 1e-7"
   ]
  },
  {
   "cell_type": "code",
   "execution_count": 11,
   "id": "748e4d80",
   "metadata": {
    "execution": {
     "iopub.execute_input": "2022-02-10T12:23:27.025831Z",
     "iopub.status.busy": "2022-02-10T12:23:27.024249Z",
     "iopub.status.idle": "2022-02-10T12:23:27.026613Z",
     "shell.execute_reply": "2022-02-10T12:23:27.027162Z"
    }
   },
   "outputs": [],
   "source": [
    "pop_synth.set_flux_selection(selection)"
   ]
  },
  {
   "cell_type": "markdown",
   "id": "2c479854",
   "metadata": {},
   "source": [
    "We need to add the Ep sampler. Once we set the intercept sampler as a secondary it will automatically be added to the population synth."
   ]
  },
  {
   "cell_type": "code",
   "execution_count": 12,
   "id": "7610eaa7",
   "metadata": {
    "execution": {
     "iopub.execute_input": "2022-02-10T12:23:27.032517Z",
     "iopub.status.busy": "2022-02-10T12:23:27.031148Z",
     "iopub.status.idle": "2022-02-10T12:23:27.033170Z",
     "shell.execute_reply": "2022-02-10T12:23:27.033644Z"
    }
   },
   "outputs": [],
   "source": [
    "ep = EpSampler()"
   ]
  },
  {
   "cell_type": "code",
   "execution_count": 13,
   "id": "0c81d3d8",
   "metadata": {
    "execution": {
     "iopub.execute_input": "2022-02-10T12:23:27.039164Z",
     "iopub.status.busy": "2022-02-10T12:23:27.038558Z",
     "iopub.status.idle": "2022-02-10T12:23:27.041208Z",
     "shell.execute_reply": "2022-02-10T12:23:27.040715Z"
    }
   },
   "outputs": [],
   "source": [
    "ep.set_secondary_sampler(intercept)"
   ]
  },
  {
   "cell_type": "code",
   "execution_count": 14,
   "id": "564b20ef",
   "metadata": {
    "execution": {
     "iopub.execute_input": "2022-02-10T12:23:27.045769Z",
     "iopub.status.busy": "2022-02-10T12:23:27.044559Z",
     "iopub.status.idle": "2022-02-10T12:23:27.049978Z",
     "shell.execute_reply": "2022-02-10T12:23:27.049462Z"
    }
   },
   "outputs": [
    {
     "name": "stdout",
     "output_type": "stream",
     "text": [
      "\u001b[32m\u001b[1m INFO     \u001b[0m| \u001b[32m\u001b[1m registering auxilary sampler: Ep \u001b[0m\n"
     ]
    }
   ],
   "source": [
    "pop_synth.add_auxiliary_sampler(ep)"
   ]
  },
  {
   "cell_type": "markdown",
   "id": "0a0a6b7f",
   "metadata": {},
   "source": [
    "We are ready to sample our population. We will add some measurement uncertainty to the fluxes as well."
   ]
  },
  {
   "cell_type": "code",
   "execution_count": 15,
   "id": "aaf99431",
   "metadata": {
    "execution": {
     "iopub.execute_input": "2022-02-10T12:23:27.066034Z",
     "iopub.status.busy": "2022-02-10T12:23:27.053353Z",
     "iopub.status.idle": "2022-02-10T12:23:32.224694Z",
     "shell.execute_reply": "2022-02-10T12:23:32.225150Z"
    }
   },
   "outputs": [
    {
     "name": "stdout",
     "output_type": "stream",
     "text": [
      "\u001b[32m\u001b[1m INFO     \u001b[0m| \u001b[32m\u001b[1m The volume integral is 797.550666 \u001b[0m\n"
     ]
    },
    {
     "data": {
      "application/vnd.jupyter.widget-view+json": {
       "model_id": "d21e3488034c4cf6bfb6972403049b7f",
       "version_major": 2,
       "version_minor": 0
      },
      "text/plain": [
       "Drawing distances:   0%|          | 0/770 [00:00<?, ?it/s]"
      ]
     },
     "metadata": {},
     "output_type": "display_data"
    },
    {
     "name": "stdout",
     "output_type": "stream",
     "text": [
      "\u001b[32m\u001b[1m INFO     \u001b[0m| \u001b[32m\u001b[1m Expecting 770 total objects \u001b[0m\n"
     ]
    },
    {
     "name": "stdout",
     "output_type": "stream",
     "text": [
      "\u001b[32m\u001b[1m INFO     \u001b[0m| \u001b[32m\u001b[1m Sampling: Ep \u001b[0m\n"
     ]
    },
    {
     "name": "stdout",
     "output_type": "stream",
     "text": [
      "\u001b[32m\u001b[1m INFO     \u001b[0m| \u001b[32m\u001b[1m Ep is sampling its secondary quantities \u001b[0m\n"
     ]
    },
    {
     "name": "stdout",
     "output_type": "stream",
     "text": [
      "\u001b[32m\u001b[1m INFO     \u001b[0m| \u001b[32m\u001b[1m Sampling: intercept \u001b[0m\n"
     ]
    },
    {
     "name": "stdout",
     "output_type": "stream",
     "text": [
      "\u001b[32m\u001b[1m INFO     \u001b[0m| \u001b[32m\u001b[1m applying selection to fluxes \u001b[0m\n"
     ]
    },
    {
     "name": "stdout",
     "output_type": "stream",
     "text": [
      "\u001b[32m\u001b[1m INFO     \u001b[0m| \u001b[32m\u001b[1m Detected 499 distances \u001b[0m\n"
     ]
    },
    {
     "name": "stdout",
     "output_type": "stream",
     "text": [
      "\u001b[32m\u001b[1m INFO     \u001b[0m| \u001b[32m\u001b[1m Detected 499 objects out to a distance of 5.31 \u001b[0m\n"
     ]
    }
   ],
   "source": [
    "population = pop_synth.draw_survey(flux_sigma=0.2)"
   ]
  },
  {
   "cell_type": "code",
   "execution_count": 16,
   "id": "68dd764b",
   "metadata": {
    "execution": {
     "iopub.execute_input": "2022-02-10T12:23:32.241478Z",
     "iopub.status.busy": "2022-02-10T12:23:32.240911Z",
     "iopub.status.idle": "2022-02-10T12:23:32.874430Z",
     "shell.execute_reply": "2022-02-10T12:23:32.873544Z"
    },
    "tags": [
     "nbsphinx-thumbnail"
    ]
   },
   "outputs": [
    {
     "data": {
      "image/png": "[encoded data removed]",
      "text/plain": [
       "<Figure size 576x504 with 1 Axes>"
      ]
     },
     "metadata": {},
     "output_type": "display_data"
    }
   ],
   "source": [
    "population.display_fluxes(true_color=purple, obs_color=yellow, with_arrows=False, s= 5);"
   ]
  },
  {
   "cell_type": "markdown",
   "id": "ca69f22d",
   "metadata": {},
   "source": [
    "Let's look at our distribution of Ep"
   ]
  },
  {
   "cell_type": "code",
   "execution_count": 17,
   "id": "978f3605",
   "metadata": {
    "execution": {
     "iopub.execute_input": "2022-02-10T12:23:32.877640Z",
     "iopub.status.busy": "2022-02-10T12:23:32.877085Z",
     "iopub.status.idle": "2022-02-10T12:23:33.061315Z",
     "shell.execute_reply": "2022-02-10T12:23:33.060479Z"
    }
   },
   "outputs": [
    {
     "data": {
      "text/plain": [
       "<matplotlib.legend.Legend at 0x7f0b00616910>"
      ]
     },
     "execution_count": 17,
     "metadata": {},
     "output_type": "execute_result"
    },
    {
     "data": {
      "image/png": "[encoded data removed]",
      "text/plain": [
       "<Figure size 576x504 with 1 Axes>"
      ]
     },
     "metadata": {},
     "output_type": "display_data"
    }
   ],
   "source": [
    "fig, ax = plt.subplots()\n",
    "\n",
    "ax.hist(np.log10(population.Ep_obs[population.selection]), histtype=\"step\", color=yellow, lw=3, label=\"Ep observed\")\n",
    "ax.hist(np.log10(population.Ep[~population.selection]), histtype=\"step\", color=purple, lw=3,  label=\"Ep hidden\")\n",
    "ax.set_xlabel(\"log Ep\")\n",
    "\n",
    "ax.legend()"
   ]
  },
  {
   "cell_type": "code",
   "execution_count": 18,
   "id": "7f1dca4a",
   "metadata": {
    "execution": {
     "iopub.execute_input": "2022-02-10T12:23:33.082112Z",
     "iopub.status.busy": "2022-02-10T12:23:33.067899Z",
     "iopub.status.idle": "2022-02-10T12:23:34.228783Z",
     "shell.execute_reply": "2022-02-10T12:23:34.228195Z"
    }
   },
   "outputs": [
    {
     "data": {
      "text/plain": [
       "Text(0.5, 0, 'log Flux')"
      ]
     },
     "execution_count": 18,
     "metadata": {},
     "output_type": "execute_result"
    },
    {
     "data": {
      "image/png": "[encoded data removed]",
      "text/plain": [
       "<Figure size 576x504 with 1 Axes>"
      ]
     },
     "metadata": {},
     "output_type": "display_data"
    }
   ],
   "source": [
    "fig, ax = plt.subplots()\n",
    "\n",
    "\n",
    "ax.scatter(population.fluxes_observed[~population.selection],\n",
    "           population.Ep_obs[~population.selection],c=purple, alpha=0.5)\n",
    "ax.scatter(population.fluxes_observed[population.selection],\n",
    "           population.Ep_obs[population.selection],c=yellow, alpha=0.5)\n",
    "\n",
    "ax.set_xscale(\"log\")\n",
    "ax.set_yscale(\"log\")\n",
    "\n",
    "ax.set_xlabel(\"log Ep\")\n",
    "ax.set_xlabel(\"log Flux\")"
   ]
  },
  {
   "cell_type": "markdown",
   "id": "ea40f07f",
   "metadata": {},
   "source": [
    "Does this look like the observed catalogs?"
   ]
  }
 ],
 "metadata": {
  "jupytext": {
   "formats": "ipynb,md"
  },
  "kernelspec": {
   "display_name": "Python 3",
   "language": "python",
   "name": "python3"
  },
  "language_info": {
   "codemirror_mode": {
    "name": "ipython",
    "version": 3
   },
   "file_extension": ".py",
   "mimetype": "text/x-python",
   "name": "python",
   "nbconvert_exporter": "python",
   "pygments_lexer": "ipython3",
   "version": "3.9.10"
  },
  "widgets": {
   "application/vnd.jupyter.widget-state+json": {
    "state": {
     "42180aac2d2447d9b77b45b6fcb0b6e2": {
      "model_module": "@jupyter-widgets/base",
      "model_module_version": "1.2.0",
      "model_name": "LayoutModel",
      "state": {
       "_model_module": "@jupyter-widgets/base",
       "_model_module_version": "1.2.0",
       "_model_name": "LayoutModel",
       "_view_count": null,
       "_view_module": "@jupyter-widgets/base",
       "_view_module_version": "1.2.0",
       "_view_name": "LayoutView",
       "align_content": null,
       "align_items": null,
       "align_self": null,
       "border": null,
       "bottom": null,
       "display": null,
       "flex": null,
       "flex_flow": null,
       "grid_area": null,
       "grid_auto_columns": null,
       "grid_auto_flow": null,
       "grid_auto_rows": null,
       "grid_column": null,
       "grid_gap": null,
       "grid_row": null,
       "grid_template_areas": null,
       "grid_template_columns": null,
       "grid_template_rows": null,
       "height": null,
       "justify_content": null,
       "justify_items": null,
       "left": null,
       "margin": null,
       "max_height": null,
       "max_width": null,
       "min_height": null,
       "min_width": null,
       "object_fit": null,
       "object_position": null,
       "order": null,
       "overflow": null,
       "overflow_x": null,
       "overflow_y": null,
       "padding": null,
       "right": null,
       "top": null,
       "visibility": null,
       "width": null
      }
     },
     "65e44a60eed94ede9cc7ddf98d4530e2": {
      "model_module": "@jupyter-widgets/base",
      "model_module_version": "1.2.0",
      "model_name": "LayoutModel",
      "state": {
       "_model_module": "@jupyter-widgets/base",
       "_model_module_version": "1.2.0",
       "_model_name": "LayoutModel",
       "_view_count": null,
       "_view_module": "@jupyter-widgets/base",
       "_view_module_version": "1.2.0",
       "_view_name": "LayoutView",
       "align_content": null,
       "align_items": null,
       "align_self": null,
       "border": null,
       "bottom": null,
       "display": null,
       "flex": null,
       "flex_flow": null,
       "grid_area": null,
       "grid_auto_columns": null,
       "grid_auto_flow": null,
       "grid_auto_rows": null,
       "grid_column": null,
       "grid_gap": null,
       "grid_row": null,
       "grid_template_areas": null,
       "grid_template_columns": null,
       "grid_template_rows": null,
       "height": null,
       "justify_content": null,
       "justify_items": null,
       "left": null,
       "margin": null,
       "max_height": null,
       "max_width": null,
       "min_height": null,
       "min_width": null,
       "object_fit": null,
       "object_position": null,
       "order": null,
       "overflow": null,
       "overflow_x": null,
       "overflow_y": null,
       "padding": null,
       "right": null,
       "top": null,
       "visibility": null,
       "width": null
      }
     },
     "7a7238ab499c4186b55b03e529b86340": {
      "model_module": "@jupyter-widgets/controls",
      "model_module_version": "1.5.0",
      "model_name": "DescriptionStyleModel",
      "state": {
       "_model_module": "@jupyter-widgets/controls",
       "_model_module_version": "1.5.0",
       "_model_name": "DescriptionStyleModel",
       "_view_count": null,
       "_view_module": "@jupyter-widgets/base",
       "_view_module_version": "1.2.0",
       "_view_name": "StyleView",
       "description_width": ""
      }
     },
     "a4a7f1b236fe4def83392451c2acf351": {
      "model_module": "@jupyter-widgets/base",
      "model_module_version": "1.2.0",
      "model_name": "LayoutModel",
      "state": {
       "_model_module": "@jupyter-widgets/base",
       "_model_module_version": "1.2.0",
       "_model_name": "LayoutModel",
       "_view_count": null,
       "_view_module": "@jupyter-widgets/base",
       "_view_module_version": "1.2.0",
       "_view_name": "LayoutView",
       "align_content": null,
       "align_items": null,
       "align_self": null,
       "border": null,
       "bottom": null,
       "display": null,
       "flex": null,
       "flex_flow": null,
       "grid_area": null,
       "grid_auto_columns": null,
       "grid_auto_flow": null,
       "grid_auto_rows": null,
       "grid_column": null,
       "grid_gap": null,
       "grid_row": null,
       "grid_template_areas": null,
       "grid_template_columns": null,
       "grid_template_rows": null,
       "height": null,
       "justify_content": null,
       "justify_items": null,
       "left": null,
       "margin": null,
       "max_height": null,
       "max_width": null,
       "min_height": null,
       "min_width": null,
       "object_fit": null,
       "object_position": null,
       "order": null,
       "overflow": null,
       "overflow_x": null,
       "overflow_y": null,
       "padding": null,
       "right": null,
       "top": null,
       "visibility": null,
       "width": null
      }
     },
     "a633d3109f77424e848ade0d38092c27": {
      "model_module": "@jupyter-widgets/controls",
      "model_module_version": "1.5.0",
      "model_name": "HTMLModel",
      "state": {
       "_dom_classes": [],
       "_model_module": "@jupyter-widgets/controls",
       "_model_module_version": "1.5.0",
       "_model_name": "HTMLModel",
       "_view_count": null,
       "_view_module": "@jupyter-widgets/controls",
       "_view_module_version": "1.5.0",
       "_view_name": "HTMLView",
       "description": "",
       "description_tooltip": null,
       "layout": "IPY_MODEL_a4a7f1b236fe4def83392451c2acf351",
       "placeholder": "​",
       "style": "IPY_MODEL_a97fa02577324f5ebe2b5307a721b78b",
       "value": "Drawing distances: 100%"
      }
     },
     "a97fa02577324f5ebe2b5307a721b78b": {
      "model_module": "@jupyter-widgets/controls",
      "model_module_version": "1.5.0",
      "model_name": "DescriptionStyleModel",
      "state": {
       "_model_module": "@jupyter-widgets/controls",
       "_model_module_version": "1.5.0",
       "_model_name": "DescriptionStyleModel",
       "_view_count": null,
       "_view_module": "@jupyter-widgets/base",
       "_view_module_version": "1.2.0",
       "_view_name": "StyleView",
       "description_width": ""
      }
     },
     "b17c75b3c84f496a879aedb3e2f54619": {
      "model_module": "@jupyter-widgets/controls",
      "model_module_version": "1.5.0",
      "model_name": "ProgressStyleModel",
      "state": {
       "_model_module": "@jupyter-widgets/controls",
       "_model_module_version": "1.5.0",
       "_model_name": "ProgressStyleModel",
       "_view_count": null,
       "_view_module": "@jupyter-widgets/base",
       "_view_module_version": "1.2.0",
       "_view_name": "StyleView",
       "bar_color": "#B833FF",
       "description_width": ""
      }
     },
     "b2bc1da971c048c5bbcaaea908d61958": {
      "model_module": "@jupyter-widgets/base",
      "model_module_version": "1.2.0",
      "model_name": "LayoutModel",
      "state": {
       "_model_module": "@jupyter-widgets/base",
       "_model_module_version": "1.2.0",
       "_model_name": "LayoutModel",
       "_view_count": null,
       "_view_module": "@jupyter-widgets/base",
       "_view_module_version": "1.2.0",
       "_view_name": "LayoutView",
       "align_content": null,
       "align_items": null,
       "align_self": null,
       "border": null,
       "bottom": null,
       "display": null,
       "flex": null,
       "flex_flow": null,
       "grid_area": null,
       "grid_auto_columns": null,
       "grid_auto_flow": null,
       "grid_auto_rows": null,
       "grid_column": null,
       "grid_gap": null,
       "grid_row": null,
       "grid_template_areas": null,
       "grid_template_columns": null,
       "grid_template_rows": null,
       "height": null,
       "justify_content": null,
       "justify_items": null,
       "left": null,
       "margin": null,
       "max_height": null,
       "max_width": null,
       "min_height": null,
       "min_width": null,
       "object_fit": null,
       "object_position": null,
       "order": null,
       "overflow": null,
       "overflow_x": null,
       "overflow_y": null,
       "padding": null,
       "right": null,
       "top": null,
       "visibility": null,
       "width": null
      }
     },
     "c176ea186d694e76a5335c7f5fe9da3c": {
      "model_module": "@jupyter-widgets/controls",
      "model_module_version": "1.5.0",
      "model_name": "FloatProgressModel",
      "state": {
       "_dom_classes": [],
       "_model_module": "@jupyter-widgets/controls",
       "_model_module_version": "1.5.0",
       "_model_name": "FloatProgressModel",
       "_view_count": null,
       "_view_module": "@jupyter-widgets/controls",
       "_view_module_version": "1.5.0",
       "_view_name": "ProgressView",
       "bar_style": "success",
       "description": "",
       "description_tooltip": null,
       "layout": "IPY_MODEL_b2bc1da971c048c5bbcaaea908d61958",
       "max": 770.0,
       "min": 0.0,
       "orientation": "horizontal",
       "style": "IPY_MODEL_b17c75b3c84f496a879aedb3e2f54619",
       "value": 770.0
      }
     },
     "d21e3488034c4cf6bfb6972403049b7f": {
      "model_module": "@jupyter-widgets/controls",
      "model_module_version": "1.5.0",
      "model_name": "HBoxModel",
      "state": {
       "_dom_classes": [],
       "_model_module": "@jupyter-widgets/controls",
       "_model_module_version": "1.5.0",
       "_model_name": "HBoxModel",
       "_view_count": null,
       "_view_module": "@jupyter-widgets/controls",
       "_view_module_version": "1.5.0",
       "_view_name": "HBoxView",
       "box_style": "",
       "children": [
        "IPY_MODEL_a633d3109f77424e848ade0d38092c27",
        "IPY_MODEL_c176ea186d694e76a5335c7f5fe9da3c",
        "IPY_MODEL_ddc834af22044b4d9e68afcf27e0312d"
       ],
       "layout": "IPY_MODEL_65e44a60eed94ede9cc7ddf98d4530e2"
      }
     },
     "ddc834af22044b4d9e68afcf27e0312d": {
      "model_module": "@jupyter-widgets/controls",
      "model_module_version": "1.5.0",
      "model_name": "HTMLModel",
      "state": {
       "_dom_classes": [],
       "_model_module": "@jupyter-widgets/controls",
       "_model_module_version": "1.5.0",
       "_model_name": "HTMLModel",
       "_view_count": null,
       "_view_module": "@jupyter-widgets/controls",
       "_view_module_version": "1.5.0",
       "_view_name": "HTMLView",
       "description": "",
       "description_tooltip": null,
       "layout": "IPY_MODEL_42180aac2d2447d9b77b45b6fcb0b6e2",
       "placeholder": "​",
       "style": "IPY_MODEL_7a7238ab499c4186b55b03e529b86340",
       "value": " 770/770 [00:00&lt;00:00, 11309.88it/s]"
      }
     }
    },
    "version_major": 2,
    "version_minor": 0
   }
  }
 },
 "nbformat": 4,
 "nbformat_minor": 5
}
