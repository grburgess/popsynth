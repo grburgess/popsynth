{
 "cells": [
  {
   "cell_type": "markdown",
   "id": "3af44435",
   "metadata": {},
   "source": [
    "# Core Concept\n",
    "`popsynth` core function is to create **observed** surveys from **latent** population models. \n",
    "\n",
    "First, let's define what a population of objects is in terms of a\n",
    "generative model. The two main ingredients are the objects' spatial\n",
    "distribution ($\\lambda(\\vec{r}; \\vec{\\psi})$) and the distribution of\n",
    "their inherent properties ($\\pi(\\vec{\\phi} | \\vec{\\psi})$). Here,\n",
    "$\\vec{\\psi}$ are the latent population parameters, $\\vec{r}$ are the\n",
    "spatial locations of the objects, and $\\vec{\\phi}$ are the properties\n",
    "of the individual objects (luminosity, spin, viewing angle, mass,\n",
    "etc.). The spatial distribution is defined such that:\n",
    "\n",
    "$$\\frac{d \\Lambda}{dt}(\\vec{\\psi}) = \\int d r \\frac{dV}{dr} \\lambda(\\vec{r}; \\vec{\\psi})$$\n",
    "\n",
    "is the intensity of objects for a given set of population\n",
    "parameters. With these definitions we can define the probability for\n",
    "an object to have position $\\vec{r}$ and properties $\\vec{\\phi}$ as\n",
    "\n",
    "$$\\pi(\\vec{r}, \\vec{\\phi} | \\vec{\\psi}) = \\frac{\\lambda(\\vec{r}; \\vec{\\psi})  \\pi(\\vec{\\phi} | \\vec{\\psi})}{ \\int d r \\frac{dV}{dr} \\lambda(\\vec{r}; \\vec{\\psi})} $$\n",
    "\n",
    "`popsynth` allows you to specify these spatial and property\n",
    "distributions in an object-oriented way to create surveys. The final\n",
    "ingredient to creating a sample for a survey is knowing how many\n",
    "objects to sample from the population (before any selection effects\n",
    "are applied). Often, we see this number in simulation frameworks\n",
    "presented as \"we draw N objects to guarantee we have enough.\" This is\n",
    "incorrect. A survey takes place over a given period of time ($\\Delta\n",
    "t$) in which observed objects are counted. This is a description of a\n",
    "Poisson process. Thus, the number of objects in a simulation of this\n",
    "survey is a draw from a Poisson distribution:\n",
    "\n",
    "$$N \\sim \\mathrm{Poisson}\\left(\\Delta t \\frac{d\\Lambda}{dt}\\right) \\mathrm{.}$$\n",
    "\n",
    "Thus, `popsynth` first numerically integrates the spatial\n",
    "distribution to determine the Poisson rate parameter for the given\n",
    "$\\vec{\\psi}$, then makes a Poisson draw for the number of objects in\n",
    "the population survey. For each object, positions and properties are\n",
    "drawn with arbitrary dependencies between them. Finally, selection\n",
    "functions are applied to either latent or observed (with or without\n",
    "measurement error) properties."
   ]
  },
  {
   "cell_type": "markdown",
   "id": "baa74ff6",
   "metadata": {},
   "source": [
    "**Note:** If instead we draw a preset number of objects, as is done in\n",
    "many astrophysical population simulation frameworks, it is equivalent\n",
    "to running a survey up until that specific number of objects is\n",
    "detected. This process is distributed as a negative binomial process,\n",
    "i.e, wait for a number of successes and requires a different\n",
    "statistical framework to compare models to data.\n",
    "\n",
    "In the following, the process for constructing distributions and\n",
    "populations is described."
   ]
  }
 ],
 "metadata": {
  "jupytext": {
   "formats": "ipynb,md"
  },
  "kernelspec": {
   "display_name": "Python 3",
   "language": "python",
   "name": "python3"
  },
  "language_info": {
   "codemirror_mode": {
    "name": "ipython",
    "version": 3
   },
   "file_extension": ".py",
   "mimetype": "text/x-python",
   "name": "python",
   "nbconvert_exporter": "python",
   "pygments_lexer": "ipython3",
   "version": "3.9.12"
  }
 },
 "nbformat": 4,
 "nbformat_minor": 5
}
